{
 "cells": [
  {
   "cell_type": "code",
   "execution_count": 1,
   "metadata": {
    "collapsed": true
   },
   "outputs": [],
   "source": [
    "import pandas as pd\n",
    "import numpy as np\n",
    "import matplotlib.pyplot as plt\n",
    "import seaborn as sns\n",
    "import pickle\n",
    "import json"
   ]
  },
  {
   "cell_type": "code",
   "execution_count": 2,
   "metadata": {
    "collapsed": true
   },
   "outputs": [],
   "source": [
    "# Load in data from HDF file, which is faster, filtered data\n",
    "df_store = pd.HDFStore('data/combined_day1_processed.h5')\n",
    "day1_filtered = df_store['df']"
   ]
  },
  {
   "cell_type": "code",
   "execution_count": 8,
   "metadata": {
    "collapsed": true
   },
   "outputs": [],
   "source": [
    "# UNFILTERED\n",
    "day1_negatives = pd.HDFStore('data/processed/day1_negatives_processed.h5')['df']\n",
    "day1_positives = pd.HDFStore('data/processed/day1_positives_processed.h5')['df']\n",
    "day2_negatives = pd.HDFStore('data/processed/day2_negatives_processed.h5')['df']\n",
    "day2_positives = pd.HDFStore('data/processed/day2_positives_processed.h5')['df']\n",
    "day3_negatives = pd.HDFStore('data/processed/day3_negatives_processed.h5')['df']\n",
    "day3_positives = pd.HDFStore('data/processed/day3_positives_processed.h5')['df']\n",
    "day4_negatives = pd.HDFStore('data/processed/day4_negatives_processed.h5')['df']\n",
    "day4_positives = pd.HDFStore('data/processed/day4_positives_processed.h5')['df']"
   ]
  },
  {
   "cell_type": "code",
   "execution_count": 6,
   "metadata": {},
   "outputs": [
    {
     "data": {
      "text/plain": [
       "Index(['_host', 'ad_network_id', 'advertiser_id', 'c_cnt', 'c_flag_cnt',\n",
       "       'campaign_id', 'campaign_type', 'f_cnt', 'geo_city_name',\n",
       "       'geo_country_code3', 'geo_region_name', 'geo_timezone', 'i_cnt',\n",
       "       'i_flag_cnt', 'i_timestamp', 'pub_network_id', 'r_cnt',\n",
       "       'r_num_ads_requested', 'r_num_ads_returned', 'r_timestamp',\n",
       "       'rate_metric', 'referer', 'session_id', 'site_id', 'token', 'ua',\n",
       "       'ua_device', 'ua_device_type', 'ua_major', 'ua_minor', 'ua_os_name',\n",
       "       'url', 'user_agent', 'uuid', 'vi_cnt', 'vi_flag_cnt', 'url_domain',\n",
       "       'red_domain', 'keywords'],\n",
       "      dtype='object')"
      ]
     },
     "execution_count": 6,
     "metadata": {},
     "output_type": "execute_result"
    }
   ],
   "source": [
    "day1_filtered.columns"
   ]
  },
  {
   "cell_type": "code",
   "execution_count": 7,
   "metadata": {},
   "outputs": [
    {
     "data": {
      "text/plain": [
       "Index(['_host', 'ad_network_id', 'advertiser_id', 'c_cnt', 'c_flag_cnt',\n",
       "       'campaign_id', 'campaign_type', 'f_cnt', 'geo_city_name',\n",
       "       'geo_country_code3', 'geo_region_name', 'geo_timezone', 'i_cnt',\n",
       "       'i_flag_cnt', 'i_timestamp', 'pub_network_id', 'r_cnt',\n",
       "       'r_num_ads_requested', 'r_num_ads_returned', 'r_timestamp',\n",
       "       'rate_metric', 'referer', 'session_id', 'site_id', 'token', 'ua',\n",
       "       'ua_device', 'ua_device_type', 'ua_major', 'ua_minor', 'ua_os_name',\n",
       "       'url', 'user_agent', 'uuid', 'vi_cnt', 'vi_flag_cnt', 'url_domain',\n",
       "       'red_domain', 'keywords'],\n",
       "      dtype='object')"
      ]
     },
     "execution_count": 7,
     "metadata": {},
     "output_type": "execute_result"
    }
   ],
   "source": [
    "day1_negatives.columns"
   ]
  },
  {
   "cell_type": "markdown",
   "metadata": {},
   "source": [
    "## Data Exploration"
   ]
  },
  {
   "cell_type": "markdown",
   "metadata": {},
   "source": [
    "### New Data - Sample 2 Million"
   ]
  },
  {
   "cell_type": "code",
   "execution_count": 9,
   "metadata": {
    "collapsed": true
   },
   "outputs": [],
   "source": [
    "def get_sample(df, num):\n",
    "    \"\"\"Returns a random sample of num entries from df (without replacement)\"\"\"\n",
    "    n = df.shape[0]\n",
    "    idx = np.random.choice(n, size=num, replace=False)\n",
    "    return df.iloc[idx]\n",
    "\n",
    "NUM_SAMPLES = 125000 #num samples per dataframe\n",
    "combined = pd.concat([get_sample(day1_negatives, NUM_SAMPLES), get_sample(day1_positives, NUM_SAMPLES),\n",
    "                     get_sample(day2_negatives, NUM_SAMPLES), get_sample(day2_positives, NUM_SAMPLES),\n",
    "                     get_sample(day3_negatives, NUM_SAMPLES), get_sample(day3_positives, NUM_SAMPLES),\n",
    "                     get_sample(day4_negatives, NUM_SAMPLES), get_sample(day4_positives, NUM_SAMPLES)])"
   ]
  },
  {
   "cell_type": "code",
   "execution_count": 10,
   "metadata": {},
   "outputs": [
    {
     "data": {
      "text/plain": [
       "(1000000, 39)"
      ]
     },
     "execution_count": 10,
     "metadata": {},
     "output_type": "execute_result"
    }
   ],
   "source": [
    "combined.shape"
   ]
  },
  {
   "cell_type": "code",
   "execution_count": 11,
   "metadata": {},
   "outputs": [
    {
     "data": {
      "text/html": [
       "<div>\n",
       "<style scoped>\n",
       "    .dataframe tbody tr th:only-of-type {\n",
       "        vertical-align: middle;\n",
       "    }\n",
       "\n",
       "    .dataframe tbody tr th {\n",
       "        vertical-align: top;\n",
       "    }\n",
       "\n",
       "    .dataframe thead th {\n",
       "        text-align: right;\n",
       "    }\n",
       "</style>\n",
       "<table border=\"1\" class=\"dataframe\">\n",
       "  <thead>\n",
       "    <tr style=\"text-align: right;\">\n",
       "      <th></th>\n",
       "      <th>_host</th>\n",
       "      <th>ad_network_id</th>\n",
       "      <th>advertiser_id</th>\n",
       "      <th>c_cnt</th>\n",
       "      <th>c_flag_cnt</th>\n",
       "      <th>campaign_id</th>\n",
       "      <th>campaign_type</th>\n",
       "      <th>f_cnt</th>\n",
       "      <th>geo_city_name</th>\n",
       "      <th>geo_country_code3</th>\n",
       "      <th>...</th>\n",
       "      <th>ua_minor</th>\n",
       "      <th>ua_os_name</th>\n",
       "      <th>url</th>\n",
       "      <th>user_agent</th>\n",
       "      <th>uuid</th>\n",
       "      <th>vi_cnt</th>\n",
       "      <th>vi_flag_cnt</th>\n",
       "      <th>url_domain</th>\n",
       "      <th>red_domain</th>\n",
       "      <th>keywords</th>\n",
       "    </tr>\n",
       "  </thead>\n",
       "  <tbody>\n",
       "    <tr>\n",
       "      <th>657450</th>\n",
       "      <td>an-prod-ralphie-frontline-soths.us-east-1</td>\n",
       "      <td>1403.0</td>\n",
       "      <td>3672.0</td>\n",
       "      <td>0.0</td>\n",
       "      <td>0.0</td>\n",
       "      <td>26733.0</td>\n",
       "      <td>private</td>\n",
       "      <td>0.0</td>\n",
       "      <td>Spanish Fort</td>\n",
       "      <td>USA</td>\n",
       "      <td>...</td>\n",
       "      <td>0.0</td>\n",
       "      <td>Windows 7</td>\n",
       "      <td>https://www.theburningplatform.com/page/3/</td>\n",
       "      <td>Mozilla/5.0 (Windows NT 6.1) AppleWebKit/537.3...</td>\n",
       "      <td>adda9c2b-af51-4120-840e-5a3a19e36f95</td>\n",
       "      <td>0.0</td>\n",
       "      <td>0.0</td>\n",
       "      <td>www.theburningplatform.com</td>\n",
       "      <td>www.theburningplatform.com</td>\n",
       "      <td>[page, page]</td>\n",
       "    </tr>\n",
       "    <tr>\n",
       "      <th>100138</th>\n",
       "      <td>an-prod-ralphie-frontline-fermi.eu-west-1</td>\n",
       "      <td>369.0</td>\n",
       "      <td>840.0</td>\n",
       "      <td>0.0</td>\n",
       "      <td>0.0</td>\n",
       "      <td>2547.0</td>\n",
       "      <td>rtb</td>\n",
       "      <td>0.0</td>\n",
       "      <td>Karachi</td>\n",
       "      <td>PAK</td>\n",
       "      <td>...</td>\n",
       "      <td>0.0</td>\n",
       "      <td>Windows 7</td>\n",
       "      <td>http://www.onlinetvchannels.net/sony-mix-live/...</td>\n",
       "      <td>Mozilla/5.0 (Windows NT 6.1; rv:56.0) Gecko/20...</td>\n",
       "      <td>c4619b73-187f-4b21-a421-48007d493cad</td>\n",
       "      <td>0.0</td>\n",
       "      <td>0.0</td>\n",
       "      <td>www.onlinetvchannels.net</td>\n",
       "      <td></td>\n",
       "      <td>[sony, mix, live]</td>\n",
       "    </tr>\n",
       "    <tr>\n",
       "      <th>518345</th>\n",
       "      <td>an-prod-ralphie-frontline-emits.eu-west-1</td>\n",
       "      <td>734.0</td>\n",
       "      <td>2873.0</td>\n",
       "      <td>0.0</td>\n",
       "      <td>0.0</td>\n",
       "      <td>12816.0</td>\n",
       "      <td>third-party</td>\n",
       "      <td>1.0</td>\n",
       "      <td>Angarsk</td>\n",
       "      <td>RUS</td>\n",
       "      <td>...</td>\n",
       "      <td>0.0</td>\n",
       "      <td>Android</td>\n",
       "      <td></td>\n",
       "      <td>Dalvik/2.1.0 (Linux; U; Android 7.0; SM-A520F ...</td>\n",
       "      <td>e27d414b-2a0b-4f7d-9b6a-077ac5378e38</td>\n",
       "      <td>0.0</td>\n",
       "      <td>0.0</td>\n",
       "      <td></td>\n",
       "      <td></td>\n",
       "      <td>[]</td>\n",
       "    </tr>\n",
       "    <tr>\n",
       "      <th>89038</th>\n",
       "      <td>an-prod-ralphie-frontline-bedim.us-east-1</td>\n",
       "      <td>2082.0</td>\n",
       "      <td>5238.0</td>\n",
       "      <td>0.0</td>\n",
       "      <td>0.0</td>\n",
       "      <td>26734.0</td>\n",
       "      <td>private</td>\n",
       "      <td>0.0</td>\n",
       "      <td>Arlington</td>\n",
       "      <td>USA</td>\n",
       "      <td>...</td>\n",
       "      <td>0.0</td>\n",
       "      <td>Android</td>\n",
       "      <td>https://thoughtcatalog.com/lorenzo-jensen-iii/...</td>\n",
       "      <td>Mozilla/5.0 (Linux; Android 8.0.0; SAMSUNG SM-...</td>\n",
       "      <td>c23f1a75-a075-4aca-880f-474467fc00f8</td>\n",
       "      <td>0.0</td>\n",
       "      <td>0.0</td>\n",
       "      <td>thoughtcatalog.com</td>\n",
       "      <td></td>\n",
       "      <td>[lorenzo, jensen, iii, how, big, the, perfect,...</td>\n",
       "    </tr>\n",
       "    <tr>\n",
       "      <th>784331</th>\n",
       "      <td>an-prod-ralphie-frontline-demit.us-east-1</td>\n",
       "      <td>1349.0</td>\n",
       "      <td>3587.0</td>\n",
       "      <td>0.0</td>\n",
       "      <td>0.0</td>\n",
       "      <td>20523.0</td>\n",
       "      <td>private</td>\n",
       "      <td>0.0</td>\n",
       "      <td>Clifton</td>\n",
       "      <td>USA</td>\n",
       "      <td>...</td>\n",
       "      <td>0.0</td>\n",
       "      <td>Android</td>\n",
       "      <td>http://www.chinalucky8.com/feeds/index.aspx#.W...</td>\n",
       "      <td>Mozilla/5.0 (Linux; Android 5.1; LUX Build/LMY...</td>\n",
       "      <td>20534aec-d141-4733-80e7-dfbb564925c7</td>\n",
       "      <td>1.0</td>\n",
       "      <td>0.0</td>\n",
       "      <td>www.chinalucky8.com</td>\n",
       "      <td>www.chinalucky8.com</td>\n",
       "      <td>[feeds, index, aspx, links, index, aspx]</td>\n",
       "    </tr>\n",
       "  </tbody>\n",
       "</table>\n",
       "<p>5 rows × 39 columns</p>\n",
       "</div>"
      ],
      "text/plain": [
       "                                            _host  ad_network_id  \\\n",
       "657450  an-prod-ralphie-frontline-soths.us-east-1         1403.0   \n",
       "100138  an-prod-ralphie-frontline-fermi.eu-west-1          369.0   \n",
       "518345  an-prod-ralphie-frontline-emits.eu-west-1          734.0   \n",
       "89038   an-prod-ralphie-frontline-bedim.us-east-1         2082.0   \n",
       "784331  an-prod-ralphie-frontline-demit.us-east-1         1349.0   \n",
       "\n",
       "        advertiser_id  c_cnt  c_flag_cnt  campaign_id campaign_type  f_cnt  \\\n",
       "657450         3672.0    0.0         0.0      26733.0       private    0.0   \n",
       "100138          840.0    0.0         0.0       2547.0           rtb    0.0   \n",
       "518345         2873.0    0.0         0.0      12816.0   third-party    1.0   \n",
       "89038          5238.0    0.0         0.0      26734.0       private    0.0   \n",
       "784331         3587.0    0.0         0.0      20523.0       private    0.0   \n",
       "\n",
       "       geo_city_name geo_country_code3  \\\n",
       "657450  Spanish Fort               USA   \n",
       "100138       Karachi               PAK   \n",
       "518345       Angarsk               RUS   \n",
       "89038      Arlington               USA   \n",
       "784331       Clifton               USA   \n",
       "\n",
       "                              ...                         ua_minor ua_os_name  \\\n",
       "657450                        ...                              0.0  Windows 7   \n",
       "100138                        ...                              0.0  Windows 7   \n",
       "518345                        ...                              0.0    Android   \n",
       "89038                         ...                              0.0    Android   \n",
       "784331                        ...                              0.0    Android   \n",
       "\n",
       "                                                      url  \\\n",
       "657450         https://www.theburningplatform.com/page/3/   \n",
       "100138  http://www.onlinetvchannels.net/sony-mix-live/...   \n",
       "518345                                                      \n",
       "89038   https://thoughtcatalog.com/lorenzo-jensen-iii/...   \n",
       "784331  http://www.chinalucky8.com/feeds/index.aspx#.W...   \n",
       "\n",
       "                                               user_agent  \\\n",
       "657450  Mozilla/5.0 (Windows NT 6.1) AppleWebKit/537.3...   \n",
       "100138  Mozilla/5.0 (Windows NT 6.1; rv:56.0) Gecko/20...   \n",
       "518345  Dalvik/2.1.0 (Linux; U; Android 7.0; SM-A520F ...   \n",
       "89038   Mozilla/5.0 (Linux; Android 8.0.0; SAMSUNG SM-...   \n",
       "784331  Mozilla/5.0 (Linux; Android 5.1; LUX Build/LMY...   \n",
       "\n",
       "                                        uuid  vi_cnt  vi_flag_cnt  \\\n",
       "657450  adda9c2b-af51-4120-840e-5a3a19e36f95     0.0          0.0   \n",
       "100138  c4619b73-187f-4b21-a421-48007d493cad     0.0          0.0   \n",
       "518345  e27d414b-2a0b-4f7d-9b6a-077ac5378e38     0.0          0.0   \n",
       "89038   c23f1a75-a075-4aca-880f-474467fc00f8     0.0          0.0   \n",
       "784331  20534aec-d141-4733-80e7-dfbb564925c7     1.0          0.0   \n",
       "\n",
       "                        url_domain                  red_domain  \\\n",
       "657450  www.theburningplatform.com  www.theburningplatform.com   \n",
       "100138    www.onlinetvchannels.net                               \n",
       "518345                                                           \n",
       "89038           thoughtcatalog.com                               \n",
       "784331         www.chinalucky8.com         www.chinalucky8.com   \n",
       "\n",
       "                                                 keywords  \n",
       "657450                                       [page, page]  \n",
       "100138                                  [sony, mix, live]  \n",
       "518345                                                 []  \n",
       "89038   [lorenzo, jensen, iii, how, big, the, perfect,...  \n",
       "784331           [feeds, index, aspx, links, index, aspx]  \n",
       "\n",
       "[5 rows x 39 columns]"
      ]
     },
     "execution_count": 11,
     "metadata": {},
     "output_type": "execute_result"
    }
   ],
   "source": [
    "combined.head()"
   ]
  },
  {
   "cell_type": "code",
   "execution_count": 11,
   "metadata": {
    "collapsed": true
   },
   "outputs": [],
   "source": [
    "# Find average ctr rate of each advertiser\n",
    "def score_advertisers(table, score_func):\n",
    "    click_counts = table[[\"advertiser_id\", \"c_cnt\"]]\n",
    "    clean_ccnt = click_counts.dropna()\n",
    "    grouped = clean_ccnt.groupby(\"advertiser_id\")\n",
    "    score_means = lambda x: score_func(np.mean(x))\n",
    "    agg_scored = grouped.agg({'c_cnt': score_means})\n",
    "    return agg_scored\n",
    "\n",
    "click_rates = score_advertisers(combined, lambda x: x).reset_index()\n",
    "# Add ctr rate column to the table\n",
    "click_rates.rename(columns={\"c_cnt\": \"ctr_rate\"}, inplace=True)\n",
    "combined = pd.merge(combined, click_rates, on=\"advertiser_id\")"
   ]
  },
  {
   "cell_type": "code",
   "execution_count": 4,
   "metadata": {
    "collapsed": true
   },
   "outputs": [],
   "source": [
    "click_rates = score_advertisers(day1_filtered, lambda x: x).reset_index()\n",
    "# Add ctr rate column to the table\n",
    "click_rates.rename(columns={\"c_cnt\": \"ctr_rate\"}, inplace=True)\n",
    "day1_filtered = pd.merge(day1_filtered, click_rates, on=\"advertiser_id\")"
   ]
  },
  {
   "cell_type": "markdown",
   "metadata": {},
   "source": [
    "### Browser"
   ]
  },
  {
   "cell_type": "code",
   "execution_count": 106,
   "metadata": {},
   "outputs": [],
   "source": [
    "top_10_os = combined[\"ua_os_name\"].value_counts()[:10].index"
   ]
  },
  {
   "cell_type": "code",
   "execution_count": 108,
   "metadata": {},
   "outputs": [],
   "source": [
    "top_10_os_table = combined[combined[\"ua_os_name\"].isin(top_10_os)]"
   ]
  },
  {
   "cell_type": "code",
   "execution_count": 109,
   "metadata": {},
   "outputs": [
    {
     "name": "stderr",
     "output_type": "stream",
     "text": [
      "//anaconda/lib/python3.5/site-packages/seaborn/categorical.py:1428: FutureWarning: remove_na is deprecated and is a private function. Do not use.\n",
      "  stat_data = remove_na(group_data)\n"
     ]
    },
    {
     "data": {
      "image/png": "[encoded data removed]",
      "text/plain": [
       "<matplotlib.figure.Figure at 0x1e943b3cc0>"
      ]
     },
     "metadata": {},
     "output_type": "display_data"
    }
   ],
   "source": [
    "os_ctr_rate = (top_10_os_table[[\"ua_os_name\", \"c_cnt\"]].groupby(\"ua_os_name\").sum() / \n",
    "                   top_10_os_table[[\"ua_os_name\", \"c_cnt\"]].groupby(\"ua_os_name\").count())\n",
    "os_ctr_rate.sort_values(by=\"c_cnt\", inplace=True, ascending=False)\n",
    "\n",
    "fig, ax = plt.subplots()\n",
    "fig.set_size_inches(17, 6)\n",
    "sns.barplot(x=os_ctr_rate.index.values, y=os_ctr_rate.c_cnt.values)\n",
    "ax.set(xlabel='OS', ylabel='CTR Rate', title='CTR Rate of Top 10 OS')\n",
    "plt.show()"
   ]
  },
  {
   "cell_type": "markdown",
   "metadata": {},
   "source": [
    "## Feature Engineering and Model Creation "
   ]
  },
  {
   "cell_type": "code",
   "execution_count": 3,
   "metadata": {
    "collapsed": true
   },
   "outputs": [],
   "source": [
    "from sklearn.utils import shuffle\n",
    "from sklearn import preprocessing\n",
    "from sklearn import ensemble\n",
    "from sklearn.model_selection import train_test_split\n",
    "from sklearn.model_selection import cross_val_score\n",
    "from sklearn.model_selection import GridSearchCV\n",
    "from sklearn.linear_model import LogisticRegression\n",
    "from sklearn.metrics import confusion_matrix\n",
    "from sklearn.metrics import f1_score\n",
    "from sklearn.feature_extraction import FeatureHasher"
   ]
  },
  {
   "cell_type": "code",
   "execution_count": 14,
   "metadata": {
    "collapsed": true
   },
   "outputs": [],
   "source": [
    "# Shuffle Data\n",
    "combined = shuffle(combined)"
   ]
  },
  {
   "cell_type": "code",
   "execution_count": 4,
   "metadata": {
    "collapsed": true
   },
   "outputs": [],
   "source": [
    "combined = pd.read_pickle(\"./data/combined_days_processed\")\n",
    "day1_filtered = pd.read_pickle(\"./data/day1_filtered\")"
   ]
  },
  {
   "cell_type": "code",
   "execution_count": 5,
   "metadata": {
    "collapsed": true
   },
   "outputs": [],
   "source": [
    "combined['keywords_split'] = combined['keywords'].apply(lambda lst: ' '.join(lst))\n",
    "day1_filtered['keywords_split'] = day1_filtered['keywords'].apply(lambda lst: ' '.join(lst))"
   ]
  },
  {
   "cell_type": "code",
   "execution_count": 6,
   "metadata": {},
   "outputs": [
    {
     "data": {
      "text/plain": [
       "CountVectorizer(analyzer='word', binary=False, decode_error='strict',\n",
       "        dtype=<class 'numpy.int64'>, encoding='utf-8', input='content',\n",
       "        lowercase=True, max_df=1.0, max_features=None, min_df=1000,\n",
       "        ngram_range=(1, 1), preprocessor=None, stop_words=None,\n",
       "        strip_accents=None, token_pattern='(?u)\\\\b\\\\w\\\\w+\\\\b',\n",
       "        tokenizer=None, vocabulary=None)"
      ]
     },
     "execution_count": 6,
     "metadata": {},
     "output_type": "execute_result"
    }
   ],
   "source": [
    "from sklearn.feature_extraction.text import CountVectorizer\n",
    "\n",
    "count_vec = CountVectorizer(min_df=1000) #keep words that appear in at least 1000 documents\n",
    "count_vec.fit(combined['keywords_split'])"
   ]
  },
  {
   "cell_type": "code",
   "execution_count": 7,
   "metadata": {
    "collapsed": true
   },
   "outputs": [],
   "source": [
    "combined_keywords_transform = count_vec.transform(combined['keywords_split']).toarray()"
   ]
  },
  {
   "cell_type": "code",
   "execution_count": 8,
   "metadata": {},
   "outputs": [
    {
     "data": {
      "text/plain": [
       "319"
      ]
     },
     "execution_count": 8,
     "metadata": {},
     "output_type": "execute_result"
    }
   ],
   "source": [
    "NUM_WORDS = combined_keywords_transform.shape[1]\n",
    "NUM_WORDS"
   ]
  },
  {
   "cell_type": "code",
   "execution_count": 9,
   "metadata": {
    "collapsed": true
   },
   "outputs": [],
   "source": [
    "combined = pd.concat([combined, pd.DataFrame(combined_keywords_transform)], axis=1)"
   ]
  },
  {
   "cell_type": "code",
   "execution_count": 10,
   "metadata": {},
   "outputs": [
    {
     "name": "stdout",
     "output_type": "stream",
     "text": [
      "None-click to click ratio of sample: 1491\n"
     ]
    }
   ],
   "source": [
    "#Create subset of test set\n",
    "idx = np.random.choice(day1_filtered.shape[0], size=500000, replace=False)\n",
    "day1_subset = day1_filtered.iloc[idx]\n",
    "click_spread = day1_subset.c_cnt.value_counts()\n",
    "print(\"None-click to click ratio of sample:\", int(click_spread[0] / click_spread[1]))"
   ]
  },
  {
   "cell_type": "code",
   "execution_count": 11,
   "metadata": {
    "collapsed": true
   },
   "outputs": [],
   "source": [
    "day1_keywords_transform = count_vec.transform(day1_subset['keywords_split']).toarray()"
   ]
  },
  {
   "cell_type": "code",
   "execution_count": 12,
   "metadata": {
    "collapsed": true
   },
   "outputs": [],
   "source": [
    "day1_subset = pd.concat([day1_subset.reset_index(drop=True), pd.DataFrame(day1_keywords_transform)], axis=1)"
   ]
  },
  {
   "cell_type": "code",
   "execution_count": 15,
   "metadata": {
    "collapsed": true
   },
   "outputs": [],
   "source": [
    "# combined.to_pickle(\"data/combined_days_processed\")\n",
    "# day1_subset.to_pickle(\"data/day1_filtered_subset\")"
   ]
  },
  {
   "cell_type": "markdown",
   "metadata": {},
   "source": [
    "Let's create our features:"
   ]
  },
  {
   "cell_type": "code",
   "execution_count": 16,
   "metadata": {
    "collapsed": true
   },
   "outputs": [],
   "source": [
    "#Features to one hot encode\n",
    "FEATURES_TO_USE = [\"advertiser_id\", \"ad_network_id\", \"geo_country_code3\", \"ua_os_name\", \n",
    "                   \"site_id\", \"ua_device\", \"campaign_id\", \"url_domain\",\"geo_region_name\", \n",
    "                   \"red_domain\", \"pub_network_id\", \"geo_timezone\", \"ua_device_type\", \n",
    "                   \"ua_major\", \"ua_minor\", \"uuid\"]"
   ]
  },
  {
   "cell_type": "code",
   "execution_count": 17,
   "metadata": {
    "collapsed": true
   },
   "outputs": [],
   "source": [
    "def transform_hour(x):\n",
    "    \"\"\"Assigns hour to a bin\"\"\"\n",
    "    if x >= 5 and x < 8: return 1 #early morning \n",
    "    elif x >= 8 and x < 11: return 2 #morning \n",
    "    elif x >= 11 and x < 14: return 3 #midday\n",
    "    elif x >= 14 and x < 19: return 4 #afternoon\n",
    "    elif x >= 19 and x < 22: return 5 #evening\n",
    "    else: return 6 #night\n",
    "    \n",
    "def create_numerical_features(sample):\n",
    "    \"\"\"Returns a dataframe with the necessary numberical features from dataframe sample\"\"\"\n",
    "    df = pd.DataFrame()\n",
    "    df[\"r_cnt\"] = sample[\"r_cnt\"].tolist()\n",
    "    df[\"campaign_type\"] = sample[\"campaign_type\"].apply(lambda x: 1 if x == \"private\" else 0).tolist()\n",
    "    df[\"ctr_rate\"] = sample[\"ctr_rate\"].tolist()\n",
    "    df[\"num_ads_requested\"] = sample[\"r_num_ads_requested\"].tolist()\n",
    "    df[\"hour\"] = sample[\"i_timestamp\"].astype(int).tolist()\n",
    "    return df\n",
    "\n",
    "def create_features(sample):\n",
    "    \"\"\"\"Creates necessary features, returns X and y matrix\"\"\"\n",
    "    X = create_numerical_features(sample)\n",
    "    y = sample[\"c_cnt\"]\n",
    "    \n",
    "    features = [] #store all features \n",
    "    features.append(X)\n",
    "    for feature in FEATURES_TO_USE:\n",
    "        encoded = encode_feature(feature, sample, df=combined)\n",
    "        features.append(pd.DataFrame(encoded))\n",
    "    \n",
    "    return pd.concat(features, axis=1), y #combine all features"
   ]
  },
  {
   "cell_type": "markdown",
   "metadata": {
    "collapsed": true
   },
   "source": [
    "# FFM (inspired by https://www.csie.ntu.edu.tw/~cjlin/papers/ffm.pdf)"
   ]
  },
  {
   "cell_type": "code",
   "execution_count": 18,
   "metadata": {
    "collapsed": true
   },
   "outputs": [],
   "source": [
    "import xlearn as xl\n",
    "xl.hello() #xl only prints in terminal"
   ]
  },
  {
   "cell_type": "code",
   "execution_count": 19,
   "metadata": {
    "collapsed": true
   },
   "outputs": [],
   "source": [
    "KEYWORDS_INDEX = 41 #start index of keywords columns"
   ]
  },
  {
   "cell_type": "code",
   "execution_count": 20,
   "metadata": {
    "collapsed": true
   },
   "outputs": [],
   "source": [
    "encoders = {} #cache the one hot encoders"
   ]
  },
  {
   "cell_type": "code",
   "execution_count": null,
   "metadata": {
    "collapsed": true
   },
   "outputs": [],
   "source": [
    "# Tracks number of columns per categorical feature, i.e. device_type has 4 columns (helps for conversion to FFM format)\n",
    "feature_count = [] "
   ]
  },
  {
   "cell_type": "markdown",
   "metadata": {},
   "source": [
    "### Helper functions"
   ]
  },
  {
   "cell_type": "code",
   "execution_count": 21,
   "metadata": {
    "collapsed": true
   },
   "outputs": [],
   "source": [
    "# Create encoders and one hot encode features\n",
    "def encode_feature(feature, sample, df, k=80):\n",
    "    \"\"\"Does limited one hot encoding (k most frequent) on the given feature from the sample dataframe. \n",
    "    If the one hot encoder for that specific feature doesn't exist, fit it to df first.\n",
    "    \n",
    "    Args:\n",
    "        feature (str): the feature to one hot encode\n",
    "        sample (dataframe): the dataframe that we encode the feature for\n",
    "        df (dataframe): the dataframe that we fit the encoder to if it hasn't been created yet\n",
    "        k (int): specifies top-k most frequent values to fit on\n",
    "    \n",
    "    Returns:\n",
    "        the transformed feeature of the sample dataframe (2D array)\n",
    "        \n",
    "    \"\"\"\n",
    "    if feature not in encoders:\n",
    "        encoder = preprocessing.LabelBinarizer()\n",
    "        value_counts = df[feature].value_counts()\n",
    "        encoder.fit(value_counts.iloc[:k].index.tolist()) #fit to k most frequent\n",
    "        encoders[feature] = encoder #save that encoder for future use\n",
    "    else:\n",
    "        encoder = encoders[feature]\n",
    "    return encoder.transform(sample[feature])\n",
    "\n",
    "def create_numerical_features_ffm(sample):\n",
    "    \"\"\"Creates a dataframe with the necessary numberical features for the FFM model\n",
    "    \n",
    "    Args:\n",
    "        sample (dataframe): the dataframe from which we create the numerical features \n",
    "    \n",
    "    Returns:\n",
    "        the dataframe with the numerical features\n",
    "    \"\"\"\n",
    "    df = create_numerical_features(sample)\n",
    "    #add the c_cnt column - the X and y values need to be part of the same matrix for FFM\n",
    "    df = pd.concat([pd.DataFrame(sample[\"c_cnt\"].tolist()), df], axis=1).reset_index(drop=True) \n",
    "    return df\n",
    "\n",
    "def create_features_ffm(sample):\n",
    "    \"\"\"\"Creates dataframe with the necessary features for the FFM model\n",
    "    \n",
    "    Args:\n",
    "        sample (dataframe): the dataframe from which we create the features \n",
    "        \n",
    "    Returns:\n",
    "        the dataframe with the features\n",
    "    \"\"\"\n",
    "    df = create_numerical_features_ffm(sample)\n",
    "    features = [] #store all features \n",
    "    features.append(df)\n",
    "    for feature in FEATURES_TO_USE:\n",
    "        encoded = encode_feature(feature, sample, df=combined) #one hot encode the feature\n",
    "        if len(feature_count) < len(FEATURES_TO_USE): feature_count.append(encoded.shape[1])\n",
    "        features.append(pd.DataFrame(encoded))\n",
    "        print(feature)\n",
    "    features.append(sample.iloc[:, KEYWORDS_INDEX:]) #add the keywords columns\n",
    "    return pd.concat(features, axis=1) #combine all transformed features"
   ]
  },
  {
   "cell_type": "markdown",
   "metadata": {},
   "source": [
    "### FFM Data Processing"
   ]
  },
  {
   "cell_type": "code",
   "execution_count": 22,
   "metadata": {},
   "outputs": [
    {
     "name": "stdout",
     "output_type": "stream",
     "text": [
      "advertiser_id\n",
      "ad_network_id\n",
      "geo_country_code3\n",
      "ua_os_name\n",
      "site_id\n",
      "ua_device\n",
      "campaign_id\n",
      "url_domain\n",
      "geo_region_name\n",
      "red_domain\n",
      "pub_network_id\n",
      "geo_timezone\n",
      "ua_device_type\n",
      "ua_major\n",
      "ua_minor\n",
      "uuid\n"
     ]
    }
   ],
   "source": [
    "# Create training and validation matrix\n",
    "train_ffm_transformed = create_features_ffm(combined)"
   ]
  },
  {
   "cell_type": "code",
   "execution_count": 23,
   "metadata": {},
   "outputs": [
    {
     "name": "stdout",
     "output_type": "stream",
     "text": [
      "advertiser_id\n",
      "ad_network_id\n",
      "geo_country_code3\n",
      "ua_os_name\n",
      "site_id\n",
      "ua_device\n",
      "campaign_id\n",
      "url_domain\n",
      "geo_region_name\n",
      "red_domain\n",
      "pub_network_id\n",
      "geo_timezone\n",
      "ua_device_type\n",
      "ua_major\n",
      "ua_minor\n",
      "uuid\n"
     ]
    }
   ],
   "source": [
    "# Create test matrix\n",
    "test_ffm_transformed = create_features_ffm(day1_subset)"
   ]
  },
  {
   "cell_type": "code",
   "execution_count": 24,
   "metadata": {},
   "outputs": [
    {
     "data": {
      "text/plain": [
       "(1000000, 1405)"
      ]
     },
     "execution_count": 24,
     "metadata": {},
     "output_type": "execute_result"
    }
   ],
   "source": [
    "train_ffm_transformed.shape"
   ]
  },
  {
   "cell_type": "code",
   "execution_count": 25,
   "metadata": {},
   "outputs": [
    {
     "data": {
      "text/plain": [
       "(500000, 1405)"
      ]
     },
     "execution_count": 25,
     "metadata": {},
     "output_type": "execute_result"
    }
   ],
   "source": [
    "test_ffm_transformed.shape"
   ]
  },
  {
   "cell_type": "code",
   "execution_count": 27,
   "metadata": {},
   "outputs": [
    {
     "data": {
      "text/plain": [
       "['r_cnt', 'campaign_type', 'ctr_rate', 'num_ads_requested', 'hour']"
      ]
     },
     "execution_count": 27,
     "metadata": {},
     "output_type": "execute_result"
    }
   ],
   "source": [
    "# Generate list of numeric feature names\n",
    "numerics = train_ffm_transformed.columns[1:6].tolist()\n",
    "numerics"
   ]
  },
  {
   "cell_type": "code",
   "execution_count": 28,
   "metadata": {
    "collapsed": true
   },
   "outputs": [],
   "source": [
    "# Rename columns to make it easier to transform to FFM format\n",
    "train_ffm_transformed.columns = [\"c_cnt\"] + numerics + list(range(6, ncolumns))\n",
    "test_ffm_transformed.columns = [\"c_cnt\"] + numerics + list(range(6, ncolumns))"
   ]
  },
  {
   "cell_type": "code",
   "execution_count": 29,
   "metadata": {},
   "outputs": [
    {
     "data": {
      "text/html": [
       "<div>\n",
       "<style scoped>\n",
       "    .dataframe tbody tr th:only-of-type {\n",
       "        vertical-align: middle;\n",
       "    }\n",
       "\n",
       "    .dataframe tbody tr th {\n",
       "        vertical-align: top;\n",
       "    }\n",
       "\n",
       "    .dataframe thead th {\n",
       "        text-align: right;\n",
       "    }\n",
       "</style>\n",
       "<table border=\"1\" class=\"dataframe\">\n",
       "  <thead>\n",
       "    <tr style=\"text-align: right;\">\n",
       "      <th></th>\n",
       "      <th>c_cnt</th>\n",
       "      <th>r_cnt</th>\n",
       "      <th>campaign_type</th>\n",
       "      <th>ctr_rate</th>\n",
       "      <th>num_ads_requested</th>\n",
       "      <th>hour</th>\n",
       "      <th>6</th>\n",
       "      <th>7</th>\n",
       "      <th>8</th>\n",
       "      <th>9</th>\n",
       "      <th>...</th>\n",
       "      <th>1395</th>\n",
       "      <th>1396</th>\n",
       "      <th>1397</th>\n",
       "      <th>1398</th>\n",
       "      <th>1399</th>\n",
       "      <th>1400</th>\n",
       "      <th>1401</th>\n",
       "      <th>1402</th>\n",
       "      <th>1403</th>\n",
       "      <th>1404</th>\n",
       "    </tr>\n",
       "  </thead>\n",
       "  <tbody>\n",
       "    <tr>\n",
       "      <th>0</th>\n",
       "      <td>0.0</td>\n",
       "      <td>0.0</td>\n",
       "      <td>1</td>\n",
       "      <td>0.047654</td>\n",
       "      <td>10.0</td>\n",
       "      <td>13</td>\n",
       "      <td>0</td>\n",
       "      <td>0</td>\n",
       "      <td>0</td>\n",
       "      <td>0</td>\n",
       "      <td>...</td>\n",
       "      <td>0</td>\n",
       "      <td>0</td>\n",
       "      <td>0</td>\n",
       "      <td>0</td>\n",
       "      <td>0</td>\n",
       "      <td>0</td>\n",
       "      <td>0</td>\n",
       "      <td>0</td>\n",
       "      <td>0</td>\n",
       "      <td>0</td>\n",
       "    </tr>\n",
       "    <tr>\n",
       "      <th>1</th>\n",
       "      <td>0.0</td>\n",
       "      <td>0.0</td>\n",
       "      <td>1</td>\n",
       "      <td>0.047654</td>\n",
       "      <td>10.0</td>\n",
       "      <td>12</td>\n",
       "      <td>0</td>\n",
       "      <td>0</td>\n",
       "      <td>0</td>\n",
       "      <td>0</td>\n",
       "      <td>...</td>\n",
       "      <td>0</td>\n",
       "      <td>0</td>\n",
       "      <td>0</td>\n",
       "      <td>0</td>\n",
       "      <td>0</td>\n",
       "      <td>0</td>\n",
       "      <td>0</td>\n",
       "      <td>0</td>\n",
       "      <td>0</td>\n",
       "      <td>0</td>\n",
       "    </tr>\n",
       "    <tr>\n",
       "      <th>2</th>\n",
       "      <td>0.0</td>\n",
       "      <td>0.0</td>\n",
       "      <td>1</td>\n",
       "      <td>0.047654</td>\n",
       "      <td>10.0</td>\n",
       "      <td>13</td>\n",
       "      <td>0</td>\n",
       "      <td>0</td>\n",
       "      <td>0</td>\n",
       "      <td>0</td>\n",
       "      <td>...</td>\n",
       "      <td>0</td>\n",
       "      <td>0</td>\n",
       "      <td>0</td>\n",
       "      <td>0</td>\n",
       "      <td>0</td>\n",
       "      <td>0</td>\n",
       "      <td>0</td>\n",
       "      <td>0</td>\n",
       "      <td>0</td>\n",
       "      <td>0</td>\n",
       "    </tr>\n",
       "    <tr>\n",
       "      <th>3</th>\n",
       "      <td>0.0</td>\n",
       "      <td>0.0</td>\n",
       "      <td>1</td>\n",
       "      <td>0.047654</td>\n",
       "      <td>10.0</td>\n",
       "      <td>12</td>\n",
       "      <td>0</td>\n",
       "      <td>0</td>\n",
       "      <td>0</td>\n",
       "      <td>0</td>\n",
       "      <td>...</td>\n",
       "      <td>0</td>\n",
       "      <td>0</td>\n",
       "      <td>0</td>\n",
       "      <td>0</td>\n",
       "      <td>0</td>\n",
       "      <td>0</td>\n",
       "      <td>0</td>\n",
       "      <td>0</td>\n",
       "      <td>0</td>\n",
       "      <td>0</td>\n",
       "    </tr>\n",
       "    <tr>\n",
       "      <th>4</th>\n",
       "      <td>0.0</td>\n",
       "      <td>1.0</td>\n",
       "      <td>1</td>\n",
       "      <td>0.047654</td>\n",
       "      <td>4.0</td>\n",
       "      <td>13</td>\n",
       "      <td>0</td>\n",
       "      <td>0</td>\n",
       "      <td>0</td>\n",
       "      <td>0</td>\n",
       "      <td>...</td>\n",
       "      <td>0</td>\n",
       "      <td>0</td>\n",
       "      <td>0</td>\n",
       "      <td>0</td>\n",
       "      <td>0</td>\n",
       "      <td>0</td>\n",
       "      <td>0</td>\n",
       "      <td>0</td>\n",
       "      <td>0</td>\n",
       "      <td>0</td>\n",
       "    </tr>\n",
       "  </tbody>\n",
       "</table>\n",
       "<p>5 rows × 1405 columns</p>\n",
       "</div>"
      ],
      "text/plain": [
       "   c_cnt  r_cnt  campaign_type  ctr_rate  num_ads_requested  hour  6  7  8  9  \\\n",
       "0    0.0    0.0              1  0.047654               10.0    13  0  0  0  0   \n",
       "1    0.0    0.0              1  0.047654               10.0    12  0  0  0  0   \n",
       "2    0.0    0.0              1  0.047654               10.0    13  0  0  0  0   \n",
       "3    0.0    0.0              1  0.047654               10.0    12  0  0  0  0   \n",
       "4    0.0    1.0              1  0.047654                4.0    13  0  0  0  0   \n",
       "\n",
       "   ...   1395  1396  1397  1398  1399  1400  1401  1402  1403  1404  \n",
       "0  ...      0     0     0     0     0     0     0     0     0     0  \n",
       "1  ...      0     0     0     0     0     0     0     0     0     0  \n",
       "2  ...      0     0     0     0     0     0     0     0     0     0  \n",
       "3  ...      0     0     0     0     0     0     0     0     0     0  \n",
       "4  ...      0     0     0     0     0     0     0     0     0     0  \n",
       "\n",
       "[5 rows x 1405 columns]"
      ]
     },
     "execution_count": 29,
     "metadata": {},
     "output_type": "execute_result"
    }
   ],
   "source": [
    "train_ffm_transformed.head()"
   ]
  },
  {
   "cell_type": "code",
   "execution_count": 30,
   "metadata": {},
   "outputs": [
    {
     "data": {
      "text/html": [
       "<div>\n",
       "<style scoped>\n",
       "    .dataframe tbody tr th:only-of-type {\n",
       "        vertical-align: middle;\n",
       "    }\n",
       "\n",
       "    .dataframe tbody tr th {\n",
       "        vertical-align: top;\n",
       "    }\n",
       "\n",
       "    .dataframe thead th {\n",
       "        text-align: right;\n",
       "    }\n",
       "</style>\n",
       "<table border=\"1\" class=\"dataframe\">\n",
       "  <thead>\n",
       "    <tr style=\"text-align: right;\">\n",
       "      <th></th>\n",
       "      <th>c_cnt</th>\n",
       "      <th>r_cnt</th>\n",
       "      <th>campaign_type</th>\n",
       "      <th>ctr_rate</th>\n",
       "      <th>num_ads_requested</th>\n",
       "      <th>hour</th>\n",
       "      <th>6</th>\n",
       "      <th>7</th>\n",
       "      <th>8</th>\n",
       "      <th>9</th>\n",
       "      <th>...</th>\n",
       "      <th>1395</th>\n",
       "      <th>1396</th>\n",
       "      <th>1397</th>\n",
       "      <th>1398</th>\n",
       "      <th>1399</th>\n",
       "      <th>1400</th>\n",
       "      <th>1401</th>\n",
       "      <th>1402</th>\n",
       "      <th>1403</th>\n",
       "      <th>1404</th>\n",
       "    </tr>\n",
       "  </thead>\n",
       "  <tbody>\n",
       "    <tr>\n",
       "      <th>0</th>\n",
       "      <td>0.0</td>\n",
       "      <td>1</td>\n",
       "      <td>1</td>\n",
       "      <td>0.000151</td>\n",
       "      <td>4</td>\n",
       "      <td>18</td>\n",
       "      <td>0</td>\n",
       "      <td>0</td>\n",
       "      <td>0</td>\n",
       "      <td>0</td>\n",
       "      <td>...</td>\n",
       "      <td>1</td>\n",
       "      <td>0</td>\n",
       "      <td>0</td>\n",
       "      <td>0</td>\n",
       "      <td>0</td>\n",
       "      <td>0</td>\n",
       "      <td>0</td>\n",
       "      <td>0</td>\n",
       "      <td>0</td>\n",
       "      <td>0</td>\n",
       "    </tr>\n",
       "    <tr>\n",
       "      <th>1</th>\n",
       "      <td>0.0</td>\n",
       "      <td>1</td>\n",
       "      <td>1</td>\n",
       "      <td>0.000151</td>\n",
       "      <td>4</td>\n",
       "      <td>19</td>\n",
       "      <td>0</td>\n",
       "      <td>0</td>\n",
       "      <td>0</td>\n",
       "      <td>0</td>\n",
       "      <td>...</td>\n",
       "      <td>0</td>\n",
       "      <td>0</td>\n",
       "      <td>0</td>\n",
       "      <td>0</td>\n",
       "      <td>0</td>\n",
       "      <td>0</td>\n",
       "      <td>0</td>\n",
       "      <td>0</td>\n",
       "      <td>0</td>\n",
       "      <td>0</td>\n",
       "    </tr>\n",
       "    <tr>\n",
       "      <th>2</th>\n",
       "      <td>0.0</td>\n",
       "      <td>1</td>\n",
       "      <td>0</td>\n",
       "      <td>0.008364</td>\n",
       "      <td>1</td>\n",
       "      <td>21</td>\n",
       "      <td>0</td>\n",
       "      <td>0</td>\n",
       "      <td>0</td>\n",
       "      <td>0</td>\n",
       "      <td>...</td>\n",
       "      <td>0</td>\n",
       "      <td>0</td>\n",
       "      <td>0</td>\n",
       "      <td>0</td>\n",
       "      <td>0</td>\n",
       "      <td>0</td>\n",
       "      <td>0</td>\n",
       "      <td>0</td>\n",
       "      <td>0</td>\n",
       "      <td>0</td>\n",
       "    </tr>\n",
       "    <tr>\n",
       "      <th>3</th>\n",
       "      <td>0.0</td>\n",
       "      <td>1</td>\n",
       "      <td>1</td>\n",
       "      <td>0.000151</td>\n",
       "      <td>10</td>\n",
       "      <td>20</td>\n",
       "      <td>0</td>\n",
       "      <td>0</td>\n",
       "      <td>0</td>\n",
       "      <td>0</td>\n",
       "      <td>...</td>\n",
       "      <td>0</td>\n",
       "      <td>0</td>\n",
       "      <td>0</td>\n",
       "      <td>0</td>\n",
       "      <td>0</td>\n",
       "      <td>0</td>\n",
       "      <td>0</td>\n",
       "      <td>0</td>\n",
       "      <td>0</td>\n",
       "      <td>0</td>\n",
       "    </tr>\n",
       "    <tr>\n",
       "      <th>4</th>\n",
       "      <td>0.0</td>\n",
       "      <td>1</td>\n",
       "      <td>1</td>\n",
       "      <td>0.000155</td>\n",
       "      <td>10</td>\n",
       "      <td>20</td>\n",
       "      <td>0</td>\n",
       "      <td>0</td>\n",
       "      <td>0</td>\n",
       "      <td>0</td>\n",
       "      <td>...</td>\n",
       "      <td>0</td>\n",
       "      <td>0</td>\n",
       "      <td>0</td>\n",
       "      <td>0</td>\n",
       "      <td>0</td>\n",
       "      <td>0</td>\n",
       "      <td>0</td>\n",
       "      <td>0</td>\n",
       "      <td>0</td>\n",
       "      <td>0</td>\n",
       "    </tr>\n",
       "  </tbody>\n",
       "</table>\n",
       "<p>5 rows × 1405 columns</p>\n",
       "</div>"
      ],
      "text/plain": [
       "   c_cnt  r_cnt  campaign_type  ctr_rate  num_ads_requested  hour  6  7  8  9  \\\n",
       "0    0.0      1              1  0.000151                  4    18  0  0  0  0   \n",
       "1    0.0      1              1  0.000151                  4    19  0  0  0  0   \n",
       "2    0.0      1              0  0.008364                  1    21  0  0  0  0   \n",
       "3    0.0      1              1  0.000151                 10    20  0  0  0  0   \n",
       "4    0.0      1              1  0.000155                 10    20  0  0  0  0   \n",
       "\n",
       "   ...   1395  1396  1397  1398  1399  1400  1401  1402  1403  1404  \n",
       "0  ...      1     0     0     0     0     0     0     0     0     0  \n",
       "1  ...      0     0     0     0     0     0     0     0     0     0  \n",
       "2  ...      0     0     0     0     0     0     0     0     0     0  \n",
       "3  ...      0     0     0     0     0     0     0     0     0     0  \n",
       "4  ...      0     0     0     0     0     0     0     0     0     0  \n",
       "\n",
       "[5 rows x 1405 columns]"
      ]
     },
     "execution_count": 30,
     "metadata": {},
     "output_type": "execute_result"
    }
   ],
   "source": [
    "test_ffm_transformed.head()"
   ]
  },
  {
   "cell_type": "markdown",
   "metadata": {},
   "source": [
    "We will use Dask to convert the data to text files to feed into the FFM model (http://dask.pydata.org/en/latest/). It allows us to parallelize the conversion process (otherwise, it's insanely slow)."
   ]
  },
  {
   "cell_type": "code",
   "execution_count": null,
   "metadata": {
    "collapsed": true
   },
   "outputs": [],
   "source": [
    "ncolumns = train_ffm_transformed.columns.shape[0]\n",
    "feature_count += [1 for _ in range(NUM_WORDS)] #add 1 for each keyword\n",
    "len(feature_count) # number of categorical features"
   ]
  },
  {
   "cell_type": "code",
   "execution_count": 31,
   "metadata": {
    "collapsed": true
   },
   "outputs": [],
   "source": [
    "def convert_to_ffm_parallel(row):\n",
    "    \"\"\"Converts row to ffm format\"\"\"\n",
    "    ncols = row.shape[0]\n",
    "    datastring = \"\"\n",
    "    datastring += str(int(row['c_cnt']))\n",
    "    field_position = 0\n",
    "    feature_count_index = 0\n",
    "    for i in range(1, ncols):\n",
    "        if field_position == feature_count[feature_count_index]:\n",
    "            feature_count_index += 1\n",
    "            field_position = 0\n",
    "        # For numerical fields, we are creating a dummy field here\n",
    "        if (i - 1) < len(numerics):\n",
    "            #we are dealing with a numeric feature\n",
    "            feat = numerics[i - 1]\n",
    "            datastring = datastring + \" \"+str(i - 1)+\":\"+ str(i - 1)+\":\"+ str(row[feat])\n",
    "        else:\n",
    "            #categorical feature\n",
    "            if row[i] == 1:\n",
    "                datastring = datastring + \" \"+str(feature_count_index + 5)+\":\"+ str(i - 1)+\":1\"\n",
    "            field_position += 1\n",
    "    return datastring        \n",
    "    \n",
    "def apply_func(df):\n",
    "    \"\"\"Applies functions to df\"\"\"\n",
    "    return df.apply(lambda row: convert_to_ffm_parallel(row), axis=1)\n",
    "  "
   ]
  },
  {
   "cell_type": "code",
   "execution_count": 32,
   "metadata": {
    "collapsed": true
   },
   "outputs": [],
   "source": [
    "import dask.dataframe as dd\n",
    "from dask.multiprocessing import get\n",
    "import time\n",
    "\n",
    "ncores = 4 \n",
    "dask_train_ffm = dd.from_pandas(train_ffm_transformed[:600000], npartitions=ncores)"
   ]
  },
  {
   "cell_type": "markdown",
   "metadata": {},
   "source": [
    "Actual conversions; we will time how long it takes as well"
   ]
  },
  {
   "cell_type": "code",
   "execution_count": 33,
   "metadata": {},
   "outputs": [
    {
     "name": "stdout",
     "output_type": "stream",
     "text": [
      "Time: 3351.321110010147\n"
     ]
    }
   ],
   "source": [
    "t0 = time.time()\n",
    "converted_train = dask_train_ffm.map_partitions(apply_func).compute(get=get) #convert training data\n",
    "t1 = time.time()\n",
    "print(\"Time:\", t1-t0)"
   ]
  },
  {
   "cell_type": "code",
   "execution_count": 35,
   "metadata": {
    "collapsed": true
   },
   "outputs": [],
   "source": [
    "dask_test_ffm = dd.from_pandas(test_ffm_transformed, npartitions=ncores)"
   ]
  },
  {
   "cell_type": "code",
   "execution_count": 36,
   "metadata": {},
   "outputs": [
    {
     "name": "stdout",
     "output_type": "stream",
     "text": [
      "Time: 2759.911721229553\n"
     ]
    }
   ],
   "source": [
    "t0 = time.time()\n",
    "converted_test = dask_test_ffm.map_partitions(apply_func).compute(get=get) #convert test data\n",
    "t1 = time.time()\n",
    "print(\"Time:\", t1-t0)"
   ]
  },
  {
   "cell_type": "code",
   "execution_count": 37,
   "metadata": {
    "collapsed": true
   },
   "outputs": [],
   "source": [
    "# Convert to text files\n",
    "with open(\"ffm/train_dask_ffm.txt\", \"w\") as text_file:\n",
    "    text_file.write(converted_train.str.cat(sep='\\n'))\n",
    "    \n",
    "with open(\"ffm/test_dask_ffm.txt\", \"w\") as text_file:\n",
    "    text_file.write(converted_test.str.cat(sep='\\n'))"
   ]
  },
  {
   "cell_type": "markdown",
   "metadata": {},
   "source": [
    "### Hyperparameter Tuning for FFM"
   ]
  },
  {
   "cell_type": "markdown",
   "metadata": {},
   "source": [
    "Split the training data into training and validation for hyperparameter tuning:"
   ]
  },
  {
   "cell_type": "code",
   "execution_count": 59,
   "metadata": {
    "collapsed": true
   },
   "outputs": [],
   "source": [
    "train = pd.read_csv('ffm/train_dask_ffm.txt', header = None)\n",
    "train = shuffle(train)"
   ]
  },
  {
   "cell_type": "code",
   "execution_count": 60,
   "metadata": {},
   "outputs": [],
   "source": [
    "train_size = int(0.9 * train.shape[0])\n",
    "train_ffm, val_ffm = train[:train_size], train[train_size:]\n",
    "np.savetxt('ffm/train_dask_ffm_sliced.txt', train_ffm.values, fmt='%s')\n",
    "np.savetxt('ffm/val_dask_ffm_sliced.txt', val_ffm.values, fmt='%s')"
   ]
  },
  {
   "cell_type": "code",
   "execution_count": 75,
   "metadata": {},
   "outputs": [],
   "source": [
    "y_val_true = pd.to_numeric(val_ffm[0].str[0]).tolist() #get the c_cnt column"
   ]
  },
  {
   "cell_type": "code",
   "execution_count": 78,
   "metadata": {
    "collapsed": true
   },
   "outputs": [],
   "source": [
    "epochs = 10"
   ]
  },
  {
   "cell_type": "code",
   "execution_count": 77,
   "metadata": {},
   "outputs": [],
   "source": [
    "ffm_model = xl.create_ffm()  \n",
    "ffm_model.setTrain(\"ffm/train_dask_ffm_sliced.txt\")   # Training data\n",
    "ffm_model.setValidate(\"ffm/val_dask_ffm_sliced.txt\")  # Validation data\n",
    "ffm_model.setTest(\"ffm/val_dask_ffm_sliced.txt\") # Test data\n",
    "# ffm_model.setSigmoid() #makes outputs between 0 and 1\n",
    "ffm_model.disableEarlyStop();\n",
    "ffm_model.setSign() #makes outputs either 0 or 1\n",
    "\n",
    "# param:\n",
    "#  0. binary classification\n",
    "#  1. learning rate\n",
    "#  2. regularization lambda \n",
    "#  3. Metric for monitoring validation set performance \n",
    "#  4. Maximum number of Epochs\n",
    "#  5. Length of latent vector for each feature\n",
    "\n",
    "best_f1 = float('-inf')\n",
    "for lr in np.linspace(0.05, 1, num=7):\n",
    "    for lmbda in np.linspace(0.0001, 0.001, num=7):\n",
    "        param = {'task':'binary', 'lr':lr, 'lambda':lmbda,'metric':'auc','epoch':epochs, 'k':8}\n",
    "        # Train model\n",
    "        ffm_model.fit(param, \"ffm/dask_model.out\")\n",
    "        ffm_model.predict(\"ffm/dask_model.out\", \"ffm/dask_output.txt\") #predicts on validation data\n",
    "        y_pred_ffm = pd.read_csv('ffm/dask_output.txt', header = None)\n",
    "        current_f1 = f1_score(y_val_true, y_pred_ffm)\n",
    "        if current_f1 > best_f1:\n",
    "            best_f1, best_lr, best_lmbda = current_f1, lr, lmbda"
   ]
  },
  {
   "cell_type": "code",
   "execution_count": 79,
   "metadata": {},
   "outputs": [
    {
     "name": "stdout",
     "output_type": "stream",
     "text": [
      "Best F1: 0.901571, Best learning rate: 1.000000, Best lambda: 0.000100\n"
     ]
    }
   ],
   "source": [
    "print(\"Best F1: %f, Best learning rate: %f, Best lambda: %f\" % (best_f1, best_lr, best_lmbda))"
   ]
  },
  {
   "cell_type": "markdown",
   "metadata": {},
   "source": [
    "### Training and testing FFM model"
   ]
  },
  {
   "cell_type": "markdown",
   "metadata": {},
   "source": [
    "We are testing on CPC data only, training data consists of both CPC and CPM data so that we can have more positive samples"
   ]
  },
  {
   "cell_type": "code",
   "execution_count": 90,
   "metadata": {},
   "outputs": [
    {
     "name": "stdout",
     "output_type": "stream",
     "text": [
      "FFM Confusion Matrix:\n",
      " [[487792  11873]\n",
      " [   264     71]]\n",
      "FFM Precision: 0.00594440723376\n",
      "FFM Recall: 0.211940298507\n",
      "FFM F1 Score: 0.0115644596466\n"
     ]
    }
   ],
   "source": [
    "# Training task\n",
    "ffm_model = xl.create_ffm()  \n",
    "ffm_model.setTrain(\"ffm/train_dask_ffm.txt\")   \n",
    "ffm_model.setValidate(\"ffm/test_dask_ffm.txt\") \n",
    "ffm_model.setTest(\"ffm/test_dask_ffm.txt\") \n",
    "# ffm_model.setSigmoid()\n",
    "ffm_model.disableEarlyStop();\n",
    "ffm_model.setSign() \n",
    "\n",
    "param = {'task':'binary', 'lr':best_lr, 'lambda':best_lmbda,'metric':'auc','epoch':epochs, 'k':8}\n",
    "# Train model\n",
    "ffm_model.fit(param, \"ffm/dask_model.out\")\n",
    "ffm_model.predict(\"ffm/dask_model.out\", \"ffm/dask_output.txt\") #predicts on validation data\n",
    "y_pred_ffm = pd.read_csv('ffm/dask_output.txt', header = None)\n",
    "y_true_ffm = test_ffm_transformed['c_cnt']\n",
    "confusion_ffm = confusion_matrix(y_true_ffm, y_pred_ffm) #00 - TN, 10 - FN, 01 - FP, 11 - TP\n",
    "print(\"FFM Confusion Matrix:\\n\", confusion_ffm)\n",
    "\n",
    "precision_ffm = confusion_ffm[1][1] / (confusion_ffm[1][1] + confusion_ffm[0][1])\n",
    "recall_ffm = confusion_ffm[1][1] / (confusion_ffm[1][1] + confusion_ffm[1][0])\n",
    "print(\"FFM Precision:\", precision_ffm)\n",
    "print(\"FFM Recall:\", recall_ffm)\n",
    "\n",
    "print(\"FFM F1 Score:\", f1_score(test_ffm_transformed['c_cnt'], y_pred_ffm)) #better F1 score!"
   ]
  },
  {
   "cell_type": "markdown",
   "metadata": {},
   "source": [
    "Train an ensemble of FFMs:"
   ]
  },
  {
   "cell_type": "code",
   "execution_count": 91,
   "metadata": {},
   "outputs": [],
   "source": [
    "#Create an ensemble of ffms\n",
    "NUM_ENSEMBLES = 10\n",
    "ffm_models = []\n",
    "for i in range(NUM_ENSEMBLES):\n",
    "    sample = train.sample(n=train.shape[0], replace=True) #train on a subset of the data (sample with replacement)\n",
    "    file_name = 'ffm/train_dask_ffm_' + str(i) + '.txt'\n",
    "    np.savetxt(file_name, sample.values, fmt='%s')\n",
    "    ffm = xl.create_ffm()\n",
    "    ffm.setTrain(file_name)   # Training data\n",
    "    ffm.setValidate(\"ffm/test_dask_ffm.txt\")  # Validation data\n",
    "    ffm.setTest(\"ffm/test_dask_ffm.txt\") # Test data\n",
    "    ffm.disableEarlyStop();\n",
    "    ffm.setSign() #makes outputs either 0 or 1\n",
    "    ffm_models.append(ffm)"
   ]
  },
  {
   "cell_type": "code",
   "execution_count": 92,
   "metadata": {},
   "outputs": [],
   "source": [
    "#Train the ensembles\n",
    "param = {'task':'binary', 'lr':best_lr, 'lambda':best_lmbda,'metric':'auc','epoch':epochs, 'k':8}\n",
    "predictions = np.zeros((NUM_ENSEMBLES, test_ffm_transformed.shape[0]))\n",
    "for i in range(NUM_ENSEMBLES):\n",
    "    output_name = 'ffm/dask_model_'  + str(i) + '.out'\n",
    "    prediction_name = \"ffm/dask_output_\" + str(i) + \".txt\"\n",
    "    model = ffm_models[i]\n",
    "    model.fit(param, output_name)\n",
    "    model.predict(output_name, prediction_name)\n",
    "    y_pred_ffm = pd.read_csv(prediction_name, header = None)\n",
    "    predictions[i, :] = y_pred_ffm.values.flatten()\n"
   ]
  },
  {
   "cell_type": "code",
   "execution_count": 94,
   "metadata": {},
   "outputs": [
    {
     "name": "stdout",
     "output_type": "stream",
     "text": [
      "FFM Confusion Matrix:\n",
      " [[488281  11384]\n",
      " [   264     71]]\n",
      "FFM Precision: 0.00619816673942\n",
      "FFM Recall: 0.211940298507\n",
      "F1 score of FFM ensembles: 0.012044\n"
     ]
    }
   ],
   "source": [
    "#Average the predictions\n",
    "avg_predictions = np.round(np.mean(predictions, axis=0))\n",
    "confusion_ffm = confusion_matrix(y_true_ffm, avg_predictions) #00 - TN, 10 - FN, 01 - FP, 11 - TP\n",
    "print(\"FFM Confusion Matrix:\\n\", confusion_ffm)\n",
    "\n",
    "precision_ffm = confusion_ffm[1][1] / (confusion_ffm[1][1] + confusion_ffm[0][1])\n",
    "recall_ffm = confusion_ffm[1][1] / (confusion_ffm[1][1] + confusion_ffm[1][0])\n",
    "print(\"FFM Precision:\", precision_ffm)\n",
    "print(\"FFM Recall:\", recall_ffm)\n",
    "print(\"F1 score of FFM ensembles: %f\" % f1_score(test_ffm_transformed['c_cnt'], avg_predictions))"
   ]
  }
 ],
 "metadata": {
  "anaconda-cloud": {},
  "kernelspec": {
   "display_name": "Python [conda root]",
   "language": "python",
   "name": "conda-root-py"
  },
  "language_info": {
   "codemirror_mode": {
    "name": "ipython",
    "version": 3
   },
   "file_extension": ".py",
   "mimetype": "text/x-python",
   "name": "python",
   "nbconvert_exporter": "python",
   "pygments_lexer": "ipython3",
   "version": "3.5.4"
  }
 },
 "nbformat": 4,
 "nbformat_minor": 2
}
