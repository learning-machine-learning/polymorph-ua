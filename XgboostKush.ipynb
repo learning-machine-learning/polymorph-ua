{
 "cells": [
  {
   "cell_type": "code",
   "execution_count": 27,
   "metadata": {
    "collapsed": true
   },
   "outputs": [],
   "source": [
    "import numpy as np\n",
    "import xgboost as xgb\n",
    "import sklearn\n",
    "import pandas as pd\n",
    "import matplotlib.pyplot as plt\n",
    "import json\n",
    "from sklearn import preprocessing\n",
    "import seaborn as sns\n",
    "from sklearn.metrics import f1_score\n",
    "from sklearn.ensemble import RandomForestClassifier as RFC\n",
    "from sklearn.ensemble import GradientBoostingClassifier as GBT\n",
    "from sklearn.decomposition import PCA\n",
    "from sklearn.preprocessing import OneHotEncoder\n",
    "from sklearn.model_selection import train_test_split\n",
    "from sklearn.metrics import accuracy_score\n",
    "from sklearn.metrics import confusion_matrix\n",
    "%matplotlib inline\n",
    "\n",
    "#from sklearn.preprocessing import CategoricalEncoder\n",
    "#CategoricalEncoder is part of sklearn's developer version, which you can't just update with conda. If you have issues\n",
    "#getting this version, try a hard code implementation of the library here - https://pastebin.com/qs1es9XE"
   ]
  },
  {
   "cell_type": "code",
   "execution_count": 14,
   "metadata": {
    "collapsed": true
   },
   "outputs": [],
   "source": [
    "df_store = pd.HDFStore('combined_day1.h5')\n",
    "df = df_store['df']\n"
   ]
  },
  {
   "cell_type": "code",
   "execution_count": 15,
   "metadata": {},
   "outputs": [
    {
     "data": {
      "text/plain": [
       "(2262922, 75)"
      ]
     },
     "execution_count": 15,
     "metadata": {},
     "output_type": "execute_result"
    }
   ],
   "source": [
    "df.shape"
   ]
  },
  {
   "cell_type": "code",
   "execution_count": null,
   "metadata": {
    "collapsed": true
   },
   "outputs": [],
   "source": []
  },
  {
   "cell_type": "code",
   "execution_count": 16,
   "metadata": {
    "collapsed": true
   },
   "outputs": [],
   "source": [
    "\n",
    "feature_map = []"
   ]
  },
  {
   "cell_type": "code",
   "execution_count": 18,
   "metadata": {},
   "outputs": [],
   "source": [
    "def transform_column(df, col, thresh=200):\n",
    "    if col in numerical_features:\n",
    "        print(\"Numerical\" , col)\n",
    "        feature_map.append(col)\n",
    "        return df[col].values.reshape(-1,1)\n",
    "    \n",
    "    print(col, df[col].nunique())\n",
    "    \n",
    "        \n",
    "    \n",
    "    \n",
    "\n",
    "    \n",
    "    if df[col].nunique() > thresh:\n",
    "        df_frequency = df[[col, 'c_cnt']].groupby(col).agg('count').sort_values('c_cnt',ascending=False)\n",
    "        cat = [sorted(df_frequency[0:thresh].index.values)]\n",
    "        dict2 = {}\n",
    "        for i, item in enumerate(cat[0]):\n",
    "            feature_map.append(col + \" - \" + str(item))\n",
    "            dict2[item] = i\n",
    "        #enc = CategoricalEncoder(categories=[sorted(df_frequency[0:thresh].index.values)],handle_unknown='ignore')\n",
    "    else:\n",
    "        dict2 = {}\n",
    "        i = 0\n",
    "        for item in df[col].values:\n",
    "            if item not in dict2:\n",
    "                feature_map.append(col + \" - \" + str(item))\n",
    "                dict2[item] = i\n",
    "                i+=1\n",
    "        #enc = CategoricalEncoder(categories='auto',handle_unknown='ignore')\n",
    "    return [[1 if j == i else 0 for j in dict2] for i in df[col].values]"
   ]
  },
  {
   "cell_type": "markdown",
   "metadata": {},
   "source": [
    "Our dataset appears to consist of two types of samples - bid samples, and ad samples. Since we are only trying to predict clicks on the ad, AKA \"c_cnt\", which only exists in ad samples, we will only be working with those data. Let's first parse the data and get what we need.\n",
    "\n",
    "Parsing data from 12 hours."
   ]
  },
  {
   "cell_type": "code",
   "execution_count": 19,
   "metadata": {
    "collapsed": true
   },
   "outputs": [],
   "source": [
    "#df = pd.read_json(\"ckh1.json\" , lines  = True)"
   ]
  },
  {
   "cell_type": "markdown",
   "metadata": {},
   "source": [
    "Create a copy of the table as backup (in case original data gets corrupted)"
   ]
  },
  {
   "cell_type": "markdown",
   "metadata": {
    "collapsed": true
   },
   "source": [
    "df = pd.read_json(\"day.json\", lines=True)\n",
    "\n"
   ]
  },
  {
   "cell_type": "code",
   "execution_count": 20,
   "metadata": {},
   "outputs": [
    {
     "data": {
      "text/plain": [
       "(2262922, 75)"
      ]
     },
     "execution_count": 20,
     "metadata": {},
     "output_type": "execute_result"
    }
   ],
   "source": [
    "df.shape"
   ]
  },
  {
   "cell_type": "markdown",
   "metadata": {},
   "source": [
    "Now, we need to do some data cleaning. From some initial exploratory analysis, we can see that that we have 5 features with only 16 non-nan values, with a few other features having a similarly low level of non-nan values. To simplify things, we choose to drop all features with less than some threshhold of non-nan values. Also, as we are trying to predict c_cnt, samples where c_cnt is NaN are useless, so we throw those away as well. \n",
    "\n",
    "After this, we see that less than 10% of our remaining samples contains any NaN values, so we just drop those samples as we don't lose that much information from them."
   ]
  },
  {
   "cell_type": "code",
   "execution_count": 21,
   "metadata": {
    "scrolled": false
   },
   "outputs": [
    {
     "name": "stdout",
     "output_type": "stream",
     "text": [
      "_host                    2262922\n",
      "ad_network_id            2262922\n",
      "ad_type                  2262922\n",
      "adlog_count              2262922\n",
      "advertiser_id            2262922\n",
      "bid_requests             2262922\n",
      "bid_responses            2262922\n",
      "c_cnt                    1724754\n",
      "c_flag_cnt               1724754\n",
      "c_timestamp                 1186\n",
      "c_txn_fee                    429\n",
      "c_txn_rate                   429\n",
      "campaign_id              2262922\n",
      "campaign_type            2262922\n",
      "ck                       2262922\n",
      "cr_cnt                   2262922\n",
      "creative_id              2262922\n",
      "exp_mode                  475358\n",
      "f_cnt                    1724754\n",
      "f_nfr                          2\n",
      "f_timestamp                    2\n",
      "flag                       22239\n",
      "geo_area_code            1788769\n",
      "geo_city_code            2182133\n",
      "geo_city_name            2183499\n",
      "geo_continent_code       2262921\n",
      "geo_country_code2        2262921\n",
      "geo_country_code3        2262921\n",
      "geo_dma_code             1788139\n",
      "geo_postal_code          2095169\n",
      "                          ...   \n",
      "r_cnt                    2262922\n",
      "r_num_ads_requested      2262922\n",
      "r_num_ads_returned       2262922\n",
      "r_num_ads_third_party    2262922\n",
      "r_timestamp              2262922\n",
      "rate_metric              2262922\n",
      "referer                  2262922\n",
      "session_id               2262922\n",
      "site_id                  2262922\n",
      "tag_value                      2\n",
      "token                    2262922\n",
      "txn_fee                   492050\n",
      "txn_rate                  492050\n",
      "ua                       2262922\n",
      "ua_device                2262922\n",
      "ua_device_type           2242811\n",
      "ua_major                 2250318\n",
      "ua_minor                 2250152\n",
      "ua_name                  2262922\n",
      "ua_os                    1615455\n",
      "ua_os_name               2262922\n",
      "url                      2259137\n",
      "user_agent               1677621\n",
      "uuid                     2262922\n",
      "vi_cnt                   1724754\n",
      "vi_flag_cnt              1724754\n",
      "vi_timestamp              345207\n",
      "vv_cnt                   1724754\n",
      "widget_id                  20292\n",
      "zone_id                  2262922\n",
      "Length: 75, dtype: int64\n"
     ]
    }
   ],
   "source": [
    "#how many non-nan values do we have?\n",
    "print(df.count())\n",
    "n = len(df)\n",
    "\n",
    "#filter rows with c_cnt as NaN\n",
    "df = df[np.isfinite(df['c_cnt'])]\n",
    "\n",
    "#filter threshhold\n",
    "df = df.dropna(thresh=int(0.5*n), axis=1)\n",
    "#drop all samples with NaN values\n",
    "df = df.dropna(axis=0)"
   ]
  },
  {
   "cell_type": "markdown",
   "metadata": {},
   "source": [
    "Now, we have some more preprocessing to do, so we wrote some simple functions for preprocessing. The most important thing we do here is that since most of our features are categorical, we must encode them with one-hot-encoding, which essentially turns one feature into n different features, one for each type of class in the original features. For example, if we had a feature for \"hair color\", we would map it to a higher dimensional feature space consisting of \"is the hair white\", \"is the hair black\", \"is the hair brown\", etc. Only one of these features would be a 1, and the rest would be 0.\n",
    "\n",
    "Normally, each feature would be mapped to n features, with n being the number of unique classes that feature contains. For our data, however, some features will have thousands, even millions of unique classes, which would result is an omega-sparse dataset. To account for this, we set a threshhold at 200, such that n will never be greater than 201. We still keep track of the 200 most frequent classes, however, the rest will be bunched into a single class. The motivation for this is that for the more frequent classes, we have enough data that our ML models will be able to extract some information, but for the less frequent classes, there is too little data for accurate analysis, so we group them as one class."
   ]
  },
  {
   "cell_type": "code",
   "execution_count": 22,
   "metadata": {
    "collapsed": true,
    "scrolled": true
   },
   "outputs": [],
   "source": [
    "#Turns a timestamp into which minute the time was at - used as a categorical feature.\n",
    "def timestamp_to_min(timestamp, is_hour=True):\n",
    "    if is_hour:\n",
    "        return timestamp.split(':')[0][-2:]\n",
    "    else: \n",
    "        return timestamp.split(':')[1]\n",
    "\n",
    "#plots frequency of a feature's different classes, useful for exploratory analysis\n",
    "def plot_freq(col_name, df):\n",
    "    df_frequency = df.groupby(col_name).agg('count').sort_values('ad_type',ascending=False)\n",
    "    plt.plot([i for i in range(len(df_frequency.values))], [np.log(i[2]) for i in df_frequency.values])\n",
    "    plt.show()\n",
    "\n",
    "#if a feature only has one unique value, it tells us nothing, so we drop it.\n",
    "def remove_only_ones(df):\n",
    "    for col in df.columns:\n",
    "        if len(df[col].unique()) == 1:\n",
    "            df.drop(col, inplace=True,axis=1)\n",
    "\n",
    "#just prints how many unique values are in each feature\n",
    "def print_column_counts(df):    \n",
    "    for i in df:\n",
    "        print(i, df[i].nunique())\n",
    "\n",
    "#We do some final cleaning, changing all non-numerical features into strings for later.\n",
    "def preprocess(df):    \n",
    "    for i in df:\n",
    "        if i[-1] != 't' or i[-2] != 'n' or i[-3] != 'c':\n",
    "            df[i] = df[i].astype('str')\n",
    "    remove_only_ones(df)\n",
    "    if 'site_id' in df.columns:\n",
    "        df.drop('site_id',inplace=True,axis=1)\n",
    "    df['i_timestamp'] = df['i_timestamp'].apply(timestamp_to_min)\n",
    "    df['r_timestamp'] = df['r_timestamp'].apply(timestamp_to_min)\n",
    "    \n",
    "\n",
    "\n",
    "#final preprocessing\n",
    "preprocess(df)\n",
    "#this set contains our numerical column names\n",
    "numerical_features = set(['c_cnt', 'i_cnt', 'r_cnt', 'vi_cnt'])\n",
    "#we create a copy so that X will not include 'c_cnt'\n",
    "df2 = df.copy()\n",
    "df2.drop('c_cnt',inplace=True,axis=1)\n",
    "#u,s,v = np.linalg.svd(X)"
   ]
  },
  {
   "cell_type": "markdown",
   "metadata": {},
   "source": [
    "#given a categorical column, we apply our earlier strategy of one-hot-encoding with maximum thresh=200\n",
    "def transform_column(df, col, thresh=200, return_labels=False):\n",
    "    print(col)\n",
    "    df_frequency = df[[col, 'c_cnt']].groupby(col).agg('count').sort_values('c_cnt',ascending=False)\n",
    "    if df[col].nunique() > thresh:\n",
    "        enc = CategoricalEncoder(categories=[sorted(df_frequency[0:thresh].index.values)],handle_unknown='ignore')\n",
    "        labels = df_frequency[0:thresh].index.values\n",
    "    else:\n",
    "        enc = CategoricalEncoder(categories=[sorted(df_frequency.index.values)],handle_unknown='ignore')\n",
    "        labels = df_frequency.index.values\n",
    "    labels = [str(col) + str(i) for i in labels]\n",
    "    if return_labels:\n",
    "        return labels\n",
    "    enc.fit(df[col].values.reshape(-1, 1))\n",
    "    return enc.transform(df[col].values.reshape(-1,1)).toarray()"
   ]
  },
  {
   "cell_type": "markdown",
   "metadata": {},
   "source": [
    "Create our X and Y matrices - adjust threshhold values for 1HE here"
   ]
  },
  {
   "cell_type": "code",
   "execution_count": 23,
   "metadata": {},
   "outputs": [
    {
     "name": "stdout",
     "output_type": "stream",
     "text": [
      "_host 46\n",
      "ad_network_id 16\n",
      "ad_type 2\n",
      "advertiser_id 23\n",
      "c_flag_cnt 3\n",
      "campaign_id 44\n",
      "campaign_type 2\n",
      "ck 5\n",
      "creative_id 100\n",
      "f_cnt 2\n",
      "geo_area_code 256\n",
      "geo_city_code 11444\n",
      "geo_city_name 8139\n",
      "geo_dma_code 210\n",
      "geo_postal_code 16860\n",
      "geo_region_name 51\n",
      "geo_timezone 8\n",
      "Numerical i_cnt\n",
      "i_flag_cnt 4\n",
      "i_timestamp 11\n",
      "ip_address 260620\n",
      "num_ads 6\n",
      "pub_network_id 3\n",
      "Numerical r_cnt\n",
      "r_num_ads_requested 6\n",
      "r_num_ads_returned 8\n",
      "r_timestamp 13\n",
      "rate_metric 2\n",
      "referer 74092\n",
      "session_id 927350\n",
      "token 100\n",
      "ua 12237\n",
      "ua_device 1724\n",
      "ua_device_type 4\n",
      "ua_major 72\n",
      "ua_minor 31\n",
      "ua_name 35\n",
      "ua_os 65\n",
      "ua_os_name 8\n",
      "url 90728\n",
      "user_agent 12217\n",
      "uuid 475380\n",
      "Numerical vi_cnt\n",
      "vi_flag_cnt 3\n",
      "zone_id 51\n"
     ]
    }
   ],
   "source": [
    "one_hot_thresh = 20\n",
    "Y = df['c_cnt'].values\n",
    "\n",
    "X = np.hstack([transform_column(df, col, thresh=one_hot_thresh) for col in df2])\n",
    "\n",
    "#X = np.hstack([transform_column(df, col, thresh=one_hot_thresh) if col not in numerical_features else df[col].values.reshape(-1,1)\n",
    "               #for col in df2])"
   ]
  },
  {
   "cell_type": "code",
   "execution_count": null,
   "metadata": {},
   "outputs": [],
   "source": []
  },
  {
   "cell_type": "code",
   "execution_count": 43,
   "metadata": {},
   "outputs": [
    {
     "data": {
      "text/plain": [
       "(664017, 589)"
      ]
     },
     "execution_count": 43,
     "metadata": {},
     "output_type": "execute_result"
    }
   ],
   "source": [
    "X_train.shape"
   ]
  },
  {
   "cell_type": "markdown",
   "metadata": {},
   "source": [
    "Now we split the data into 2 sets: training and testing to avoid overfitting of the model. This is done before any subsampling to avoid contaminating the test set. The train set is now subsampled to increase ratio of clicks to nonclicks from 1:2000 to 1:3 which allows models to more accurately learn the click patterns"
   ]
  },
  {
   "cell_type": "code",
   "execution_count": 29,
   "metadata": {
    "collapsed": true
   },
   "outputs": [],
   "source": [
    "def fix_class_imbalance_with_subsampling(tempX, tempY, pos_ratio=2):\n",
    "    tempY = tempY.reshape(-1,1)\n",
    "    ind_1, ind_0 = [], []\n",
    "    for i, y_h in enumerate(tempY):\n",
    "        if y_h: ind_1.append(i)\n",
    "        else: ind_0.append(i)\n",
    "    to_sample = np.random.permutation(pos_ratio*len(ind_1))\n",
    "    to_sample_0 = [ind_0[i] for i in to_sample]\n",
    "    X2 = np.vstack([tempX[ind_1],tempX[to_sample_0]])\n",
    "    Y2 = np.vstack([tempY[ind_1],tempY[to_sample_0]])\n",
    "    tempY = tempY.reshape(-1)\n",
    "    \n",
    "    new_ind = np.random.permutation(len(X2))\n",
    "    return X2[new_ind],Y2[new_ind]"
   ]
  },
  {
   "cell_type": "code",
   "execution_count": 11,
   "metadata": {
    "collapsed": true
   },
   "outputs": [],
   "source": [
    "\n",
    "\n",
    "X_train, X_test, y_train, y_test = train_test_split( X, Y, test_size=0.3)\n",
    "\n",
    "X_fix , Y_fix = fix_class_imbalance_with_subsampling(X_train, y_train, pos_ratio=45)\n",
    "Y_fix=Y_fix.ravel()\n"
   ]
  },
  {
   "cell_type": "code",
   "execution_count": 20,
   "metadata": {},
   "outputs": [
    {
     "data": {
      "text/plain": [
       "2533.4160305343512"
      ]
     },
     "execution_count": 20,
     "metadata": {},
     "output_type": "execute_result"
    }
   ],
   "source": [
    "pos_weight = (len(y_train) - sum(y_train)) / sum(y_train)\n",
    "pos_weight"
   ]
  },
  {
   "cell_type": "markdown",
   "metadata": {},
   "source": [
    "Custom training score for various paramters - Inverse of Euclidian Distance: Rewards both higher and less \"extreme\" values. Uses Precision of training as X and Recall as Y. "
   ]
  },
  {
   "cell_type": "code",
   "execution_count": 13,
   "metadata": {
    "collapsed": true
   },
   "outputs": [],
   "source": [
    "def score(y_pred , y_test):\n",
    "    test = confusion_matrix(y_test , y_pred)\n",
    "    prec = test[1][1] / (test[1][1] + test[0][1])\n",
    "    rec = test[1][1] / (test[1][1] + test[1][0])\n",
    "    print(\"Precision: \", prec)\n",
    "    print(\"Recall\" , rec)\n",
    "    return ((prec ** 0.5) * (rec ** 0.5))**2"
   ]
  },
  {
   "cell_type": "code",
   "execution_count": 38,
   "metadata": {},
   "outputs": [
    {
     "data": {
      "text/plain": [
       "XGBClassifier(base_score=0.5, booster='gbtree', colsample_bylevel=1,\n",
       "       colsample_bytree=1, gamma=0, learning_rate=0.1, max_delta_step=0,\n",
       "       max_depth=3, min_child_weight=1, missing=None, n_estimators=100,\n",
       "       n_jobs=1, nthread=None, objective='binary:logistic', random_state=0,\n",
       "       reg_alpha=0, reg_lambda=1, scale_pos_weight=1, seed=None,\n",
       "       silent=True, subsample=1)"
      ]
     },
     "execution_count": 38,
     "metadata": {},
     "output_type": "execute_result"
    }
   ],
   "source": [
    "model = xgb.XGBClassifier()\n",
    "\n",
    "model.fit(X_fix ,Y_fix )\n",
    "\n",
    "model.predict(X_train)\n",
    "\n",
    "confusion_mat"
   ]
  },
  {
   "cell_type": "code",
   "execution_count": null,
   "metadata": {
    "collapsed": true
   },
   "outputs": [],
   "source": []
  },
  {
   "cell_type": "code",
   "execution_count": 59,
   "metadata": {},
   "outputs": [
    {
     "data": {
      "text/plain": [
       "{0.0, 1.0}"
      ]
     },
     "execution_count": 59,
     "metadata": {},
     "output_type": "execute_result"
    }
   ],
   "source": [
    "model = xgb.XGBClassifier(objective = \"binary:logistic\")\n",
    "model.fit(X_fix ,Y_fix )\n",
    "y_pred = model.predict(X_test)\n",
    "#confusion_matrix(y_test,y_pred)\n",
    "set(y_pred)"
   ]
  },
  {
   "cell_type": "code",
   "execution_count": 44,
   "metadata": {},
   "outputs": [
    {
     "data": {
      "text/plain": [
       "0.0046191281395636568"
      ]
     },
     "execution_count": 44,
     "metadata": {},
     "output_type": "execute_result"
    }
   ],
   "source": [
    "y_pred = model.predict(X_test)\n",
    "fs = f1_score(y_test,y_pred)\n",
    "fs"
   ]
  },
  {
   "cell_type": "markdown",
   "metadata": {},
   "source": [
    "### "
   ]
  },
  {
   "cell_type": "code",
   "execution_count": 16,
   "metadata": {},
   "outputs": [
    {
     "name": "stdout",
     "output_type": "stream",
     "text": [
      "Rat 2000   0.0854700854701\n"
     ]
    }
   ],
   "source": [
    "\n",
    "scoresRat = []\n",
    "for rat in [10,20,30,40,50]:\n",
    "    X_train, X_test, y_train, y_test = train_test_split( X, Y, test_size=0.3)\n",
    "    X_fix , Y_fix = fix_class_imbalance_with_subsampling(X_train, y_train, pos_ratio=rat)\n",
    "    Y_fix=Y_fix.ravel()\n",
    "    mdl = xgb.XGBClassifier()\n",
    "    mdl.fit(X_fix , Y_fix)\n",
    "    y_pred = mdl.predict(X_test)\n",
    "    fs = f1_score(y_test,y_pred)\n",
    "    scoresRat.append(fs)\n",
    "    print(\"Rat\", rat , \" \" , fs)\n",
    "\n"
   ]
  },
  {
   "cell_type": "code",
   "execution_count": 38,
   "metadata": {
    "collapsed": true
   },
   "outputs": [],
   "source": [
    "best_feats = [feature_map[i] for i in np.argsort(mdl.feature_importances_)[-20:]]\n",
    "\n"
   ]
  },
  {
   "cell_type": "code",
   "execution_count": 57,
   "metadata": {},
   "outputs": [
    {
     "data": {
      "text/plain": [
       "['campaign_id - 21827',\n",
       " 'vi_cnt',\n",
       " 'ua_device_type - TAB',\n",
       " 'c_flag_cnt - 0.0',\n",
       " 'ad_network_id - 1349',\n",
       " 'referer - http%3A%2F%2Fwww.breitbart.com%2Fbig-government%2F2018%2F03%2F31%2Fvirgil-conservatives-should-understand-corporate-social-responsibility-is-just-another-name-for-political-power-so-wheres-ours%2F',\n",
       " 'ua_major - 55.0',\n",
       " 'campaign_id - 25937',\n",
       " 'geo_postal_code - 20149',\n",
       " 'ck - ',\n",
       " 'ua - Mozilla/5.0 (iPad; CPU OS 9_3_5 like Mac OS X) AppleWebKit/601.1.46 (KHTML, like Gecko) Version/9.0 Mobile/13G36 Safari/601.1',\n",
       " 'i_timestamp - 00',\n",
       " 'ad_network_id - 893',\n",
       " 'url - http://thehill.com/blogs/blog-briefing-room/news/381148-flynns-son-parkland-student-hoggs-parents-didnt-smack-him',\n",
       " 'url - http://media.breitbart.com/media/if/newsmax.html',\n",
       " 'ua_name - Chrome',\n",
       " 'geo_dma_code - 524.0',\n",
       " 'geo_region_name - CO',\n",
       " 'geo_region_name - PA',\n",
       " 'ck - {\"widget_type\": [\"image\"]}',\n",
       " '_host - an-prod-ralphie-frontline-goofs.us-east-1',\n",
       " 'referer - http%3A%2F%2Fwww.breitbart.com%2F',\n",
       " 'geo_dma_code - 534.0',\n",
       " 'ua - Mozilla/5.0 (iPad; CPU OS 11_2_6 like Mac OS X) AppleWebKit/604.5.6 (KHTML, like Gecko) Version/11.0 Mobile/15D100 Safari/604.1',\n",
       " '_host - an-prod-ralphie-frontline-proxy.us-east-1',\n",
       " 'geo_region_name - FL',\n",
       " 'ua_minor - 2.0',\n",
       " 'i_timestamp - 16',\n",
       " 'i_timestamp - 01',\n",
       " 'creative_id - 1814135']"
      ]
     },
     "execution_count": 57,
     "metadata": {},
     "output_type": "execute_result"
    }
   ],
   "source": [
    "list(pd.Series(good_feats).value_counts()[:30].index)"
   ]
  },
  {
   "cell_type": "code",
   "execution_count": 53,
   "metadata": {},
   "outputs": [
    {
     "name": "stdout",
     "output_type": "stream",
     "text": [
      "creative_id - 1814135\n",
      "geo_region_name - CO\n",
      "r_timestamp - 04\n",
      "geo_region_name - PA\n",
      "geo_region_name - FL\n",
      "url - https://www.roughlyexplained.com/viral-videos/\n",
      "ua_name - Mobile Safari\n",
      "url - http://thehill.com/blogs/blog-briefing-room/news/381148-flynns-son-parkland-student-hoggs-parents-didnt-smack-him\n",
      "url - http://media.breitbart.com/media/if/newsmax.html\n",
      "ua_major - 55.0\n",
      "referer - http%3A%2F%2Fwww.breitbart.com%2Fbig-government%2F2018%2F03%2F31%2Fvirgil-conservatives-should-understand-corporate-social-responsibility-is-just-another-name-for-political-power-so-wheres-ours%2F\n",
      "ad_network_id - 893\n",
      "ck - \n",
      "ad_network_id - 1349\n",
      "campaign_id - 21827\n",
      "ua_device_type - TAB\n",
      "campaign_id - 25937\n",
      "geo_postal_code - 20149\n",
      "c_flag_cnt - 0.0\n",
      "vi_cnt\n",
      "0 20\n",
      "ck - {\"widget_type\": [\"image\"]}\n",
      "r_timestamp - 04\n",
      "ua_os - iOS 11.2\n",
      "i_timestamp - 08\n",
      "ua - Mozilla/5.0 (Linux; Android 8.0.0; SM-G950U Build/R16NW) AppleWebKit/537.36 (KHTML, like Gecko) Chrome/65.0.3325.109 Mobile Safari/537.36\n",
      "campaign_id - 21827\n",
      "url - http://media.breitbart.com/media/if/newsmax.html\n",
      "referer - http%3A%2F%2Fwww.breitbart.com%2Fbig-government%2F2018%2F03%2F31%2Fvirgil-conservatives-should-understand-corporate-social-responsibility-is-just-another-name-for-political-power-so-wheres-ours%2F\n",
      "referer - http%3A%2F%2Fwww.breitbart.com%2F\n",
      "geo_region_name - VA\n",
      "i_timestamp - 00\n",
      "ua_device - Samsung SM-T580\n",
      "ck - \n",
      "ua_major - 55.0\n",
      "geo_postal_code - 20149\n",
      "ua_device_type - TAB\n",
      "campaign_id - 25937\n",
      "ad_network_id - 1349\n",
      "c_flag_cnt - 0.0\n",
      "vi_cnt\n",
      "1 40\n",
      "geo_dma_code - 510.0\n",
      "geo_region_name - CA\n",
      "i_timestamp - 00\n",
      "ua_device - iPhone\n",
      "_host - an-prod-ralphie-frontline-goofs.us-east-1\n",
      "geo_dma_code - 524.0\n",
      "referer - http%3A%2F%2Fwww.breitbart.com%2F\n",
      "geo_dma_code - 803.0\n",
      "geo_region_name - IN\n",
      "campaign_id - 21827\n",
      "_host - an-prod-ralphie-frontline-proxy.us-east-1\n",
      "referer - http%3A%2F%2Fwww.breitbart.com%2Fbig-government%2F2018%2F03%2F31%2Fvirgil-conservatives-should-understand-corporate-social-responsibility-is-just-another-name-for-political-power-so-wheres-ours%2F\n",
      "ua_major - 55.0\n",
      "ck - \n",
      "campaign_id - 25937\n",
      "ad_network_id - 1349\n",
      "ua_device_type - TAB\n",
      "geo_postal_code - 20149\n",
      "c_flag_cnt - 0.0\n",
      "vi_cnt\n",
      "2 60\n",
      "referer - http%3A%2F%2Fwww.breitbart.com%2F\n",
      "ua - Mozilla/5.0 (iPad; CPU OS 9_3_5 like Mac OS X) AppleWebKit/601.1.46 (KHTML, like Gecko) Version/9.0 Mobile/13G36 Safari/601.1\n",
      "i_timestamp - 16\n",
      "ua_major - 5.0\n",
      "zone_id - 18188\n",
      "geo_dma_code - 753.0\n",
      "ua - Mozilla/5.0 (iPhone; CPU iPhone OS 11_2_6 like Mac OS X) AppleWebKit/604.5.6 (KHTML, like Gecko) Version/11.0 Mobile/15D100 Safari/604.1\n",
      "referer - http%3A%2F%2Fwww.breitbart.com%2Fbig-government%2F2018%2F03%2F31%2Fvirgil-conservatives-should-understand-corporate-social-responsibility-is-just-another-name-for-political-power-so-wheres-ours%2F\n",
      "ua_major - 55.0\n",
      "ua_name - Chrome\n",
      "geo_dma_code - 524.0\n",
      "ad_network_id - 893\n",
      "campaign_id - 21827\n",
      "ck - \n",
      "campaign_id - 25937\n",
      "ad_network_id - 1349\n",
      "ua_device_type - TAB\n",
      "geo_postal_code - 20149\n",
      "c_flag_cnt - 0.0\n",
      "vi_cnt\n",
      "3 80\n",
      "url - http://thehill.com/blogs/blog-briefing-room/news/381148-flynns-son-parkland-student-hoggs-parents-didnt-smack-him\n",
      "creative_id - 1814135\n",
      "ua - Mozilla/5.0 (iPad; CPU OS 11_2_6 like Mac OS X) AppleWebKit/604.5.6 (KHTML, like Gecko) Mobile/15D100\n",
      "r_timestamp - 04\n",
      "ad_network_id - 893\n",
      "_host - an-prod-ralphie-frontline-goofs.us-east-1\n",
      "url - http://media.breitbart.com/media/if/newsmax.html\n",
      "url - https://www.roughlyexplained.com/viral-videos/\n",
      "i_timestamp - 02\n",
      "geo_dma_code - 534.0\n",
      "ad_network_id - 1349\n",
      "referer - http%3A%2F%2Fwww.breitbart.com%2Fbig-government%2F2018%2F03%2F31%2Fvirgil-conservatives-should-understand-corporate-social-responsibility-is-just-another-name-for-political-power-so-wheres-ours%2F\n",
      "ck - \n",
      "campaign_id - 21827\n",
      "campaign_id - 25937\n",
      "ua_major - 55.0\n",
      "geo_postal_code - 20149\n",
      "c_flag_cnt - 0.0\n",
      "ua_device_type - TAB\n",
      "vi_cnt\n",
      "4 100\n",
      "_host - an-prod-ralphie-frontline-goofs.us-east-1\n",
      "referer - http%3A%2F%2Fwww.breitbart.com%2F\n",
      "ua_os - iOS 11.2\n",
      "ua_name - Chrome\n",
      "geo_dma_code - 819.0\n",
      "ua_minor - 2.0\n",
      "geo_timezone - America/Chicago\n",
      "geo_region_name - PA\n",
      "ua - Mozilla/5.0 (iPad; CPU OS 9_3_5 like Mac OS X) AppleWebKit/601.1.46 (KHTML, like Gecko) Version/9.0 Mobile/13G36 Safari/601.1\n",
      "ua - Mozilla/5.0 (Linux; Android 8.0.0; SM-G950U Build/R16NW) AppleWebKit/537.36 (KHTML, like Gecko) Chrome/65.0.3325.109 Mobile Safari/537.36\n",
      "referer - http%3A%2F%2Fwww.breitbart.com%2Fbig-government%2F2018%2F03%2F31%2Fvirgil-conservatives-should-understand-corporate-social-responsibility-is-just-another-name-for-political-power-so-wheres-ours%2F\n",
      "campaign_id - 21827\n",
      "ua_major - 55.0\n",
      "ad_network_id - 1349\n",
      "ck - \n",
      "campaign_id - 25937\n",
      "ua_device_type - TAB\n",
      "c_flag_cnt - 0.0\n",
      "geo_postal_code - 20149\n",
      "vi_cnt\n",
      "5 120\n",
      "ua_device - iPad\n",
      "_host - an-prod-ralphie-frontline-orlon.us-east-1\n",
      "geo_area_code - 407.0\n",
      "i_timestamp - 01\n",
      "geo_city_code - 4684888.0\n",
      "geo_region_name - PA\n",
      "i_timestamp - 04\n",
      "geo_region_name - CO\n",
      "i_timestamp - 16\n",
      "url - http://media.breitbart.com/media/if/newsmax.html\n",
      "ad_network_id - 1349\n",
      "referer - http%3A%2F%2Fwww.breitbart.com%2Fbig-government%2F2018%2F03%2F31%2Fvirgil-conservatives-should-understand-corporate-social-responsibility-is-just-another-name-for-political-power-so-wheres-ours%2F\n",
      "campaign_id - 21827\n",
      "ua_major - 55.0\n",
      "ck - \n",
      "campaign_id - 25937\n",
      "ua_device_type - TAB\n",
      "geo_postal_code - 20149\n",
      "c_flag_cnt - 0.0\n",
      "vi_cnt\n",
      "6 140\n",
      "geo_region_name - CO\n",
      "geo_dma_code - 819.0\n",
      "geo_dma_code - 524.0\n",
      "geo_region_name - PA\n",
      "i_timestamp - 02\n",
      "ad_network_id - 893\n",
      "campaign_id - 21827\n",
      "i_timestamp - 01\n",
      "ua_minor - 2.0\n",
      "geo_region_name - FL\n",
      "ua - Mozilla/5.0 (iPad; CPU OS 9_3_5 like Mac OS X) AppleWebKit/601.1.46 (KHTML, like Gecko) Version/9.0 Mobile/13G36 Safari/601.1\n",
      "referer - http%3A%2F%2Fwww.breitbart.com%2Fbig-government%2F2018%2F03%2F31%2Fvirgil-conservatives-should-understand-corporate-social-responsibility-is-just-another-name-for-political-power-so-wheres-ours%2F\n",
      "campaign_id - 25937\n",
      "ck - \n",
      "geo_postal_code - 20149\n",
      "ua_major - 55.0\n",
      "ua_device_type - TAB\n",
      "ad_network_id - 1349\n",
      "c_flag_cnt - 0.0\n",
      "vi_cnt\n",
      "7 160\n",
      "geo_region_name - IL\n",
      "ck - {\"widget_type\": [\"image\"]}\n",
      "ad_network_id - 893\n",
      "ua_name - Chrome\n",
      "campaign_id - 21827\n",
      "geo_region_name - NJ\n",
      "url - http://media.breitbart.com/media/if/newsmax.html\n",
      "referer - http%3A%2F%2Fwww.breitbart.com%2Fbig-government%2F2018%2F03%2F31%2Fvirgil-conservatives-should-understand-corporate-social-responsibility-is-just-another-name-for-political-power-so-wheres-ours%2F\n",
      "geo_region_name - CO\n",
      "ua - Mozilla/5.0 (iPad; CPU OS 9_3_5 like Mac OS X) AppleWebKit/601.1.46 (KHTML, like Gecko) Version/9.0 Mobile/13G36 Safari/601.1\n",
      "i_timestamp - 00\n",
      "ua_major - 55.0\n",
      "_host - an-prod-ralphie-frontline-goofs.us-east-1\n",
      "ck - \n",
      "campaign_id - 25937\n",
      "ad_network_id - 1349\n",
      "geo_postal_code - 20149\n",
      "ua_device_type - TAB\n",
      "c_flag_cnt - 0.0\n",
      "vi_cnt\n",
      "8 180\n",
      "_host - an-prod-ralphie-frontline-proxy.us-east-1\n",
      "ua_major - 8.0\n",
      "referer - \n",
      "geo_region_name - CO\n",
      "geo_dma_code - 602.0\n",
      "geo_dma_code - 539.0\n",
      "ad_network_id - 893\n",
      "url - http://thehill.com/blogs/blog-briefing-room/news/381148-flynns-son-parkland-student-hoggs-parents-didnt-smack-him\n",
      "campaign_id - 21827\n",
      "ua_minor - 2.0\n",
      "geo_dma_code - 524.0\n",
      "referer - http%3A%2F%2Fwww.breitbart.com%2Fbig-government%2F2018%2F03%2F31%2Fvirgil-conservatives-should-understand-corporate-social-responsibility-is-just-another-name-for-political-power-so-wheres-ours%2F\n",
      "ad_network_id - 1349\n",
      "ua_major - 55.0\n",
      "ck - \n",
      "campaign_id - 25937\n",
      "c_flag_cnt - 0.0\n",
      "ua_device_type - TAB\n",
      "geo_postal_code - 20149\n",
      "vi_cnt\n",
      "9 200\n",
      "url - http://thehill.com/blogs/blog-briefing-room/news/381148-flynns-son-parkland-student-hoggs-parents-didnt-smack-him\n",
      "ua_name - Chrome\n",
      "ck - {\"widget_type\": [\"image\"]}\n",
      "i_timestamp - 16\n",
      "geo_region_name - IN\n",
      "url - http://media.breitbart.com/media/if/newsmax.html\n",
      "geo_dma_code - 534.0\n",
      "i_timestamp - 02\n",
      "geo_region_name - CA\n",
      "i_timestamp - 00\n",
      "referer - http%3A%2F%2Fwww.breitbart.com%2Fbig-government%2F2018%2F03%2F31%2Fvirgil-conservatives-should-understand-corporate-social-responsibility-is-just-another-name-for-political-power-so-wheres-ours%2F\n",
      "ua_major - 55.0\n",
      "ck - \n",
      "ad_network_id - 1349\n",
      "campaign_id - 21827\n",
      "geo_postal_code - 20149\n",
      "c_flag_cnt - 0.0\n",
      "campaign_id - 25937\n",
      "ua_device_type - TAB\n",
      "vi_cnt\n",
      "10 220\n",
      "_host - an-prod-ralphie-frontline-soths.us-east-1\n",
      "campaign_id - 21827\n",
      "referer - http%3A%2F%2Fwww.breitbart.com%2F\n",
      "geo_dma_code - 524.0\n",
      "referer - http%3A%2F%2Fwww.breitbart.com%2Fbig-government%2F2018%2F03%2F31%2Fvirgil-conservatives-should-understand-corporate-social-responsibility-is-just-another-name-for-political-power-so-wheres-ours%2F\n",
      "geo_region_name - CO\n",
      "url - http://thehill.com/blogs/blog-briefing-room/news/381148-flynns-son-parkland-student-hoggs-parents-didnt-smack-him\n",
      "ua - Mozilla/5.0 (iPad; CPU OS 11_2_6 like Mac OS X) AppleWebKit/604.5.6 (KHTML, like Gecko) Version/11.0 Mobile/15D100 Safari/604.1\n",
      "geo_region_name - PA\n",
      "i_timestamp - 00\n",
      "url - http://media.breitbart.com/media/if/newsmax.html\n",
      "geo_dma_code - 819.0\n",
      "ua_major - 55.0\n",
      "geo_postal_code - 20149\n",
      "ck - \n",
      "ad_network_id - 1349\n",
      "campaign_id - 25937\n",
      "ua_device_type - TAB\n",
      "c_flag_cnt - 0.0\n",
      "vi_cnt\n",
      "11 240\n"
     ]
    },
    {
     "name": "stdout",
     "output_type": "stream",
     "text": [
      "ua_device - Samsung SM-T580\n",
      "ck - {\"widget_type\": [\"image\"]}\n",
      "geo_timezone - America/New_York\n",
      "geo_timezone - America/Chicago\n",
      "_host - an-prod-ralphie-frontline-proxy.us-east-1\n",
      "geo_region_name - NJ\n",
      "i_timestamp - 01\n",
      "zone_id - 18188\n",
      "referer - http%3A%2F%2Fwww.breitbart.com%2Fbig-government%2F2018%2F03%2F31%2Fvirgil-conservatives-should-understand-corporate-social-responsibility-is-just-another-name-for-political-power-so-wheres-ours%2F\n",
      "url - http://thehill.com/blogs/blog-briefing-room/news/381148-flynns-son-parkland-student-hoggs-parents-didnt-smack-him\n",
      "ad_network_id - 1349\n",
      "ua_major - 55.0\n",
      "i_timestamp - 00\n",
      "campaign_id - 21827\n",
      "campaign_id - 25937\n",
      "ck - \n",
      "c_flag_cnt - 0.0\n",
      "geo_postal_code - 20149\n",
      "ua_device_type - TAB\n",
      "vi_cnt\n",
      "12 260\n",
      "geo_dma_code - 524.0\n",
      "geo_dma_code - 510.0\n",
      "geo_region_name - FL\n",
      "ua_device - iPad\n",
      "ua_os_name - Android\n",
      "geo_timezone - America/New_York\n",
      "geo_region_name - IN\n",
      "ua_major - 55.0\n",
      "ua_name - Chrome\n",
      "ua_os - Android 8.0\n",
      "ua - Mozilla/5.0 (iPad; CPU OS 9_3_5 like Mac OS X) AppleWebKit/601.1.46 (KHTML, like Gecko) Version/9.0 Mobile/13G36 Safari/601.1\n",
      "referer - http%3A%2F%2Fwww.breitbart.com%2Fbig-government%2F2018%2F03%2F31%2Fvirgil-conservatives-should-understand-corporate-social-responsibility-is-just-another-name-for-political-power-so-wheres-ours%2F\n",
      "ad_network_id - 1349\n",
      "campaign_id - 21827\n",
      "ck - \n",
      "campaign_id - 25937\n",
      "c_flag_cnt - 0.0\n",
      "geo_postal_code - 20149\n",
      "ua_device_type - TAB\n",
      "vi_cnt\n",
      "13 280\n",
      "_host - an-prod-ralphie-frontline-gamic.us-east-1\n",
      "geo_region_name - FL\n",
      "url - https://www.roughlyexplained.com/viral-videos/\n",
      "_host - an-prod-ralphie-frontline-goofs.us-east-1\n",
      "ua - Mozilla/5.0 (iPad; CPU OS 11_2_6 like Mac OS X) AppleWebKit/604.5.6 (KHTML, like Gecko) Version/11.0 Mobile/15D100 Safari/604.1\n",
      "ua_device_type - TAB\n",
      "geo_dma_code - 534.0\n",
      "i_timestamp - 00\n",
      "ck - {\"widget_type\": [\"image\"]}\n",
      "referer - http%3A%2F%2Fwww.breitbart.com%2Fbig-government%2F2018%2F03%2F31%2Fvirgil-conservatives-should-understand-corporate-social-responsibility-is-just-another-name-for-political-power-so-wheres-ours%2F\n",
      "ck - \n",
      "ua - Mozilla/5.0 (iPad; CPU OS 9_3_5 like Mac OS X) AppleWebKit/601.1.46 (KHTML, like Gecko) Version/9.0 Mobile/13G36 Safari/601.1\n",
      "campaign_id - 21827\n",
      "ad_network_id - 893\n",
      "ua_major - 55.0\n",
      "campaign_id - 25937\n",
      "ad_network_id - 1349\n",
      "c_flag_cnt - 0.0\n",
      "geo_postal_code - 20149\n",
      "vi_cnt\n",
      "14 300\n",
      "url - http://thehill.com/blogs/blog-briefing-room/news/381148-flynns-son-parkland-student-hoggs-parents-didnt-smack-him\n",
      "ua - Mozilla/5.0 (iPad; CPU OS 11_2_6 like Mac OS X) AppleWebKit/604.5.6 (KHTML, like Gecko) Version/11.0 Mobile/15D100 Safari/604.1\n",
      "geo_region_name - CA\n",
      "i_timestamp - 01\n",
      "_host - an-prod-ralphie-frontline-goofs.us-east-1\n",
      "ad_network_id - 893\n",
      "ua - Mozilla/5.0 (iPad; CPU OS 9_3_5 like Mac OS X) AppleWebKit/601.1.46 (KHTML, like Gecko) Version/9.0 Mobile/13G36 Safari/601.1\n",
      "i_timestamp - 16\n",
      "ua_minor - 2.0\n",
      "_host - an-prod-ralphie-frontline-bulks.us-east-1\n",
      "referer - http%3A%2F%2Fwww.breitbart.com%2Fbig-government%2F2018%2F03%2F31%2Fvirgil-conservatives-should-understand-corporate-social-responsibility-is-just-another-name-for-political-power-so-wheres-ours%2F\n",
      "ua_major - 55.0\n",
      "ck - \n",
      "campaign_id - 21827\n",
      "campaign_id - 25937\n",
      "ua_device_type - TAB\n",
      "ad_network_id - 1349\n",
      "c_flag_cnt - 0.0\n",
      "geo_postal_code - 20149\n",
      "vi_cnt\n",
      "15 320\n",
      "creative_id - 1814135\n",
      "ua_os - Android 8.0\n",
      "geo_dma_code - 534.0\n",
      "ua - Mozilla/5.0 (iPad; CPU OS 9_3_5 like Mac OS X) AppleWebKit/601.1.46 (KHTML, like Gecko) Version/9.0 Mobile/13G36 Safari/601.1\n",
      "geo_timezone - America/Los_Angeles\n",
      "ua_name - Chrome\n",
      "ad_network_id - 893\n",
      "campaign_id - 21827\n",
      "ua_os - iOS 11.2\n",
      "url - http://media.breitbart.com/media/if/newsmax.html\n",
      "geo_region_name - CO\n",
      "referer - http%3A%2F%2Fwww.breitbart.com%2Fbig-government%2F2018%2F03%2F31%2Fvirgil-conservatives-should-understand-corporate-social-responsibility-is-just-another-name-for-political-power-so-wheres-ours%2F\n",
      "ck - \n",
      "ua_major - 55.0\n",
      "ua_device_type - TAB\n",
      "ad_network_id - 1349\n",
      "c_flag_cnt - 0.0\n",
      "campaign_id - 25937\n",
      "geo_postal_code - 20149\n",
      "vi_cnt\n",
      "16 340\n",
      "campaign_id - 21827\n",
      "referer - http%3A%2F%2Fwww.breitbart.com%2Fbig-hollywood%2F2018%2F03%2F31%2Fjimmy-carter-rips-trump-america-apparently-wants-jerk-president%2F\n",
      "url - http://thehill.com/blogs/blog-briefing-room/news/381148-flynns-son-parkland-student-hoggs-parents-didnt-smack-him\n",
      "_host - an-prod-ralphie-frontline-proxy.us-east-1\n",
      "ua_device - iPhone\n",
      "geo_dma_code - 524.0\n",
      "advertiser_id - 4735\n",
      "ua - Mozilla/5.0 (iPad; CPU OS 9_3_5 like Mac OS X) AppleWebKit/601.1.46 (KHTML, like Gecko) Version/9.0 Mobile/13G36 Safari/601.1\n",
      "referer - http%3A%2F%2Fwww.breitbart.com%2Fbig-government%2F2018%2F03%2F31%2Fvirgil-conservatives-should-understand-corporate-social-responsibility-is-just-another-name-for-political-power-so-wheres-ours%2F\n",
      "url - http://media.breitbart.com/media/if/newsmax.html\n",
      "i_timestamp - 00\n",
      "geo_region_name - PA\n",
      "ua_major - 55.0\n",
      "ad_network_id - 1349\n",
      "campaign_id - 25937\n",
      "ck - \n",
      "ua_device_type - TAB\n",
      "c_flag_cnt - 0.0\n",
      "geo_postal_code - 20149\n",
      "vi_cnt\n",
      "17 360\n",
      "url - http://thehill.com/blogs/blog-briefing-room/news/381148-flynns-son-parkland-student-hoggs-parents-didnt-smack-him\n",
      "ua_major - 10.0\n",
      "ua_major - 62.0\n",
      "ck - {\"widget_type\": [\"image\"]}\n",
      "ua - Mozilla/5.0 (iPad; CPU OS 11_2_5 like Mac OS X) AppleWebKit/604.5.6 (KHTML, like Gecko) Version/11.0 Mobile/15D60 Safari/604.1\n",
      "ua - Mozilla/5.0 (iPad; CPU OS 11_2_6 like Mac OS X) AppleWebKit/604.5.6 (KHTML, like Gecko) Version/11.0 Mobile/15D100 Safari/604.1\n",
      "ua_name - Chrome\n",
      "i_timestamp - 00\n",
      "ad_network_id - 893\n",
      "referer - http%3A%2F%2Fwww.breitbart.com%2Fbig-government%2F2018%2F03%2F31%2Fvirgil-conservatives-should-understand-corporate-social-responsibility-is-just-another-name-for-political-power-so-wheres-ours%2F\n",
      "campaign_id - 21827\n",
      "geo_timezone - America/Los_Angeles\n",
      "ck - \n",
      "geo_postal_code - 20149\n",
      "ua_major - 55.0\n",
      "ad_network_id - 1349\n",
      "ua_device_type - TAB\n",
      "campaign_id - 25937\n",
      "c_flag_cnt - 0.0\n",
      "vi_cnt\n",
      "18 380\n",
      "campaign_id - 26179\n",
      "_host - an-prod-ralphie-frontline-soths.us-east-1\n",
      "ua - Mozilla/5.0 (iPad; CPU OS 11_2_6 like Mac OS X) AppleWebKit/604.5.6 (KHTML, like Gecko) Mobile/15D100\n",
      "ua_os - Android 6.0\n",
      "referer - http%3A%2F%2Fwww.breitbart.com%2Fbig-government%2F2018%2F03%2F31%2Fvirgil-conservatives-should-understand-corporate-social-responsibility-is-just-another-name-for-political-power-so-wheres-ours%2F\n",
      "ua - Mozilla/5.0 (iPad; CPU OS 9_3_5 like Mac OS X) AppleWebKit/601.1.46 (KHTML, like Gecko) Version/9.0 Mobile/13G36 Safari/601.1\n",
      "geo_region_name - NJ\n",
      "geo_dma_code - 534.0\n",
      "_host - an-prod-ralphie-frontline-orlon.us-east-1\n",
      "ua_major - 55.0\n",
      "ua_name - Chrome\n",
      "i_timestamp - 00\n",
      "ck - \n",
      "ad_network_id - 1349\n",
      "campaign_id - 21827\n",
      "campaign_id - 25937\n",
      "geo_postal_code - 20149\n",
      "ua_device_type - TAB\n",
      "c_flag_cnt - 0.0\n",
      "vi_cnt\n",
      "19 400\n"
     ]
    }
   ],
   "source": [
    "good_feats = []\n",
    "for i in range(20):\n",
    "    X_train, X_test, y_train, y_test = train_test_split( X, Y, test_size=0.3)\n",
    "    X_fix , Y_fix = fix_class_imbalance_with_subsampling(X_train, y_train, pos_ratio=50)\n",
    "    Y_fix=Y_fix.ravel()\n",
    "    mdl = xgb.XGBClassifier()\n",
    "    mdl.fit(X_fix , Y_fix)\n",
    "\n",
    "    for w in np.argsort(mdl.feature_importances_)[-20:]:\n",
    "        good_feats.append(feature_map[w])\n",
    "        print(feature_map[w])\n",
    "    print(i, len(good_feats))\n",
    "        \n",
    "\n",
    "\n"
   ]
  },
  {
   "cell_type": "code",
   "execution_count": 37,
   "metadata": {},
   "outputs": [
    {
     "data": {
      "text/plain": [
       "_host - an-prod-ralphie-frontline-proxy.us-east-1                                                                                                                                                                 1\n",
       "geo_postal_code - 20149                                                                                                                                                                                           1\n",
       "ua_device_type - TAB                                                                                                                                                                                              1\n",
       "ck -                                                                                                                                                                                                              1\n",
       "campaign_id - 25937                                                                                                                                                                                               1\n",
       "c_flag_cnt - 0.0                                                                                                                                                                                                  1\n",
       "vi_cnt                                                                                                                                                                                                            1\n",
       "ua - Mozilla/5.0 (iPad; CPU OS 9_3_5 like Mac OS X) AppleWebKit/601.1.46 (KHTML, like Gecko) Version/9.0 Mobile/13G36 Safari/601.1                                                                                1\n",
       "_host - an-prod-ralphie-frontline-goofs.us-east-1                                                                                                                                                                 1\n",
       "ua_major - 55.0                                                                                                                                                                                                   1\n",
       "ad_network_id - 1349                                                                                                                                                                                              1\n",
       "campaign_id - 21827                                                                                                                                                                                               1\n",
       "referer - http%3A%2F%2Fwww.breitbart.com%2Fbig-government%2F2018%2F03%2F31%2Fvirgil-conservatives-should-understand-corporate-social-responsibility-is-just-another-name-for-political-power-so-wheres-ours%2F    1\n",
       "i_timestamp - 00                                                                                                                                                                                                  1\n",
       "geo_dma_code - 524.0                                                                                                                                                                                              1\n",
       "url - http://thehill.com/blogs/blog-briefing-room/news/381148-flynns-son-parkland-student-hoggs-parents-didnt-smack-him                                                                                           1\n",
       "zone_id - 18188                                                                                                                                                                                                   1\n",
       "ua_minor - 2.0                                                                                                                                                                                                    1\n",
       "ad_network_id - 893                                                                                                                                                                                               1\n",
       "geo_dma_code - 534.0                                                                                                                                                                                              1\n",
       "dtype: int64"
      ]
     },
     "execution_count": 37,
     "metadata": {},
     "output_type": "execute_result"
    }
   ],
   "source": []
  },
  {
   "cell_type": "code",
   "execution_count": 57,
   "metadata": {},
   "outputs": [
    {
     "data": {
      "text/plain": [
       "<Container object of 589 artists>"
      ]
     },
     "execution_count": 57,
     "metadata": {},
     "output_type": "execute_result"
    },
    {
     "data": {
      "image/png": "[encoded data removed]",
      "text/plain": [
       "<matplotlib.figure.Figure at 0x24ebcfa69e8>"
      ]
     },
     "metadata": {},
     "output_type": "display_data"
    }
   ],
   "source": [
    "plt.bar(range(len(mdl.feature_importances_)), mdl.feature_importances_)"
   ]
  },
  {
   "cell_type": "code",
   "execution_count": 58,
   "metadata": {},
   "outputs": [
    {
     "data": {
      "text/plain": [
       "array([ 0.        ,  0.05360444,  0.        ,  0.        ,  0.        ,\n",
       "        0.        ,  0.        ,  0.        ,  0.        ,  0.        ], dtype=float32)"
      ]
     },
     "execution_count": 58,
     "metadata": {},
     "output_type": "execute_result"
    }
   ],
   "source": []
  },
  {
   "cell_type": "code",
   "execution_count": null,
   "metadata": {
    "collapsed": true
   },
   "outputs": [],
   "source": []
  },
  {
   "cell_type": "code",
   "execution_count": null,
   "metadata": {
    "collapsed": true
   },
   "outputs": [],
   "source": []
  },
  {
   "cell_type": "code",
   "execution_count": 52,
   "metadata": {},
   "outputs": [
    {
     "name": "stdout",
     "output_type": "stream",
     "text": [
      "0 0.106382978723\n",
      "1 0.139240506329\n",
      "2 0.121546961326\n",
      "3 0.0939597315436\n",
      "4 0.0677966101695\n",
      "5 0.220930232558\n",
      "6 0.0952380952381\n",
      "7 0.105263157895\n",
      "8 0.133333333333\n",
      "9 0.10152284264\n"
     ]
    },
    {
     "data": {
      "text/plain": [
       "[0.10638297872340426,\n",
       " 0.13924050632911394,\n",
       " 0.12154696132596685,\n",
       " 0.093959731543624164,\n",
       " 0.067796610169491525,\n",
       " 0.22093023255813954,\n",
       " 0.095238095238095233,\n",
       " 0.10526315789473685,\n",
       " 0.13333333333333333,\n",
       " 0.10152284263959389]"
      ]
     },
     "execution_count": 52,
     "metadata": {},
     "output_type": "execute_result"
    }
   ],
   "source": [
    "avgScores = []\n",
    "for i in range(10): \n",
    "    X_train, X_test, y_train, y_test = train_test_split( X, Y, test_size=0.3)\n",
    "    X_fix , Y_fix = fix_class_imbalance_with_subsampling(X_train, y_train, pos_ratio=45)\n",
    "    Y_fix=Y_fix.ravel()\n",
    "    mdl = xgb.XGBClassifier()\n",
    "    mdl.fit(X_fix , Y_fix)\n",
    "    y_pred = mdl.predict(X_test)\n",
    "    s = f1_score(y_test,y_pred)\n",
    "    print(i , s)\n",
    "    avgScores.append(s)\n",
    "avgScores\n",
    "\n",
    "\n",
    "\n",
    "\n",
    "\n",
    "\n",
    "\n",
    "\n",
    "\n"
   ]
  },
  {
   "cell_type": "code",
   "execution_count": 53,
   "metadata": {},
   "outputs": [
    {
     "data": {
      "text/plain": [
       "0.11852144497554998"
      ]
     },
     "execution_count": 53,
     "metadata": {},
     "output_type": "execute_result"
    }
   ],
   "source": [
    "sum(avgScores) / len(avgScores)"
   ]
  },
  {
   "cell_type": "markdown",
   "metadata": {},
   "source": [
    "Run PCA to condense the data to 80% of it's variance, but cut the featuers from 350 -> 30. This allows it to train faster later"
   ]
  },
  {
   "cell_type": "code",
   "execution_count": 47,
   "metadata": {
    "collapsed": true
   },
   "outputs": [],
   "source": [
    "pca = PCA(n_components = 0.8)\n",
    "pca.fit(X_train)\n",
    "X_train_small = pca.transform(X_train)\n",
    "X_test_small = pca.transform(X_test)"
   ]
  },
  {
   "cell_type": "markdown",
   "metadata": {},
   "source": [
    "Run a search across all possible paramters for RF in order to find one that maximizes score."
   ]
  },
  {
   "cell_type": "code",
   "execution_count": 34,
   "metadata": {},
   "outputs": [
    {
     "name": "stdout",
     "output_type": "stream",
     "text": [
      "Score for gamma:  0  depth:  0\n",
      "Precision:  0.00206832608231\n",
      "Recall 0.456692913386\n"
     ]
    }
   ],
   "source": [
    "\n",
    "\n",
    "scores = []\n",
    "\n",
    "for g in [0]:\n",
    "    n_s = []\n",
    "    for n_est in range(1):\n",
    "        mdl = xgb.XGBClassifier(gamma = 0 , max_depth = 3)\n",
    "        mdl.fit(X_fix , Y_fix)\n",
    "        y_pred = mdl.predict(X_test)\n",
    "        fs = f1_score(y_test,y_pred)\n",
    "        n_s.append(fs)\n",
    "        print(\"Score for gamma: \" , g , \" depth: \" , n_est)\n",
    "        score(y_pred , y_test)\n",
    "    scores.append(n_s)\n",
    "\n",
    "\n",
    "\n",
    "\n",
    "\n",
    "\n",
    "\n",
    "\n",
    "\n",
    "\n"
   ]
  },
  {
   "cell_type": "markdown",
   "metadata": {},
   "source": [
    "Plot the number of estimators (1,10 ,50 ,100) on the x-axis vs number of maximum number of features in a given tree (sqrt , lg2 , 10 , 30 , 50) : y-axis, in a heat map format to see which features provide highest accuracy. Use F1 metric to score models"
   ]
  },
  {
   "cell_type": "code",
   "execution_count": 35,
   "metadata": {},
   "outputs": [
    {
     "data": {
      "text/plain": [
       "<matplotlib.axes._subplots.AxesSubplot at 0x1ddcf54d0b8>"
      ]
     },
     "execution_count": 35,
     "metadata": {},
     "output_type": "execute_result"
    },
    {
     "data": {
      "image/png": "[encoded data removed]",
      "text/plain": [
       "<matplotlib.figure.Figure at 0x1ddcf59f668>"
      ]
     },
     "metadata": {},
     "output_type": "display_data"
    }
   ],
   "source": [
    "sns.heatmap(scores)"
   ]
  },
  {
   "cell_type": "markdown",
   "metadata": {},
   "source": [
    "Looks like lg2 features did the most consistently and 50 estimators did the best. So use these for next grid search"
   ]
  },
  {
   "cell_type": "markdown",
   "metadata": {},
   "source": [
    "Notes for reading confusion matrix\n",
    "\n",
    "[0][0] correct non-clicked\n",
    "[1][0] - Incorrect - ACTUALLY CLICK\n",
    "[0][1] - Inccroect  - ACTUALLY NONCLICK\n",
    "[1][1] - correct click\n"
   ]
  },
  {
   "cell_type": "markdown",
   "metadata": {},
   "source": [
    "Do another grid search on Weighting and Max_depth. Trying to see if weighting the positive class will increase precision from last classifcation."
   ]
  },
  {
   "cell_type": "code",
   "execution_count": 69,
   "metadata": {},
   "outputs": [
    {
     "name": "stderr",
     "output_type": "stream",
     "text": [
      "C:\\ProgramData\\Anaconda3\\lib\\site-packages\\sklearn\\metrics\\classification.py:1135: UndefinedMetricWarning: F-score is ill-defined and being set to 0.0 due to no predicted samples.\n",
      "  'precision', 'predicted', average, warn_for)\n",
      "C:\\ProgramData\\Anaconda3\\lib\\site-packages\\ipykernel_launcher.py:3: RuntimeWarning: invalid value encountered in longlong_scalars\n",
      "  This is separate from the ipykernel package so we can avoid doing imports until\n"
     ]
    },
    {
     "name": "stdout",
     "output_type": "stream",
     "text": [
      "Precision:  nan\n",
      "Recall 0.0\n",
      "Precision:  0.0170212765957\n",
      "Recall 0.0155642023346\n",
      "Precision:  0.00499873627454\n",
      "Recall 0.692607003891\n"
     ]
    },
    {
     "name": "stderr",
     "output_type": "stream",
     "text": [
      "C:\\ProgramData\\Anaconda3\\lib\\site-packages\\sklearn\\metrics\\classification.py:1135: UndefinedMetricWarning: F-score is ill-defined and being set to 0.0 due to no predicted samples.\n",
      "  'precision', 'predicted', average, warn_for)\n",
      "C:\\ProgramData\\Anaconda3\\lib\\site-packages\\ipykernel_launcher.py:3: RuntimeWarning: invalid value encountered in longlong_scalars\n",
      "  This is separate from the ipykernel package so we can avoid doing imports until\n"
     ]
    },
    {
     "name": "stdout",
     "output_type": "stream",
     "text": [
      "Precision:  nan\n",
      "Recall 0.0\n",
      "Precision:  0.0078125\n",
      "Recall 0.105058365759\n",
      "Precision:  0.0048440554092\n",
      "Recall 0.665369649805\n",
      "Precision:  0.0136612021858\n",
      "Recall 0.0194552529183\n",
      "Precision:  0.00740667588386\n",
      "Recall 0.583657587549\n",
      "Precision:  0.00485080940831\n",
      "Recall 0.669260700389\n",
      "Precision:  0.000596870725233\n",
      "Recall 1.0\n",
      "Precision:  0.00222275956996\n",
      "Recall 0.929961089494\n",
      "Precision:  0.00487977754757\n",
      "Recall 0.696498054475\n",
      "Precision:  0.000596870725233\n",
      "Recall 1.0\n",
      "Precision:  0.000604458409969\n",
      "Recall 1.0\n",
      "Precision:  0.00504574438592\n",
      "Recall 0.708171206226\n",
      "Precision:  0.000596870725233\n",
      "Recall 1.0\n",
      "Precision:  0.0006015917603\n",
      "Recall 1.0\n",
      "Precision:  0.00497582368155\n",
      "Recall 0.688715953307\n"
     ]
    }
   ],
   "source": [
    "\n",
    "\n",
    "weight = {0:1 , 1:1}\n",
    "\n",
    "scores = []\n",
    "\n",
    "for weights in [0.001 , 0.1, 1,10,100,1000]:\n",
    "    n_s = []\n",
    "    for max_depths  in [1 , 10 , 100]:\n",
    "        weight = {0:1 , 1:weights}\n",
    "        mdl = RFC(max_features = \"log2\", n_estimators = 50 , class_weight = weight , max_depth= max_depths)\n",
    "        mdl.fit(X_fix , Y_fix)\n",
    "        y_pred = mdl.predict(X_test)\n",
    "        fs = f1_score(y_test,y_pred)\n",
    "        #print(fs)\n",
    "        n_s.append(fs)\n",
    "        score(y_pred , y_test)\n",
    "       # n_s.append(score(y_pred , y_test))\n",
    "    scores.append(n_s)\n",
    "\n",
    "\n",
    "\n",
    "\n",
    "\n",
    "\n",
    "\n",
    "\n",
    "\n",
    "\n"
   ]
  },
  {
   "cell_type": "markdown",
   "metadata": {},
   "source": [
    "Heat map with weighting for positive class on y  [0.001 , 0.1, 1,10,100,1000] and max depth on X [1 , 10 , 100]. "
   ]
  },
  {
   "cell_type": "code",
   "execution_count": 70,
   "metadata": {},
   "outputs": [
    {
     "data": {
      "text/plain": [
       "<matplotlib.axes._subplots.AxesSubplot at 0x24d8e8f4278>"
      ]
     },
     "execution_count": 70,
     "metadata": {},
     "output_type": "execute_result"
    },
    {
     "data": {
      "image/png": "[encoded data removed]",
      "text/plain": [
       "<matplotlib.figure.Figure at 0x24d8e8f1630>"
      ]
     },
     "metadata": {},
     "output_type": "display_data"
    }
   ],
   "source": [
    "sns.heatmap(scores)"
   ]
  },
  {
   "cell_type": "markdown",
   "metadata": {},
   "source": [
    "Best performace currently: max_features = \"log2\", n_estimators = 50 , class_weight: 0:1 , 1:0.001 , max_depth= 10)"
   ]
  },
  {
   "cell_type": "code",
   "execution_count": 82,
   "metadata": {},
   "outputs": [
    {
     "name": "stdout",
     "output_type": "stream",
     "text": [
      "Precision:  0.00721175516091\n",
      "Recall 0.311284046693\n"
     ]
    },
    {
     "data": {
      "text/plain": [
       "0.0022449043302450707"
      ]
     },
     "execution_count": 82,
     "metadata": {},
     "output_type": "execute_result"
    }
   ],
   "source": [
    "mdl = RFC(max_features = \"log2\", n_estimators = 50 , class_weight = {0:1 , 1:1.5} , max_depth= 1)\n",
    "mdl.fit(X_fix , Y_fix)\n",
    "y_pred = mdl.predict(X_test)\n",
    "score(y_pred , y_test)"
   ]
  },
  {
   "cell_type": "markdown",
   "metadata": {},
   "source": [
    "Unfortunetly still has very poor performance on all paramters - next going to try seeing if changing the test ratio helps at all."
   ]
  },
  {
   "cell_type": "code",
   "execution_count": 22,
   "metadata": {},
   "outputs": [
    {
     "name": "stdout",
     "output_type": "stream",
     "text": [
      "Precision:  0.00241677614456\n",
      "Recall 0.819327731092\n",
      "Precision:  0.00376950932848\n",
      "Recall 0.747899159664\n",
      "Precision:  0.0047451619358\n",
      "Recall 0.697478991597\n",
      "Precision:  0.00528900642236\n",
      "Recall 0.647058823529\n",
      "Precision:  0.00621813207313\n",
      "Recall 0.63025210084\n",
      "Precision:  0.00687351759524\n",
      "Recall 0.596638655462\n",
      "Precision:  0.00710450675199\n",
      "Recall 0.550420168067\n",
      "Precision:  0.00734394124847\n",
      "Recall 0.504201680672\n",
      "Precision:  0.00839694656489\n",
      "Recall 0.508403361345\n",
      "Precision:  0.00845219228737\n",
      "Recall 0.470588235294\n",
      "Precision:  0.00878612716763\n",
      "Recall 0.478991596639\n",
      "Precision:  0.00930026572188\n",
      "Recall 0.441176470588\n",
      "Precision:  0.00878449345937\n",
      "Recall 0.386554621849\n",
      "Precision:  0.0098433530906\n",
      "Recall 0.390756302521\n",
      "Precision:  0.0106933813597\n",
      "Recall 0.399159663866\n",
      "Precision:  0.0108903781714\n",
      "Recall 0.382352941176\n",
      "Precision:  0.0109730301428\n",
      "Recall 0.348739495798\n",
      "Precision:  0.0107719928187\n",
      "Recall 0.327731092437\n",
      "Precision:  0.0107302533532\n",
      "Recall 0.302521008403\n",
      "Precision:  0.0113053964426\n",
      "Recall 0.31512605042\n",
      "Precision:  0.0112699747687\n",
      "Recall 0.281512605042\n",
      "Precision:  0.0106068509824\n",
      "Recall 0.256302521008\n",
      "Precision:  0.0109289617486\n",
      "Recall 0.252100840336\n",
      "Precision:  0.0119139123751\n",
      "Recall 0.260504201681\n",
      "Precision:  0.0127363952142\n",
      "Recall 0.27731092437\n",
      "Precision:  0.0132538104705\n",
      "Recall 0.252100840336\n",
      "Precision:  0.0137077161176\n",
      "Recall 0.260504201681\n",
      "Precision:  0.0133771415161\n",
      "Recall 0.239495798319\n",
      "Precision:  0.0134381338742\n",
      "Recall 0.22268907563\n",
      "Precision:  0.0127388535032\n",
      "Recall 0.226890756303\n",
      "Precision:  0.0132416603005\n",
      "Recall 0.218487394958\n",
      "Precision:  0.0144849785408\n",
      "Recall 0.226890756303\n",
      "Precision:  0.0152761457109\n",
      "Recall 0.218487394958\n",
      "Precision:  0.0159051474841\n",
      "Recall 0.231092436975\n",
      "Precision:  0.0149925037481\n",
      "Recall 0.210084033613\n",
      "Precision:  0.0160680529301\n",
      "Recall 0.214285714286\n",
      "Precision:  0.0163654960791\n",
      "Recall 0.201680672269\n",
      "Precision:  0.0160354827704\n",
      "Recall 0.197478991597\n",
      "Precision:  0.0148173673329\n",
      "Recall 0.180672268908\n",
      "Precision:  0.0151343170639\n",
      "Recall 0.168067226891\n",
      "Precision:  0.0170015455951\n",
      "Recall 0.18487394958\n",
      "Precision:  0.0194213238208\n",
      "Recall 0.205882352941\n",
      "Precision:  0.0171793847383\n",
      "Recall 0.180672268908\n",
      "Precision:  0.0180505415162\n",
      "Recall 0.168067226891\n",
      "Precision:  0.0203810367745\n",
      "Recall 0.193277310924\n",
      "Precision:  0.0170082860881\n",
      "Recall 0.163865546218\n",
      "Precision:  0.0179117518567\n",
      "Recall 0.172268907563\n",
      "Precision:  0.0185701021356\n",
      "Recall 0.168067226891\n",
      "Precision:  0.0194174757282\n",
      "Recall 0.176470588235\n"
     ]
    }
   ],
   "source": [
    "scores = []\n",
    "mdl = RFC(max_features = \"log2\", n_estimators = 50 , class_weight = {0:1 , 1:1.5} , max_depth= 50)\n",
    "for ratios in range(1,50):\n",
    "    n_s = []\n",
    "    X_fix , Y_fix = fix_class_imbalance_with_subsampling(X_train, y_train, pos_ratio=ratios)\n",
    "    Y_fix=Y_fix.ravel()\n",
    "    mdl.fit(X_fix , Y_fix)\n",
    "    y_pred = mdl.predict(X_test)\n",
    "    fs = f1_score(y_test,y_pred)\n",
    "    n_s.append(fs)\n",
    "    score(y_pred , y_test)\n",
    "    scores.append(n_s)\n",
    "\n"
   ]
  },
  {
   "cell_type": "code",
   "execution_count": 23,
   "metadata": {},
   "outputs": [
    {
     "data": {
      "text/plain": [
       "<matplotlib.axes._subplots.AxesSubplot at 0x18bb74fd4e0>"
      ]
     },
     "execution_count": 23,
     "metadata": {},
     "output_type": "execute_result"
    },
    {
     "data": {
      "image/png": "[encoded data removed]",
      "text/plain": [
       "<matplotlib.figure.Figure at 0x18d87de9dd8>"
      ]
     },
     "metadata": {},
     "output_type": "display_data"
    }
   ],
   "source": [
    "sns.heatmap(scores)"
   ]
  },
  {
   "cell_type": "code",
   "execution_count": 24,
   "metadata": {
    "collapsed": true
   },
   "outputs": [],
   "source": [
    "def feature_scoring_random_subsample(lst, df, model, oh_thresh, resample_thresh, p=0.3, iterations=10000):\n",
    "    transformed_col, past_score = {}, {}\n",
    "    for col in df.columns:\n",
    "        if col == 'c_cnt': continue\n",
    "        if col not in numerical_features:\n",
    "            transformed_col[col] = transform_column(df, col, thresh=oh_thresh)\n",
    "    Y = df['c_cnt'].values\n",
    "    scores = []\n",
    "    for i in range(iterations):\n",
    "        print(\"Iteration: \", i)\n",
    "        #subsample random columns with probability p\n",
    "        selected = [c for c in df.columns if random.random() < p and c != 'c_cnt']\n",
    "        print(selected)\n",
    "        #if we have no items, super unlucky, try again\n",
    "        if len(selected) < 1: continue\n",
    "        X = np.hstack([transformed_col[col] if col not in numerical_features else df[col].values.reshape(-1,1)\n",
    "                   for col in selected])\n",
    "        remove_corr_features(X, None)\n",
    "        X_train, Y_train, X_test, Y_test = test_train_split(X, Y)\n",
    "        X_train, Y_train = fix_class_imbalance_with_subsampling(X_train, Y_train,pos_ratio=resample_thresh)\n",
    "\n",
    "        lr = clone(model)\n",
    "        lr.fit(X_train, Y_train)\n",
    "        test_cm = confusion_matrix(Y_test, [i for i in lr.predict(X_test)])\n",
    "        score = get_f1_score(test_cm)\n",
    "        if math.isnan(score): continue\n",
    "        scores.append((selected, score))\n",
    "        \n",
    "        if i > 0 and i % 100 == 0: #Updates score list every 100 iterations, and checks for convergence\n",
    "            feature_scores = {}\n",
    "            for f in df.columns:\n",
    "                if f == 'c_cnt': continue\n",
    "                feature_score = []\n",
    "                for cols, score in scores:\n",
    "                    if f in cols:\n",
    "                        feature_score.append(score)\n",
    "                feature_scores[f] = np.mean(feature_score)\n",
    "            lst = []\n",
    "            for feat in feature_scores:\n",
    "                lst.append((feature_scores[feat], feat))\n",
    "            lst = sorted(lst)\n",
    "            lst.reverse()\n",
    "            #check for convergence\n",
    "            if i > 100:\n",
    "                print(lst)\n",
    "                has_conv = True\n",
    "                for f in df.columns:\n",
    "                    if f not in past_score or f not in feature_scores:\n",
    "                        has_conv = False\n",
    "                        break\n",
    "                    if abs(past_score[f]-feature_scores[f])/feature_scores[f] > 0.01: has_conv = False\n",
    "                if has_conv:\n",
    "                    return lst\n",
    "            past_score = feature_scores"
   ]
  },
  {
   "cell_type": "code",
   "execution_count": 97,
   "metadata": {},
   "outputs": [
    {
     "name": "stdout",
     "output_type": "stream",
     "text": [
      "Precision:  0.0026712623869\n",
      "Recall 0.768595041322\n",
      "Precision:  0.00811568540652\n",
      "Recall 0.454545454545\n",
      "Precision:  0.011520335137\n",
      "Recall 0.272727272727\n",
      "Precision:  0.0125702059374\n",
      "Recall 0.194214876033\n",
      "Precision:  0.0143856920684\n",
      "Recall 0.152892561983\n",
      "Precision:  0.0147565174619\n",
      "Recall 0.123966942149\n",
      "Precision:  0.019524100061\n",
      "Recall 0.132231404959\n",
      "Precision:  0.020749665328\n",
      "Recall 0.128099173554\n",
      "Precision:  0.020999275887\n",
      "Recall 0.119834710744\n",
      "Precision:  0.0227081581161\n",
      "Recall 0.111570247934\n",
      "Precision:  0.0273327049953\n",
      "Recall 0.119834710744\n",
      "Precision:  0.0317286652079\n",
      "Recall 0.119834710744\n",
      "Precision:  0.0324449594438\n",
      "Recall 0.115702479339\n",
      "Precision:  0.0320987654321\n",
      "Recall 0.107438016529\n",
      "Precision:  0.0323834196891\n",
      "Recall 0.103305785124\n"
     ]
    }
   ],
   "source": [
    "scores = []\n",
    "mdl = RFC(max_features = \"log2\", n_estimators = 100 , class_weight = {0:1 , 1:1.5} , max_depth= 100)\n",
    "for ratios in range(1,150 , 10):\n",
    "    n_s = []\n",
    "    X_fix , Y_fix = fix_class_imbalance_with_subsampling(X_train, y_train, pos_ratio=ratios)\n",
    "    Y_fix=Y_fix.ravel()\n",
    "    mdl.fit(X_fix , Y_fix)\n",
    "    y_pred = mdl.predict(X_test)\n",
    "    fs = f1_score(y_test,y_pred)\n",
    "    n_s.append(fs)\n",
    "    score(y_pred , y_test)\n",
    "    scores.append(n_s)\n",
    "\n"
   ]
  },
  {
   "cell_type": "code",
   "execution_count": 94,
   "metadata": {},
   "outputs": [
    {
     "data": {
      "text/plain": [
       "<matplotlib.axes._subplots.AxesSubplot at 0x299d9a84128>"
      ]
     },
     "execution_count": 94,
     "metadata": {},
     "output_type": "execute_result"
    },
    {
     "data": {
      "image/png": "[encoded data removed]",
      "text/plain": [
       "<matplotlib.figure.Figure at 0x299d9a74f28>"
      ]
     },
     "metadata": {},
     "output_type": "display_data"
    }
   ],
   "source": []
  },
  {
   "cell_type": "code",
   "execution_count": null,
   "metadata": {
    "collapsed": true
   },
   "outputs": [],
   "source": []
  }
 ],
 "metadata": {
  "anaconda-cloud": {},
  "kernelspec": {
   "display_name": "Python 3",
   "language": "python",
   "name": "python3"
  },
  "language_info": {
   "codemirror_mode": {
    "name": "ipython",
    "version": 3
   },
   "file_extension": ".py",
   "mimetype": "text/x-python",
   "name": "python",
   "nbconvert_exporter": "python",
   "pygments_lexer": "ipython3",
   "version": "3.6.3"
  }
 },
 "nbformat": 4,
 "nbformat_minor": 1
}
