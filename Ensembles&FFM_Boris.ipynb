{
 "cells": [
  {
   "cell_type": "code",
   "execution_count": 1,
   "metadata": {
    "collapsed": true
   },
   "outputs": [],
   "source": [
    "import pandas as pd\n",
    "import numpy as np\n",
    "import matplotlib.pyplot as plt\n",
    "import seaborn as sns\n",
    "import pickle\n",
    "import json"
   ]
  },
  {
   "cell_type": "code",
   "execution_count": 2,
   "metadata": {
    "collapsed": true
   },
   "outputs": [],
   "source": [
    "# table.to_pickle(\"Day1\")\n",
    "# table = pd.read_pickle(\"./data/Day1\")\n",
    "# table.to_pickle(\"./dataUpdatedDay1\")"
   ]
  },
  {
   "cell_type": "code",
   "execution_count": 3,
   "metadata": {
    "collapsed": true
   },
   "outputs": [],
   "source": [
    "table = pd.read_json(\"data/combined_day1\", lines=True, chunksize=100000)"
   ]
  },
  {
   "cell_type": "code",
   "execution_count": 4,
   "metadata": {
    "collapsed": true
   },
   "outputs": [],
   "source": [
    "table = pd.concat(table)"
   ]
  },
  {
   "cell_type": "code",
   "execution_count": 115,
   "metadata": {
    "collapsed": true
   },
   "outputs": [],
   "source": [
    "# Load in data from HDF file, which is faster\n",
    "df_store = pd.HDFStore('data/combined_day1_processed.h5')\n",
    "pos_store = pd.HDFStore('data/positives_processed.h5')\n",
    "positives = pos_store['df'] \n",
    "day1 = df_store['df']"
   ]
  },
  {
   "cell_type": "code",
   "execution_count": 123,
   "metadata": {
    "collapsed": true
   },
   "outputs": [],
   "source": [
    "combined = pd.concat([positives, day1])"
   ]
  },
  {
   "cell_type": "markdown",
   "metadata": {},
   "source": [
    "## Data Exploration"
   ]
  },
  {
   "cell_type": "markdown",
   "metadata": {},
   "source": [
    "### New Data"
   ]
  },
  {
   "cell_type": "code",
   "execution_count": 127,
   "metadata": {},
   "outputs": [
    {
     "data": {
      "text/plain": [
       "(1578362, 46)"
      ]
     },
     "execution_count": 127,
     "metadata": {},
     "output_type": "execute_result"
    }
   ],
   "source": [
    "combined.shape"
   ]
  },
  {
   "cell_type": "code",
   "execution_count": 131,
   "metadata": {},
   "outputs": [
    {
     "data": {
      "text/plain": [
       "(9092, 172)"
      ]
     },
     "execution_count": 131,
     "metadata": {},
     "output_type": "execute_result"
    }
   ],
   "source": [
    "# Number of clicks and non-click to click ratio in data\n",
    "CLICKED_CNT = combined.c_cnt.value_counts()[1]\n",
    "NONCLICK_RATIO = int(combined.c_cnt.value_counts()[0] / combined.c_cnt.value_counts()[1])\n",
    "CLICKED_CNT, NONCLICK_RATIO"
   ]
  },
  {
   "cell_type": "code",
   "execution_count": 148,
   "metadata": {},
   "outputs": [],
   "source": [
    "click_rates = score_advertisers(combined, lambda x: x).reset_index()\n",
    "# Add ctr rate column to the table\n",
    "click_rates.rename(columns={\"c_cnt\": \"ctr_rate\"}, inplace=True)\n",
    "combined = pd.merge(combined, click_rates, on=\"advertiser_id\")"
   ]
  },
  {
   "cell_type": "code",
   "execution_count": 178,
   "metadata": {},
   "outputs": [
    {
     "name": "stderr",
     "output_type": "stream",
     "text": [
      "//anaconda/lib/python3.5/site-packages/ipykernel/__main__.py:1: FutureWarning: currently extract(expand=None) means expand=False (return Index/Series/DataFrame) but in a future version of pandas this will be changed to expand=True (return DataFrame)\n",
      "  if __name__ == '__main__':\n"
     ]
    }
   ],
   "source": [
    "url_domains = combined[\"url\"].str.extract('^(?:https?:\\/\\/)?(?:[^@\\/\\n]+@)?(?:www\\.)?([^:\\/\\n]+)')\n",
    "combined[\"domain\"] = url_domains.astype(str)"
   ]
  },
  {
   "cell_type": "markdown",
   "metadata": {},
   "source": [
    "### Old Data"
   ]
  },
  {
   "cell_type": "code",
   "execution_count": 118,
   "metadata": {},
   "outputs": [
    {
     "data": {
      "text/plain": [
       "(2262922, 75)"
      ]
     },
     "execution_count": 118,
     "metadata": {},
     "output_type": "execute_result"
    }
   ],
   "source": [
    "table.shape"
   ]
  },
  {
   "cell_type": "code",
   "execution_count": 159,
   "metadata": {},
   "outputs": [
    {
     "data": {
      "text/html": [
       "<div>\n",
       "<style scoped>\n",
       "    .dataframe tbody tr th:only-of-type {\n",
       "        vertical-align: middle;\n",
       "    }\n",
       "\n",
       "    .dataframe tbody tr th {\n",
       "        vertical-align: top;\n",
       "    }\n",
       "\n",
       "    .dataframe thead th {\n",
       "        text-align: right;\n",
       "    }\n",
       "</style>\n",
       "<table border=\"1\" class=\"dataframe\">\n",
       "  <thead>\n",
       "    <tr style=\"text-align: right;\">\n",
       "      <th></th>\n",
       "      <th>_host</th>\n",
       "      <th>ad_network_id</th>\n",
       "      <th>ad_type</th>\n",
       "      <th>adlog_count</th>\n",
       "      <th>advertiser_id</th>\n",
       "      <th>bid_requests</th>\n",
       "      <th>bid_responses</th>\n",
       "      <th>c_cnt</th>\n",
       "      <th>c_flag_cnt</th>\n",
       "      <th>c_timestamp</th>\n",
       "      <th>...</th>\n",
       "      <th>ua_os_name</th>\n",
       "      <th>url</th>\n",
       "      <th>user_agent</th>\n",
       "      <th>uuid</th>\n",
       "      <th>vi_cnt</th>\n",
       "      <th>vi_flag_cnt</th>\n",
       "      <th>vi_timestamp</th>\n",
       "      <th>vv_cnt</th>\n",
       "      <th>widget_id</th>\n",
       "      <th>zone_id</th>\n",
       "    </tr>\n",
       "  </thead>\n",
       "  <tbody>\n",
       "    <tr>\n",
       "      <th>0</th>\n",
       "      <td>an-prod-ralphie-frontline-bulks.us-east-1</td>\n",
       "      <td>1349</td>\n",
       "      <td>[story]</td>\n",
       "      <td>1</td>\n",
       "      <td>3587</td>\n",
       "      <td>[]</td>\n",
       "      <td>[]</td>\n",
       "      <td>0.0</td>\n",
       "      <td>0.0</td>\n",
       "      <td>NaN</td>\n",
       "      <td>...</td>\n",
       "      <td>iOS</td>\n",
       "      <td>http://media.breitbart.com/media/if/newsmax.html</td>\n",
       "      <td>Mozilla/5.0 (iPad; CPU OS 10_3_3 like Mac OS X...</td>\n",
       "      <td>60039c05-5285-49ca-b4eb-a435e9d8352b</td>\n",
       "      <td>0.0</td>\n",
       "      <td>0.0</td>\n",
       "      <td>NaN</td>\n",
       "      <td>0.0</td>\n",
       "      <td>NaN</td>\n",
       "      <td>26024</td>\n",
       "    </tr>\n",
       "    <tr>\n",
       "      <th>1</th>\n",
       "      <td>an-prod-ralphie-frontline-bedim.us-east-1</td>\n",
       "      <td>1349</td>\n",
       "      <td>[story]</td>\n",
       "      <td>1</td>\n",
       "      <td>3587</td>\n",
       "      <td>[]</td>\n",
       "      <td>[]</td>\n",
       "      <td>0.0</td>\n",
       "      <td>0.0</td>\n",
       "      <td>NaN</td>\n",
       "      <td>...</td>\n",
       "      <td>iOS</td>\n",
       "      <td>http://media.breitbart.com/media/if/newsmax.html</td>\n",
       "      <td>Mozilla/5.0 (iPad; CPU OS 11_2_6 like Mac OS X...</td>\n",
       "      <td>504e4902-4a71-4155-9de8-32e4afc00013</td>\n",
       "      <td>0.0</td>\n",
       "      <td>0.0</td>\n",
       "      <td>NaN</td>\n",
       "      <td>0.0</td>\n",
       "      <td>NaN</td>\n",
       "      <td>26024</td>\n",
       "    </tr>\n",
       "    <tr>\n",
       "      <th>2</th>\n",
       "      <td>an-prod-ralphie-frontline-bedim.us-east-1</td>\n",
       "      <td>767</td>\n",
       "      <td>[story]</td>\n",
       "      <td>1</td>\n",
       "      <td>4735</td>\n",
       "      <td>[]</td>\n",
       "      <td>[]</td>\n",
       "      <td>0.0</td>\n",
       "      <td>0.0</td>\n",
       "      <td>NaN</td>\n",
       "      <td>...</td>\n",
       "      <td>iOS</td>\n",
       "      <td>http://thehill.com/policy/national-security/38...</td>\n",
       "      <td>Mozilla/5.0 (iPad; CPU OS 11_2_6 like Mac OS X...</td>\n",
       "      <td>c182f217-aff0-4f43-b74c-8c19344efbbf</td>\n",
       "      <td>1.0</td>\n",
       "      <td>0.0</td>\n",
       "      <td>2018-04-01T00:39:06.102000Z</td>\n",
       "      <td>0.0</td>\n",
       "      <td>NaN</td>\n",
       "      <td>18310</td>\n",
       "    </tr>\n",
       "    <tr>\n",
       "      <th>3</th>\n",
       "      <td>an-prod-ralphie-frontline-goofs.us-east-1</td>\n",
       "      <td>727</td>\n",
       "      <td>[story]</td>\n",
       "      <td>1</td>\n",
       "      <td>4909</td>\n",
       "      <td>[]</td>\n",
       "      <td>[]</td>\n",
       "      <td>NaN</td>\n",
       "      <td>NaN</td>\n",
       "      <td>NaN</td>\n",
       "      <td>...</td>\n",
       "      <td>Android</td>\n",
       "      <td>http://getpocket.com</td>\n",
       "      <td>NaN</td>\n",
       "      <td>429TaA7bgeWM3pk04ed1783dc1p4g4e349bc6flc28o91b...</td>\n",
       "      <td>NaN</td>\n",
       "      <td>NaN</td>\n",
       "      <td>NaN</td>\n",
       "      <td>NaN</td>\n",
       "      <td>NaN</td>\n",
       "      <td>14414</td>\n",
       "    </tr>\n",
       "    <tr>\n",
       "      <th>4</th>\n",
       "      <td>an-prod-ralphie-frontline-soths.us-east-1</td>\n",
       "      <td>1349</td>\n",
       "      <td>[story]</td>\n",
       "      <td>1</td>\n",
       "      <td>3587</td>\n",
       "      <td>[]</td>\n",
       "      <td>[]</td>\n",
       "      <td>0.0</td>\n",
       "      <td>0.0</td>\n",
       "      <td>NaN</td>\n",
       "      <td>...</td>\n",
       "      <td>Android</td>\n",
       "      <td>http://media.breitbart.com/media/if/newsmax.html</td>\n",
       "      <td>Mozilla/5.0 (Linux; Android 7.0; SAMSUNG SM-T8...</td>\n",
       "      <td>1a95be28-1ffe-4e21-8c1f-3e3838c61526</td>\n",
       "      <td>0.0</td>\n",
       "      <td>0.0</td>\n",
       "      <td>NaN</td>\n",
       "      <td>0.0</td>\n",
       "      <td>NaN</td>\n",
       "      <td>26024</td>\n",
       "    </tr>\n",
       "  </tbody>\n",
       "</table>\n",
       "<p>5 rows × 75 columns</p>\n",
       "</div>"
      ],
      "text/plain": [
       "                                       _host  ad_network_id  ad_type  \\\n",
       "0  an-prod-ralphie-frontline-bulks.us-east-1           1349  [story]   \n",
       "1  an-prod-ralphie-frontline-bedim.us-east-1           1349  [story]   \n",
       "2  an-prod-ralphie-frontline-bedim.us-east-1            767  [story]   \n",
       "3  an-prod-ralphie-frontline-goofs.us-east-1            727  [story]   \n",
       "4  an-prod-ralphie-frontline-soths.us-east-1           1349  [story]   \n",
       "\n",
       "   adlog_count  advertiser_id bid_requests bid_responses  c_cnt  c_flag_cnt  \\\n",
       "0            1           3587           []            []    0.0         0.0   \n",
       "1            1           3587           []            []    0.0         0.0   \n",
       "2            1           4735           []            []    0.0         0.0   \n",
       "3            1           4909           []            []    NaN         NaN   \n",
       "4            1           3587           []            []    0.0         0.0   \n",
       "\n",
       "  c_timestamp   ...     ua_os_name  \\\n",
       "0         NaN   ...            iOS   \n",
       "1         NaN   ...            iOS   \n",
       "2         NaN   ...            iOS   \n",
       "3         NaN   ...        Android   \n",
       "4         NaN   ...        Android   \n",
       "\n",
       "                                                 url  \\\n",
       "0   http://media.breitbart.com/media/if/newsmax.html   \n",
       "1   http://media.breitbart.com/media/if/newsmax.html   \n",
       "2  http://thehill.com/policy/national-security/38...   \n",
       "3                               http://getpocket.com   \n",
       "4   http://media.breitbart.com/media/if/newsmax.html   \n",
       "\n",
       "                                          user_agent  \\\n",
       "0  Mozilla/5.0 (iPad; CPU OS 10_3_3 like Mac OS X...   \n",
       "1  Mozilla/5.0 (iPad; CPU OS 11_2_6 like Mac OS X...   \n",
       "2  Mozilla/5.0 (iPad; CPU OS 11_2_6 like Mac OS X...   \n",
       "3                                                NaN   \n",
       "4  Mozilla/5.0 (Linux; Android 7.0; SAMSUNG SM-T8...   \n",
       "\n",
       "                                                uuid vi_cnt  vi_flag_cnt  \\\n",
       "0               60039c05-5285-49ca-b4eb-a435e9d8352b    0.0          0.0   \n",
       "1               504e4902-4a71-4155-9de8-32e4afc00013    0.0          0.0   \n",
       "2               c182f217-aff0-4f43-b74c-8c19344efbbf    1.0          0.0   \n",
       "3  429TaA7bgeWM3pk04ed1783dc1p4g4e349bc6flc28o91b...    NaN          NaN   \n",
       "4               1a95be28-1ffe-4e21-8c1f-3e3838c61526    0.0          0.0   \n",
       "\n",
       "                  vi_timestamp  vv_cnt  widget_id  zone_id  \n",
       "0                          NaN     0.0        NaN    26024  \n",
       "1                          NaN     0.0        NaN    26024  \n",
       "2  2018-04-01T00:39:06.102000Z     0.0        NaN    18310  \n",
       "3                          NaN     NaN        NaN    14414  \n",
       "4                          NaN     0.0        NaN    26024  \n",
       "\n",
       "[5 rows x 75 columns]"
      ]
     },
     "execution_count": 159,
     "metadata": {},
     "output_type": "execute_result"
    }
   ],
   "source": [
    "table.head()"
   ]
  },
  {
   "cell_type": "code",
   "execution_count": 5,
   "metadata": {},
   "outputs": [
    {
     "name": "stderr",
     "output_type": "stream",
     "text": [
      "//anaconda/lib/python3.5/site-packages/ipykernel/__main__.py:3: SettingWithCopyWarning: \n",
      "A value is trying to be set on a copy of a slice from a DataFrame\n",
      "\n",
      "See the caveats in the documentation: http://pandas.pydata.org/pandas-docs/stable/indexing.html#indexing-view-versus-copy\n",
      "  app.launch_new_instance()\n"
     ]
    },
    {
     "data": {
      "text/plain": [
       "(1703754, 75)"
      ]
     },
     "execution_count": 5,
     "metadata": {},
     "output_type": "execute_result"
    }
   ],
   "source": [
    "# Remove rows with null c_cnt, i_timestamp and ua_device type values\n",
    "filtered = table[(~np.isnan(table[\"c_cnt\"]))]\n",
    "filtered.dropna(subset=[\"i_timestamp\", \"ua_device_type\"], inplace=True)\n",
    "filtered.shape"
   ]
  },
  {
   "cell_type": "code",
   "execution_count": 210,
   "metadata": {},
   "outputs": [
    {
     "data": {
      "text/plain": [
       "Index(['_host', 'ad_network_id', 'ad_type', 'adlog_count', 'advertiser_id',\n",
       "       'bid_requests', 'bid_responses', 'c_cnt', 'c_flag_cnt', 'c_timestamp',\n",
       "       'c_txn_fee', 'c_txn_rate', 'campaign_id', 'campaign_type', 'ck',\n",
       "       'cr_cnt', 'creative_id', 'exp_mode', 'f_cnt', 'f_nfr', 'f_timestamp',\n",
       "       'flag', 'geo_area_code', 'geo_city_code', 'geo_city_name',\n",
       "       'geo_continent_code', 'geo_country_code2', 'geo_country_code3',\n",
       "       'geo_dma_code', 'geo_postal_code', 'geo_region_name', 'geo_timezone',\n",
       "       'i_cnt', 'i_flag_cnt', 'i_timestamp', 'i_txn_fee', 'i_txn_rate',\n",
       "       'ip_address', 'is_bot', 'is_fraud', 'keywords', 'num_ads', 'preview',\n",
       "       'pub_campaign_id', 'pub_network_id', 'r_cnt', 'r_num_ads_requested',\n",
       "       'r_num_ads_returned', 'r_num_ads_third_party', 'r_timestamp',\n",
       "       'rate_metric', 'referer', 'session_id', 'site_id', 'tag_value', 'token',\n",
       "       'txn_fee', 'txn_rate', 'ua', 'ua_device', 'ua_device_type', 'ua_major',\n",
       "       'ua_minor', 'ua_name', 'ua_os', 'ua_os_name', 'url', 'user_agent',\n",
       "       'uuid', 'vi_cnt', 'vi_flag_cnt', 'vi_timestamp', 'vv_cnt', 'widget_id',\n",
       "       'zone_id'],\n",
       "      dtype='object')"
      ]
     },
     "execution_count": 210,
     "metadata": {},
     "output_type": "execute_result"
    }
   ],
   "source": [
    "filtered.columns"
   ]
  },
  {
   "cell_type": "markdown",
   "metadata": {},
   "source": [
    "### Browser"
   ]
  },
  {
   "cell_type": "code",
   "execution_count": 333,
   "metadata": {},
   "outputs": [
    {
     "name": "stderr",
     "output_type": "stream",
     "text": [
      "//anaconda/lib/python3.5/site-packages/seaborn/categorical.py:1428: FutureWarning: remove_na is deprecated and is a private function. Do not use.\n",
      "  stat_data = remove_na(group_data)\n"
     ]
    },
    {
     "data": {
      "image/png": "[encoded data removed]",
      "text/plain": [
       "<matplotlib.figure.Figure at 0x1e1da2bba8>"
      ]
     },
     "metadata": {},
     "output_type": "display_data"
    }
   ],
   "source": [
    "top_10_browsers = filtered[\"ua_name\"].value_counts()[:10]\n",
    "fig, ax = plt.subplots()\n",
    "fig.set_size_inches(17, 6)\n",
    "ax.set(xlabel='Website', ylabel='Count', title='Top 10 Browsers')\n",
    "sns.barplot(ax=ax, x=top_10_browsers.index.values, y=top_10_browsers.values)\n",
    "plt.show()"
   ]
  },
  {
   "cell_type": "code",
   "execution_count": 350,
   "metadata": {
    "collapsed": true
   },
   "outputs": [],
   "source": [
    "top_10_browsers_table = filtered[filtered[\"ua_name\"].isin(top_10_browsers.index)]"
   ]
  },
  {
   "cell_type": "code",
   "execution_count": 357,
   "metadata": {},
   "outputs": [
    {
     "name": "stderr",
     "output_type": "stream",
     "text": [
      "//anaconda/lib/python3.5/site-packages/seaborn/categorical.py:1428: FutureWarning: remove_na is deprecated and is a private function. Do not use.\n",
      "  stat_data = remove_na(group_data)\n"
     ]
    },
    {
     "data": {
      "image/png": "[encoded data removed]",
      "text/plain": [
       "<matplotlib.figure.Figure at 0x1e1c07d978>"
      ]
     },
     "metadata": {},
     "output_type": "display_data"
    }
   ],
   "source": [
    "browser_ctr_rate = (top_10_browsers_table[[\"ua_name\", \"c_cnt\"]].groupby(\"ua_name\").sum() / \n",
    "                   top_10_browsers_table[[\"ua_name\", \"c_cnt\"]].groupby(\"ua_name\").count())\n",
    "browser_ctr_rate.sort_values(by=\"c_cnt\", inplace=True, ascending=False)\n",
    "\n",
    "fig, ax = plt.subplots()\n",
    "fig.set_size_inches(17, 6)\n",
    "sns.barplot(x=browser_ctr_rate.index.values, y=browser_ctr_rate.c_cnt.values)\n",
    "ax.set(xlabel='Widget Type', ylabel='CTR Rate', title='CTR Rate of Top 10 Browsers')\n",
    "plt.show()"
   ]
  },
  {
   "cell_type": "code",
   "execution_count": 362,
   "metadata": {},
   "outputs": [
    {
     "name": "stderr",
     "output_type": "stream",
     "text": [
      "//anaconda/lib/python3.5/site-packages/seaborn/categorical.py:1428: FutureWarning: remove_na is deprecated and is a private function. Do not use.\n",
      "  stat_data = remove_na(group_data)\n"
     ]
    },
    {
     "data": {
      "image/png": "[encoded data removed]",
      "text/plain": [
       "<matplotlib.figure.Figure at 0x1e20dc72e8>"
      ]
     },
     "metadata": {},
     "output_type": "display_data"
    }
   ],
   "source": [
    "click_count_browsers = top_10_browsers_table[[\"ua_name\", \"c_cnt\"]].groupby(\"ua_name\").sum()\n",
    "click_count_browsers.sort_values(by=\"c_cnt\", inplace=True, ascending=False)\n",
    "fig, ax = plt.subplots()\n",
    "fig.set_size_inches(17, 6)\n",
    "sns.barplot(x=click_count_browsers.index.values, y=click_count_browsers.c_cnt.values)\n",
    "ax.set(xlabel='Widget Type', ylabel='Click Count', title='Click Count of Top 10 Browsers')\n",
    "plt.show()"
   ]
  },
  {
   "cell_type": "markdown",
   "metadata": {},
   "source": [
    "### Domain"
   ]
  },
  {
   "cell_type": "code",
   "execution_count": 259,
   "metadata": {
    "scrolled": true
   },
   "outputs": [
    {
     "name": "stderr",
     "output_type": "stream",
     "text": [
      "//anaconda/lib/python3.5/site-packages/ipykernel/__main__.py:2: FutureWarning: currently extract(expand=None) means expand=False (return Index/Series/DataFrame) but in a future version of pandas this will be changed to expand=True (return DataFrame)\n",
      "  from ipykernel import kernelapp as app\n"
     ]
    }
   ],
   "source": [
    "# Extract domains from urls\n",
    "url_domains = filtered[\"url\"].str.extract('^(?:https?:\\/\\/)?(?:[^@\\/\\n]+@)?(?:www\\.)?([^:\\/\\n]+)')\n",
    "filtered[\"domain\"] = url_domains"
   ]
  },
  {
   "cell_type": "code",
   "execution_count": 286,
   "metadata": {},
   "outputs": [
    {
     "name": "stderr",
     "output_type": "stream",
     "text": [
      "//anaconda/lib/python3.5/site-packages/seaborn/categorical.py:1428: FutureWarning: remove_na is deprecated and is a private function. Do not use.\n",
      "  stat_data = remove_na(group_data)\n"
     ]
    },
    {
     "data": {
      "image/png": "[encoded data removed]",
      "text/plain": [
       "<matplotlib.figure.Figure at 0x1dcb8a5898>"
      ]
     },
     "metadata": {},
     "output_type": "display_data"
    }
   ],
   "source": [
    "top_10_domains = url_domains.value_counts()[:10]\n",
    "\n",
    "fig, ax = plt.subplots()\n",
    "fig.set_size_inches(17.5, 6)\n",
    "ax.set(xlabel='Website', ylabel='Count', title='Top 10 Websites')\n",
    "sns.barplot(ax=ax, x=top_10_domains.index.values, y=top_10_domains.values)\n",
    "plt.show()"
   ]
  },
  {
   "cell_type": "markdown",
   "metadata": {},
   "source": [
    "### Widget"
   ]
  },
  {
   "cell_type": "code",
   "execution_count": 274,
   "metadata": {},
   "outputs": [
    {
     "name": "stderr",
     "output_type": "stream",
     "text": [
      "//anaconda/lib/python3.5/site-packages/ipykernel/__main__.py:1: FutureWarning: currently extract(expand=None) means expand=False (return Index/Series/DataFrame) but in a future version of pandas this will be changed to expand=True (return DataFrame)\n",
      "  if __name__ == '__main__':\n"
     ]
    },
    {
     "data": {
      "text/plain": [
       "text_feed           1165837\n",
       "image                114051\n",
       "content_feed             13\n",
       "article_instream          6\n",
       "                          5\n",
       "video                     1\n",
       "Name: ck, dtype: int64"
      ]
     },
     "execution_count": 274,
     "metadata": {},
     "output_type": "execute_result"
    }
   ],
   "source": [
    "widget_type = filtered[\"ck\"].str.extract('\\[\"(.*?)\\\"]')\n",
    "filtered[\"widget_type\"] = widget_type\n",
    "widget_type.value_counts()"
   ]
  },
  {
   "cell_type": "code",
   "execution_count": 285,
   "metadata": {},
   "outputs": [
    {
     "name": "stderr",
     "output_type": "stream",
     "text": [
      "//anaconda/lib/python3.5/site-packages/seaborn/categorical.py:1428: FutureWarning: remove_na is deprecated and is a private function. Do not use.\n",
      "  stat_data = remove_na(group_data)\n"
     ]
    },
    {
     "data": {
      "image/png": "[encoded data removed]",
      "text/plain": [
       "<matplotlib.figure.Figure at 0x1ce8f32710>"
      ]
     },
     "metadata": {},
     "output_type": "display_data"
    }
   ],
   "source": [
    "# CTR rate for each widget type\n",
    "widget_ctr_rate = (filtered[[\"widget_type\", \"c_cnt\"]].groupby(\"widget_type\").sum() / \n",
    "                   filtered[[\"widget_type\", \"c_cnt\"]].groupby(\"widget_type\").count())\n",
    "image_textfeed = widget_ctr_rate.loc[[\"image\", \"text_feed\"]]\n",
    "ax = sns.barplot(x=image_textfeed.index.values, y=image_textfeed.c_cnt.values)\n",
    "ax.set(xlabel='Widget Type', ylabel='CTR Rate', title='Widget Type vs CTR Rate')\n",
    "plt.show()"
   ]
  },
  {
   "cell_type": "code",
   "execution_count": 18,
   "metadata": {},
   "outputs": [
    {
     "data": {
      "text/plain": [
       "(1167, 1458)"
      ]
     },
     "execution_count": 18,
     "metadata": {},
     "output_type": "execute_result"
    }
   ],
   "source": [
    "# Number of clicks and non-click to click ratio in data\n",
    "CLICKED_CNT = filtered.c_cnt.value_counts()[1]\n",
    "NONCLICK_RATIO = int(filtered.c_cnt.value_counts()[0] / filtered.c_cnt.value_counts()[1])\n",
    "CLICKED_CNT, NONCLICK_RATIO"
   ]
  },
  {
   "cell_type": "code",
   "execution_count": 6,
   "metadata": {
    "collapsed": true
   },
   "outputs": [],
   "source": [
    "# Find average ctr rate of each advertiser\n",
    "def score_advertisers(table, score_func):\n",
    "    click_counts = table[[\"advertiser_id\", \"c_cnt\"]]\n",
    "    clean_ccnt = click_counts.dropna()\n",
    "    grouped = clean_ccnt.groupby(\"advertiser_id\")\n",
    "    score_means = lambda x: score_func(np.mean(x))\n",
    "    agg_scored = grouped.agg({'c_cnt': score_means})\n",
    "    return agg_scored\n",
    "\n",
    "click_rates = score_advertisers(filtered, lambda x: x).reset_index()"
   ]
  },
  {
   "cell_type": "code",
   "execution_count": 7,
   "metadata": {},
   "outputs": [
    {
     "data": {
      "text/html": [
       "<div>\n",
       "<style scoped>\n",
       "    .dataframe tbody tr th:only-of-type {\n",
       "        vertical-align: middle;\n",
       "    }\n",
       "\n",
       "    .dataframe tbody tr th {\n",
       "        vertical-align: top;\n",
       "    }\n",
       "\n",
       "    .dataframe thead th {\n",
       "        text-align: right;\n",
       "    }\n",
       "</style>\n",
       "<table border=\"1\" class=\"dataframe\">\n",
       "  <thead>\n",
       "    <tr style=\"text-align: right;\">\n",
       "      <th></th>\n",
       "      <th>_host</th>\n",
       "      <th>ad_network_id</th>\n",
       "      <th>ad_type</th>\n",
       "      <th>adlog_count</th>\n",
       "      <th>advertiser_id</th>\n",
       "      <th>bid_requests</th>\n",
       "      <th>bid_responses</th>\n",
       "      <th>c_cnt</th>\n",
       "      <th>c_flag_cnt</th>\n",
       "      <th>c_timestamp</th>\n",
       "      <th>...</th>\n",
       "      <th>url</th>\n",
       "      <th>user_agent</th>\n",
       "      <th>uuid</th>\n",
       "      <th>vi_cnt</th>\n",
       "      <th>vi_flag_cnt</th>\n",
       "      <th>vi_timestamp</th>\n",
       "      <th>vv_cnt</th>\n",
       "      <th>widget_id</th>\n",
       "      <th>zone_id</th>\n",
       "      <th>ctr_rate</th>\n",
       "    </tr>\n",
       "  </thead>\n",
       "  <tbody>\n",
       "    <tr>\n",
       "      <th>0</th>\n",
       "      <td>an-prod-ralphie-frontline-bulks.us-east-1</td>\n",
       "      <td>1349</td>\n",
       "      <td>[story]</td>\n",
       "      <td>1</td>\n",
       "      <td>3587</td>\n",
       "      <td>[]</td>\n",
       "      <td>[]</td>\n",
       "      <td>0.0</td>\n",
       "      <td>0.0</td>\n",
       "      <td>NaN</td>\n",
       "      <td>...</td>\n",
       "      <td>http://media.breitbart.com/media/if/newsmax.html</td>\n",
       "      <td>Mozilla/5.0 (iPad; CPU OS 10_3_3 like Mac OS X...</td>\n",
       "      <td>60039c05-5285-49ca-b4eb-a435e9d8352b</td>\n",
       "      <td>0.0</td>\n",
       "      <td>0.0</td>\n",
       "      <td>NaN</td>\n",
       "      <td>0.0</td>\n",
       "      <td>NaN</td>\n",
       "      <td>26024</td>\n",
       "      <td>0.00109</td>\n",
       "    </tr>\n",
       "    <tr>\n",
       "      <th>1</th>\n",
       "      <td>an-prod-ralphie-frontline-bedim.us-east-1</td>\n",
       "      <td>1349</td>\n",
       "      <td>[story]</td>\n",
       "      <td>1</td>\n",
       "      <td>3587</td>\n",
       "      <td>[]</td>\n",
       "      <td>[]</td>\n",
       "      <td>0.0</td>\n",
       "      <td>0.0</td>\n",
       "      <td>NaN</td>\n",
       "      <td>...</td>\n",
       "      <td>http://media.breitbart.com/media/if/newsmax.html</td>\n",
       "      <td>Mozilla/5.0 (iPad; CPU OS 11_2_6 like Mac OS X...</td>\n",
       "      <td>504e4902-4a71-4155-9de8-32e4afc00013</td>\n",
       "      <td>0.0</td>\n",
       "      <td>0.0</td>\n",
       "      <td>NaN</td>\n",
       "      <td>0.0</td>\n",
       "      <td>NaN</td>\n",
       "      <td>26024</td>\n",
       "      <td>0.00109</td>\n",
       "    </tr>\n",
       "    <tr>\n",
       "      <th>2</th>\n",
       "      <td>an-prod-ralphie-frontline-soths.us-east-1</td>\n",
       "      <td>1349</td>\n",
       "      <td>[story]</td>\n",
       "      <td>1</td>\n",
       "      <td>3587</td>\n",
       "      <td>[]</td>\n",
       "      <td>[]</td>\n",
       "      <td>0.0</td>\n",
       "      <td>0.0</td>\n",
       "      <td>NaN</td>\n",
       "      <td>...</td>\n",
       "      <td>http://media.breitbart.com/media/if/newsmax.html</td>\n",
       "      <td>Mozilla/5.0 (Linux; Android 7.0; SAMSUNG SM-T8...</td>\n",
       "      <td>1a95be28-1ffe-4e21-8c1f-3e3838c61526</td>\n",
       "      <td>0.0</td>\n",
       "      <td>0.0</td>\n",
       "      <td>NaN</td>\n",
       "      <td>0.0</td>\n",
       "      <td>NaN</td>\n",
       "      <td>26024</td>\n",
       "      <td>0.00109</td>\n",
       "    </tr>\n",
       "    <tr>\n",
       "      <th>3</th>\n",
       "      <td>an-prod-ralphie-frontline-soths.us-east-1</td>\n",
       "      <td>1349</td>\n",
       "      <td>[story]</td>\n",
       "      <td>1</td>\n",
       "      <td>3587</td>\n",
       "      <td>[]</td>\n",
       "      <td>[]</td>\n",
       "      <td>0.0</td>\n",
       "      <td>0.0</td>\n",
       "      <td>NaN</td>\n",
       "      <td>...</td>\n",
       "      <td>http://media.breitbart.com/media/if/newsmax.html</td>\n",
       "      <td>Mozilla/5.0 (iPad; CPU OS 10_3_3 like Mac OS X...</td>\n",
       "      <td>04ae8926-eb59-433a-b515-97d7095adb0a</td>\n",
       "      <td>0.0</td>\n",
       "      <td>0.0</td>\n",
       "      <td>NaN</td>\n",
       "      <td>0.0</td>\n",
       "      <td>NaN</td>\n",
       "      <td>26024</td>\n",
       "      <td>0.00109</td>\n",
       "    </tr>\n",
       "    <tr>\n",
       "      <th>4</th>\n",
       "      <td>an-prod-ralphie-frontline-lamed.us-east-1</td>\n",
       "      <td>1349</td>\n",
       "      <td>[story]</td>\n",
       "      <td>1</td>\n",
       "      <td>3587</td>\n",
       "      <td>[]</td>\n",
       "      <td>[]</td>\n",
       "      <td>0.0</td>\n",
       "      <td>0.0</td>\n",
       "      <td>NaN</td>\n",
       "      <td>...</td>\n",
       "      <td>http://media.breitbart.com/media/if/newsmax.html</td>\n",
       "      <td>Mozilla/5.0 (iPad; CPU OS 11_2_6 like Mac OS X...</td>\n",
       "      <td>1cd0710d-3584-4453-b9ed-458b4e2a6018</td>\n",
       "      <td>0.0</td>\n",
       "      <td>0.0</td>\n",
       "      <td>NaN</td>\n",
       "      <td>0.0</td>\n",
       "      <td>NaN</td>\n",
       "      <td>26024</td>\n",
       "      <td>0.00109</td>\n",
       "    </tr>\n",
       "  </tbody>\n",
       "</table>\n",
       "<p>5 rows × 76 columns</p>\n",
       "</div>"
      ],
      "text/plain": [
       "                                       _host  ad_network_id  ad_type  \\\n",
       "0  an-prod-ralphie-frontline-bulks.us-east-1           1349  [story]   \n",
       "1  an-prod-ralphie-frontline-bedim.us-east-1           1349  [story]   \n",
       "2  an-prod-ralphie-frontline-soths.us-east-1           1349  [story]   \n",
       "3  an-prod-ralphie-frontline-soths.us-east-1           1349  [story]   \n",
       "4  an-prod-ralphie-frontline-lamed.us-east-1           1349  [story]   \n",
       "\n",
       "   adlog_count  advertiser_id bid_requests bid_responses  c_cnt  c_flag_cnt  \\\n",
       "0            1           3587           []            []    0.0         0.0   \n",
       "1            1           3587           []            []    0.0         0.0   \n",
       "2            1           3587           []            []    0.0         0.0   \n",
       "3            1           3587           []            []    0.0         0.0   \n",
       "4            1           3587           []            []    0.0         0.0   \n",
       "\n",
       "  c_timestamp    ...                                                  url  \\\n",
       "0         NaN    ...     http://media.breitbart.com/media/if/newsmax.html   \n",
       "1         NaN    ...     http://media.breitbart.com/media/if/newsmax.html   \n",
       "2         NaN    ...     http://media.breitbart.com/media/if/newsmax.html   \n",
       "3         NaN    ...     http://media.breitbart.com/media/if/newsmax.html   \n",
       "4         NaN    ...     http://media.breitbart.com/media/if/newsmax.html   \n",
       "\n",
       "                                          user_agent  \\\n",
       "0  Mozilla/5.0 (iPad; CPU OS 10_3_3 like Mac OS X...   \n",
       "1  Mozilla/5.0 (iPad; CPU OS 11_2_6 like Mac OS X...   \n",
       "2  Mozilla/5.0 (Linux; Android 7.0; SAMSUNG SM-T8...   \n",
       "3  Mozilla/5.0 (iPad; CPU OS 10_3_3 like Mac OS X...   \n",
       "4  Mozilla/5.0 (iPad; CPU OS 11_2_6 like Mac OS X...   \n",
       "\n",
       "                                   uuid vi_cnt vi_flag_cnt  vi_timestamp  \\\n",
       "0  60039c05-5285-49ca-b4eb-a435e9d8352b    0.0         0.0           NaN   \n",
       "1  504e4902-4a71-4155-9de8-32e4afc00013    0.0         0.0           NaN   \n",
       "2  1a95be28-1ffe-4e21-8c1f-3e3838c61526    0.0         0.0           NaN   \n",
       "3  04ae8926-eb59-433a-b515-97d7095adb0a    0.0         0.0           NaN   \n",
       "4  1cd0710d-3584-4453-b9ed-458b4e2a6018    0.0         0.0           NaN   \n",
       "\n",
       "   vv_cnt  widget_id  zone_id  ctr_rate  \n",
       "0     0.0        NaN    26024   0.00109  \n",
       "1     0.0        NaN    26024   0.00109  \n",
       "2     0.0        NaN    26024   0.00109  \n",
       "3     0.0        NaN    26024   0.00109  \n",
       "4     0.0        NaN    26024   0.00109  \n",
       "\n",
       "[5 rows x 76 columns]"
      ]
     },
     "execution_count": 7,
     "metadata": {},
     "output_type": "execute_result"
    }
   ],
   "source": [
    "# Add ctr rate column to the table\n",
    "click_rates.rename(columns={\"c_cnt\": \"ctr_rate\"}, inplace=True)\n",
    "filtered = pd.merge(filtered, click_rates, on=\"advertiser_id\")\n",
    "filtered.head()"
   ]
  },
  {
   "cell_type": "code",
   "execution_count": 137,
   "metadata": {},
   "outputs": [
    {
     "data": {
      "text/plain": [
       "MOB    748561\n",
       "PC     653074\n",
       "TAB    297477\n",
       "BOT      4642\n",
       "Name: ua_device_type, dtype: int64"
      ]
     },
     "execution_count": 137,
     "metadata": {},
     "output_type": "execute_result"
    }
   ],
   "source": [
    "filtered[\"ua_device_type\"].value_counts()"
   ]
  },
  {
   "cell_type": "code",
   "execution_count": 23,
   "metadata": {},
   "outputs": [
    {
     "data": {
      "text/plain": [
       "private    1223053\n",
       "outside     480701\n",
       "Name: campaign_type, dtype: int64"
      ]
     },
     "execution_count": 23,
     "metadata": {},
     "output_type": "execute_result"
    }
   ],
   "source": [
    "filtered['campaign_type'].value_counts()"
   ]
  },
  {
   "cell_type": "markdown",
   "metadata": {},
   "source": [
    "## Feature Engineering and Model Creation (For Boosting)"
   ]
  },
  {
   "cell_type": "code",
   "execution_count": 8,
   "metadata": {
    "collapsed": true
   },
   "outputs": [],
   "source": [
    "from sklearn.utils import shuffle\n",
    "from sklearn import preprocessing\n",
    "from sklearn import ensemble\n",
    "from sklearn.model_selection import train_test_split\n",
    "from sklearn.model_selection import cross_val_score\n",
    "from sklearn.model_selection import GridSearchCV\n",
    "from sklearn.linear_model import LogisticRegression\n",
    "from sklearn.metrics import confusion_matrix\n",
    "from sklearn.metrics import f1_score\n",
    "from sklearn.feature_extraction import FeatureHasher"
   ]
  },
  {
   "cell_type": "code",
   "execution_count": 9,
   "metadata": {
    "collapsed": true
   },
   "outputs": [],
   "source": [
    "# Shuffle data\n",
    "filtered = shuffle(filtered)"
   ]
  },
  {
   "cell_type": "code",
   "execution_count": 138,
   "metadata": {
    "collapsed": true
   },
   "outputs": [],
   "source": [
    "combined = shuffle(combined)"
   ]
  },
  {
   "cell_type": "code",
   "execution_count": 10,
   "metadata": {
    "collapsed": true
   },
   "outputs": [],
   "source": [
    "# Fit one hot encoder to device type and continent code features\n",
    "le_device = preprocessing.LabelBinarizer()\n",
    "transformed_device = le_device.fit(filtered[\"ua_device_type\"])\n",
    "\n",
    "le_cont = preprocessing.LabelBinarizer()\n",
    "transformed_continent = le_cont.fit(filtered[\"geo_continent_code\"])"
   ]
  },
  {
   "cell_type": "code",
   "execution_count": 239,
   "metadata": {
    "collapsed": true
   },
   "outputs": [],
   "source": [
    "def generate_sample(n, df):\n",
    "    \"\"\"Return X matrix with n no click samples and CLICKED_CNT click samples (undersampling)\"\"\"\n",
    "    clicked = df[df[\"c_cnt\"] == 1]\n",
    "    no_click = df[df[\"c_cnt\"] == 0].sample(n)\n",
    "    return shuffle(pd.concat([clicked, no_click]))\n",
    "\n",
    "def generate_ratio(n, ratio, df):\n",
    "    \"\"\"\n",
    "    Returns random subset(training data) of df matrix with n/2 click samples and (n/2 * ratio) nonclicks,\n",
    "    along with another random subset that contains data not included in training data(test data)\n",
    "    \n",
    "    \"\"\"\n",
    "    clicked = df[df[\"c_cnt\"] == 1].reset_index(drop=True)\n",
    "    no_click = df[df[\"c_cnt\"] == 0].reset_index(drop=True)\n",
    "    \n",
    "    click_idx = np.random.randint(n, size=int(n/2))\n",
    "    no_click_idx = np.random.randint(no_click.shape[0], size=int(n/2 * ratio))\n",
    "    \n",
    "    #click_filtered and no_click_filtered only keep rows that aren't part of training set\n",
    "    click_filtered, no_click_filtered = clicked.drop(click_idx), no_click.drop(no_click_idx)\n",
    "    no_click_filtered_idx = np.random.randint(no_click_filtered.shape[0], size=int(click_filtered.shape[0] * 15))\n",
    "    \n",
    "    train = shuffle(pd.concat([clicked.iloc[click_idx, :], no_click.iloc[no_click_idx, :]]))\n",
    "    test = shuffle(pd.concat([click_filtered, no_click_filtered.iloc[no_click_filtered_idx, :]]))\n",
    "    return train, test"
   ]
  },
  {
   "cell_type": "markdown",
   "metadata": {},
   "source": [
    "Let's create our features:"
   ]
  },
  {
   "cell_type": "code",
   "execution_count": 204,
   "metadata": {
    "collapsed": true
   },
   "outputs": [],
   "source": [
    "def transform_hour(x):\n",
    "    \"\"\"Assigns hour to a bin\"\"\"\n",
    "    if x >= 5 and x < 8: return 1 #early morning \n",
    "    elif x >= 8 and x < 11: return 2 #morning \n",
    "    elif x >= 11 and x < 14: return 3 #midday\n",
    "    elif x >= 14 and x < 19: return 4 #afternoon\n",
    "    elif x >= 19 and x < 22: return 5 #evening\n",
    "    else: return 6 #night\n",
    "    \n",
    "def create_numerical_features(sample):\n",
    "    \"\"\"Returns a dataframe with the necessary numberical features from dataframe sample\"\"\"\n",
    "    df = pd.DataFrame()\n",
    "    df[\"i_cnt\"] = sample[\"i_cnt\"].tolist()\n",
    "    df[\"r_cnt\"] = sample[\"r_cnt\"].tolist()\n",
    "    df[\"campaign_type\"] = sample[\"campaign_type\"].apply(lambda x: 1 if x == \"private\" else 0).tolist()\n",
    "    df[\"ctr_rate\"] = sample[\"ctr_rate\"].tolist()\n",
    "    df[\"num_ads_requested\"] = sample[\"r_num_ads_requested\"].tolist()\n",
    "    # Create hour feature\n",
    "#     hours = sample[\"i_timestamp\"].str[11:13] # get hour of timestamp column\n",
    "    # X_data[\"hour\"] = np.sin(hours.astype(int)).tolist() #sine transform hour because it's cyclical\n",
    "#     df[\"hour\"] = hours.astype(int).apply(transform_hour).tolist()\n",
    "    df[\"hour\"] = sample[\"i_timestamp\"].astype(int).tolist()\n",
    "    return df\n",
    "\n",
    "def create_features(sample):\n",
    "    \"\"\"\"Creates necessary features, returns X and y matrix\"\"\"\n",
    "    X = create_numerical_features(sample)\n",
    "    y = sample[\"c_cnt\"]\n",
    "    \n",
    "    # Hash sparse features, allows for less sparse representation than one hot encoding\n",
    "    # More info can be found on https://en.wikipedia.org/wiki/Feature_hashing\n",
    "    h = FeatureHasher(n_features=30, input_type='string')\n",
    "    features = [] #store all features \n",
    "    features.append(X)\n",
    "    for feature in [\"advertiser_id\", \"ad_network_id\", \"geo_country_code2\", \n",
    "                    \"ua_os_name\", \"site_id\", \"ua_name\", \"campaign_id\", \"domain\"]:\n",
    "        hashed = h.transform(sample[feature].astype(str)).toarray()\n",
    "        features.append(pd.DataFrame(hashed))\n",
    "    \n",
    "    encoded_device = transformed_device.transform(sample[\"ua_device_type\"])\n",
    "#     encoded_continent = transformed_continent.transform(sample[\"geo_continent_code\"])\n",
    "    features.append(pd.DataFrame(encoded_device))\n",
    "#     features.append(pd.DataFrame(encoded_continent))\n",
    "    return pd.concat(features, axis=1), y #combine all features"
   ]
  },
  {
   "cell_type": "code",
   "execution_count": 39,
   "metadata": {
    "collapsed": true
   },
   "outputs": [],
   "source": [
    "def find_best_ratio(classifier):\n",
    "    \"\"\"Perform cross validation to determine best ratio non-click to click ratio for training data\"\"\"\n",
    "    best_ratio = 1\n",
    "    best_f1 = 0\n",
    "    for ratio in [5, 10, 15]:\n",
    "        train_sample, test_sample = generate_ratio(CLICKED_CNT, ratio, df=combined)\n",
    "        X_train, y_train = create_features(train_sample)\n",
    "        X_test, y_test = create_features(test_sample)\n",
    "        classifier.fit(X_train, y_train)\n",
    "        y_pred = classifier.predict(X_test)\n",
    "        # Use f1 score as the metric, accuracy isn't good metric because of class imbalance\n",
    "        f1 = f1_score(y_test, y_pred)\n",
    "        if f1 > best_f1:\n",
    "            best_f1, best_ratio = f1, ratio\n",
    "    return best_f1, best_ratio"
   ]
  },
  {
   "cell_type": "markdown",
   "metadata": {},
   "source": [
    "Getting a low F1 score :("
   ]
  },
  {
   "cell_type": "code",
   "execution_count": 40,
   "metadata": {},
   "outputs": [
    {
     "name": "stdout",
     "output_type": "stream",
     "text": [
      "Best F1 Score: 0.0194267515924\n",
      "Best non-click to click ratio: 15\n"
     ]
    }
   ],
   "source": [
    "xgboost = ensemble.GradientBoostingClassifier() #xgboost was found to perform better than bagging and adaboost\n",
    "best_f1, best_ratio = find_best_ratio(classifier=xgboost) #takes a very long time to run\n",
    "print(\"Best F1 Score:\", best_f1)\n",
    "print(\"Best non-click to click ratio:\", best_ratio)"
   ]
  },
  {
   "cell_type": "markdown",
   "metadata": {
    "collapsed": true
   },
   "source": [
    "# FFM (inspired by https://www.csie.ntu.edu.tw/~cjlin/papers/ffm.pdf)"
   ]
  },
  {
   "cell_type": "code",
   "execution_count": 11,
   "metadata": {
    "collapsed": true
   },
   "outputs": [],
   "source": [
    "import xlearn as xl\n",
    "xl.hello() #xl only prints in terminal"
   ]
  },
  {
   "cell_type": "code",
   "execution_count": 249,
   "metadata": {},
   "outputs": [],
   "source": [
    "def generate_ratio_ffm(n, split, ratio, df):\n",
    "    \"\"\"\n",
    "    Returns random subset(training data) of df matrix with (split) * n click samples and (split n * ratio) nonclicks,\n",
    "    along with another random subset that contains test_click click samples and test_click * NONCLICK_RATIO \n",
    "    nonclicks (test data)\n",
    "    \"\"\"\n",
    "    clicked = df[df[\"c_cnt\"] == 1].reset_index(drop=True)\n",
    "    no_click = df[df[\"c_cnt\"] == 0].reset_index(drop=True)\n",
    "    \n",
    "    click_idx = np.random.randint(n, size=int(split * n))\n",
    "    no_click_idx = np.random.randint(no_click.shape[0], size=int(split * n * ratio))\n",
    "    \n",
    "    #click_filtered and no_click_filtered only keep rows that aren't part of training set\n",
    "    click_filtered, no_click_filtered = clicked.drop(click_idx), no_click.drop(no_click_idx)\n",
    "    half = int(click_filtered.shape[0] / 2)\n",
    "    no_click_filtered_val_idx = np.random.randint(no_click_filtered.shape[0], size=int(half * 15))\n",
    "    no_click_filtered_test_idx = np.random.randint(no_click_filtered.shape[0], size=int(half * 15))\n",
    "    \n",
    "    train = shuffle(pd.concat([clicked.iloc[click_idx, :], no_click.iloc[no_click_idx, :]]))\n",
    "    validate = shuffle(pd.concat([click_filtered[:half], no_click_filtered.iloc[no_click_filtered_val_idx, :]]))\n",
    "    test = shuffle(pd.concat([click_filtered[half:], no_click_filtered.iloc[no_click_filtered_test_idx, :]]))\n",
    "    return train, validate, test"
   ]
  },
  {
   "cell_type": "markdown",
   "metadata": {},
   "source": [
    "We need to make a new dataframe with categorical features one-hot encoded instead of hashed:"
   ]
  },
  {
   "cell_type": "code",
   "execution_count": 15,
   "metadata": {
    "collapsed": true
   },
   "outputs": [],
   "source": [
    "encoders = {} #cache encoders"
   ]
  },
  {
   "cell_type": "code",
   "execution_count": 174,
   "metadata": {
    "collapsed": true
   },
   "outputs": [],
   "source": [
    "# Create encoders and one hot encode features\n",
    "max_categories = 30 #limit one hot encoding\n",
    "def encode_feature(feature, sample, df):\n",
    "    \"\"\"One hot encode given feature from sample matrix and return\"\"\"\n",
    "    if feature not in encoders:\n",
    "        encoder = preprocessing.LabelBinarizer()\n",
    "        encoder.fit(df[feature].value_counts()[:max_categories]\n",
    "                             .index\n",
    "                             .tolist()\n",
    "                    )\n",
    "        encoders[feature] = encoder\n",
    "    else:\n",
    "        encoder = encoders[feature]\n",
    "    return encoder.transform(sample[feature])\n",
    "\n",
    "def create_numerical_features_ffm(sample):\n",
    "    \"\"\"Returns a dataframe with the necessary numberical features from dataframe sample\"\"\"\n",
    "    df = create_numerical_features(sample)\n",
    "    df = pd.concat([pd.DataFrame(sample[\"c_cnt\"].tolist()), df], axis=1).reset_index(drop=True)\n",
    "    return df\n",
    "\n",
    "feature_count = [] # Tracks number of columns per categorical feature, i.e. device_type has 4 columns\n",
    "def create_features_ffm(sample):\n",
    "    \"\"\"\"Creates features for FFM model\"\"\"\n",
    "    df = create_numerical_features_ffm(sample)\n",
    "    features = [] #store all features \n",
    "    features.append(df)\n",
    "    features_to_use = [\"advertiser_id\", \"ad_network_id\", \"geo_country_code2\", #removed geo_continent_code\n",
    "                        \"ua_os_name\", \"site_id\", \"ua_name\", \"campaign_id\", \"domain\"]\n",
    "    for feature in features_to_use:\n",
    "        encoded = encode_feature(feature, sample, df=combined)\n",
    "        if len(feature_count) < len(features_to_use): feature_count.append(encoded.shape[1])\n",
    "        features.append(pd.DataFrame(encoded))\n",
    "        \n",
    "    encoded_device = transformed_device.transform(sample[\"ua_device_type\"])\n",
    "    if len(feature_count) <= len(features_to_use): feature_count.append(encoded_device.shape[1])\n",
    "    features.append(pd.DataFrame(encoded_device))\n",
    "    return pd.concat(features, axis=1)#combine all features\n"
   ]
  },
  {
   "cell_type": "code",
   "execution_count": 250,
   "metadata": {},
   "outputs": [],
   "source": [
    "# Generate raw data for FFM model\n",
    "train_ffm, validate_ffm, test_ffm = generate_ratio_ffm(CLICKED_CNT, split=0.6, ratio=5, df=combined)"
   ]
  },
  {
   "cell_type": "code",
   "execution_count": 254,
   "metadata": {},
   "outputs": [],
   "source": [
    "# Create all features\n",
    "train_ffm_transformed = create_features_ffm(train_ffm)\n",
    "validate_ffm_transformed = create_features_ffm(validate_ffm)\n",
    "test_ffm_transformed = create_features_ffm(test_ffm)"
   ]
  },
  {
   "cell_type": "code",
   "execution_count": 255,
   "metadata": {},
   "outputs": [
    {
     "data": {
      "text/plain": [
       "[30, 26, 30, 29, 30, 30, 30, 30, 4]"
      ]
     },
     "execution_count": 255,
     "metadata": {},
     "output_type": "execute_result"
    }
   ],
   "source": [
    "feature_count"
   ]
  },
  {
   "cell_type": "code",
   "execution_count": 37,
   "metadata": {
    "collapsed": true
   },
   "outputs": [],
   "source": [
    "# rows = 1000000\n",
    "# # Inspired by https://www.analyticsvidhya.com/blog/2018/01/factorization-machines/\n",
    "# def convert_to_ffm(df,data_type,numerics):\n",
    "#     \"\"\"Converts df to ffm format and saves it to a text file\"\"\"\n",
    "#     nrows = df.shape[0]\n",
    "#     ncols = df.shape[1]\n",
    "#     with open(\"ffm/\" + str(data_type) + \"_ffm.txt\", \"w\") as text_file:\n",
    "#         # Looping over rows to convert each row to libffm format\n",
    "#         datastring = \"\"\n",
    "#         for r in range(nrows)[:rows]: #first 1,000,000 rows for now\n",
    "#             datarow = df.iloc[r].to_dict()\n",
    "#             datastring += str(int(datarow['c_cnt']))\n",
    "#             field_position = 0\n",
    "#             feature_count_index = 0\n",
    "#             for i in range(1, ncols):\n",
    "#                 if field_position == feature_count[feature_count_index]:\n",
    "#                     feature_count_index += 1\n",
    "#                     field_position = 0\n",
    "#                 # For numerical fields, we are creating a dummy field here\n",
    "#                 if (i - 1) < len(numerics):\n",
    "#                     #we are dealing with a numeric feature\n",
    "#                     feat = numerics[i - 1]\n",
    "#                     datastring = datastring + \" \"+str(i)+\":\"+ str(i)+\":\"+ str(datarow[feat])\n",
    "#                 else:\n",
    "#                     #categorical feature\n",
    "#                     if datarow[i] == 1:\n",
    "#                         datastring = datastring + \" \"+str(feature_count_index + 7)+\":\"+ str(field_position)+\":1\"\n",
    "#                     field_position += 1\n",
    "#             datastring += '\\n'\n",
    "#         text_file.write(datastring)"
   ]
  },
  {
   "cell_type": "code",
   "execution_count": 256,
   "metadata": {},
   "outputs": [
    {
     "data": {
      "text/plain": [
       "['i_cnt', 'r_cnt', 'campaign_type', 'ctr_rate', 'num_ads_requested', 'hour']"
      ]
     },
     "execution_count": 256,
     "metadata": {},
     "output_type": "execute_result"
    }
   ],
   "source": [
    "# Generate list of numeric feature names\n",
    "numerics = train_ffm_transformed.columns[1:7].tolist()\n",
    "numerics"
   ]
  },
  {
   "cell_type": "code",
   "execution_count": 264,
   "metadata": {
    "collapsed": true
   },
   "outputs": [],
   "source": [
    "# Rename columns to make it easier to transform to libffm format\n",
    "ncolumns = train_ffm_transformed.columns.shape[0]\n",
    "train_ffm_transformed.columns = [\"c_cnt\"] + numerics + list(range(7, ncolumns))\n",
    "validate_ffm_transformed.columns = [\"c_cnt\"] + numerics + list(range(7, ncolumns))\n",
    "test_ffm_transformed.columns = [\"c_cnt\"] + numerics + list(range(7, ncolumns))"
   ]
  },
  {
   "cell_type": "code",
   "execution_count": 258,
   "metadata": {},
   "outputs": [
    {
     "data": {
      "text/html": [
       "<div>\n",
       "<style scoped>\n",
       "    .dataframe tbody tr th:only-of-type {\n",
       "        vertical-align: middle;\n",
       "    }\n",
       "\n",
       "    .dataframe tbody tr th {\n",
       "        vertical-align: top;\n",
       "    }\n",
       "\n",
       "    .dataframe thead th {\n",
       "        text-align: right;\n",
       "    }\n",
       "</style>\n",
       "<table border=\"1\" class=\"dataframe\">\n",
       "  <thead>\n",
       "    <tr style=\"text-align: right;\">\n",
       "      <th></th>\n",
       "      <th>c_cnt</th>\n",
       "      <th>i_cnt</th>\n",
       "      <th>r_cnt</th>\n",
       "      <th>campaign_type</th>\n",
       "      <th>ctr_rate</th>\n",
       "      <th>num_ads_requested</th>\n",
       "      <th>hour</th>\n",
       "      <th>7</th>\n",
       "      <th>8</th>\n",
       "      <th>9</th>\n",
       "      <th>...</th>\n",
       "      <th>236</th>\n",
       "      <th>237</th>\n",
       "      <th>238</th>\n",
       "      <th>239</th>\n",
       "      <th>240</th>\n",
       "      <th>241</th>\n",
       "      <th>242</th>\n",
       "      <th>243</th>\n",
       "      <th>244</th>\n",
       "      <th>245</th>\n",
       "    </tr>\n",
       "  </thead>\n",
       "  <tbody>\n",
       "    <tr>\n",
       "      <th>0</th>\n",
       "      <td>1.0</td>\n",
       "      <td>1.0</td>\n",
       "      <td>1.0</td>\n",
       "      <td>1</td>\n",
       "      <td>0.009410</td>\n",
       "      <td>10.0</td>\n",
       "      <td>5</td>\n",
       "      <td>0</td>\n",
       "      <td>0</td>\n",
       "      <td>0</td>\n",
       "      <td>...</td>\n",
       "      <td>0</td>\n",
       "      <td>0</td>\n",
       "      <td>0</td>\n",
       "      <td>0</td>\n",
       "      <td>0</td>\n",
       "      <td>0</td>\n",
       "      <td>0</td>\n",
       "      <td>0</td>\n",
       "      <td>0</td>\n",
       "      <td>1</td>\n",
       "    </tr>\n",
       "    <tr>\n",
       "      <th>1</th>\n",
       "      <td>1.0</td>\n",
       "      <td>1.0</td>\n",
       "      <td>1.0</td>\n",
       "      <td>0</td>\n",
       "      <td>0.058295</td>\n",
       "      <td>1.0</td>\n",
       "      <td>2</td>\n",
       "      <td>0</td>\n",
       "      <td>0</td>\n",
       "      <td>0</td>\n",
       "      <td>...</td>\n",
       "      <td>0</td>\n",
       "      <td>0</td>\n",
       "      <td>0</td>\n",
       "      <td>0</td>\n",
       "      <td>0</td>\n",
       "      <td>0</td>\n",
       "      <td>0</td>\n",
       "      <td>0</td>\n",
       "      <td>0</td>\n",
       "      <td>1</td>\n",
       "    </tr>\n",
       "    <tr>\n",
       "      <th>2</th>\n",
       "      <td>0.0</td>\n",
       "      <td>1.0</td>\n",
       "      <td>1.0</td>\n",
       "      <td>1</td>\n",
       "      <td>0.000863</td>\n",
       "      <td>10.0</td>\n",
       "      <td>1</td>\n",
       "      <td>0</td>\n",
       "      <td>0</td>\n",
       "      <td>0</td>\n",
       "      <td>...</td>\n",
       "      <td>0</td>\n",
       "      <td>0</td>\n",
       "      <td>0</td>\n",
       "      <td>0</td>\n",
       "      <td>0</td>\n",
       "      <td>0</td>\n",
       "      <td>0</td>\n",
       "      <td>0</td>\n",
       "      <td>1</td>\n",
       "      <td>0</td>\n",
       "    </tr>\n",
       "    <tr>\n",
       "      <th>3</th>\n",
       "      <td>0.0</td>\n",
       "      <td>1.0</td>\n",
       "      <td>1.0</td>\n",
       "      <td>1</td>\n",
       "      <td>0.009410</td>\n",
       "      <td>10.0</td>\n",
       "      <td>4</td>\n",
       "      <td>0</td>\n",
       "      <td>0</td>\n",
       "      <td>0</td>\n",
       "      <td>...</td>\n",
       "      <td>0</td>\n",
       "      <td>0</td>\n",
       "      <td>0</td>\n",
       "      <td>0</td>\n",
       "      <td>0</td>\n",
       "      <td>0</td>\n",
       "      <td>0</td>\n",
       "      <td>0</td>\n",
       "      <td>0</td>\n",
       "      <td>1</td>\n",
       "    </tr>\n",
       "    <tr>\n",
       "      <th>4</th>\n",
       "      <td>1.0</td>\n",
       "      <td>1.0</td>\n",
       "      <td>1.0</td>\n",
       "      <td>1</td>\n",
       "      <td>0.009410</td>\n",
       "      <td>10.0</td>\n",
       "      <td>0</td>\n",
       "      <td>0</td>\n",
       "      <td>0</td>\n",
       "      <td>0</td>\n",
       "      <td>...</td>\n",
       "      <td>0</td>\n",
       "      <td>0</td>\n",
       "      <td>0</td>\n",
       "      <td>0</td>\n",
       "      <td>0</td>\n",
       "      <td>0</td>\n",
       "      <td>0</td>\n",
       "      <td>0</td>\n",
       "      <td>0</td>\n",
       "      <td>1</td>\n",
       "    </tr>\n",
       "  </tbody>\n",
       "</table>\n",
       "<p>5 rows × 246 columns</p>\n",
       "</div>"
      ],
      "text/plain": [
       "   c_cnt  i_cnt  r_cnt  campaign_type  ctr_rate  num_ads_requested  hour  7  \\\n",
       "0    1.0    1.0    1.0              1  0.009410               10.0     5  0   \n",
       "1    1.0    1.0    1.0              0  0.058295                1.0     2  0   \n",
       "2    0.0    1.0    1.0              1  0.000863               10.0     1  0   \n",
       "3    0.0    1.0    1.0              1  0.009410               10.0     4  0   \n",
       "4    1.0    1.0    1.0              1  0.009410               10.0     0  0   \n",
       "\n",
       "   8  9 ...   236  237  238  239  240  241  242  243  244  245  \n",
       "0  0  0 ...     0    0    0    0    0    0    0    0    0    1  \n",
       "1  0  0 ...     0    0    0    0    0    0    0    0    0    1  \n",
       "2  0  0 ...     0    0    0    0    0    0    0    0    1    0  \n",
       "3  0  0 ...     0    0    0    0    0    0    0    0    0    1  \n",
       "4  0  0 ...     0    0    0    0    0    0    0    0    0    1  \n",
       "\n",
       "[5 rows x 246 columns]"
      ]
     },
     "execution_count": 258,
     "metadata": {},
     "output_type": "execute_result"
    }
   ],
   "source": [
    "train_ffm_transformed.head()"
   ]
  },
  {
   "cell_type": "code",
   "execution_count": 259,
   "metadata": {},
   "outputs": [
    {
     "data": {
      "text/plain": [
       "(39857, 246)"
      ]
     },
     "execution_count": 259,
     "metadata": {},
     "output_type": "execute_result"
    }
   ],
   "source": [
    "test_ffm_transformed.shape"
   ]
  },
  {
   "cell_type": "markdown",
   "metadata": {},
   "source": [
    "## Dask"
   ]
  },
  {
   "cell_type": "code",
   "execution_count": 187,
   "metadata": {
    "collapsed": true
   },
   "outputs": [],
   "source": [
    "def convert_to_ffm_parallel(row):\n",
    "    \"\"\"Converts row to ffm format\"\"\"\n",
    "    ncols = row.shape[0]\n",
    "    datastring = \"\"\n",
    "    datastring += str(int(row['c_cnt']))\n",
    "    field_position = 0\n",
    "    feature_count_index = 0\n",
    "    for i in range(1, ncols):\n",
    "        if field_position == feature_count[feature_count_index]:\n",
    "            feature_count_index += 1\n",
    "            field_position = 0\n",
    "        # For numerical fields, we are creating a dummy field here\n",
    "        if (i - 1) < len(numerics):\n",
    "            #we are dealing with a numeric feature\n",
    "            feat = numerics[i - 1]\n",
    "            datastring = datastring + \" \"+str(i)+\":\"+ str(i)+\":\"+ str(row[feat])\n",
    "        else:\n",
    "            #categorical feature\n",
    "            if row[i] == 1:\n",
    "                datastring = datastring + \" \"+str(feature_count_index + 7)+\":\"+ str(field_position)+\":1\"\n",
    "            field_position += 1\n",
    "    return datastring        \n",
    "    \n",
    "def apply_func(df):\n",
    "    \"\"\"Applies functions to df\"\"\"\n",
    "    return df.apply(lambda row: convert_to_ffm_parallel(row), axis=1)\n",
    "  "
   ]
  },
  {
   "cell_type": "code",
   "execution_count": 260,
   "metadata": {},
   "outputs": [],
   "source": [
    "import dask.dataframe as dd\n",
    "from dask.multiprocessing import get\n",
    "\n",
    "ncores = 4\n",
    "dask_train_ffm = dd.from_pandas(train_ffm_transformed, npartitions=ncores)\n",
    "dask_test_ffm = dd.from_pandas(test_ffm_transformed, npartitions=ncores)\n",
    "\n",
    "converted_train = dask_train_ffm.map_partitions(apply_func).compute(get=get)"
   ]
  },
  {
   "cell_type": "code",
   "execution_count": 265,
   "metadata": {},
   "outputs": [],
   "source": [
    "dask_val_ffm = dd.from_pandas(validate_ffm_transformed, npartitions=ncores)\n",
    "converted_val = dask_val_ffm.map_partitions(apply_func).compute(get=get)"
   ]
  },
  {
   "cell_type": "code",
   "execution_count": 266,
   "metadata": {
    "collapsed": true
   },
   "outputs": [],
   "source": [
    "converted_test = dask_test_ffm.map_partitions(apply_func).compute(get=get)"
   ]
  },
  {
   "cell_type": "code",
   "execution_count": 267,
   "metadata": {
    "collapsed": true
   },
   "outputs": [],
   "source": [
    "with open(\"ffm/train_dask_ffm.txt\", \"w\") as text_file:\n",
    "    text_file.write(converted_train.str.cat(sep='\\n'))\n",
    "    \n",
    "with open(\"ffm/val_dask_ffm.txt\", \"w\") as text_file:\n",
    "    text_file.write(converted_val.str.cat(sep='\\n'))    \n",
    "    \n",
    "with open(\"ffm/test_dask_ffm.txt\", \"w\") as text_file:\n",
    "    text_file.write(converted_test.str.cat(sep='\\n'))"
   ]
  },
  {
   "cell_type": "code",
   "execution_count": 268,
   "metadata": {
    "collapsed": true
   },
   "outputs": [],
   "source": [
    "# convert_to_ffm(train_ffm_transformed, \"train\", numerics)\n",
    "# convert_to_ffm(test_ffm_transformed, \"test\", numerics) #takes veryyyyyy long to run"
   ]
  },
  {
   "cell_type": "markdown",
   "metadata": {},
   "source": [
    "Train FFM model for 15 epochs with the given parameters:"
   ]
  },
  {
   "cell_type": "code",
   "execution_count": 303,
   "metadata": {},
   "outputs": [],
   "source": [
    "# Training task\n",
    "ffm_model = xl.create_ffm()  \n",
    "ffm_model.setTrain(\"ffm/train_dask_ffm.txt\")   # Training data\n",
    "ffm_model.setValidate(\"ffm/val_dask_ffm.txt\")  # Validation data\n",
    "ffm_model.setTest(\"ffm/test_dask_ffm.txt\") # Test data\n",
    "# ffm_model.setSigmoid()\n",
    "ffm_model.disableEarlyStop();\n",
    "\n",
    "# param:\n",
    "#  0. binary classification\n",
    "#  1. learning rate\n",
    "#  2. regular lambda \n",
    "#  3. Metric for monitoring validation set performance \n",
    "#  4. Maximum number of Epochs\n",
    "\n",
    "best_f1 = float('-inf')\n",
    "best_lr, best_lmbda = 0, 0\n",
    "for lr in np.linspace(0.01, 1, num=2):\n",
    "    for lmbda in np.linspace(0.0001, 0.01, num=1):\n",
    "        param = {'task':'binary', 'lr':lr, 'lambda':lmbda,'metric':'auc','epoch':10}\n",
    "        # Train model\n",
    "        ffm_model.fit(param, \"ffm/dask_model.out\")"
   ]
  },
  {
   "cell_type": "markdown",
   "metadata": {},
   "source": [
    "Find F1 score of test data:"
   ]
  },
  {
   "cell_type": "code",
   "execution_count": 304,
   "metadata": {
    "collapsed": true
   },
   "outputs": [],
   "source": [
    "ffm_model.setSign() #makes outputs either 0 or 1\n",
    "ffm_model.predict(\"ffm/dask_model.out\", \"ffm/dask_output.txt\")"
   ]
  },
  {
   "cell_type": "code",
   "execution_count": 305,
   "metadata": {},
   "outputs": [
    {
     "data": {
      "text/html": [
       "<div>\n",
       "<style scoped>\n",
       "    .dataframe tbody tr th:only-of-type {\n",
       "        vertical-align: middle;\n",
       "    }\n",
       "\n",
       "    .dataframe tbody tr th {\n",
       "        vertical-align: top;\n",
       "    }\n",
       "\n",
       "    .dataframe thead th {\n",
       "        text-align: right;\n",
       "    }\n",
       "</style>\n",
       "<table border=\"1\" class=\"dataframe\">\n",
       "  <thead>\n",
       "    <tr style=\"text-align: right;\">\n",
       "      <th></th>\n",
       "      <th>0</th>\n",
       "    </tr>\n",
       "  </thead>\n",
       "  <tbody>\n",
       "    <tr>\n",
       "      <th>0</th>\n",
       "      <td>0</td>\n",
       "    </tr>\n",
       "    <tr>\n",
       "      <th>1</th>\n",
       "      <td>0</td>\n",
       "    </tr>\n",
       "    <tr>\n",
       "      <th>2</th>\n",
       "      <td>0</td>\n",
       "    </tr>\n",
       "    <tr>\n",
       "      <th>3</th>\n",
       "      <td>0</td>\n",
       "    </tr>\n",
       "    <tr>\n",
       "      <th>4</th>\n",
       "      <td>0</td>\n",
       "    </tr>\n",
       "  </tbody>\n",
       "</table>\n",
       "</div>"
      ],
      "text/plain": [
       "   0\n",
       "0  0\n",
       "1  0\n",
       "2  0\n",
       "3  0\n",
       "4  0"
      ]
     },
     "execution_count": 305,
     "metadata": {},
     "output_type": "execute_result"
    }
   ],
   "source": [
    "y_pred_ffm = pd.read_csv('ffm/dask_output.txt', header = None)\n",
    "y_pred_ffm.head()"
   ]
  },
  {
   "cell_type": "code",
   "execution_count": 306,
   "metadata": {},
   "outputs": [
    {
     "name": "stdout",
     "output_type": "stream",
     "text": [
      "FFM Confusion Matrix:\n",
      " [[36545   820]\n",
      " [ 1221  1271]]\n",
      "FFM Precision: 0.607843137255\n",
      "FFM Recall: 0.510032102729\n",
      "FFM F1 Score: 0.55465852062\n"
     ]
    }
   ],
   "source": [
    "confusion_ffm = confusion_matrix(test_ffm_transformed['c_cnt'], y_pred_ffm) #00 - TN, 10 - FN, 01 - FP, 11 - TP\n",
    "print(\"FFM Confusion Matrix:\\n\", confusion_ffm)\n",
    "\n",
    "precision_ffm = confusion_ffm[1][1] / (confusion_ffm[1][1] + confusion_ffm[0][1])\n",
    "recall_ffm = confusion_ffm[1][1] / (confusion_ffm[1][1] + confusion_ffm[1][0])\n",
    "print(\"FFM Precision:\", precision_ffm)\n",
    "print(\"FFM Recall:\", recall_ffm)\n",
    "\n",
    "print(\"FFM F1 Score:\", f1_score(test_ffm_transformed['c_cnt'], y_pred_ffm)) #better F1 score!"
   ]
  },
  {
   "cell_type": "markdown",
   "metadata": {
    "collapsed": true
   },
   "source": [
    "Let's see how it compares to boosting on the same data set:"
   ]
  },
  {
   "cell_type": "code",
   "execution_count": 286,
   "metadata": {},
   "outputs": [],
   "source": [
    "X_train, y_train = create_features(train_ffm)\n",
    "X_test, y_test = create_features(test_ffm)\n",
    "\n",
    "boost = ensemble.GradientBoostingClassifier()\n",
    "boost.fit(X_train, y_train)\n",
    "y_pred = boost.predict(X_test)"
   ]
  },
  {
   "cell_type": "code",
   "execution_count": 287,
   "metadata": {},
   "outputs": [
    {
     "name": "stdout",
     "output_type": "stream",
     "text": [
      "Boosting Confusion Matrix:\n",
      " [[36676   689]\n",
      " [  934  1558]]\n",
      "Boosting Precision: 0.69336893636\n",
      "Boosting Recall: 0.625200642055\n",
      "Boosting F1 Score: 0.657522684111\n"
     ]
    }
   ],
   "source": [
    "confusion_test = confusion_matrix(y_test, y_pred)\n",
    "print(\"Boosting Confusion Matrix:\\n\", confusion_test)\n",
    "\n",
    "precision_test = confusion_test[1][1] / (confusion_test[1][1] + confusion_test[0][1])\n",
    "recall_test = confusion_test[1][1] / (confusion_test[1][1] + confusion_test[1][0])\n",
    "print(\"Boosting Precision:\", precision_test)\n",
    "print(\"Boosting Recall:\", recall_test)\n",
    "\n",
    "print(\"Boosting F1 Score:\", f1_score(y_test, y_pred))"
   ]
  },
  {
   "cell_type": "markdown",
   "metadata": {},
   "source": [
    "Save these matrices so we don't have to recompute every time:"
   ]
  },
  {
   "cell_type": "code",
   "execution_count": 44,
   "metadata": {
    "collapsed": true
   },
   "outputs": [],
   "source": [
    "train_ffm.to_pickle(\"ffm/data_ffm/train_ffm\")\n",
    "test_ffm.to_pickle(\"ffm/data_ffm/test_ffm\")"
   ]
  },
  {
   "cell_type": "code",
   "execution_count": null,
   "metadata": {
    "collapsed": true
   },
   "outputs": [],
   "source": []
  }
 ],
 "metadata": {
  "anaconda-cloud": {},
  "kernelspec": {
   "display_name": "Python [conda root]",
   "language": "python",
   "name": "conda-root-py"
  },
  "language_info": {
   "codemirror_mode": {
    "name": "ipython",
    "version": 3
   },
   "file_extension": ".py",
   "mimetype": "text/x-python",
   "name": "python",
   "nbconvert_exporter": "python",
   "pygments_lexer": "ipython3",
   "version": "3.5.4"
  }
 },
 "nbformat": 4,
 "nbformat_minor": 2
}
