{
 "cells": [
  {
   "cell_type": "code",
   "execution_count": 26,
   "metadata": {
    "collapsed": true
   },
   "outputs": [],
   "source": [
    "import xgboost as xgb\n",
    "import numpy as np\n",
    "import sklearn\n",
    "import pandas as pd\n",
    "import matplotlib.pyplot as plt\n",
    "import json\n",
    "from sklearn.preprocessing import CategoricalEncoder\n",
    "from sklearn.metrics import confusion_matrix"
   ]
  },
  {
   "cell_type": "markdown",
   "metadata": {},
   "source": [
    "### Get the original data and transform it into xgb readable files - sparse array"
   ]
  },
  {
   "cell_type": "code",
   "execution_count": 27,
   "metadata": {
    "collapsed": true
   },
   "outputs": [],
   "source": [
    "#reads a weird json, and returns the bids dataframe and ads dataframe\n",
    "def read_weird_json(path):\n",
    "    bids = []\n",
    "    ads = []\n",
    "\n",
    "    with open(path) as f:\n",
    "        for line in f:\n",
    "            line_dict = json.loads(line.encode('utf-8'))\n",
    "            if 'advertiser_id' in line_dict:\n",
    "                if line_dict['rate_metric'] != 'CPC':\n",
    "                    continue\n",
    "                ads.append(line_dict)\n",
    "            else:\n",
    "                bids.append(line_dict)\n",
    "    df_bids = pd.DataFrame.from_records(bids)\n",
    "    df_ads = pd.DataFrame.from_records(ads)  \n",
    "    \n",
    "    return [df_bids, df_ads]\n",
    "\n",
    "#Returns a list of dataframes. Only looks at ads. \n",
    "def read_many_jsons(paths): \n",
    "    dfs = []\n",
    "    for path in paths: \n",
    "        dfs += [read_weird_json(path)[1]]\n",
    "    return dfs"
   ]
  },
  {
   "cell_type": "code",
   "execution_count": 115,
   "metadata": {
    "collapsed": true
   },
   "outputs": [],
   "source": [
    "dfs = read_many_jsons(['./data/01-09-00001', './data/01-09-00003', './data/01-16-all'])"
   ]
  },
  {
   "cell_type": "markdown",
   "metadata": {},
   "source": [
    "### DON'T RERUN"
   ]
  },
  {
   "cell_type": "markdown",
   "metadata": {},
   "source": [
    "### DON'T RERUN"
   ]
  },
  {
   "cell_type": "markdown",
   "metadata": {},
   "source": [
    "### DON'T RERUN"
   ]
  },
  {
   "cell_type": "code",
   "execution_count": 116,
   "metadata": {
    "collapsed": true
   },
   "outputs": [],
   "source": [
    "#Create one dataframe with the combined data. \n",
    "df = pd.concat(dfs)\n",
    "df.fillna(0, inplace=True)"
   ]
  },
  {
   "cell_type": "markdown",
   "metadata": {},
   "source": [
    "#### One hot encoding"
   ]
  },
  {
   "cell_type": "code",
   "execution_count": 117,
   "metadata": {
    "collapsed": true
   },
   "outputs": [],
   "source": [
    "#Turns a timestamp into which minute the time was at - used as a categorical feature.\n",
    "def timestamp_to_min(timestamp, is_hour=True):\n",
    "    if is_hour:\n",
    "        return timestamp.split(':')[0][-2:]\n",
    "    else: \n",
    "        return timestamp.split(':')[1]\n",
    "\n",
    "#plots frequency of a feature's different classes, useful for exploratory analysis\n",
    "def plot_freq(col_name, df):\n",
    "    df_frequency = df.groupby(col_name).agg('count').sort_values('ad_type',ascending=False)\n",
    "    plt.plot([i for i in range(len(df_frequency.values))], [np.log(i[2]) for i in df_frequency.values])\n",
    "    plt.show()\n",
    "\n",
    "#if a feature only has one unique value, it tells us nothing, so we drop it.\n",
    "def remove_only_ones(df):\n",
    "    for col in df.columns:\n",
    "        if len(df[col].unique()) == 1:\n",
    "            df.drop(col, inplace=True,axis=1)\n",
    "\n",
    "#just prints how many unique values are in each feature\n",
    "def print_column_counts(df):    \n",
    "    for i in df:\n",
    "        print(i, df[i].nunique())\n",
    "\n",
    "#We do some final cleaning, changing all non-numerical features into strings for later.\n",
    "def preprocess(df):    \n",
    "    for i in df:\n",
    "        if i[-1] != 't' or i[-2] != 'n' or i[-3] != 'c':\n",
    "            \n",
    "            df[i] = df[i].astype('str')\n",
    "    remove_only_ones(df)\n",
    "    if 'site_id' in df.columns:\n",
    "        df.drop('site_id',inplace=True,axis=1)\n",
    "    \n",
    "#given a categorical column, we apply our earlier strategy of one-hot-encoding with maximum thresh=200\n",
    "def transform_column(df, col, thresh=10, return_labels=False):\n",
    "    df_frequency = df[[col, 'c_cnt']].groupby(col).agg('count').sort_values('c_cnt',ascending=False)\n",
    "    if df[col].nunique() > thresh:\n",
    "        enc = CategoricalEncoder(categories=[sorted(df_frequency[0:thresh].index.values)],handle_unknown='ignore')\n",
    "        labels = df_frequency[0:thresh].index.values\n",
    "    else:\n",
    "        enc = CategoricalEncoder(categories=[sorted(df_frequency.index.values)],handle_unknown='ignore')\n",
    "        labels = df_frequency.index.values\n",
    "    labels = [str(col) + str(i) for i in labels]\n",
    "    if return_labels:\n",
    "        return labels\n",
    "    enc.fit(df[col].values.reshape(-1, 1))\n",
    "    return enc.transform(df[col].values.reshape(-1,1)).toarray()"
   ]
  },
  {
   "cell_type": "code",
   "execution_count": 118,
   "metadata": {},
   "outputs": [],
   "source": [
    "#final preprocessing\n",
    "preprocess(df)"
   ]
  },
  {
   "cell_type": "code",
   "execution_count": 119,
   "metadata": {},
   "outputs": [
    {
     "name": "stdout",
     "output_type": "stream",
     "text": [
      "(140761, 80)\n",
      "(60327, 80)\n"
     ]
    }
   ],
   "source": [
    "cutoff = int(np.floor(len(df) * 0.7))\n",
    "# print \"Total data: \", len(df), \" Cutoff: \", cutoff\n",
    "train_df = df.iloc[:cutoff, :]\n",
    "test_df = df.iloc[cutoff:, :]\n",
    "print train_df.shape\n",
    "print test_df.shape"
   ]
  },
  {
   "cell_type": "code",
   "execution_count": 246,
   "metadata": {},
   "outputs": [
    {
     "name": "stdout",
     "output_type": "stream",
     "text": [
      "Index([u'_host', u'ad_network_id', u'ad_type', u'adlog_count',\n",
      "       u'advertiser_id', u'app_id', u'app_name', u'app_ver', u'bd',\n",
      "       u'bid_requests', u'bid_responses', u'bundle_id', u'c_cnt',\n",
      "       u'c_flag_cnt', u'c_timestamp', u'c_txn_fee', u'c_txn_rate',\n",
      "       u'campaign_id', u'campaign_type', u'ck', u'cr', u'creative_id', u'dnt',\n",
      "       u'exp_mode', u'flag', u'gaid', u'geo_area_code', u'geo_city_code',\n",
      "       u'geo_city_name', u'geo_continent_code', u'geo_country_code2',\n",
      "       u'geo_country_code3', u'geo_dma_code', u'geo_postal_code',\n",
      "       u'geo_region_name', u'geo_timezone', u'i_cnt', u'i_flag_cnt',\n",
      "       u'i_timestamp', u'idfa', u'ip_address', u'is_bot', u'is_fraud',\n",
      "       u'keywords', u'lat', u'lla', u'llsdk', u'long', u'num_ads',\n",
      "       u'pub_network_id', u'r_cnt', u'r_num_ads_requested',\n",
      "       u'r_num_ads_returned', u'r_num_ads_third_party', u'r_timestamp',\n",
      "       u'referer', u'sdk_version', u'session_id', u'token', u'txn_fee',\n",
      "       u'txn_rate', u'ua', u'ua_device', u'ua_device_type', u'ua_major',\n",
      "       u'ua_minor', u'ua_name', u'ua_os', u'ua_os_name', u'url', u'user_agent',\n",
      "       u'uuid', u'vi_cnt', u'vi_flag_cnt', u'vi_timestamp', u'vv_cnt',\n",
      "       u'vv_timestamp_vvi', u'vv_vvi_cnt', u'widget_id', u'zone_id'],\n",
      "      dtype='object')\n"
     ]
    }
   ],
   "source": [
    "#this set contains our numerical column names\n",
    "numerical_features = set(['c_cnt', 'c_flag_cnt', 'i_cnt', 'i_flag_cnt', 'r_cnt', 'vi_cnt', 'vi_flag_cnt', 'vv_cnt', 'vv_vvi_cnt'])\n",
    "\n",
    "#we create a copy so that X will not include 'c_cnt'\n",
    "df2 = df.copy()\n",
    "print(df2.columns)\n",
    "df2.drop('c_cnt',inplace=True,axis=1)\n",
    "# df2.drop('f_cnt',inplace=True,axis=1)\n",
    "X = np.hstack([transform_column(df, col) if col not in numerical_features else df[col].values.reshape(-1,1)\n",
    "               for col in df2])\n",
    "Y_true = df['c_cnt'].values[cutoff:]"
   ]
  },
  {
   "cell_type": "code",
   "execution_count": 247,
   "metadata": {},
   "outputs": [],
   "source": [
    "X_train = X[:cutoff, :]\n",
    "X_test = X[cutoff:, :]\n",
    "train_df = df.iloc[:cutoff, :]\n",
    "test_df = df.iloc[cutoff:, :]"
   ]
  },
  {
   "cell_type": "code",
   "execution_count": 248,
   "metadata": {},
   "outputs": [
    {
     "name": "stdout",
     "output_type": "stream",
     "text": [
      "65.0\n"
     ]
    }
   ],
   "source": [
    "print(sum(df['c_cnt']))"
   ]
  },
  {
   "cell_type": "markdown",
   "metadata": {},
   "source": [
    "### XGBoost"
   ]
  },
  {
   "cell_type": "code",
   "execution_count": 249,
   "metadata": {
    "collapsed": true
   },
   "outputs": [],
   "source": [
    "# X_train = np.delete(X_train, 70, axis=1)\n",
    "# X_test = np.delete(X_train, 70, axis=1)"
   ]
  },
  {
   "cell_type": "code",
   "execution_count": 250,
   "metadata": {},
   "outputs": [],
   "source": [
    "dtrain = xgb.DMatrix(X_train, label=train_df['c_cnt'])\n",
    "dtest = xgb.DMatrix(X_test)\n",
    "\n",
    "# dtrain.set_weight('f70', 0)"
   ]
  },
  {
   "cell_type": "code",
   "execution_count": 266,
   "metadata": {},
   "outputs": [],
   "source": [
    "param = {'max_depth':10, 'eta':0.5, 'silent':0, 'eval_metric':'logloss', 'objective':'binary:logistic' }\n",
    "num_round = 1\n",
    "bst = xgb.train(param, dtrain, num_round, verbose_eval=200)"
   ]
  },
  {
   "cell_type": "code",
   "execution_count": 260,
   "metadata": {},
   "outputs": [],
   "source": [
    "preds = bst.predict(dtest)"
   ]
  },
  {
   "cell_type": "code",
   "execution_count": 261,
   "metadata": {},
   "outputs": [
    {
     "data": {
      "text/plain": [
       "{0.26894701, 0.71678537}"
      ]
     },
     "execution_count": 261,
     "metadata": {},
     "output_type": "execute_result"
    }
   ],
   "source": [
    "set(preds)"
   ]
  },
  {
   "cell_type": "code",
   "execution_count": 262,
   "metadata": {},
   "outputs": [
    {
     "name": "stdout",
     "output_type": "stream",
     "text": [
      "13.0\n"
     ]
    }
   ],
   "source": [
    "print(sum(np.round(preds)))"
   ]
  },
  {
   "cell_type": "code",
   "execution_count": 263,
   "metadata": {},
   "outputs": [
    {
     "name": "stdout",
     "output_type": "stream",
     "text": [
      "13.0\n"
     ]
    }
   ],
   "source": [
    "print(sum(Y_true))"
   ]
  },
  {
   "cell_type": "code",
   "execution_count": 264,
   "metadata": {},
   "outputs": [
    {
     "data": {
      "text/plain": [
       "array([[60314,     0],\n",
       "       [    0,    13]])"
      ]
     },
     "execution_count": 264,
     "metadata": {},
     "output_type": "execute_result"
    }
   ],
   "source": [
    "confusion_matrix(Y_true, np.round(preds))"
   ]
  },
  {
   "cell_type": "markdown",
   "metadata": {
    "collapsed": true
   },
   "source": [
    "## Playing around with XGBoost"
   ]
  },
  {
   "cell_type": "code",
   "execution_count": 241,
   "metadata": {},
   "outputs": [
    {
     "data": {
      "text/plain": [
       "<matplotlib.axes._subplots.AxesSubplot at 0x15af7a450>"
      ]
     },
     "execution_count": 241,
     "metadata": {},
     "output_type": "execute_result"
    },
    {
     "data": {
      "image/png": "[encoded data removed]",
      "text/plain": [
       "<matplotlib.figure.Figure at 0x17c50fb10>"
      ]
     },
     "metadata": {},
     "output_type": "display_data"
    }
   ],
   "source": [
    "from xgboost import plot_importance\n",
    "\n",
    "plot_importance(bst)"
   ]
  },
  {
   "cell_type": "code",
   "execution_count": null,
   "metadata": {
    "collapsed": true
   },
   "outputs": [],
   "source": []
  }
 ],
 "metadata": {
  "kernelspec": {
   "display_name": "Python 3",
   "language": "python",
   "name": "python3"
  },
  "language_info": {
   "codemirror_mode": {
    "name": "ipython",
    "version": 2
   },
   "file_extension": ".py",
   "mimetype": "text/x-python",
   "name": "python",
   "nbconvert_exporter": "python",
   "pygments_lexer": "ipython2",
   "version": "2.7.14"
  }
 },
 "nbformat": 4,
 "nbformat_minor": 2
}
