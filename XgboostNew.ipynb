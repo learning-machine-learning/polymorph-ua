{
 "cells": [
  {
   "cell_type": "code",
   "execution_count": 1,
   "metadata": {
    "collapsed": true
   },
   "outputs": [],
   "source": [
    "import numpy as np\n",
    "import xgboost as xgb\n",
    "import sklearn\n",
    "import pandas as pd\n",
    "import matplotlib.pyplot as plt\n",
    "import json\n",
    "from sklearn import preprocessing\n",
    "import seaborn as sns\n",
    "from sklearn.metrics import f1_score\n",
    "from sklearn.ensemble import RandomForestClassifier as RFC\n",
    "from sklearn.ensemble import GradientBoostingClassifier as GBT\n",
    "from sklearn.decomposition import PCA\n",
    "from sklearn.preprocessing import OneHotEncoder\n",
    "from sklearn.model_selection import train_test_split\n",
    "from sklearn.metrics import accuracy_score\n",
    "from sklearn.metrics import confusion_matrix\n",
    "from sklearn.metrics import recall_score\n",
    "from sklearn.metrics import precision_score\n",
    "import pytz\n",
    "import pickle\n",
    "%matplotlib inline\n",
    "\n",
    "#from sklearn.preprocessing import CategoricalEncoder\n",
    "#CategoricalEncoder is part of sklearn's developer version, which you can't just update with conda. If you have issues\n",
    "#getting this version, try a hard code implementation of the library here - https://pastebin.com/qs1es9XE"
   ]
  },
  {
   "cell_type": "code",
   "execution_count": 2,
   "metadata": {
    "collapsed": true
   },
   "outputs": [],
   "source": [
    "#reads a weird json, and returns the bids dataframe and ads dataframe\n",
    "def read_weird_json(path):\n",
    "    bids = []\n",
    "    ads = []\n",
    "\n",
    "    with open(path) as f:\n",
    "        for line in f:\n",
    "            line_dict = json.loads(line.encode('utf-8'))\n",
    "            if 'advertiser_id' in line_dict:\n",
    "                if line_dict['rate_metric'] != 'CPC':\n",
    "                    continue\n",
    "                ads.append(line_dict)\n",
    "            else:\n",
    "                bids.append(line_dict)\n",
    "    df_bids = pd.DataFrame.from_records(bids)\n",
    "    df_ads = pd.DataFrame.from_records(ads)  \n",
    "    \n",
    "    return [df_bids, df_ads]\n",
    "\n",
    "#Returns a list of dataframes. Only looks at ads. \n",
    "def read_many_jsons(paths): \n",
    "    dfs = []\n",
    "    for path in paths: \n",
    "        dfs += [read_weird_json(path)[1]]\n",
    "    return dfs"
   ]
  },
  {
   "cell_type": "markdown",
   "metadata": {},
   "source": [
    "## Load in the data for the training set"
   ]
  },
  {
   "cell_type": "code",
   "execution_count": 3,
   "metadata": {},
   "outputs": [
    {
     "data": {
      "text/plain": [
       "((350926, 39), (368002, 39), (604190, 39), (604190, 39))"
      ]
     },
     "execution_count": 3,
     "metadata": {},
     "output_type": "execute_result"
    }
   ],
   "source": [
    "#Open our hdf files\n",
    "neg2 = pd.HDFStore('./data/day2_negatives_processed.h5')\n",
    "neg3 = pd.HDFStore('./data/day3_negatives_processed.h5')\n",
    "# neg4 = pd.HDFStore('./data/day4_negatives_processed.h5')\n",
    "\n",
    "pos2 = pd.HDFStore('./data/day2_positives_processed.h5')\n",
    "pos3 = pd.HDFStore('./data/day3_positives_processed.h5')\n",
    "# pos4 = pd.HDFStore('./data/day4_positives_processed.h5')\n",
    "\n",
    "#Load out dataframes\n",
    "df_neg2 = neg2['df']\n",
    "df_neg3 = neg3['df']\n",
    "# df_neg4 = neg4['df']\n",
    "\n",
    "df_pos2 = pos2['df']\n",
    "df_pos3 = pos3['df']\n",
    "# df_pos4 = pos4['df']\n",
    "\n",
    "#Close our hdf files\n",
    "neg2.close()\n",
    "neg3.close()\n",
    "# neg4.close()\n",
    "\n",
    "pos2.close()\n",
    "pos3.close()\n",
    "# pos4.close()\n",
    "\n",
    "df_neg2.shape, df_neg3.shape, df_pos2.shape, df_pos3.shape"
   ]
  },
  {
   "cell_type": "markdown",
   "metadata": {},
   "source": [
    "## Load in the data for the testing set"
   ]
  },
  {
   "cell_type": "code",
   "execution_count": 4,
   "metadata": {},
   "outputs": [
    {
     "data": {
      "text/plain": [
       "(1570215, 46)"
      ]
     },
     "execution_count": 4,
     "metadata": {},
     "output_type": "execute_result"
    }
   ],
   "source": [
    "test = pd.HDFStore('./data/test.h5')\n",
    "test_df = test['df']\n",
    "test.close() \n",
    "test_df.shape"
   ]
  },
  {
   "cell_type": "markdown",
   "metadata": {},
   "source": [
    "## DO NOT RELOAD DATA"
   ]
  },
  {
   "cell_type": "markdown",
   "metadata": {
    "collapsed": true
   },
   "source": [
    "### Concatenates both the positive and negative dataframes together"
   ]
  },
  {
   "cell_type": "code",
   "execution_count": 5,
   "metadata": {
    "scrolled": true
   },
   "outputs": [
    {
     "data": {
      "text/plain": [
       "(718928, 39)"
      ]
     },
     "execution_count": 5,
     "metadata": {},
     "output_type": "execute_result"
    }
   ],
   "source": [
    "negatives = [df_neg2, df_neg3]\n",
    "\n",
    "neg_df = pd.concat(negatives)\n",
    "\n",
    "neg_df.shape"
   ]
  },
  {
   "cell_type": "code",
   "execution_count": 6,
   "metadata": {},
   "outputs": [
    {
     "data": {
      "text/plain": [
       "(1208380, 39)"
      ]
     },
     "execution_count": 6,
     "metadata": {},
     "output_type": "execute_result"
    }
   ],
   "source": [
    "positives = [df_pos2, df_pos3]\n",
    "\n",
    "pos_df = pd.concat(positives)\n",
    "\n",
    "pos_df.shape"
   ]
  },
  {
   "cell_type": "code",
   "execution_count": 7,
   "metadata": {},
   "outputs": [
    {
     "data": {
      "text/plain": [
       "(1437856, 39)"
      ]
     },
     "execution_count": 7,
     "metadata": {},
     "output_type": "execute_result"
    }
   ],
   "source": [
    "train_df_pos = pos_df[:718928]\n",
    "train_df_neg = neg_df\n",
    "trains = [train_df_pos, train_df_neg]\n",
    "train_df = pd.concat(trains)\n",
    "train_df.shape"
   ]
  },
  {
   "cell_type": "code",
   "execution_count": 8,
   "metadata": {},
   "outputs": [
    {
     "data": {
      "text/plain": [
       "((1437856, 36), (1570215, 36))"
      ]
     },
     "execution_count": 8,
     "metadata": {},
     "output_type": "execute_result"
    }
   ],
   "source": [
    "# Only keep the columns that are in both the training and testing datasets -- TODO: remove this after processing\n",
    "intersection = np.intersect1d(train_df.columns, test_df.columns)\n",
    "\n",
    "train_df = train_df[intersection]\n",
    "test_df = test_df[intersection]\n",
    "train_df.shape, test_df.shape "
   ]
  },
  {
   "cell_type": "code",
   "execution_count": 9,
   "metadata": {
    "collapsed": true
   },
   "outputs": [],
   "source": [
    "total_df = pd.concat([train_df, test_df])"
   ]
  },
  {
   "cell_type": "markdown",
   "metadata": {},
   "source": [
    "## DO NOT RUN"
   ]
  },
  {
   "cell_type": "markdown",
   "metadata": {},
   "source": [
    "## DO NOT RUN"
   ]
  },
  {
   "cell_type": "markdown",
   "metadata": {},
   "source": [
    "## DO NOT RUN"
   ]
  },
  {
   "cell_type": "code",
   "execution_count": 10,
   "metadata": {
    "collapsed": true
   },
   "outputs": [],
   "source": [
    "feature_map = []"
   ]
  },
  {
   "cell_type": "markdown",
   "metadata": {},
   "source": [
    "One hot encoding function needs to be change - TODO "
   ]
  },
  {
   "cell_type": "code",
   "execution_count": 11,
   "metadata": {
    "collapsed": true
   },
   "outputs": [],
   "source": [
    "def transform_column(df, col, thresh=200):\n",
    "    if col in numerical_features:\n",
    "        print(\"Numerical\" , col)\n",
    "        feature_map.append(col)\n",
    "        return df[col].values.reshape(-1,1)\n",
    "    \n",
    "    print(col, df[col].nunique())\n",
    "    \n",
    "    if df[col].nunique() > thresh:\n",
    "        df_frequency = df[[col, 'c_cnt']].groupby(col).agg('count').sort_values('c_cnt',ascending=False)\n",
    "#         print(\"Total len: \", len(df_frequency))\n",
    "#         print(\"SORTED: \", sorted(df_frequency))\n",
    "#         print(\"SORTED INDEXED: \", sorted(df_frequency.iloc[0:thresh].index.values))\n",
    "        cat = [sorted(df_frequency.iloc[0:thresh].index.values)]\n",
    "        dict2 = {}\n",
    "        for i, item in enumerate(cat[0]):\n",
    "            feature_map.append(col + \" - \" + str(item))\n",
    "            dict2[item] = i\n",
    "        #enc = CategoricalEncoder(categories=[sorted(df_frequency[0:thresh].index.values)],handle_unknown='ignore')\n",
    "    else:\n",
    "        dict2 = {}\n",
    "        i = 0\n",
    "        for item in df[col].values:\n",
    "            if item not in dict2:\n",
    "                feature_map.append(col + \" - \" + str(item))\n",
    "                dict2[item] = i\n",
    "                i+=1\n",
    "        #enc = CategoricalEncoder(categories='auto',handle_unknown='ignore')\n",
    "    return [[1 if j == i else 0 for j in dict2] for i in df[col].values]"
   ]
  },
  {
   "cell_type": "markdown",
   "metadata": {},
   "source": [
    "Now, we need to do some data cleaning. From some initial exploratory analysis, we can see that that we have 5 features with only 16 non-nan values, with a few other features having a similarly low level of non-nan values. To simplify things, we choose to drop all features with less than some threshhold of non-nan values. Also, as we are trying to predict c_cnt, samples where c_cnt is NaN are useless, so we throw those away as well. \n",
    "\n",
    "After this, we see that less than 10% of our remaining samples contains any NaN values, so we just drop those samples as we don't lose that much information from them."
   ]
  },
  {
   "cell_type": "code",
   "execution_count": 12,
   "metadata": {
    "scrolled": true
   },
   "outputs": [
    {
     "name": "stdout",
     "output_type": "stream",
     "text": [
      "_host                  False\n",
      "ad_network_id          False\n",
      "advertiser_id          False\n",
      "c_cnt                  False\n",
      "c_flag_cnt             False\n",
      "campaign_id            False\n",
      "campaign_type          False\n",
      "f_cnt                  False\n",
      "geo_city_name          False\n",
      "geo_country_code3      False\n",
      "geo_region_name        False\n",
      "geo_timezone           False\n",
      "i_cnt                  False\n",
      "i_flag_cnt             False\n",
      "i_timestamp            False\n",
      "pub_network_id         False\n",
      "r_cnt                  False\n",
      "r_num_ads_requested    False\n",
      "r_num_ads_returned     False\n",
      "r_timestamp            False\n",
      "rate_metric            False\n",
      "referer                False\n",
      "session_id             False\n",
      "site_id                False\n",
      "token                  False\n",
      "ua                     False\n",
      "ua_device              False\n",
      "ua_device_type         False\n",
      "ua_major               False\n",
      "ua_minor               False\n",
      "ua_os_name             False\n",
      "url                    False\n",
      "user_agent             False\n",
      "uuid                   False\n",
      "vi_cnt                 False\n",
      "vi_flag_cnt            False\n",
      "dtype: bool\n"
     ]
    },
    {
     "data": {
      "text/plain": [
       "(3008071, 36)"
      ]
     },
     "execution_count": 12,
     "metadata": {},
     "output_type": "execute_result"
    }
   ],
   "source": [
    "print(total_df.isna().any())\n",
    "# print(train_df.count())\n",
    "n = len(total_df)\n",
    "\n",
    "#filter rows with c_cnt as NaN\n",
    "total_df = total_df[np.isfinite(total_df['c_cnt'])]\n",
    "\n",
    "#filter threshhold\n",
    "total_df = total_df.dropna(thresh=int(0.5*n), axis=1)\n",
    "\n",
    "#drop all samples with NaN values\n",
    "total_df = total_df.dropna(axis=0)\n",
    "\n",
    "total_df.shape"
   ]
  },
  {
   "cell_type": "markdown",
   "metadata": {},
   "source": [
    "Now, we have some more preprocessing to do, so we wrote some simple functions for preprocessing. The most important thing we do here is that since most of our features are categorical, we must encode them with one-hot-encoding, which essentially turns one feature into n different features, one for each type of class in the original features. For example, if we had a feature for \"hair color\", we would map it to a higher dimensional feature space consisting of \"is the hair white\", \"is the hair black\", \"is the hair brown\", etc. Only one of these features would be a 1, and the rest would be 0.\n",
    "\n",
    "Normally, each feature would be mapped to n features, with n being the number of unique classes that feature contains. For our data, however, some features will have thousands, even millions of unique classes, which would result is an omega-sparse dataset. To account for this, we set a threshhold at 200, such that n will never be greater than 201. We still keep track of the 200 most frequent classes, however, the rest will be bunched into a single class. The motivation for this is that for the more frequent classes, we have enough data that our ML models will be able to extract some information, but for the less frequent classes, there is too little data for accurate analysis, so we group them as one class."
   ]
  },
  {
   "cell_type": "code",
   "execution_count": 14,
   "metadata": {
    "scrolled": true
   },
   "outputs": [],
   "source": [
    "#Turns a timestamp into which minute the time was at - used as a categorical feature.\n",
    "def timestamp_to_min(timestamp, is_hour=True):\n",
    "    if is_hour:\n",
    "        return timestamp.split(':')[0][-2:]\n",
    "    else: \n",
    "        return timestamp.split(':')[1]\n",
    "\n",
    "#plots frequency of a feature's different classes, useful for exploratory analysis\n",
    "def plot_freq(col_name, df):\n",
    "    df_frequency = df.groupby(col_name).agg('count').sort_values('ad_type',ascending=False)\n",
    "    plt.plot([i for i in range(len(df_frequency.values))], [np.log(i[2]) for i in df_frequency.values])\n",
    "    plt.show()\n",
    "\n",
    "#if a feature only has one unique value, it tells us nothing, so we drop it.\n",
    "def remove_only_ones(df):\n",
    "    for col in df.columns:\n",
    "        if len(df[col].unique()) == 1:\n",
    "            print(col, \" \", df[col].unique())\n",
    "            df.drop(col, inplace=True,axis=1)\n",
    "\n",
    "#just prints how many unique values are in each feature\n",
    "def print_column_counts(df):    \n",
    "    for i in df:\n",
    "        print(i, df[i].nunique())\n",
    "\n",
    "#We do some final cleaning, changing all non-numerical features into strings for later.\n",
    "def preprocess(df):    \n",
    "    for i in df:\n",
    "        if i[-1] != 't' or i[-2] != 'n' or i[-3] != 'c':\n",
    "            df[i] = df[i].astype('str')\n",
    "    remove_only_ones(df)\n",
    "#     print(\"2: \", df.columns)\n",
    "    if 'site_id' in df.columns:\n",
    "        df.drop('site_id',inplace=True,axis=1)\n",
    "    df['i_timestamp'] = df['i_timestamp'].apply(timestamp_to_min)\n",
    "    df['r_timestamp'] = df['r_timestamp'].apply(timestamp_to_min)\n",
    "    \n",
    "\n",
    "# print(train_df.c_cnt)\n",
    "# print(\"1: \", train_df.columns)\n",
    "#final preprocessing\n",
    "# preprocess(train_df)\n",
    "# preprocess(test_df)\n",
    "preprocess(total_df)\n",
    "\n",
    "# print(\"3: \", train_df.columns)\n",
    "#this set contains our numerical column names\n",
    "numerical_features = set(['c_cnt', 'i_cnt', 'r_cnt', 'vi_cnt'])\n",
    "#we create a copy so that X will not include 'c_cnt'\n",
    "# df2_train = train_df.copy()\n",
    "# df2_train.drop('c_cnt',inplace=True,axis=1)\n",
    "\n",
    "# df2_test = test_df.copy()\n",
    "# df2_test.drop('c_cnt',inplace=True,axis=1)\n",
    "df2 = total_df.copy()\n",
    "df2.drop('c_cnt',inplace=True,axis=1)\n",
    "#u,s,v = np.linalg.svd(X)"
   ]
  },
  {
   "cell_type": "code",
   "execution_count": 15,
   "metadata": {
    "collapsed": true
   },
   "outputs": [],
   "source": [
    "def fix_class_imbalance_with_subsampling(tempX, tempY, pos_ratio=2):\n",
    "    tempY = tempY.reshape(-1,1)\n",
    "    ind_1, ind_0 = [], []\n",
    "    for i, y_h in enumerate(tempY):\n",
    "        if y_h: ind_1.append(i)\n",
    "        else: ind_0.append(i)\n",
    "    to_sample = np.random.permutation(pos_ratio*len(ind_1))\n",
    "    to_sample_0 = [ind_0[i] for i in to_sample]\n",
    "    X2 = np.vstack([tempX[ind_1],tempX[to_sample_0]])\n",
    "    Y2 = np.vstack([tempY[ind_1],tempY[to_sample_0]])\n",
    "    tempY = tempY.reshape(-1)\n",
    "    \n",
    "    new_ind = np.random.permutation(len(X2))\n",
    "    return X2[new_ind],Y2[new_ind]"
   ]
  },
  {
   "cell_type": "markdown",
   "metadata": {},
   "source": [
    "#given a categorical column, we apply our earlier strategy of one-hot-encoding with maximum thresh=200\n",
    "def transform_column(df, col, thresh=200, return_labels=False):\n",
    "    print(col)\n",
    "    df_frequency = df[[col, 'c_cnt']].groupby(col).agg('count').sort_values('c_cnt',ascending=False)\n",
    "    if df[col].nunique() > thresh:\n",
    "        enc = CategoricalEncoder(categories=[sorted(df_frequency[0:thresh].index.values)],handle_unknown='ignore')\n",
    "        labels = df_frequency[0:thresh].index.values\n",
    "    else:\n",
    "        enc = CategoricalEncoder(categories=[sorted(df_frequency.index.values)],handle_unknown='ignore')\n",
    "        labels = df_frequency.index.values\n",
    "    labels = [str(col) + str(i) for i in labels]\n",
    "    if return_labels:\n",
    "        return labels\n",
    "    enc.fit(df[col].values.reshape(-1, 1))\n",
    "    return enc.transform(df[col].values.reshape(-1,1)).toarray()"
   ]
  },
  {
   "cell_type": "markdown",
   "metadata": {},
   "source": [
    "Create our X and Y matrices - adjust threshhold values for 1HE here"
   ]
  },
  {
   "cell_type": "code",
   "execution_count": 17,
   "metadata": {},
   "outputs": [
    {
     "name": "stdout",
     "output_type": "stream",
     "text": [
      "hi\n"
     ]
    }
   ],
   "source": [
    "print(\"hi\")"
   ]
  },
  {
   "cell_type": "code",
   "execution_count": 18,
   "metadata": {},
   "outputs": [
    {
     "name": "stdout",
     "output_type": "stream",
     "text": [
      "_host 145\n",
      "ad_network_id 81\n",
      "advertiser_id 147\n",
      "c_flag_cnt 33\n",
      "campaign_id 812\n",
      "campaign_type 5\n",
      "f_cnt 2\n",
      "geo_city_name 38663\n",
      "geo_country_code3 213\n",
      "geo_region_name 388\n",
      "geo_timezone 295\n",
      "i_flag_cnt 60\n",
      "i_timestamp 33\n",
      "pub_network_id 16\n",
      "r_num_ads_requested 9\n",
      "r_num_ads_returned 10\n",
      "r_timestamp 33\n",
      "rate_metric 2\n",
      "referer 176088\n",
      "session_id 2788997\n",
      "token 31352\n",
      "ua 79095\n",
      "ua_device 10726\n",
      "ua_device_type 4\n",
      "ua_major 157\n",
      "ua_minor 84\n",
      "ua_os_name 32\n",
      "url 402053\n",
      "user_agent 59409\n",
      "uuid 1802282\n",
      "vi_flag_cnt 18\n"
     ]
    }
   ],
   "source": [
    "one_hot_thresh = 20\n",
    "\n",
    "Y = total_df['c_cnt'].values\n",
    "\n",
    "\n",
    "X = np.hstack([transform_column(total_df, col, thresh=one_hot_thresh) if col not in numerical_features else total_df[col].values.reshape(-1,1) for col in df2])"
   ]
  },
  {
   "cell_type": "code",
   "execution_count": 21,
   "metadata": {},
   "outputs": [
    {
     "data": {
      "text/plain": [
       "((3008071, 529), (3008071,))"
      ]
     },
     "execution_count": 21,
     "metadata": {},
     "output_type": "execute_result"
    }
   ],
   "source": [
    "X.shape, Y.shape"
   ]
  },
  {
   "cell_type": "code",
   "execution_count": 20,
   "metadata": {
    "collapsed": true
   },
   "outputs": [],
   "source": [
    "X_train = X[:1437856]\n",
    "X_test = X[1437856:]\n",
    "y_train = Y[:1437856]\n",
    "y_test = Y[1437856:]\n",
    "\n",
    "X_fix , Y_fix = X_train, y_train#fix_class_imbalance_with_subsampling(X_train, y_train, pos_ratio=45)\n",
    "Y_fix=Y_fix.ravel()"
   ]
  },
  {
   "cell_type": "markdown",
   "metadata": {},
   "source": [
    "Custom training score for various paramters - Inverse of Euclidian Distance: Rewards both higher and less \"extreme\" values. Uses Precision of training as X and Recall as Y. "
   ]
  },
  {
   "cell_type": "code",
   "execution_count": 22,
   "metadata": {
    "collapsed": true
   },
   "outputs": [],
   "source": [
    "def score(y_pred , y_test):\n",
    "    test = confusion_matrix(y_test , y_pred)\n",
    "    prec = test[1][1] / (test[1][1] + test[0][1])\n",
    "    rec = test[1][1] / (test[1][1] + test[1][0])\n",
    "    print(\"Precision: \", prec)\n",
    "    print(\"Recall\" , rec)\n",
    "    return ((prec ** 0.5) * (rec ** 0.5))**2"
   ]
  },
  {
   "cell_type": "code",
   "execution_count": 23,
   "metadata": {
    "collapsed": true
   },
   "outputs": [],
   "source": [
    "dtrain = xgb.DMatrix(X_fix, label=Y_fix)\n",
    "dtest = xgb.DMatrix(X_test)"
   ]
  },
  {
   "cell_type": "code",
   "execution_count": 24,
   "metadata": {},
   "outputs": [],
   "source": [
    "max_depth = 10\n",
    "eta = 0.3\n",
    "num_rounds = 10\n",
    "param = {'max_depth':max_depth, 'eta':eta, 'silent':0, 'eval_metric':'logloss', 'objective':'binary:logistic' }\n",
    "bst = xgb.train(param, dtrain, num_rounds, verbose_eval=200)\n",
    "preds = bst.predict(dtest)\n",
    "y_pred = np.array([float(i) for i in np.round(preds)])\n",
    "precision = precision_score(y_test, y_pred, average='binary')\n",
    "recall = recall_score(y_test, y_pred, average='binary')"
   ]
  },
  {
   "cell_type": "code",
   "execution_count": 25,
   "metadata": {},
   "outputs": [
    {
     "name": "stdout",
     "output_type": "stream",
     "text": [
      "Max depth: 10 Eta: 0.3 Precision: 0.00118497452305 Recall: 0.603174603175\n"
     ]
    }
   ],
   "source": [
    "print(\"Max depth: \" + str(10) + \" Eta: \" + str(0.3) + \" Precision: \" + str(precision) + \" Recall: \" + str(recall))"
   ]
  },
  {
   "cell_type": "code",
   "execution_count": 26,
   "metadata": {},
   "outputs": [
    {
     "data": {
      "text/plain": [
       "array([[1088817,  480453],\n",
       "       [    375,     570]])"
      ]
     },
     "execution_count": 26,
     "metadata": {},
     "output_type": "execute_result"
    }
   ],
   "source": [
    "confusion_matrix(y_test, y_pred)"
   ]
  },
  {
   "cell_type": "code",
   "execution_count": 27,
   "metadata": {},
   "outputs": [
    {
     "name": "stdout",
     "output_type": "stream",
     "text": [
      "Precision:  0.00118497452305\n",
      "Recall 0.603174603175\n"
     ]
    },
    {
     "data": {
      "text/plain": [
       "0.00071474653771134403"
      ]
     },
     "execution_count": 27,
     "metadata": {},
     "output_type": "execute_result"
    }
   ],
   "source": [
    "score(y_pred, y_test)"
   ]
  },
  {
   "cell_type": "markdown",
   "metadata": {},
   "source": [
    "## Running the cells below will take a lot of time"
   ]
  },
  {
   "cell_type": "markdown",
   "metadata": {},
   "source": [
    "## STOP HERE"
   ]
  },
  {
   "cell_type": "code",
   "execution_count": null,
   "metadata": {
    "collapsed": true
   },
   "outputs": [],
   "source": []
  },
  {
   "cell_type": "code",
   "execution_count": 21,
   "metadata": {
    "scrolled": true
   },
   "outputs": [
    {
     "name": "stdout",
     "output_type": "stream",
     "text": [
      "Max depth: 10 Eta: 0.1 Precision: 1.0 Recall: 0.999700089973\n",
      "Max depth: 10 Eta: 0.2 Precision: 1.0 Recall: 0.999700089973\n",
      "Max depth: 10 Eta: 0.30000000000000004 Precision: 1.0 Recall: 0.999700089973\n",
      "Max depth: 10 Eta: 0.4 Precision: 1.0 Recall: 0.999700089973\n",
      "Max depth: 10 Eta: 0.5 Precision: 1.0 Recall: 0.999700089973\n",
      "Max depth: 10 Eta: 0.6 Precision: 1.0 Recall: 0.999700089973\n",
      "Max depth: 10 Eta: 0.7000000000000001 Precision: 1.0 Recall: 0.999700089973\n",
      "Max depth: 10 Eta: 0.8 Precision: 1.0 Recall: 0.999700089973\n",
      "Max depth: 10 Eta: 0.9 Precision: 1.0 Recall: 0.999700089973\n",
      "Max depth: 20 Eta: 0.1 Precision: 1.0 Recall: 0.999700089973\n",
      "Max depth: 20 Eta: 0.2 Precision: 1.0 Recall: 0.999700089973\n",
      "Max depth: 20 Eta: 0.30000000000000004 Precision: 1.0 Recall: 0.999700089973\n",
      "Max depth: 20 Eta: 0.4 Precision: 1.0 Recall: 0.999700089973\n",
      "Max depth: 20 Eta: 0.5 Precision: 1.0 Recall: 0.999700089973\n",
      "Max depth: 20 Eta: 0.6 Precision: 1.0 Recall: 0.999700089973\n",
      "Max depth: 20 Eta: 0.7000000000000001 Precision: 1.0 Recall: 0.999700089973\n",
      "Max depth: 20 Eta: 0.8 Precision: 1.0 Recall: 0.999700089973\n",
      "Max depth: 20 Eta: 0.9 Precision: 1.0 Recall: 0.999700089973\n",
      "Max depth: 30 Eta: 0.1 Precision: 1.0 Recall: 0.999700089973\n",
      "Max depth: 30 Eta: 0.2 Precision: 1.0 Recall: 0.999700089973\n",
      "Max depth: 30 Eta: 0.30000000000000004 Precision: 1.0 Recall: 0.999700089973\n",
      "Max depth: 30 Eta: 0.4 Precision: 1.0 Recall: 0.999700089973\n",
      "Max depth: 30 Eta: 0.5 Precision: 1.0 Recall: 0.999700089973\n",
      "Max depth: 30 Eta: 0.6 Precision: 1.0 Recall: 0.999700089973\n",
      "Max depth: 30 Eta: 0.7000000000000001 Precision: 1.0 Recall: 0.999700089973\n",
      "Max depth: 30 Eta: 0.8 Precision: 1.0 Recall: 0.999700089973\n",
      "Max depth: 30 Eta: 0.9 Precision: 1.0 Recall: 0.999700089973\n"
     ]
    }
   ],
   "source": [
    "num_round = 10\n",
    "\n",
    "max_depth_list = [x*10+10 for x in range(3)]\n",
    "eta_list = [x*0.1+0.1 for x in range(9)]\n",
    "for max_depth in max_depth_list: \n",
    "    for eta in eta_list: \n",
    "        param = {'max_depth':max_depth, 'eta':eta, 'silent':0, 'eval_metric':'logloss', 'objective':'binary:logistic' }\n",
    "        bst = xgb.train(param, dtrain, num_round, verbose_eval=200)\n",
    "        preds = bst.predict(dtest)\n",
    "        y_pred = np.array([float(i) for i in np.round(preds)])\n",
    "        precision = precision_score(y_test, y_pred, average='binary')\n",
    "        recall = recall_score(y_test, y_pred, average='binary')\n",
    "        print(\"Max depth: \" + str(max_depth) + \" Eta: \" + str(eta) + \" Precision: \" + str(precision) + \" Recall: \" + str(recall))"
   ]
  },
  {
   "cell_type": "markdown",
   "metadata": {},
   "source": [
    "## STOP HERE"
   ]
  },
  {
   "cell_type": "markdown",
   "metadata": {},
   "source": [
    "## STOP HERE"
   ]
  },
  {
   "cell_type": "markdown",
   "metadata": {},
   "source": [
    "## STOP HERE"
   ]
  },
  {
   "cell_type": "code",
   "execution_count": 77,
   "metadata": {},
   "outputs": [
    {
     "data": {
      "text/plain": [
       "array([[32792,    68],\n",
       "       [    8,     0]])"
      ]
     },
     "execution_count": 77,
     "metadata": {},
     "output_type": "execute_result"
    }
   ],
   "source": [
    "param = {'max_depth':10, 'eta':0.1, 'silent':0, 'eval_metric':'logloss', 'objective':'binary:logistic' }\n",
    "bst = xgb.train(param, dtrain, num_round, verbose_eval=200)\n",
    "preds = bst.predict(dtest)\n",
    "confusion_matrix(y_test, np.round(preds))\n",
    "# precision = precision_score(y_test, y_pred, average='binary')\n",
    "# recall = recall_score(y_test, y_pred, average='binary')\n",
    "# print(\"Max depth: \" + str(max_depth) + \" Eta: \" + str(eta) + \" Precision: \" + str(precision) + \" Recall: \" + str(recall))"
   ]
  },
  {
   "cell_type": "code",
   "execution_count": 54,
   "metadata": {
    "collapsed": true
   },
   "outputs": [],
   "source": [
    "preds = bst.predict(dtest)"
   ]
  },
  {
   "cell_type": "code",
   "execution_count": 57,
   "metadata": {},
   "outputs": [
    {
     "data": {
      "text/plain": [
       "array([[32674,   186],\n",
       "       [    8,     0]])"
      ]
     },
     "execution_count": 57,
     "metadata": {},
     "output_type": "execute_result"
    }
   ],
   "source": [
    "confusion_matrix(y_test, np.round(preds))"
   ]
  },
  {
   "cell_type": "code",
   "execution_count": 63,
   "metadata": {},
   "outputs": [
    {
     "data": {
      "text/plain": [
       "array([ 0.,  0.,  0., ...,  0.,  0.,  0.])"
      ]
     },
     "execution_count": 63,
     "metadata": {},
     "output_type": "execute_result"
    }
   ],
   "source": [
    "y_test"
   ]
  },
  {
   "cell_type": "code",
   "execution_count": 70,
   "metadata": {},
   "outputs": [
    {
     "data": {
      "text/plain": [
       "array([ 0.,  0.,  0., ...,  0.,  0.,  0.])"
      ]
     },
     "execution_count": 70,
     "metadata": {},
     "output_type": "execute_result"
    }
   ],
   "source": [
    "y_pred = np.array([float(i) for i in np.round(preds)])\n",
    "y_pred"
   ]
  },
  {
   "cell_type": "code",
   "execution_count": 71,
   "metadata": {},
   "outputs": [
    {
     "data": {
      "text/plain": [
       "32674"
      ]
     },
     "execution_count": 71,
     "metadata": {},
     "output_type": "execute_result"
    }
   ],
   "source": [
    "sum(y_pred == y_test)"
   ]
  },
  {
   "cell_type": "code",
   "execution_count": 69,
   "metadata": {},
   "outputs": [
    {
     "data": {
      "text/plain": [
       "(0.0, 0.0)"
      ]
     },
     "execution_count": 69,
     "metadata": {},
     "output_type": "execute_result"
    }
   ],
   "source": [
    "precision = precision_score(y_test, y_pred, average='binary')\n",
    "recall = recall_score(y_test, y_pred, average='binary')\n",
    "precision, recall"
   ]
  },
  {
   "cell_type": "code",
   "execution_count": null,
   "metadata": {
    "collapsed": true
   },
   "outputs": [],
   "source": []
  },
  {
   "cell_type": "markdown",
   "metadata": {},
   "source": [
    "## KUSHS MODEL"
   ]
  },
  {
   "cell_type": "markdown",
   "metadata": {},
   "source": [
    "## KUSHS MODEL"
   ]
  },
  {
   "cell_type": "markdown",
   "metadata": {},
   "source": [
    "## KUSHS MODEL"
   ]
  },
  {
   "cell_type": "markdown",
   "metadata": {},
   "source": [
    "## DO NOT RUN"
   ]
  },
  {
   "cell_type": "code",
   "execution_count": 25,
   "metadata": {},
   "outputs": [
    {
     "data": {
      "text/plain": [
       "array([ 0.,  0.,  0., ...,  0.,  0.,  0.])"
      ]
     },
     "execution_count": 25,
     "metadata": {},
     "output_type": "execute_result"
    }
   ],
   "source": [
    "model = xgb.XGBClassifier()\n",
    "\n",
    "model.fit(X_fix ,Y_fix )\n",
    "\n",
    "model.predict(X_train)\n",
    "\n",
    "# confusion_mat"
   ]
  },
  {
   "cell_type": "code",
   "execution_count": null,
   "metadata": {
    "collapsed": true
   },
   "outputs": [],
   "source": []
  },
  {
   "cell_type": "code",
   "execution_count": 18,
   "metadata": {},
   "outputs": [
    {
     "data": {
      "text/plain": [
       "{0.0, 1.0}"
      ]
     },
     "execution_count": 18,
     "metadata": {},
     "output_type": "execute_result"
    }
   ],
   "source": [
    "model = xgb.XGBClassifier(objective = \"binary:logistic\")\n",
    "model.fit(X_fix ,Y_fix )\n",
    "y_pred = model.predict(X_test)\n",
    "#confusion_matrix(y_test,y_pred)\n",
    "set(y_pred)"
   ]
  },
  {
   "cell_type": "code",
   "execution_count": 19,
   "metadata": {},
   "outputs": [
    {
     "data": {
      "text/plain": [
       "0.019704433497536946"
      ]
     },
     "execution_count": 19,
     "metadata": {},
     "output_type": "execute_result"
    }
   ],
   "source": [
    "y_pred = model.predict(X_test)\n",
    "fs = f1_score(y_test,y_pred)\n",
    "fs"
   ]
  },
  {
   "cell_type": "markdown",
   "metadata": {},
   "source": [
    "### "
   ]
  },
  {
   "cell_type": "code",
   "execution_count": 20,
   "metadata": {},
   "outputs": [
    {
     "name": "stdout",
     "output_type": "stream",
     "text": [
      "Rat 10   0.00378071833648\n",
      "Rat 20   0.0\n",
      "Rat 30   0.013986013986\n",
      "Rat 40   0.047619047619\n",
      "Rat 50   0.0\n"
     ]
    }
   ],
   "source": [
    "\n",
    "scoresRat = []\n",
    "for rat in [10,20,30,40,50]:\n",
    "    X_train, X_test, y_train, y_test = train_test_split( X, Y, test_size=0.3)\n",
    "    X_fix , Y_fix = fix_class_imbalance_with_subsampling(X_train, y_train, pos_ratio=rat)\n",
    "    Y_fix=Y_fix.ravel()\n",
    "    mdl = xgb.XGBClassifier()\n",
    "    mdl.fit(X_fix , Y_fix)\n",
    "    y_pred = mdl.predict(X_test)\n",
    "    fs = f1_score(y_test,y_pred)\n",
    "    scoresRat.append(fs)\n",
    "    print(\"Rat\", rat , \" \" , fs)\n",
    "\n"
   ]
  },
  {
   "cell_type": "code",
   "execution_count": 29,
   "metadata": {
    "collapsed": true
   },
   "outputs": [],
   "source": [
    "best_feats = [feature_map[i] for i in np.argsort(mdl.feature_importances_)[-20:]]\n",
    "\n"
   ]
  },
  {
   "cell_type": "code",
   "execution_count": 51,
   "metadata": {},
   "outputs": [
    {
     "data": {
      "text/plain": [
       "['geo_dma_code - 618.0',\n",
       " 'ua_device - Generic Smartphone',\n",
       " '_host - an-prod-ralphie-frontline-fleys.us-east-1',\n",
       " 'ad_network_id - 1349',\n",
       " 'i_timestamp - 16',\n",
       " 'ua_os_name - iOS',\n",
       " 'ua_major - 65',\n",
       " 'ua_name - Mobile Safari',\n",
       " 'geo_timezone - America/Los_Angeles',\n",
       " '_host - an-prod-ralphie-frontline-bedim.us-east-1',\n",
       " 'ua_minor - 2',\n",
       " 'vi_cnt',\n",
       " 'ua_name - Firefox Mobile',\n",
       " 'ua_major - 10',\n",
       " 'ua_major - 8',\n",
       " 'ua_major - 11',\n",
       " '_host - an-prod-ralphie-frontline-laris.us-east-1',\n",
       " 'ua_os - iOS 9.3',\n",
       " 'referer - http%3A%2F%2Fwww.breitbart.com%2F',\n",
       " 'ua_device - iPad']"
      ]
     },
     "execution_count": 51,
     "metadata": {},
     "output_type": "execute_result"
    }
   ],
   "source": [
    "list(pd.Series(best_feats).value_counts()[:30].index)"
   ]
  },
  {
   "cell_type": "code",
   "execution_count": 74,
   "metadata": {
    "collapsed": true
   },
   "outputs": [],
   "source": [
    "def featgood(colname , value):\n",
    "    camp = df[df[colname] == value]\n",
    "    with_feat = sum(camp[\"c_cnt\"]) / len(camp)\n",
    "    raw = sum(df[\"c_cnt\"]) / len(df)\n",
    "    print(\"Filtering for\" , value , with_feat)\n",
    "    #print(\"No filter\" , raw)\n",
    "    return with_feat"
   ]
  },
  {
   "cell_type": "code",
   "execution_count": 56,
   "metadata": {},
   "outputs": [
    {
     "data": {
      "text/plain": [
       "5258"
      ]
     },
     "execution_count": 56,
     "metadata": {},
     "output_type": "execute_result"
    }
   ],
   "source": [
    "geo_count = df[df['geo_dma_code'] == '618.0']\n",
    "len(geo_count)"
   ]
  },
  {
   "cell_type": "code",
   "execution_count": 58,
   "metadata": {},
   "outputs": [
    {
     "data": {
      "text/plain": [
       "0.0003803727653100038"
      ]
     },
     "execution_count": 58,
     "metadata": {},
     "output_type": "execute_result"
    }
   ],
   "source": [
    "len(geo_count[geo_count['c_cnt'] == 1])/len(geo_count)"
   ]
  },
  {
   "cell_type": "code",
   "execution_count": 48,
   "metadata": {},
   "outputs": [
    {
     "data": {
      "text/plain": [
       "0.00029207740051113545"
      ]
     },
     "execution_count": 48,
     "metadata": {},
     "output_type": "execute_result"
    }
   ],
   "source": [
    "len(df[df['c_cnt'] == 1])/len(df)"
   ]
  },
  {
   "cell_type": "code",
   "execution_count": 76,
   "metadata": {},
   "outputs": [
    {
     "name": "stdout",
     "output_type": "stream",
     "text": [
      "Feature:  ua_os_name - iOS\n",
      "Filtering for iOS 0.00035832369659755364\n",
      "Feature:  i_timestamp - 16\n",
      "Filtering for 16 0.0002703208500551039\n",
      "Feature:  ua_minor - 2\n",
      "Filtering for 2 0.00019325538699391245\n",
      "Feature:  ua_major - 10\n",
      "Filtering for 10 0.00011098779134295228\n",
      "Feature:  ua_major - 8\n",
      "Filtering for 8 0.0033003300330033004\n",
      "Feature:  referer - http%3A%2F%2Fwww.breitbart.com%2F\n",
      "Filtering for http%3A%2F%2Fwww.breitbart.com%2F 0.00026629976476854114\n",
      "Feature:  ua_name - Firefox Mobile\n",
      "Filtering for Firefox Mobile 0.0020491803278688526\n",
      "Feature:  ua_device - Generic Smartphone\n",
      "Filtering for Generic Smartphone 0.002145922746781116\n",
      "Feature:  _host - an-prod-ralphie-frontline-laris.us-east-1\n",
      "Filtering for an-prod-ralphie-frontline-laris.us-east-1 0.0003250623036081916\n",
      "Feature:  _host - an-prod-ralphie-frontline-fleys.us-east-1\n",
      "Filtering for an-prod-ralphie-frontline-fleys.us-east-1 0.0004345464421510049\n",
      "Feature:  ua_major - 65\n",
      "Filtering for 65 0.00015092631022903068\n",
      "Feature:  geo_dma_code - 618.0\n",
      "Filtering for 618.0 0.0003803727653100038\n",
      "Feature:  geo_timezone - America/Los_Angeles\n",
      "Filtering for America/Los_Angeles 0.00024306061931845803\n",
      "Feature:  ua_os - iOS 9.3\n",
      "Filtering for iOS 9.3 0.00186219739292365\n",
      "Feature:  ua_name - Mobile Safari\n",
      "Filtering for Mobile Safari 0.0003424437643130792\n",
      "Feature:  _host - an-prod-ralphie-frontline-bedim.us-east-1\n",
      "Filtering for an-prod-ralphie-frontline-bedim.us-east-1 0.0004351136734471881\n",
      "Feature:  ad_network_id - 1349\n",
      "Filtering for 1349 0.0006761056315622017\n",
      "Feature:  ua_device - iPad\n",
      "Filtering for iPad 0.0008511543781253325\n",
      "Feature:  ua_major - 11\n",
      "Filtering for 11 0.00019665296650999981\n"
     ]
    }
   ],
   "source": [
    "for (index, item) in enumerate(best_feats):\n",
    "    if item != 'vi_cnt':\n",
    "        print(\"Feature: \", item)\n",
    "        key, values = item.split(\" - \")\n",
    "        featgood(key, values)\n",
    "    "
   ]
  },
  {
   "cell_type": "code",
   "execution_count": 77,
   "metadata": {},
   "outputs": [
    {
     "data": {
      "text/plain": [
       "['geo_dma_code - 618.0',\n",
       " 'ua_device - Generic Smartphone',\n",
       " '_host - an-prod-ralphie-frontline-fleys.us-east-1',\n",
       " 'ad_network_id - 1349',\n",
       " 'i_timestamp - 16',\n",
       " 'ua_os_name - iOS',\n",
       " 'ua_major - 65',\n",
       " 'ua_name - Mobile Safari',\n",
       " 'geo_timezone - America/Los_Angeles',\n",
       " '_host - an-prod-ralphie-frontline-bedim.us-east-1',\n",
       " 'ua_minor - 2',\n",
       " 'vi_cnt',\n",
       " 'ua_name - Firefox Mobile',\n",
       " 'ua_major - 10',\n",
       " 'ua_major - 8',\n",
       " 'ua_major - 11',\n",
       " '_host - an-prod-ralphie-frontline-laris.us-east-1',\n",
       " 'ua_os - iOS 9.3',\n",
       " 'referer - http%3A%2F%2Fwww.breitbart.com%2F',\n",
       " 'ua_device - iPad']"
      ]
     },
     "execution_count": 77,
     "metadata": {},
     "output_type": "execute_result"
    }
   ],
   "source": [
    "list(pd.Series(best_feats).value_counts()[:30].index)"
   ]
  },
  {
   "cell_type": "code",
   "execution_count": 78,
   "metadata": {},
   "outputs": [
    {
     "name": "stdout",
     "output_type": "stream",
     "text": [
      "Filtering for 11 0.00019665296650999981\n",
      "Filtering for 65 0.00015092631022903068\n",
      "Filtering for 10 0.00011098779134295228\n",
      "Filtering for 64 0.00046425255338904364\n",
      "Filtering for 9 0.0015228426395939086\n",
      "Filtering for 6 0.0\n",
      "Filtering for 59 0.0006724949562878278\n",
      "Filtering for 63 0.0007627765064836003\n",
      "Filtering for 3 0.0\n",
      "Filtering for 7 0.0\n",
      "Filtering for 60 0.0\n",
      "Filtering for 8 0.0033003300330033004\n",
      "Filtering for 58 0.0\n",
      "Filtering for 61 0.002242152466367713\n",
      "Filtering for 5 0.0\n",
      "Filtering for 62 0.002331002331002331\n",
      "Filtering for 4 0.0024691358024691358\n",
      "Filtering for 2 0.0027100271002710027\n",
      "Filtering for 55 0.0\n",
      "Filtering for 56 0.0\n",
      "Filtering for 48 0.0\n",
      "Filtering for 49 0.0\n",
      "Filtering for 38 0.0\n",
      "Filtering for 57 0.0\n",
      "Filtering for 50 0.0\n",
      "Filtering for 28 0.0\n",
      "Filtering for 30 0.0\n",
      "Filtering for 52 0.0\n",
      "Filtering for 15 0.0\n",
      "Filtering for 33 0.0\n",
      "Filtering for 45 0.0\n",
      "Filtering for 51 0.0\n",
      "Filtering for 53 0.015151515151515152\n",
      "Filtering for 39 0.0\n",
      "Filtering for 47 0.0\n",
      "Filtering for 34 0.0\n",
      "Filtering for 54 0.0\n",
      "Filtering for 46 0.0\n",
      "Filtering for 43 0.0\n",
      "Filtering for 37 0.0\n",
      "Filtering for 40 0.0\n",
      "Filtering for 16 0.0\n",
      "Filtering for 66 0.0\n",
      "Filtering for 35 0.0\n",
      "Filtering for 44 0.0\n",
      "Filtering for 12 0.0\n",
      "Filtering for 26 0.0\n",
      "Filtering for 36 0.0\n",
      "Filtering for 42 0.0\n",
      "Filtering for 18 0.0\n",
      "Filtering for 41 0.0\n",
      "Filtering for 1 0.0\n",
      "Filtering for 67 0.0\n",
      "Filtering for 31 0.0\n",
      "Filtering for 14 0.0\n",
      "Filtering for 32 0.0\n",
      "Filtering for 604 0.0\n",
      "Filtering for 23 0.0\n",
      "Filtering for 13 0.0\n",
      "Filtering for 29 0.0\n",
      "Filtering for 19 0.0\n"
     ]
    },
    {
     "data": {
      "text/plain": [
       "<function __main__.featgood>"
      ]
     },
     "execution_count": 78,
     "metadata": {},
     "output_type": "execute_result"
    }
   ],
   "source": [
    "click_rat = []\n",
    "for i in df[\"ua_major\"].value_counts().keys():\n",
    "    click_rat.append(featgood(\"ua_major\" , i))\n",
    "featgood"
   ]
  },
  {
   "cell_type": "code",
   "execution_count": 31,
   "metadata": {
    "scrolled": true
   },
   "outputs": [
    {
     "name": "stdout",
     "output_type": "stream",
     "text": [
      "i_timestamp - 15\n",
      "creative_id - 1814142\n",
      "geo_timezone - America/Los_Angeles\n",
      "ck - {\"widget_type\": [\"image\"]}\n",
      "ua_os - Android 5.1\n",
      "ua_device_type - TAB\n",
      "ua - Mozilla/5.0 (iPad; CPU OS 11_2_6 like Mac OS X) AppleWebKit/604.5.6 (KHTML, like Gecko) Version/11.0 Mobile/15D100 Safari/604.1\n",
      "geo_region_name - CA\n",
      "geo_timezone - America/New_York\n",
      "ua_os_name - iOS\n",
      "ua_major - 10\n",
      "referer - http%3A%2F%2Fwww.breitbart.com%2F\n",
      "ua_os - iOS 9.3\n",
      "i_timestamp - 16\n",
      "_host - an-prod-ralphie-frontline-bulks.us-east-1\n",
      "_host - an-prod-ralphie-frontline-bedim.us-east-1\n",
      "ua_device - Generic Smartphone\n",
      "ua_major - 11\n",
      "vi_cnt\n",
      "ad_network_id - 1349\n",
      "0 20\n",
      "ua_os - iOS 11.2\n",
      "referer - http%3A%2F%2Fwww.breitbart.com%2Fbig-government%2F2018%2F04%2F01%2Fpolice-man-exposes-child-chicago-target-store-womens-bathroom%2F\n",
      "referer - http%3A%2F%2Fwww.breitbart.com%2F\n",
      "num_ads - 4.0\n",
      "ua_minor - 0\n",
      "ua_major - 8\n",
      "_host - an-prod-ralphie-frontline-bedim.us-east-1\n",
      "geo_dma_code - 618.0\n",
      "_host - an-prod-ralphie-frontline-fleys.us-east-1\n",
      "ua_name - Mobile Safari\n",
      "geo_timezone - America/New_York\n",
      "ua_device - Generic Smartphone\n",
      "_host - an-prod-ralphie-frontline-soths.us-east-1\n",
      "geo_region_name - CA\n",
      "i_timestamp - 15\n",
      "vi_cnt\n",
      "ua_device - iPad\n",
      "_host - an-prod-ralphie-frontline-orlon.us-east-1\n",
      "ua_os - iOS 9.3\n",
      "ad_network_id - 1349\n",
      "1 40\n",
      "ua_os - Android 5.1\n",
      "_host - an-prod-ralphie-frontline-soths.us-east-1\n",
      "ua_name - Amazon Silk\n",
      "geo_dma_code - 618.0\n",
      "geo_timezone - America/Chicago\n",
      "ua_name - Mobile Safari\n",
      "_host - an-prod-ralphie-frontline-bedim.us-east-1\n",
      "ua_name - Chrome\n",
      "num_ads - 4.0\n",
      "ua_device - Generic Smartphone\n",
      "ua_os - iOS 9.3\n",
      "i_timestamp - 15\n",
      "referer - http%3A%2F%2Fwww.breitbart.com%2F\n",
      "geo_timezone - America/New_York\n",
      "ua_device - iPad\n",
      "geo_region_name - CA\n",
      "geo_region_name - VA\n",
      "ua_major - 11\n",
      "ad_network_id - 1349\n",
      "vi_cnt\n",
      "2 60\n",
      "ua_device_type - MOB\n",
      "ua_os_name - iOS\n",
      "ua_major - 9\n",
      "i_timestamp - 15\n",
      "geo_timezone - America/Chicago\n",
      "ua_major - 11\n",
      "num_ads - 4.0\n",
      "geo_timezone - America/Los_Angeles\n",
      "ua_os - Android 7.0\n",
      "ua_device - iPad\n",
      "geo_dma_code - 618.0\n",
      "ad_network_id - 893\n",
      "ua_os - iOS 11.2\n",
      "_host - an-prod-ralphie-frontline-orlon.us-east-1\n",
      "referer - http%3A%2F%2Fwww.breitbart.com%2F\n",
      "ad_network_id - 1349\n",
      "geo_timezone - America/New_York\n",
      "i_timestamp - 16\n",
      "_host - an-prod-ralphie-frontline-fleys.us-east-1\n",
      "vi_cnt\n",
      "3 80\n",
      "_host - an-prod-ralphie-frontline-bedim.us-east-1\n",
      "ad_network_id - 893\n",
      "ua_minor - 2\n",
      "ua_name - Amazon Silk\n",
      "geo_timezone - America/Denver\n",
      "ua_major - 10\n",
      "ua_device - Generic Smartphone\n",
      "_host - an-prod-ralphie-frontline-orlon.us-east-1\n",
      "_host - an-prod-ralphie-frontline-facer.us-east-1\n",
      "ua_minor - 3\n",
      "ua_os - Android 5.1\n",
      "ua_device - iPad\n",
      "geo_dma_code - 618.0\n",
      "ad_network_id - 1349\n",
      "vi_cnt\n",
      "_host - an-prod-ralphie-frontline-fleys.us-east-1\n",
      "geo_timezone - America/New_York\n",
      "ua_os - iOS 9.3\n",
      "referer - http%3A%2F%2Fwww.breitbart.com%2F\n",
      "i_timestamp - 16\n",
      "4 100\n",
      "ua_major - 65\n",
      "ua_device - iPad\n",
      "geo_region_name - TX\n",
      "ua_os - iOS 11.2\n",
      "_host - an-prod-ralphie-frontline-bedim.us-east-1\n",
      "geo_timezone - America/New_York\n",
      "geo_timezone - America/Chicago\n",
      "_host - an-prod-ralphie-frontline-goofs.us-east-1\n",
      "ua_major - 63\n",
      "ua_name - Mobile Safari\n",
      "ck - {\"widget_type\": [\"image\"]}\n",
      "geo_region_name - CA\n",
      "_host - an-prod-ralphie-frontline-orlon.us-east-1\n",
      "ua_os - iOS 9.3\n",
      "vi_cnt\n",
      "ad_network_id - 1349\n",
      "ua_device_type - TAB\n",
      "_host - an-prod-ralphie-frontline-fleys.us-east-1\n",
      "i_timestamp - 16\n",
      "referer - http%3A%2F%2Fwww.breitbart.com%2F\n",
      "5 120\n",
      "geo_dma_code - 618.0\n",
      "ua_name - Amazon Silk\n",
      "ua - Mozilla/5.0 (iPad; CPU OS 9_3_5 like Mac OS X) AppleWebKit/601.1.46 (KHTML, like Gecko) Version/9.0 Mobile/13G36 Safari/601.1\n",
      "_host - an-prod-ralphie-frontline-bedim.us-east-1\n",
      "ua_device - Generic Smartphone\n",
      "ua_os - iOS 11.2\n",
      "ua_major - 8\n",
      "ua_major - 65\n",
      "geo_timezone - America/Chicago\n",
      "i_timestamp - 16\n",
      "ad_network_id - 1349\n",
      "ua_major - 11\n",
      "geo_timezone - America/New_York\n",
      "_host - an-prod-ralphie-frontline-orlon.us-east-1\n",
      "ua_major - 10\n",
      "referer - http%3A%2F%2Fwww.breitbart.com%2F\n",
      "_host - an-prod-ralphie-frontline-fleys.us-east-1\n",
      "vi_cnt\n",
      "geo_region_name - CA\n",
      "ua_device - iPad\n",
      "6 140\n",
      "ua_os - Android 5.1\n",
      "geo_timezone - America/Chicago\n",
      "referer - http%3A%2F%2Fwww.breitbart.com%2Fbig-government%2F2018%2F04%2F01%2Fpolice-man-exposes-child-chicago-target-store-womens-bathroom%2F\n",
      "ad_network_id - 1349\n",
      "referer - http%3A%2F%2Fwww.breitbart.com%2F\n",
      "ua_minor - 0\n",
      "_host - an-prod-ralphie-frontline-facer.us-east-1\n",
      "geo_region_name - CA\n",
      "i_timestamp - 16\n",
      "geo_timezone - America/New_York\n",
      "ua_name - Mobile Safari\n",
      "ua_device - iPad\n",
      "creative_id - 1814142\n",
      "ua_name - Chrome\n",
      "_host - an-prod-ralphie-frontline-fleys.us-east-1\n",
      "ua_device_type - TAB\n",
      "_host - an-prod-ralphie-frontline-orlon.us-east-1\n",
      "ua_device - Generic Smartphone\n",
      "num_ads - 4.0\n",
      "vi_cnt\n",
      "7 160\n",
      "ad_network_id - 893\n",
      "_host - an-prod-ralphie-frontline-bulks.us-east-1\n",
      "ua_major - 11\n",
      "i_timestamp - 15\n",
      "_host - an-prod-ralphie-frontline-goofs.us-east-1\n",
      "ua_name - Chrome\n",
      "geo_timezone - America/Denver\n",
      "ad_network_id - 1349\n",
      "referer - http%3A%2F%2Fwww.breitbart.com%2F\n",
      "ua_device_type - TAB\n",
      "_host - an-prod-ralphie-frontline-fleys.us-east-1\n",
      "num_ads - 4.0\n",
      "_host - an-prod-ralphie-frontline-orlon.us-east-1\n",
      "geo_region_name - CA\n",
      "_host - an-prod-ralphie-frontline-lamed.us-east-1\n",
      "ua_os - Android 5.0\n",
      "geo_region_name - VA\n",
      "ua_device - iPad\n",
      "ua_name - Mobile Safari\n",
      "vi_cnt\n",
      "8 180\n",
      "ua_major - 11\n",
      "geo_dma_code - 618.0\n",
      "geo_region_name - MI\n",
      "ua_os - iOS 11.2\n",
      "referer - http%3A%2F%2Fwww.breitbart.com%2F\n",
      "geo_timezone - America/Los_Angeles\n",
      "_host - an-prod-ralphie-frontline-fleys.us-east-1\n",
      "num_ads - 10.0\n",
      "_host - an-prod-ralphie-frontline-bulks.us-east-1\n",
      "geo_timezone - America/New_York\n",
      "ua_os - Android 7.0\n",
      "geo_region_name - TX\n",
      "geo_region_name - CA\n",
      "ua_device - iPad\n",
      "ua_os - iOS 9.3\n",
      "ua_major - 65\n",
      "vi_cnt\n",
      "ad_network_id - 1349\n",
      "ua_name - Firefox Mobile\n",
      "i_timestamp - 16\n",
      "9 200\n",
      "ua_major - 11\n",
      "ua_os_name - iOS\n",
      "i_timestamp - 15\n",
      "_host - an-prod-ralphie-frontline-orlon.us-east-1\n",
      "geo_timezone - America/Los_Angeles\n",
      "ad_network_id - 893\n",
      "ua_name - Amazon Silk\n",
      "ua_name - Mobile Safari\n",
      "geo_region_name - FL\n",
      "_host - an-prod-ralphie-frontline-fleys.us-east-1\n",
      "creative_id - 1814142\n",
      "ua_device - iPad\n",
      "geo_timezone - America/New_York\n",
      "geo_timezone - America/Chicago\n",
      "ua_os - Android 5.1\n",
      "ad_network_id - 1349\n",
      "num_ads - 4.0\n",
      "i_timestamp - 16\n",
      "referer - http%3A%2F%2Fwww.breitbart.com%2F\n",
      "vi_cnt\n",
      "10 220\n",
      "geo_timezone - America/New_York\n",
      "ua_name - Mobile Safari\n",
      "num_ads - 4.0\n",
      "num_ads - 6.0\n",
      "ua_major - 11\n",
      "geo_timezone - America/Chicago\n",
      "geo_region_name - VA\n",
      "geo_timezone - America/Denver\n",
      "_host - an-prod-ralphie-frontline-bulks.us-east-1\n",
      "ua_os - Android 5.0\n",
      "ua_major - 65\n",
      "ua_minor - 0\n",
      "ua_minor - 3\n",
      "referer - http%3A%2F%2Fwww.breitbart.com%2F\n",
      "i_timestamp - 15\n",
      "geo_region_name - CA\n",
      "_host - an-prod-ralphie-frontline-orlon.us-east-1\n",
      "ad_network_id - 1349\n",
      "ua_device - iPad\n",
      "vi_cnt\n",
      "11 240\n",
      "ua_os - iOS 10.3\n",
      "_host - an-prod-ralphie-frontline-orlon.us-east-1\n",
      "ua_device_type - TAB\n",
      "geo_dma_code - 618.0\n",
      "i_timestamp - 16\n",
      "geo_region_name - CA\n",
      "geo_timezone - America/New_York\n",
      "_host - an-prod-ralphie-frontline-bulks.us-east-1\n",
      "ua_name - Chrome\n",
      "ua_os - iOS 9.3\n",
      "num_ads - 4.0\n",
      "ua_device - Generic Smartphone\n",
      "_host - an-prod-ralphie-frontline-fleys.us-east-1\n",
      "ua_device - iPad\n",
      "geo_timezone - America/Chicago\n",
      "ua_minor - 0\n",
      "referer - http%3A%2F%2Fwww.breitbart.com%2F\n",
      "ua_major - 11\n",
      "ad_network_id - 1349\n",
      "vi_cnt\n",
      "12 260\n",
      "geo_timezone - America/Denver\n",
      "ua_device - Kindle\n",
      "ua_name - Mobile Safari\n",
      "ad_network_id - 1349\n",
      "geo_timezone - America/Chicago\n",
      "ad_network_id - 893\n",
      "geo_timezone - America/Los_Angeles\n",
      "ua_minor - 3\n",
      "ad_network_id - 1828\n",
      "ua_os - Android 5.1\n",
      "geo_dma_code - 803.0\n",
      "num_ads - 10.0\n",
      "ua_os - iOS 11.2\n",
      "ua_name - Firefox Mobile\n",
      "ua_major - 10\n",
      "referer - http%3A%2F%2Fwww.breitbart.com%2F\n",
      "creative_id - 1814142\n",
      "_host - an-prod-ralphie-frontline-fleys.us-east-1\n",
      "ua_device - iPad\n",
      "vi_cnt\n",
      "13 280\n",
      "ua_minor - 0\n",
      "geo_region_name - CA\n",
      "ad_network_id - 893\n",
      "_host - an-prod-ralphie-frontline-bedim.us-east-1\n",
      "ua_name - Mobile Safari\n",
      "ua - Mozilla/5.0 (iPad; CPU OS 11_2_6 like Mac OS X) AppleWebKit/604.5.6 (KHTML, like Gecko) Version/11.0 Mobile/15D100 Safari/604.1\n",
      "ua_minor - 3\n",
      "ck - \n",
      "_host - an-prod-ralphie-frontline-orlon.us-east-1\n",
      "zone_id - 17681\n",
      "geo_dma_code - 618.0\n",
      "geo_region_name - VA\n",
      "i_timestamp - 16\n",
      "ua_major - 65\n",
      "ua_os - iOS 9.3\n",
      "ua_major - 11\n",
      "geo_timezone - America/New_York\n",
      "_host - an-prod-ralphie-frontline-bulks.us-east-1\n",
      "ua_device - iPad\n",
      "vi_cnt\n",
      "14 300\n"
     ]
    },
    {
     "name": "stdout",
     "output_type": "stream",
     "text": [
      "ck - {\"widget_type\": [\"image\"]}\n",
      "ua_os_name - iOS\n",
      "ua_major - 63\n",
      "ua_os - iOS 11.2\n",
      "referer - http%3A%2F%2Fwww.breitbart.com%2Fbig-government%2F2018%2F04%2F01%2Fpolice-man-exposes-child-chicago-target-store-womens-bathroom%2F\n",
      "ua_name - Mobile Safari\n",
      "ad_network_id - 1349\n",
      "num_ads - 6.0\n",
      "ua_major - 10\n",
      "referer - http%3A%2F%2Fwww.breitbart.com%2F\n",
      "geo_region_name - CA\n",
      "_host - an-prod-ralphie-frontline-bulks.us-east-1\n",
      "i_timestamp - 16\n",
      "ua_minor - 3\n",
      "geo_timezone - America/New_York\n",
      "ua_major - 11\n",
      "geo_timezone - America/Chicago\n",
      "ua_os - Android 5.0\n",
      "vi_cnt\n",
      "ua_device - iPad\n",
      "15 320\n",
      "ua_major - 65\n",
      "ua_name - Chrome Mobile\n",
      "num_ads - 4.0\n",
      "ua_name - Chrome\n",
      "ua_os - Android 7.0\n",
      "_host - an-prod-ralphie-frontline-fleys.us-east-1\n",
      "ua_device - iPad\n",
      "geo_timezone - America/Chicago\n",
      "ua_name - Mobile Safari\n",
      "ad_network_id - 893\n",
      "geo_dma_code - 803.0\n",
      "_host - an-prod-ralphie-frontline-bulks.us-east-1\n",
      "referer - http%3A%2F%2Fwww.breitbart.com%2F\n",
      "geo_region_name - CA\n",
      "geo_dma_code - 618.0\n",
      "_host - an-prod-ralphie-frontline-orlon.us-east-1\n",
      "i_timestamp - 16\n",
      "ua_os - iOS 9.3\n",
      "vi_cnt\n",
      "ad_network_id - 1349\n",
      "16 340\n",
      "ua_device - iPad\n",
      "_host - an-prod-ralphie-frontline-goofs.us-east-1\n",
      "i_timestamp - 16\n",
      "ua_os - Android 7.0\n",
      "ua_os - iOS 11.2\n",
      "ua_major - 65\n",
      "_host - an-prod-ralphie-frontline-laris.us-east-1\n",
      "ua_device_type - TAB\n",
      "ad_network_id - 893\n",
      "geo_timezone - America/Chicago\n",
      "ua_device - Generic Smartphone\n",
      "_host - an-prod-ralphie-frontline-orlon.us-east-1\n",
      "ua_os - Android 5.1\n",
      "geo_timezone - America/New_York\n",
      "ua_os - iOS 9.3\n",
      "ad_network_id - 1349\n",
      "ua_name - Mobile Safari\n",
      "referer - http%3A%2F%2Fwww.breitbart.com%2F\n",
      "_host - an-prod-ralphie-frontline-fleys.us-east-1\n",
      "vi_cnt\n",
      "17 360\n",
      "ck - {\"widget_type\": [\"text_feed\"]}\n",
      "geo_timezone - America/Chicago\n",
      "_host - an-prod-ralphie-frontline-bulks.us-east-1\n",
      "ua_os - iOS 9.3\n",
      "_host - an-prod-ralphie-frontline-soths.us-east-1\n",
      "ck - {\"widget_type\": [\"image\"]}\n",
      "_host - an-prod-ralphie-frontline-laris.us-east-1\n",
      "referer - http%3A%2F%2Fwww.breitbart.com%2F\n",
      "ua_name - Mobile Safari\n",
      "ua_major - 11\n",
      "ua_device - Generic Smartphone\n",
      "ua_major - 65\n",
      "ua_name - Firefox Mobile\n",
      "ua_minor - 3\n",
      "geo_timezone - America/New_York\n",
      "geo_region_name - CA\n",
      "i_timestamp - 16\n",
      "ck - \n",
      "vi_cnt\n",
      "ua_device - iPad\n",
      "18 380\n",
      "_host - an-prod-ralphie-frontline-gamic.us-east-1\n",
      "ua_major - 65\n",
      "num_ads - 4.0\n",
      "ck - {\"widget_type\": [\"image\"]}\n",
      "_host - an-prod-ralphie-frontline-bedim.us-east-1\n",
      "ua_device_type - TAB\n",
      "ua_os - Android 5.1\n",
      "ad_network_id - 1828\n",
      "geo_timezone - America/Chicago\n",
      "ad_network_id - 1349\n",
      "creative_id - 1814135\n",
      "geo_region_name - CA\n",
      "geo_timezone - America/New_York\n",
      "_host - an-prod-ralphie-frontline-fleys.us-east-1\n",
      "ua_os - iOS 9.3\n",
      "ua_device - iPad\n",
      "i_timestamp - 16\n",
      "ua_name - Amazon Silk\n",
      "vi_cnt\n",
      "referer - http%3A%2F%2Fwww.breitbart.com%2F\n",
      "19 400\n"
     ]
    }
   ],
   "source": [
    "good_feats = []\n",
    "for i in range(20):\n",
    "    X_train, X_test, y_train, y_test = train_test_split( X, Y, test_size=0.3)\n",
    "    X_fix , Y_fix = fix_class_imbalance_with_subsampling(X_train, y_train, pos_ratio=50)\n",
    "    Y_fix=Y_fix.ravel()\n",
    "    mdl = xgb.XGBClassifier()\n",
    "    mdl.fit(X_fix , Y_fix)\n",
    "\n",
    "    for w in np.argsort(mdl.feature_importances_)[-20:]:\n",
    "        good_feats.append(feature_map[w])\n",
    "        print(feature_map[w])\n",
    "    print(i, len(good_feats))\n",
    "        \n",
    "\n",
    "\n"
   ]
  },
  {
   "cell_type": "code",
   "execution_count": null,
   "metadata": {
    "collapsed": true
   },
   "outputs": [],
   "source": []
  },
  {
   "cell_type": "code",
   "execution_count": 32,
   "metadata": {},
   "outputs": [
    {
     "data": {
      "text/plain": [
       "<BarContainer object of 617 artists>"
      ]
     },
     "execution_count": 32,
     "metadata": {},
     "output_type": "execute_result"
    },
    {
     "data": {
      "image/png": "[encoded data removed]",
      "text/plain": [
       "<Figure size 432x288 with 1 Axes>"
      ]
     },
     "metadata": {},
     "output_type": "display_data"
    }
   ],
   "source": [
    "plt.bar(range(len(mdl.feature_importances_)), mdl.feature_importances_)"
   ]
  },
  {
   "cell_type": "code",
   "execution_count": null,
   "metadata": {
    "collapsed": true
   },
   "outputs": [],
   "source": []
  },
  {
   "cell_type": "code",
   "execution_count": null,
   "metadata": {
    "collapsed": true
   },
   "outputs": [],
   "source": []
  },
  {
   "cell_type": "code",
   "execution_count": null,
   "metadata": {
    "collapsed": true
   },
   "outputs": [],
   "source": []
  },
  {
   "cell_type": "code",
   "execution_count": 52,
   "metadata": {},
   "outputs": [
    {
     "name": "stdout",
     "output_type": "stream",
     "text": [
      "0 0.106382978723\n",
      "1 0.139240506329\n",
      "2 0.121546961326\n",
      "3 0.0939597315436\n",
      "4 0.0677966101695\n",
      "5 0.220930232558\n",
      "6 0.0952380952381\n",
      "7 0.105263157895\n",
      "8 0.133333333333\n",
      "9 0.10152284264\n"
     ]
    },
    {
     "data": {
      "text/plain": [
       "[0.10638297872340426,\n",
       " 0.13924050632911394,\n",
       " 0.12154696132596685,\n",
       " 0.093959731543624164,\n",
       " 0.067796610169491525,\n",
       " 0.22093023255813954,\n",
       " 0.095238095238095233,\n",
       " 0.10526315789473685,\n",
       " 0.13333333333333333,\n",
       " 0.10152284263959389]"
      ]
     },
     "execution_count": 52,
     "metadata": {},
     "output_type": "execute_result"
    }
   ],
   "source": [
    "avgScores = []\n",
    "for i in range(10): \n",
    "    X_train, X_test, y_train, y_test = train_test_split( X, Y, test_size=0.3)\n",
    "    X_fix , Y_fix = fix_class_imbalance_with_subsampling(X_train, y_train, pos_ratio=45)\n",
    "    Y_fix=Y_fix.ravel()\n",
    "    mdl = xgb.XGBClassifier()\n",
    "    mdl.fit(X_fix , Y_fix)\n",
    "    y_pred = mdl.predict(X_test)\n",
    "    s = f1_score(y_test,y_pred)\n",
    "    print(i , s)\n",
    "    avgScores.append(s)\n",
    "avgScores\n",
    "\n",
    "\n",
    "\n",
    "\n",
    "\n",
    "\n",
    "\n",
    "\n",
    "\n"
   ]
  },
  {
   "cell_type": "code",
   "execution_count": 53,
   "metadata": {},
   "outputs": [
    {
     "data": {
      "text/plain": [
       "0.11852144497554998"
      ]
     },
     "execution_count": 53,
     "metadata": {},
     "output_type": "execute_result"
    }
   ],
   "source": [
    "sum(avgScores) / len(avgScores)"
   ]
  },
  {
   "cell_type": "markdown",
   "metadata": {},
   "source": [
    "Run PCA to condense the data to 80% of it's variance, but cut the featuers from 350 -> 30. This allows it to train faster later"
   ]
  },
  {
   "cell_type": "code",
   "execution_count": 47,
   "metadata": {
    "collapsed": true
   },
   "outputs": [],
   "source": [
    "pca = PCA(n_components = 0.8)\n",
    "pca.fit(X_train)\n",
    "X_train_small = pca.transform(X_train)\n",
    "X_test_small = pca.transform(X_test)"
   ]
  },
  {
   "cell_type": "markdown",
   "metadata": {},
   "source": [
    "Run a search across all possible paramters for RF in order to find one that maximizes score."
   ]
  },
  {
   "cell_type": "code",
   "execution_count": 34,
   "metadata": {},
   "outputs": [
    {
     "name": "stdout",
     "output_type": "stream",
     "text": [
      "Score for gamma:  0  depth:  0\n",
      "Precision:  0.00206832608231\n",
      "Recall 0.456692913386\n"
     ]
    }
   ],
   "source": [
    "\n",
    "\n",
    "scores = []\n",
    "\n",
    "for g in [0]:\n",
    "    n_s = []\n",
    "    for n_est in range(1):\n",
    "        mdl = xgb.XGBClassifier(gamma = 0 , max_depth = 3)\n",
    "        mdl.fit(X_fix , Y_fix)\n",
    "        y_pred = mdl.predict(X_test)\n",
    "        fs = f1_score(y_test,y_pred)\n",
    "        n_s.append(fs)\n",
    "        print(\"Score for gamma: \" , g , \" depth: \" , n_est)\n",
    "        score(y_pred , y_test)\n",
    "    scores.append(n_s)\n",
    "\n",
    "\n",
    "\n",
    "\n",
    "\n",
    "\n",
    "\n",
    "\n",
    "\n",
    "\n"
   ]
  },
  {
   "cell_type": "markdown",
   "metadata": {},
   "source": [
    "Plot the number of estimators (1,10 ,50 ,100) on the x-axis vs number of maximum number of features in a given tree (sqrt , lg2 , 10 , 30 , 50) : y-axis, in a heat map format to see which features provide highest accuracy. Use F1 metric to score models"
   ]
  },
  {
   "cell_type": "code",
   "execution_count": 35,
   "metadata": {},
   "outputs": [
    {
     "data": {
      "text/plain": [
       "<matplotlib.axes._subplots.AxesSubplot at 0x1ddcf54d0b8>"
      ]
     },
     "execution_count": 35,
     "metadata": {},
     "output_type": "execute_result"
    },
    {
     "data": {
      "image/png": "[encoded data removed]",
      "text/plain": [
       "<matplotlib.figure.Figure at 0x1ddcf59f668>"
      ]
     },
     "metadata": {},
     "output_type": "display_data"
    }
   ],
   "source": [
    "sns.heatmap(scores)"
   ]
  },
  {
   "cell_type": "markdown",
   "metadata": {},
   "source": [
    "Looks like lg2 features did the most consistently and 50 estimators did the best. So use these for next grid search"
   ]
  },
  {
   "cell_type": "markdown",
   "metadata": {},
   "source": [
    "Notes for reading confusion matrix\n",
    "\n",
    "[0][0] correct non-clicked\n",
    "[1][0] - Incorrect - ACTUALLY CLICK\n",
    "[0][1] - Inccroect  - ACTUALLY NONCLICK\n",
    "[1][1] - correct click\n"
   ]
  },
  {
   "cell_type": "markdown",
   "metadata": {},
   "source": [
    "Do another grid search on Weighting and Max_depth. Trying to see if weighting the positive class will increase precision from last classifcation."
   ]
  },
  {
   "cell_type": "code",
   "execution_count": 69,
   "metadata": {},
   "outputs": [
    {
     "name": "stderr",
     "output_type": "stream",
     "text": [
      "C:\\ProgramData\\Anaconda3\\lib\\site-packages\\sklearn\\metrics\\classification.py:1135: UndefinedMetricWarning: F-score is ill-defined and being set to 0.0 due to no predicted samples.\n",
      "  'precision', 'predicted', average, warn_for)\n",
      "C:\\ProgramData\\Anaconda3\\lib\\site-packages\\ipykernel_launcher.py:3: RuntimeWarning: invalid value encountered in longlong_scalars\n",
      "  This is separate from the ipykernel package so we can avoid doing imports until\n"
     ]
    },
    {
     "name": "stdout",
     "output_type": "stream",
     "text": [
      "Precision:  nan\n",
      "Recall 0.0\n",
      "Precision:  0.0170212765957\n",
      "Recall 0.0155642023346\n",
      "Precision:  0.00499873627454\n",
      "Recall 0.692607003891\n"
     ]
    },
    {
     "name": "stderr",
     "output_type": "stream",
     "text": [
      "C:\\ProgramData\\Anaconda3\\lib\\site-packages\\sklearn\\metrics\\classification.py:1135: UndefinedMetricWarning: F-score is ill-defined and being set to 0.0 due to no predicted samples.\n",
      "  'precision', 'predicted', average, warn_for)\n",
      "C:\\ProgramData\\Anaconda3\\lib\\site-packages\\ipykernel_launcher.py:3: RuntimeWarning: invalid value encountered in longlong_scalars\n",
      "  This is separate from the ipykernel package so we can avoid doing imports until\n"
     ]
    },
    {
     "name": "stdout",
     "output_type": "stream",
     "text": [
      "Precision:  nan\n",
      "Recall 0.0\n",
      "Precision:  0.0078125\n",
      "Recall 0.105058365759\n",
      "Precision:  0.0048440554092\n",
      "Recall 0.665369649805\n",
      "Precision:  0.0136612021858\n",
      "Recall 0.0194552529183\n",
      "Precision:  0.00740667588386\n",
      "Recall 0.583657587549\n",
      "Precision:  0.00485080940831\n",
      "Recall 0.669260700389\n",
      "Precision:  0.000596870725233\n",
      "Recall 1.0\n",
      "Precision:  0.00222275956996\n",
      "Recall 0.929961089494\n",
      "Precision:  0.00487977754757\n",
      "Recall 0.696498054475\n",
      "Precision:  0.000596870725233\n",
      "Recall 1.0\n",
      "Precision:  0.000604458409969\n",
      "Recall 1.0\n",
      "Precision:  0.00504574438592\n",
      "Recall 0.708171206226\n",
      "Precision:  0.000596870725233\n",
      "Recall 1.0\n",
      "Precision:  0.0006015917603\n",
      "Recall 1.0\n",
      "Precision:  0.00497582368155\n",
      "Recall 0.688715953307\n"
     ]
    }
   ],
   "source": [
    "\n",
    "\n",
    "weight = {0:1 , 1:1}\n",
    "\n",
    "scores = []\n",
    "\n",
    "for weights in [0.001 , 0.1, 1,10,100,1000]:\n",
    "    n_s = []\n",
    "    for max_depths  in [1 , 10 , 100]:\n",
    "        weight = {0:1 , 1:weights}\n",
    "        mdl = RFC(max_features = \"log2\", n_estimators = 50 , class_weight = weight , max_depth= max_depths)\n",
    "        mdl.fit(X_fix , Y_fix)\n",
    "        y_pred = mdl.predict(X_test)\n",
    "        fs = f1_score(y_test,y_pred)\n",
    "        #print(fs)\n",
    "        n_s.append(fs)\n",
    "        score(y_pred , y_test)\n",
    "       # n_s.append(score(y_pred , y_test))\n",
    "    scores.append(n_s)\n",
    "\n",
    "\n",
    "\n",
    "\n",
    "\n",
    "\n",
    "\n",
    "\n",
    "\n",
    "\n"
   ]
  },
  {
   "cell_type": "markdown",
   "metadata": {},
   "source": [
    "Heat map with weighting for positive class on y  [0.001 , 0.1, 1,10,100,1000] and max depth on X [1 , 10 , 100]. "
   ]
  },
  {
   "cell_type": "code",
   "execution_count": 70,
   "metadata": {},
   "outputs": [
    {
     "data": {
      "text/plain": [
       "<matplotlib.axes._subplots.AxesSubplot at 0x24d8e8f4278>"
      ]
     },
     "execution_count": 70,
     "metadata": {},
     "output_type": "execute_result"
    },
    {
     "data": {
      "image/png": "[encoded data removed]",
      "text/plain": [
       "<matplotlib.figure.Figure at 0x24d8e8f1630>"
      ]
     },
     "metadata": {},
     "output_type": "display_data"
    }
   ],
   "source": [
    "sns.heatmap(scores)"
   ]
  },
  {
   "cell_type": "markdown",
   "metadata": {},
   "source": [
    "Best performace currently: max_features = \"log2\", n_estimators = 50 , class_weight: 0:1 , 1:0.001 , max_depth= 10)"
   ]
  },
  {
   "cell_type": "code",
   "execution_count": 82,
   "metadata": {},
   "outputs": [
    {
     "name": "stdout",
     "output_type": "stream",
     "text": [
      "Precision:  0.00721175516091\n",
      "Recall 0.311284046693\n"
     ]
    },
    {
     "data": {
      "text/plain": [
       "0.0022449043302450707"
      ]
     },
     "execution_count": 82,
     "metadata": {},
     "output_type": "execute_result"
    }
   ],
   "source": [
    "mdl = RFC(max_features = \"log2\", n_estimators = 50 , class_weight = {0:1 , 1:1.5} , max_depth= 1)\n",
    "mdl.fit(X_fix , Y_fix)\n",
    "y_pred = mdl.predict(X_test)\n",
    "score(y_pred , y_test)"
   ]
  },
  {
   "cell_type": "markdown",
   "metadata": {},
   "source": [
    "Unfortunetly still has very poor performance on all paramters - next going to try seeing if changing the test ratio helps at all."
   ]
  },
  {
   "cell_type": "code",
   "execution_count": 22,
   "metadata": {},
   "outputs": [
    {
     "name": "stdout",
     "output_type": "stream",
     "text": [
      "Precision:  0.00241677614456\n",
      "Recall 0.819327731092\n",
      "Precision:  0.00376950932848\n",
      "Recall 0.747899159664\n",
      "Precision:  0.0047451619358\n",
      "Recall 0.697478991597\n",
      "Precision:  0.00528900642236\n",
      "Recall 0.647058823529\n",
      "Precision:  0.00621813207313\n",
      "Recall 0.63025210084\n",
      "Precision:  0.00687351759524\n",
      "Recall 0.596638655462\n",
      "Precision:  0.00710450675199\n",
      "Recall 0.550420168067\n",
      "Precision:  0.00734394124847\n",
      "Recall 0.504201680672\n",
      "Precision:  0.00839694656489\n",
      "Recall 0.508403361345\n",
      "Precision:  0.00845219228737\n",
      "Recall 0.470588235294\n",
      "Precision:  0.00878612716763\n",
      "Recall 0.478991596639\n",
      "Precision:  0.00930026572188\n",
      "Recall 0.441176470588\n",
      "Precision:  0.00878449345937\n",
      "Recall 0.386554621849\n",
      "Precision:  0.0098433530906\n",
      "Recall 0.390756302521\n",
      "Precision:  0.0106933813597\n",
      "Recall 0.399159663866\n",
      "Precision:  0.0108903781714\n",
      "Recall 0.382352941176\n",
      "Precision:  0.0109730301428\n",
      "Recall 0.348739495798\n",
      "Precision:  0.0107719928187\n",
      "Recall 0.327731092437\n",
      "Precision:  0.0107302533532\n",
      "Recall 0.302521008403\n",
      "Precision:  0.0113053964426\n",
      "Recall 0.31512605042\n",
      "Precision:  0.0112699747687\n",
      "Recall 0.281512605042\n",
      "Precision:  0.0106068509824\n",
      "Recall 0.256302521008\n",
      "Precision:  0.0109289617486\n",
      "Recall 0.252100840336\n",
      "Precision:  0.0119139123751\n",
      "Recall 0.260504201681\n",
      "Precision:  0.0127363952142\n",
      "Recall 0.27731092437\n",
      "Precision:  0.0132538104705\n",
      "Recall 0.252100840336\n",
      "Precision:  0.0137077161176\n",
      "Recall 0.260504201681\n",
      "Precision:  0.0133771415161\n",
      "Recall 0.239495798319\n",
      "Precision:  0.0134381338742\n",
      "Recall 0.22268907563\n",
      "Precision:  0.0127388535032\n",
      "Recall 0.226890756303\n",
      "Precision:  0.0132416603005\n",
      "Recall 0.218487394958\n",
      "Precision:  0.0144849785408\n",
      "Recall 0.226890756303\n",
      "Precision:  0.0152761457109\n",
      "Recall 0.218487394958\n",
      "Precision:  0.0159051474841\n",
      "Recall 0.231092436975\n",
      "Precision:  0.0149925037481\n",
      "Recall 0.210084033613\n",
      "Precision:  0.0160680529301\n",
      "Recall 0.214285714286\n",
      "Precision:  0.0163654960791\n",
      "Recall 0.201680672269\n",
      "Precision:  0.0160354827704\n",
      "Recall 0.197478991597\n",
      "Precision:  0.0148173673329\n",
      "Recall 0.180672268908\n",
      "Precision:  0.0151343170639\n",
      "Recall 0.168067226891\n",
      "Precision:  0.0170015455951\n",
      "Recall 0.18487394958\n",
      "Precision:  0.0194213238208\n",
      "Recall 0.205882352941\n",
      "Precision:  0.0171793847383\n",
      "Recall 0.180672268908\n",
      "Precision:  0.0180505415162\n",
      "Recall 0.168067226891\n",
      "Precision:  0.0203810367745\n",
      "Recall 0.193277310924\n",
      "Precision:  0.0170082860881\n",
      "Recall 0.163865546218\n",
      "Precision:  0.0179117518567\n",
      "Recall 0.172268907563\n",
      "Precision:  0.0185701021356\n",
      "Recall 0.168067226891\n",
      "Precision:  0.0194174757282\n",
      "Recall 0.176470588235\n"
     ]
    }
   ],
   "source": [
    "scores = []\n",
    "mdl = RFC(max_features = \"log2\", n_estimators = 50 , class_weight = {0:1 , 1:1.5} , max_depth= 50)\n",
    "for ratios in range(1,50):\n",
    "    n_s = []\n",
    "    X_fix , Y_fix = fix_class_imbalance_with_subsampling(X_train, y_train, pos_ratio=ratios)\n",
    "    Y_fix=Y_fix.ravel()\n",
    "    mdl.fit(X_fix , Y_fix)\n",
    "    y_pred = mdl.predict(X_test)\n",
    "    fs = f1_score(y_test,y_pred)\n",
    "    n_s.append(fs)\n",
    "    score(y_pred , y_test)\n",
    "    scores.append(n_s)\n",
    "\n"
   ]
  },
  {
   "cell_type": "code",
   "execution_count": 23,
   "metadata": {},
   "outputs": [
    {
     "data": {
      "text/plain": [
       "<matplotlib.axes._subplots.AxesSubplot at 0x18bb74fd4e0>"
      ]
     },
     "execution_count": 23,
     "metadata": {},
     "output_type": "execute_result"
    },
    {
     "data": {
      "image/png": "[encoded data removed]",
      "text/plain": [
       "<matplotlib.figure.Figure at 0x18d87de9dd8>"
      ]
     },
     "metadata": {},
     "output_type": "display_data"
    }
   ],
   "source": [
    "sns.heatmap(scores)"
   ]
  },
  {
   "cell_type": "code",
   "execution_count": 24,
   "metadata": {
    "collapsed": true
   },
   "outputs": [],
   "source": [
    "def feature_scoring_random_subsample(lst, df, model, oh_thresh, resample_thresh, p=0.3, iterations=10000):\n",
    "    transformed_col, past_score = {}, {}\n",
    "    for col in df.columns:\n",
    "        if col == 'c_cnt': continue\n",
    "        if col not in numerical_features:\n",
    "            transformed_col[col] = transform_column(df, col, thresh=oh_thresh)\n",
    "    Y = df['c_cnt'].values\n",
    "    scores = []\n",
    "    for i in range(iterations):\n",
    "        print(\"Iteration: \", i)\n",
    "        #subsample random columns with probability p\n",
    "        selected = [c for c in df.columns if random.random() < p and c != 'c_cnt']\n",
    "        print(selected)\n",
    "        #if we have no items, super unlucky, try again\n",
    "        if len(selected) < 1: continue\n",
    "        X = np.hstack([transformed_col[col] if col not in numerical_features else df[col].values.reshape(-1,1)\n",
    "                   for col in selected])\n",
    "        remove_corr_features(X, None)\n",
    "        X_train, Y_train, X_test, Y_test = test_train_split(X, Y)\n",
    "        X_train, Y_train = fix_class_imbalance_with_subsampling(X_train, Y_train,pos_ratio=resample_thresh)\n",
    "\n",
    "        lr = clone(model)\n",
    "        lr.fit(X_train, Y_train)\n",
    "        test_cm = confusion_matrix(Y_test, [i for i in lr.predict(X_test)])\n",
    "        score = get_f1_score(test_cm)\n",
    "        if math.isnan(score): continue\n",
    "        scores.append((selected, score))\n",
    "        \n",
    "        if i > 0 and i % 100 == 0: #Updates score list every 100 iterations, and checks for convergence\n",
    "            feature_scores = {}\n",
    "            for f in df.columns:\n",
    "                if f == 'c_cnt': continue\n",
    "                feature_score = []\n",
    "                for cols, score in scores:\n",
    "                    if f in cols:\n",
    "                        feature_score.append(score)\n",
    "                feature_scores[f] = np.mean(feature_score)\n",
    "            lst = []\n",
    "            for feat in feature_scores:\n",
    "                lst.append((feature_scores[feat], feat))\n",
    "            lst = sorted(lst)\n",
    "            lst.reverse()\n",
    "            #check for convergence\n",
    "            if i > 100:\n",
    "                print(lst)\n",
    "                has_conv = True\n",
    "                for f in df.columns:\n",
    "                    if f not in past_score or f not in feature_scores:\n",
    "                        has_conv = False\n",
    "                        break\n",
    "                    if abs(past_score[f]-feature_scores[f])/feature_scores[f] > 0.01: has_conv = False\n",
    "                if has_conv:\n",
    "                    return lst\n",
    "            past_score = feature_scores"
   ]
  },
  {
   "cell_type": "code",
   "execution_count": 97,
   "metadata": {},
   "outputs": [
    {
     "name": "stdout",
     "output_type": "stream",
     "text": [
      "Precision:  0.0026712623869\n",
      "Recall 0.768595041322\n",
      "Precision:  0.00811568540652\n",
      "Recall 0.454545454545\n",
      "Precision:  0.011520335137\n",
      "Recall 0.272727272727\n",
      "Precision:  0.0125702059374\n",
      "Recall 0.194214876033\n",
      "Precision:  0.0143856920684\n",
      "Recall 0.152892561983\n",
      "Precision:  0.0147565174619\n",
      "Recall 0.123966942149\n",
      "Precision:  0.019524100061\n",
      "Recall 0.132231404959\n",
      "Precision:  0.020749665328\n",
      "Recall 0.128099173554\n",
      "Precision:  0.020999275887\n",
      "Recall 0.119834710744\n",
      "Precision:  0.0227081581161\n",
      "Recall 0.111570247934\n",
      "Precision:  0.0273327049953\n",
      "Recall 0.119834710744\n",
      "Precision:  0.0317286652079\n",
      "Recall 0.119834710744\n",
      "Precision:  0.0324449594438\n",
      "Recall 0.115702479339\n",
      "Precision:  0.0320987654321\n",
      "Recall 0.107438016529\n",
      "Precision:  0.0323834196891\n",
      "Recall 0.103305785124\n"
     ]
    }
   ],
   "source": [
    "scores = []\n",
    "mdl = RFC(max_features = \"log2\", n_estimators = 100 , class_weight = {0:1 , 1:1.5} , max_depth= 100)\n",
    "for ratios in range(1,150 , 10):\n",
    "    n_s = []\n",
    "    X_fix , Y_fix = fix_class_imbalance_with_subsampling(X_train, y_train, pos_ratio=ratios)\n",
    "    Y_fix=Y_fix.ravel()\n",
    "    mdl.fit(X_fix , Y_fix)\n",
    "    y_pred = mdl.predict(X_test)\n",
    "    fs = f1_score(y_test,y_pred)\n",
    "    n_s.append(fs)\n",
    "    score(y_pred , y_test)\n",
    "    scores.append(n_s)\n",
    "\n"
   ]
  },
  {
   "cell_type": "code",
   "execution_count": 94,
   "metadata": {},
   "outputs": [
    {
     "data": {
      "text/plain": [
       "<matplotlib.axes._subplots.AxesSubplot at 0x299d9a84128>"
      ]
     },
     "execution_count": 94,
     "metadata": {},
     "output_type": "execute_result"
    },
    {
     "data": {
      "image/png": "[encoded data removed]",
      "text/plain": [
       "<matplotlib.figure.Figure at 0x299d9a74f28>"
      ]
     },
     "metadata": {},
     "output_type": "display_data"
    }
   ],
   "source": []
  },
  {
   "cell_type": "code",
   "execution_count": null,
   "metadata": {
    "collapsed": true
   },
   "outputs": [],
   "source": []
  }
 ],
 "metadata": {
  "anaconda-cloud": {},
  "kernelspec": {
   "display_name": "Python 3",
   "language": "python333",
   "name": "python3"
  },
  "language_info": {
   "codemirror_mode": {
    "name": "ipython",
    "version": 3
   },
   "file_extension": ".py",
   "mimetype": "text/x-python",
   "name": "python",
   "nbconvert_exporter": "python",
   "pygments_lexer": "ipython3",
   "version": "3.6.4"
  }
 },
 "nbformat": 4,
 "nbformat_minor": 1
}
