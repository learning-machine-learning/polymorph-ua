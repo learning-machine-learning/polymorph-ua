{
 "cells": [
  {
   "cell_type": "code",
   "execution_count": 55,
   "metadata": {
    "collapsed": true
   },
   "outputs": [],
   "source": [
    "import numpy as np\n",
    "import sklearn\n",
    "import pandas as pd\n",
    "import matplotlib.pyplot as plt\n",
    "import json\n",
    "from sklearn import preprocessing\n",
    "import seaborn as sns\n",
    "from sklearn.metrics import f1_score\n",
    "from sklearn.ensemble import RandomForestClassifier as RFC\n",
    "from sklearn.ensemble import GradientBoostingClassifier as GBT\n",
    "from sklearn.decomposition import PCA\n",
    "%matplotlib inline\n",
    "\n",
    "#from sklearn.preprocessing import CategoricalEncoder\n",
    "#CategoricalEncoder is part of sklearn's developer version, which you can't just update with conda. If you have issues\n",
    "#getting this version, try a hard code implementation of the library here - https://pastebin.com/qs1es9XE"
   ]
  },
  {
   "cell_type": "code",
   "execution_count": 12,
   "metadata": {
    "collapsed": true
   },
   "outputs": [],
   "source": [
    "def transform_column(df, col, thresh=200):\n",
    "    if df[col].nunique() > thresh:\n",
    "        df_frequency = df[[col, 'c_cnt']].groupby(col).agg('count').sort_values('c_cnt',ascending=False)\n",
    "        cat = [sorted(df_frequency[0:thresh].index.values)]\n",
    "        dict2 = {}\n",
    "        for i, item in enumerate(cat[0]):\n",
    "            dict2[item] = i\n",
    "        #enc = CategoricalEncoder(categories=[sorted(df_frequency[0:thresh].index.values)],handle_unknown='ignore')\n",
    "    else:\n",
    "        dict2 = {}\n",
    "        i = 0\n",
    "        for item in df[col].values:\n",
    "            if item not in dict2:\n",
    "                dict2[item] = i\n",
    "                i+=1\n",
    "        #enc = CategoricalEncoder(categories='auto',handle_unknown='ignore')\n",
    "    return [[1 if j == i else 0 for j in dict2] for i in df[col].values]"
   ]
  },
  {
   "cell_type": "markdown",
   "metadata": {},
   "source": [
    "Our dataset appears to consist of two types of samples - bid samples, and ad samples. Since we are only trying to predict clicks on the ad, AKA \"c_cnt\", which only exists in ad samples, we will only be working with those data. Let's first parse the data and get what we need.\n",
    "\n",
    "Parsing data from 12 hours."
   ]
  },
  {
   "cell_type": "code",
   "execution_count": 3,
   "metadata": {
    "collapsed": true
   },
   "outputs": [],
   "source": [
    "hours = []\n",
    "for i in range(12): \n",
    "    hours.append(pd.read_json(\"hour\" + str(i) + \".json\", lines=True))"
   ]
  },
  {
   "cell_type": "markdown",
   "metadata": {},
   "source": [
    "Create a copy of the table as backup (in case original data gets corrupted)"
   ]
  },
  {
   "cell_type": "code",
   "execution_count": 4,
   "metadata": {
    "collapsed": true
   },
   "outputs": [],
   "source": [
    "table = pd.concat(hours)\n",
    "safe_table = table.copy()\n",
    "df = table"
   ]
  },
  {
   "cell_type": "markdown",
   "metadata": {},
   "source": [
    "Now, we need to do some data cleaning. From some initial exploratory analysis, we can see that that we have 5 features with only 16 non-nan values, with a few other features having a similarly low level of non-nan values. To simplify things, we choose to drop all features with less than some threshhold of non-nan values. Also, as we are trying to predict c_cnt, samples where c_cnt is NaN are useless, so we throw those away as well. \n",
    "\n",
    "After this, we see that less than 10% of our remaining samples contains any NaN values, so we just drop those samples as we don't lose that much information from them."
   ]
  },
  {
   "cell_type": "code",
   "execution_count": 5,
   "metadata": {
    "scrolled": false
   },
   "outputs": [
    {
     "name": "stdout",
     "output_type": "stream",
     "text": [
      "ad_network_id            1883983\n",
      "ad_type                  1883983\n",
      "advertiser_id            1883983\n",
      "bid_requests             1883983\n",
      "bid_responses            1883983\n",
      "c_cnt                    1468618\n",
      "c_timestamp                  914\n",
      "c_txn_fee                    914\n",
      "c_txn_rate                   914\n",
      "campaign_id              1883983\n",
      "campaign_type            1883983\n",
      "cr_cnt                   1883983\n",
      "creative_id              1883983\n",
      "exp_mode                  427894\n",
      "f_cnt                    1468618\n",
      "geo_continent_code       1883983\n",
      "geo_country_code2        1883983\n",
      "geo_dma_code             1883983\n",
      "geo_region_name          1838935\n",
      "geo_timezone             1857314\n",
      "i_cnt                    1468618\n",
      "i_timestamp              1467727\n",
      "pub_network_id           1883983\n",
      "r_cnt                    1883983\n",
      "r_num_ads_requested      1883983\n",
      "r_num_ads_returned       1883983\n",
      "r_num_ads_third_party    1883983\n",
      "r_timestamp              1883983\n",
      "rate_metric              1883983\n",
      "session_id               1883983\n",
      "site_id                  1883983\n",
      "token                    1883983\n",
      "txn_fee                      914\n",
      "txn_rate                     914\n",
      "ua_device                1883983\n",
      "ua_device_type           1877769\n",
      "ua_name                  1883983\n",
      "ua_os_name               1883983\n",
      "vi_cnt                   1468618\n",
      "vi_timestamp              200809\n",
      "vv_cnt                   1468618\n",
      "zone_id                  1883983\n",
      "dtype: int64\n"
     ]
    }
   ],
   "source": [
    "#how many non-nan values do we have?\n",
    "print(df.count())\n",
    "n = len(df)\n",
    "\n",
    "#filter rows with c_cnt as NaN\n",
    "df = df[np.isfinite(df['c_cnt'])]\n",
    "\n",
    "#filter threshhold\n",
    "df = df.dropna(thresh=int(0.5*n), axis=1)\n",
    "#drop all samples with NaN values\n",
    "df = df.dropna(axis=0)"
   ]
  },
  {
   "cell_type": "markdown",
   "metadata": {},
   "source": [
    "Now, we have some more preprocessing to do, so we wrote some simple functions for preprocessing. The most important thing we do here is that since most of our features are categorical, we must encode them with one-hot-encoding, which essentially turns one feature into n different features, one for each type of class in the original features. For example, if we had a feature for \"hair color\", we would map it to a higher dimensional feature space consisting of \"is the hair white\", \"is the hair black\", \"is the hair brown\", etc. Only one of these features would be a 1, and the rest would be 0.\n",
    "\n",
    "Normally, each feature would be mapped to n features, with n being the number of unique classes that feature contains. For our data, however, some features will have thousands, even millions of unique classes, which would result is an omega-sparse dataset. To account for this, we set a threshhold at 200, such that n will never be greater than 201. We still keep track of the 200 most frequent classes, however, the rest will be bunched into a single class. The motivation for this is that for the more frequent classes, we have enough data that our ML models will be able to extract some information, but for the less frequent classes, there is too little data for accurate analysis, so we group them as one class."
   ]
  },
  {
   "cell_type": "code",
   "execution_count": 6,
   "metadata": {
    "collapsed": true,
    "scrolled": true
   },
   "outputs": [],
   "source": [
    "#Turns a timestamp into which minute the time was at - used as a categorical feature.\n",
    "def timestamp_to_min(timestamp, is_hour=True):\n",
    "    if is_hour:\n",
    "        return timestamp.split(':')[0][-2:]\n",
    "    else: \n",
    "        return timestamp.split(':')[1]\n",
    "\n",
    "#plots frequency of a feature's different classes, useful for exploratory analysis\n",
    "def plot_freq(col_name, df):\n",
    "    df_frequency = df.groupby(col_name).agg('count').sort_values('ad_type',ascending=False)\n",
    "    plt.plot([i for i in range(len(df_frequency.values))], [np.log(i[2]) for i in df_frequency.values])\n",
    "    plt.show()\n",
    "\n",
    "#if a feature only has one unique value, it tells us nothing, so we drop it.\n",
    "def remove_only_ones(df):\n",
    "    for col in df.columns:\n",
    "        if len(df[col].unique()) == 1:\n",
    "            df.drop(col, inplace=True,axis=1)\n",
    "\n",
    "#just prints how many unique values are in each feature\n",
    "def print_column_counts(df):    \n",
    "    for i in df:\n",
    "        print(i, df[i].nunique())\n",
    "\n",
    "#We do some final cleaning, changing all non-numerical features into strings for later.\n",
    "def preprocess(df):    \n",
    "    for i in df:\n",
    "        if i[-1] != 't' or i[-2] != 'n' or i[-3] != 'c':\n",
    "            df[i] = df[i].astype('str')\n",
    "    remove_only_ones(df)\n",
    "    if 'site_id' in df.columns:\n",
    "        df.drop('site_id',inplace=True,axis=1)\n",
    "    df['i_timestamp'] = df['i_timestamp'].apply(timestamp_to_min)\n",
    "    df['r_timestamp'] = df['r_timestamp'].apply(timestamp_to_min)\n",
    "    \n",
    "\n",
    "\n",
    "#final preprocessing\n",
    "preprocess(df)\n",
    "#this set contains our numerical column names\n",
    "numerical_features = set(['c_cnt', 'i_cnt', 'r_cnt', 'vi_cnt'])\n",
    "#we create a copy so that X will not include 'c_cnt'\n",
    "df2 = df.copy()\n",
    "df2.drop('c_cnt',inplace=True,axis=1)\n",
    "#u,s,v = np.linalg.svd(X)"
   ]
  },
  {
   "cell_type": "markdown",
   "metadata": {},
   "source": [
    "#given a categorical column, we apply our earlier strategy of one-hot-encoding with maximum thresh=200\n",
    "def transform_column(df, col, thresh=200, return_labels=False):\n",
    "    print(col)\n",
    "    df_frequency = df[[col, 'c_cnt']].groupby(col).agg('count').sort_values('c_cnt',ascending=False)\n",
    "    if df[col].nunique() > thresh:\n",
    "        enc = CategoricalEncoder(categories=[sorted(df_frequency[0:thresh].index.values)],handle_unknown='ignore')\n",
    "        labels = df_frequency[0:thresh].index.values\n",
    "    else:\n",
    "        enc = CategoricalEncoder(categories=[sorted(df_frequency.index.values)],handle_unknown='ignore')\n",
    "        labels = df_frequency.index.values\n",
    "    labels = [str(col) + str(i) for i in labels]\n",
    "    if return_labels:\n",
    "        return labels\n",
    "    enc.fit(df[col].values.reshape(-1, 1))\n",
    "    return enc.transform(df[col].values.reshape(-1,1)).toarray()"
   ]
  },
  {
   "cell_type": "markdown",
   "metadata": {},
   "source": [
    "Create our X and Y matrices - adjust threshhold values for 1HE here"
   ]
  },
  {
   "cell_type": "code",
   "execution_count": 13,
   "metadata": {},
   "outputs": [],
   "source": [
    "one_hot_thresh = 20\n",
    "Y = df['c_cnt'].values\n",
    "X = np.hstack([transform_column(df, col, thresh=one_hot_thresh) if col not in numerical_features else df[col].values.reshape(-1,1)\n",
    "               for col in df2])"
   ]
  },
  {
   "cell_type": "markdown",
   "metadata": {},
   "source": [
    "Now we split the data into 2 sets: training and testing to avoid overfitting of the model. This is done before any subsampling to avoid contaminating the test set. The train set is now subsampled to increase ratio of clicks to nonclicks from 1:2000 to 1:3 which allows models to more accurately learn the click patterns"
   ]
  },
  {
   "cell_type": "code",
   "execution_count": 14,
   "metadata": {
    "collapsed": true
   },
   "outputs": [],
   "source": [
    "def fix_class_imbalance_with_subsampling(tempX, tempY, pos_ratio=2):\n",
    "    tempY = tempY.reshape(-1,1)\n",
    "    ind_1, ind_0 = [], []\n",
    "    for i, y_h in enumerate(tempY):\n",
    "        if y_h: ind_1.append(i)\n",
    "        else: ind_0.append(i)\n",
    "    to_sample = np.random.permutation(pos_ratio*len(ind_1))\n",
    "    to_sample_0 = [ind_0[i] for i in to_sample]\n",
    "    X2 = np.vstack([tempX[ind_1],tempX[to_sample_0]])\n",
    "    Y2 = np.vstack([tempY[ind_1],tempY[to_sample_0]])\n",
    "    tempY = tempY.reshape(-1)\n",
    "    \n",
    "    new_ind = np.random.permutation(len(X2))\n",
    "    return X2[new_ind],Y2[new_ind]"
   ]
  },
  {
   "cell_type": "code",
   "execution_count": 15,
   "metadata": {
    "collapsed": true
   },
   "outputs": [],
   "source": [
    "from sklearn.model_selection import train_test_split\n",
    "from sklearn.metrics import accuracy_score\n",
    "from sklearn.metrics import confusion_matrix\n",
    "\n",
    "X_train, X_test, y_train, y_test = train_test_split( X, Y, test_size=0.3)\n",
    "\n",
    "X_fix , Y_fix = fix_class_imbalance_with_subsampling(X_train, y_train, pos_ratio=3)\n",
    "Y_fix=Y_fix.ravel()\n"
   ]
  },
  {
   "cell_type": "markdown",
   "metadata": {},
   "source": [
    "Custom training score for various paramters - Inverse of Euclidian Distance: Rewards both higher and less \"extreme\" values. Uses Precision of training as X and Recall as Y. "
   ]
  },
  {
   "cell_type": "code",
   "execution_count": 37,
   "metadata": {},
   "outputs": [],
   "source": [
    "def score(y_pred , y_test):\n",
    "    test = confusion_matrix(y_test , y_pred)\n",
    "    prec = test[1][1] / (test[1][1] + test[0][1])\n",
    "    rec = test[1][1] / (test[1][1] + test[1][0])\n",
    "    print(\"Precision: \", prec)\n",
    "    print(\"Recall\" , rec)\n",
    "    return ((prec ** 0.5) * (rec ** 0.5))**2"
   ]
  },
  {
   "cell_type": "markdown",
   "metadata": {},
   "source": [
    "Run PCA to condense the data to 80% of it's variance, but cut the featuers from 350 -> 30. This allows it to train faster later"
   ]
  },
  {
   "cell_type": "code",
   "execution_count": 47,
   "metadata": {},
   "outputs": [],
   "source": [
    "pca = PCA(n_components = 0.8)\n",
    "pca.fit(X_train)\n",
    "X_train_small = pca.transform(X_train)\n",
    "X_test_small = pca.transform(X_test)"
   ]
  },
  {
   "cell_type": "markdown",
   "metadata": {},
   "source": [
    "Run a search across all possible paramters for RF in order to find one that maximizes score."
   ]
  },
  {
   "cell_type": "code",
   "execution_count": 64,
   "metadata": {},
   "outputs": [
    {
     "name": "stdout",
     "output_type": "stream",
     "text": [
      "Precision:  0.00288352674781\n",
      "Recall 0.634241245136\n",
      "Precision:  0.0048107495369\n",
      "Recall 0.677042801556\n",
      "Precision:  0.00476293570037\n",
      "Recall 0.684824902724\n",
      "Precision:  0.00481413605405\n",
      "Recall 0.684824902724\n",
      "Precision:  0.00289504965681\n",
      "Recall 0.587548638132\n",
      "Precision:  0.00486558812796\n",
      "Recall 0.622568093385\n",
      "Precision:  0.00491421190082\n",
      "Recall 0.68093385214\n",
      "Precision:  0.00496485551713\n",
      "Recall 0.692607003891\n",
      "Precision:  0.00298049294141\n",
      "Recall 0.649805447471\n",
      "Precision:  0.00533796974134\n",
      "Recall 0.68093385214\n",
      "Precision:  0.00483965176759\n",
      "Recall 0.677042801556\n",
      "Precision:  0.00473738978038\n",
      "Recall 0.673151750973\n",
      "Precision:  0.0024479252707\n",
      "Recall 0.634241245136\n",
      "Precision:  0.00506781934715\n",
      "Recall 0.661478599222\n",
      "Precision:  0.00472736164317\n",
      "Recall 0.677042801556\n",
      "Precision:  0.00475000686417\n",
      "Recall 0.673151750973\n",
      "Precision:  0.00303744997141\n",
      "Recall 0.661478599222\n",
      "Precision:  0.00464252553389\n",
      "Recall 0.642023346304\n",
      "Precision:  0.00481277766025\n",
      "Recall 0.708171206226\n",
      "Precision:  0.0047412300562\n",
      "Recall 0.692607003891\n"
     ]
    }
   ],
   "source": [
    "\n",
    "\n",
    "weight = {0:1 , 1:1}\n",
    "\n",
    "scores = []\n",
    "\n",
    "for max_feat in [\"auto\" , \"log2\",  10 , 30 , 50]:\n",
    "    n_s = []\n",
    "    for n_est in [1 , 10 ,50 ,100]:\n",
    "        mdl = RFC(max_features = max_feat, n_estimators = n_est , class_weight = weight)\n",
    "        mdl.fit(X_fix , Y_fix)\n",
    "        y_pred = mdl.predict(X_test)\n",
    "        fs = f1_score(y_test,y_pred)\n",
    "        #print(fs)\n",
    "        n_s.append(fs)\n",
    "        score(y_pred , y_test)\n",
    "       # n_s.append(score(y_pred , y_test))\n",
    "    scores.append(n_s)\n",
    "\n",
    "\n",
    "\n",
    "\n",
    "\n",
    "\n",
    "\n",
    "\n",
    "\n",
    "\n"
   ]
  },
  {
   "cell_type": "markdown",
   "metadata": {},
   "source": [
    "Plot the number of estimators (1,10 ,50 ,100) on the x-axis vs number of maximum number of features in a given tree (sqrt , lg2 , 10 , 30 , 50) : y-axis, in a heat map format to see which features provide highest accuracy. Use F1 metric to score models"
   ]
  },
  {
   "cell_type": "code",
   "execution_count": 65,
   "metadata": {},
   "outputs": [
    {
     "data": {
      "text/plain": [
       "<matplotlib.axes._subplots.AxesSubplot at 0x24d2101cb38>"
      ]
     },
     "execution_count": 65,
     "metadata": {},
     "output_type": "execute_result"
    },
    {
     "data": {
      "image/png": "[encoded data removed]",
      "text/plain": [
       "<matplotlib.figure.Figure at 0x24c802f97b8>"
      ]
     },
     "metadata": {},
     "output_type": "display_data"
    }
   ],
   "source": [
    "sns.heatmap(scores)"
   ]
  },
  {
   "cell_type": "markdown",
   "metadata": {},
   "source": [
    "Looks like lg2 features did the most consistently and 50 estimators did the best. So use these for next grid search"
   ]
  },
  {
   "cell_type": "markdown",
   "metadata": {},
   "source": [
    "Notes for reading confusion matrix\n",
    "\n",
    "[0][0] correct non-clicked\n",
    "[1][0] - Incorrect - ACTUALLY CLICK\n",
    "[0][1] - Inccroect  - ACTUALLY NONCLICK\n",
    "[1][1] - correct click\n"
   ]
  },
  {
   "cell_type": "markdown",
   "metadata": {},
   "source": [
    "Do another grid search on Weighting and Max_depth. Trying to see if weighting the positive class will increase precision from last classifcation."
   ]
  },
  {
   "cell_type": "code",
   "execution_count": 69,
   "metadata": {},
   "outputs": [
    {
     "name": "stderr",
     "output_type": "stream",
     "text": [
      "C:\\ProgramData\\Anaconda3\\lib\\site-packages\\sklearn\\metrics\\classification.py:1135: UndefinedMetricWarning: F-score is ill-defined and being set to 0.0 due to no predicted samples.\n",
      "  'precision', 'predicted', average, warn_for)\n",
      "C:\\ProgramData\\Anaconda3\\lib\\site-packages\\ipykernel_launcher.py:3: RuntimeWarning: invalid value encountered in longlong_scalars\n",
      "  This is separate from the ipykernel package so we can avoid doing imports until\n"
     ]
    },
    {
     "name": "stdout",
     "output_type": "stream",
     "text": [
      "Precision:  nan\n",
      "Recall 0.0\n",
      "Precision:  0.0170212765957\n",
      "Recall 0.0155642023346\n",
      "Precision:  0.00499873627454\n",
      "Recall 0.692607003891\n"
     ]
    },
    {
     "name": "stderr",
     "output_type": "stream",
     "text": [
      "C:\\ProgramData\\Anaconda3\\lib\\site-packages\\sklearn\\metrics\\classification.py:1135: UndefinedMetricWarning: F-score is ill-defined and being set to 0.0 due to no predicted samples.\n",
      "  'precision', 'predicted', average, warn_for)\n",
      "C:\\ProgramData\\Anaconda3\\lib\\site-packages\\ipykernel_launcher.py:3: RuntimeWarning: invalid value encountered in longlong_scalars\n",
      "  This is separate from the ipykernel package so we can avoid doing imports until\n"
     ]
    },
    {
     "name": "stdout",
     "output_type": "stream",
     "text": [
      "Precision:  nan\n",
      "Recall 0.0\n",
      "Precision:  0.0078125\n",
      "Recall 0.105058365759\n",
      "Precision:  0.0048440554092\n",
      "Recall 0.665369649805\n",
      "Precision:  0.0136612021858\n",
      "Recall 0.0194552529183\n",
      "Precision:  0.00740667588386\n",
      "Recall 0.583657587549\n",
      "Precision:  0.00485080940831\n",
      "Recall 0.669260700389\n",
      "Precision:  0.000596870725233\n",
      "Recall 1.0\n",
      "Precision:  0.00222275956996\n",
      "Recall 0.929961089494\n",
      "Precision:  0.00487977754757\n",
      "Recall 0.696498054475\n",
      "Precision:  0.000596870725233\n",
      "Recall 1.0\n",
      "Precision:  0.000604458409969\n",
      "Recall 1.0\n",
      "Precision:  0.00504574438592\n",
      "Recall 0.708171206226\n",
      "Precision:  0.000596870725233\n",
      "Recall 1.0\n",
      "Precision:  0.0006015917603\n",
      "Recall 1.0\n",
      "Precision:  0.00497582368155\n",
      "Recall 0.688715953307\n"
     ]
    }
   ],
   "source": [
    "\n",
    "\n",
    "weight = {0:1 , 1:1}\n",
    "\n",
    "scores = []\n",
    "\n",
    "for weights in [0.001 , 0.1, 1,10,100,1000]:\n",
    "    n_s = []\n",
    "    for max_depths  in [1 , 10 , 100]:\n",
    "        weight = {0:1 , 1:weights}\n",
    "        mdl = RFC(max_features = \"log2\", n_estimators = 50 , class_weight = weight , max_depth= max_depths)\n",
    "        mdl.fit(X_fix , Y_fix)\n",
    "        y_pred = mdl.predict(X_test)\n",
    "        fs = f1_score(y_test,y_pred)\n",
    "        #print(fs)\n",
    "        n_s.append(fs)\n",
    "        score(y_pred , y_test)\n",
    "       # n_s.append(score(y_pred , y_test))\n",
    "    scores.append(n_s)\n",
    "\n",
    "\n",
    "\n",
    "\n",
    "\n",
    "\n",
    "\n",
    "\n",
    "\n",
    "\n"
   ]
  },
  {
   "cell_type": "markdown",
   "metadata": {},
   "source": [
    "Heat map with weighting for positive class on y  [0.001 , 0.1, 1,10,100,1000] and max depth on X [1 , 10 , 100]. "
   ]
  },
  {
   "cell_type": "code",
   "execution_count": 70,
   "metadata": {},
   "outputs": [
    {
     "data": {
      "text/plain": [
       "<matplotlib.axes._subplots.AxesSubplot at 0x24d8e8f4278>"
      ]
     },
     "execution_count": 70,
     "metadata": {},
     "output_type": "execute_result"
    },
    {
     "data": {
      "image/png": "[encoded data removed]",
      "text/plain": [
       "<matplotlib.figure.Figure at 0x24d8e8f1630>"
      ]
     },
     "metadata": {},
     "output_type": "display_data"
    }
   ],
   "source": [
    "sns.heatmap(scores)"
   ]
  },
  {
   "cell_type": "markdown",
   "metadata": {},
   "source": [
    "Best performace currently: max_features = \"log2\", n_estimators = 50 , class_weight: 0:1 , 1:0.001 , max_depth= 10)"
   ]
  },
  {
   "cell_type": "code",
   "execution_count": 82,
   "metadata": {},
   "outputs": [
    {
     "name": "stdout",
     "output_type": "stream",
     "text": [
      "Precision:  0.00721175516091\n",
      "Recall 0.311284046693\n"
     ]
    },
    {
     "data": {
      "text/plain": [
       "0.0022449043302450707"
      ]
     },
     "execution_count": 82,
     "metadata": {},
     "output_type": "execute_result"
    }
   ],
   "source": [
    "mdl = RFC(max_features = \"log2\", n_estimators = 50 , class_weight = {0:1 , 1:1.5} , max_depth= 1)\n",
    "mdl.fit(X_fix , Y_fix)\n",
    "y_pred = mdl.predict(X_test)\n",
    "score(y_pred , y_test)"
   ]
  },
  {
   "cell_type": "markdown",
   "metadata": {},
   "source": [
    "Unfortunetly still has very poor performance on all paramters - need to work on feature selection to improve model."
   ]
  },
  {
   "cell_type": "code",
   "execution_count": null,
   "metadata": {
    "collapsed": true
   },
   "outputs": [],
   "source": []
  }
 ],
 "metadata": {
  "anaconda-cloud": {},
  "kernelspec": {
   "display_name": "Python 3",
   "language": "python",
   "name": "python3"
  },
  "language_info": {
   "codemirror_mode": {
    "name": "ipython",
    "version": 3
   },
   "file_extension": ".py",
   "mimetype": "text/x-python",
   "name": "python",
   "nbconvert_exporter": "python",
   "pygments_lexer": "ipython3",
   "version": "3.6.3"
  }
 },
 "nbformat": 4,
 "nbformat_minor": 1
}
