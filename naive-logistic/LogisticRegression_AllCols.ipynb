{
 "cells": [
  {
   "cell_type": "code",
   "execution_count": 2,
   "metadata": {
    "collapsed": false
   },
   "outputs": [],
   "source": [
    "import numpy as np\n",
    "import pandas as pd\n",
    "import matplotlib.pyplot as plt\n",
    "import json\n",
    "import math\n",
    "import random\n",
    "import itertools\n",
    "import datetime\n",
    "import pytz\n",
    "import pickle\n",
    "from pytz import timezone "
   ]
  },
  {
   "cell_type": "code",
   "execution_count": 3,
   "metadata": {
    "collapsed": false
   },
   "outputs": [],
   "source": [
    "pos_1_store = pd.HDFStore('day1_positives_processed.h5')\n",
    "pos_2_store = pd.HDFStore('day2_positives_processed.h5')\n",
    "neg_1_store = pd.HDFStore('day1_negatives_processed.h5')\n",
    "neg_2_store = pd.HDFStore('day2_negatives_processed.h5')\n",
    "\n",
    "#Load out dataframes\n",
    "pos_day1 = pos_1_store['df'] \n",
    "pos_day2 = pos_2_store['df']\n",
    "neg_day1 = neg_1_store['df']\n",
    "neg_day2 = neg_2_store['df']\n",
    "\n",
    "#Close our hdf files\n",
    "pos_1_store.close()\n",
    "pos_2_store.close()\n",
    "neg_1_store.close()\n",
    "neg_2_store.close()"
   ]
  },
  {
   "cell_type": "code",
   "execution_count": 4,
   "metadata": {
    "collapsed": false
   },
   "outputs": [],
   "source": [
    "#Load separate filtered testing data\n",
    "new_test_store = pd.HDFStore('combined_day1_processed.h5')\n",
    "\n",
    "new_test = new_test_store['df']\n",
    "\n",
    "new_test_store.close()"
   ]
  },
  {
   "cell_type": "code",
   "execution_count": 5,
   "metadata": {
    "collapsed": false
   },
   "outputs": [],
   "source": [
    "#Process testing data. \n",
    "sampled_test = new_test.sample(frac=0.03)\n",
    "#sampled_test.keywords = sampled_test.keywords.astype(str)"
   ]
  },
  {
   "cell_type": "code",
   "execution_count": 6,
   "metadata": {
    "collapsed": false
   },
   "outputs": [
    {
     "data": {
      "text/plain": [
       "1599546"
      ]
     },
     "execution_count": 6,
     "metadata": {},
     "output_type": "execute_result"
    }
   ],
   "source": [
    "len(new_test)"
   ]
  },
  {
   "cell_type": "code",
   "execution_count": 7,
   "metadata": {
    "collapsed": true
   },
   "outputs": [],
   "source": [
    "#Combine negative and positive data. \n",
    "neg = pd.concat([neg_day1, neg_day2])\n",
    "pos = pd.concat([pos_day1, pos_day2])"
   ]
  },
  {
   "cell_type": "code",
   "execution_count": 8,
   "metadata": {
    "collapsed": false
   },
   "outputs": [],
   "source": [
    "neg = neg.sample(frac=0.2)\n",
    "pos = pos.sample(frac=0.02)"
   ]
  },
  {
   "cell_type": "code",
   "execution_count": 9,
   "metadata": {
    "collapsed": false
   },
   "outputs": [
    {
     "data": {
      "text/plain": [
       "(151372, 39)"
      ]
     },
     "execution_count": 9,
     "metadata": {},
     "output_type": "execute_result"
    }
   ],
   "source": [
    "df_combined = pd.concat([neg, pos])\n",
    "df_combined = df_combined[np.isfinite(df_combined['c_cnt'])]\n",
    "df_combined = df_combined.sample(frac=1)\n",
    "df_combined.shape"
   ]
  },
  {
   "cell_type": "code",
   "execution_count": 10,
   "metadata": {
    "collapsed": false
   },
   "outputs": [],
   "source": [
    "#df_combined.ref_keywords = df_combined.ref_keywords.astype(str)\n",
    "#df_combined.keywords = df_combined.keywords.astype(str)"
   ]
  },
  {
   "cell_type": "markdown",
   "metadata": {},
   "source": [
    "Use One Hot Encoding for Categorical Variables"
   ]
  },
  {
   "cell_type": "code",
   "execution_count": 11,
   "metadata": {
    "collapsed": false
   },
   "outputs": [],
   "source": [
    "OHE_PATH = \"ohe_labels.pkl\"\n",
    "\n",
    "\n",
    "#this is the helper function for preprocessing ohe labels - dont need to explicitly call this function\n",
    "def generate_ohe_labels(df, c, thresh=200, k_most_freq=False):\n",
    "    appears, oh_index = {}, {}\n",
    "    if c == 'keywords':\n",
    "        for val in df[c].values:\n",
    "            for word in val:\n",
    "                if word not in appears:\n",
    "                    appears[word] = 0\n",
    "                appears[word] += 1\n",
    "        if k_most_freq:\n",
    "            for v in sorted(appears)[0:thresh]:\n",
    "                oh_index[v] = len(oh_index)\n",
    "        else:\n",
    "            for v in [k for k in appears.keys()]:\n",
    "                if appears[v] < thresh:\n",
    "                    del appears[v]\n",
    "            for v in sorted(appears):\n",
    "                oh_index[v] = len(oh_index)\n",
    "    else:    \n",
    "        for val in df[c].values:\n",
    "            if val not in appears:\n",
    "                appears[val] = 0\n",
    "            appears[val] += 1\n",
    "        if k_most_freq:\n",
    "            for v in sorted(appears)[0:thresh]:\n",
    "                oh_index[v] = len(oh_index)\n",
    "        else:\n",
    "            for v in [k for k in appears.keys()]:\n",
    "                if appears[v] < thresh:\n",
    "                    del appears[v]\n",
    "            for v in sorted(appears):\n",
    "                oh_index[v] = len(oh_index)\n",
    "    return oh_index\n",
    "\n",
    "#generate OHE labels to be used for batch learning - run this FIRST\n",
    "def preprocess_ohe(df, thresh=200, path=OHE_PATH, k_most_freq=False):\n",
    "    #create and save our ohe labels\n",
    "    ohe_labels = {}\n",
    "    for c in df:\n",
    "        if c == 'c_cnt':\n",
    "            continue\n",
    "        else:\n",
    "            ohe_labels[c] = generate_ohe_labels(df, c, thresh, k_most_freq=k_most_freq)\n",
    "\n",
    "    with open(path, 'wb') as f:\n",
    "        pickle.dump(ohe_labels, f, pickle.HIGHEST_PROTOCOL)\n",
    "        \n",
    "    return ohe_labels\n",
    "        \n",
    "#generates a small X and Y matrix by sampling from both negative and positive dataframes\n",
    "def generate_batch(df_pos, df_neg, batch_size, path=OHE_PATH, pos_ratio=1, ohe_labels=None):\n",
    "    #load our ohe labels\n",
    "    if ohe_labels == None:\n",
    "        with open(path, 'rb') as f:\n",
    "            ohe_labels = pickle.load(path)\n",
    "    \n",
    "    #pick which indices to use for our batch training\n",
    "    indices_touse_pos = np.random.permutation(len(df_pos))[0:batch_size]\n",
    "    indices_touse_neg = np.random.permutation(len(df_neg))[0:int(batch_size*pos_ratio)]\n",
    "    \n",
    "    #generate X and Y matrices\n",
    "    X, Y = [], []\n",
    "    for i in range(batch_size):\n",
    "        sample_x, sample_y = generate_one_sample(df_pos, ohe_labels)\n",
    "        X.append(sample_x)\n",
    "        Y.append(sample_y)\n",
    "    for i in range(int(batch_size*pos_ratio)):\n",
    "        sample_x, sample_y = generate_one_sample(df_neg, ohe_labels)\n",
    "        X.append(sample_x)\n",
    "        Y.append(sample_y)\n",
    "    \n",
    "    #shuffle X and Y matrices\n",
    "    shuffled_indices = np.random.permutation(len(X))\n",
    "    return [X[i] for i in shuffled_indices], [Y[i] for i in shuffled_indices]\n",
    "    \n",
    "#generates exactly one random sample from a dataframe using OHE. this is a helper function, shouldn't be explicitly called\n",
    "#if index is not -1, will not generate random index\n",
    "def generate_one_sample(df, ohe_labels, index=-1):\n",
    "    if index == -1:\n",
    "        index = np.random.randint(0,len(df))\n",
    "    X = [[0 if ohe_labels[c][df[c].values[index]] != j else 1 for j in range(len(ohe_labels[c]))]\n",
    "         if df[c].values[index] in ohe_labels[c] else [0 for j in range(len(ohe_labels[c]))]\n",
    "                  for c in ohe_labels if c != 'c_cnt' and c != 'keywords']\n",
    "    wordset = set([w for w in df['keywords'].values[index]])\n",
    "    X.append([1 if v in wordset else 0 for v in ohe_labels['keywords']])\n",
    "    X = np.array(X)\n",
    "    X = np.hstack(X)\n",
    "    return X, df['c_cnt'].values[index]\n",
    "\n",
    "#takes in the dataframe, returns an X and Y matrix \n",
    "def transform_df(df, ohe_labels):\n",
    "    X, Y = [], []\n",
    "    for i in range(len(df)):\n",
    "        xmini, ymini = generate_one_sample(df, ohe_labels, index=i)\n",
    "        X.append(xmini)\n",
    "        Y.append(ymini)\n",
    "    return X, Y"
   ]
  },
  {
   "cell_type": "code",
   "execution_count": 12,
   "metadata": {
    "collapsed": false
   },
   "outputs": [],
   "source": [
    "ohe_labels = preprocess_ohe(df_combined, k_most_freq=True)"
   ]
  },
  {
   "cell_type": "code",
   "execution_count": 13,
   "metadata": {
    "collapsed": false
   },
   "outputs": [],
   "source": [
    "X, Y = transform_df(df_combined, ohe_labels)"
   ]
  },
  {
   "cell_type": "code",
   "execution_count": 14,
   "metadata": {
    "collapsed": false
   },
   "outputs": [],
   "source": [
    "X_filtered_test, Y_filtered_test = transform_df(sampled_test, ohe_labels)"
   ]
  },
  {
   "cell_type": "code",
   "execution_count": 15,
   "metadata": {
    "collapsed": false
   },
   "outputs": [],
   "source": [
    "X = np.array(X)\n",
    "Y = np.array(Y)\n",
    "X_filtered_test = np.array(X_filtered_test)\n",
    "Y_filtered_test = np.array(Y_filtered_test)"
   ]
  },
  {
   "cell_type": "code",
   "execution_count": 16,
   "metadata": {
    "collapsed": true
   },
   "outputs": [],
   "source": [
    "#Train and Test Split \n",
    "ind_cutoff = int(0.7*len(X))\n",
    "X_train, Y_train = X[0:ind_cutoff], Y[0:ind_cutoff]\n",
    "X_test, Y_test = X[ind_cutoff:], Y[ind_cutoff:]"
   ]
  },
  {
   "cell_type": "code",
   "execution_count": 17,
   "metadata": {
    "collapsed": false
   },
   "outputs": [
    {
     "data": {
      "text/plain": [
       "105960"
      ]
     },
     "execution_count": 17,
     "metadata": {},
     "output_type": "execute_result"
    }
   ],
   "source": [
    "len(X_train)"
   ]
  },
  {
   "cell_type": "code",
   "execution_count": 18,
   "metadata": {
    "collapsed": false
   },
   "outputs": [
    {
     "name": "stdout",
     "output_type": "stream",
     "text": [
      "Positive samples in training:  17602.0\n",
      "Positive samples in testing:  7532.0\n"
     ]
    }
   ],
   "source": [
    "print(\"Positive samples in training: \", sum(Y_train))\n",
    "print(\"Positive samples in testing: \", sum(Y_test))"
   ]
  },
  {
   "cell_type": "code",
   "execution_count": 37,
   "metadata": {
    "collapsed": false
   },
   "outputs": [
    {
     "data": {
      "text/plain": [
       "LogisticRegression(C=0.01, class_weight=None, dual=False, fit_intercept=True,\n",
       "          intercept_scaling=1, max_iter=100, multi_class='ovr', n_jobs=1,\n",
       "          penalty='l2', random_state=None, solver='liblinear', tol=0.0001,\n",
       "          verbose=0, warm_start=False)"
      ]
     },
     "execution_count": 37,
     "metadata": {},
     "output_type": "execute_result"
    }
   ],
   "source": [
    "from sklearn.linear_model import LogisticRegression, ElasticNet\n",
    "#Train with Filtered Features Using Logistic Regression \n",
    "logreg = LogisticRegression(penalty='l2', C=0.01)\n",
    "logreg.fit(X_train, Y_train)\n"
   ]
  },
  {
   "cell_type": "code",
   "execution_count": 41,
   "metadata": {
    "collapsed": false
   },
   "outputs": [
    {
     "name": "stdout",
     "output_type": "stream",
     "text": [
      "Probabilities for Testing Data\n"
     ]
    },
    {
     "data": {
      "text/html": [
       "<div>\n",
       "<style scoped>\n",
       "    .dataframe tbody tr th:only-of-type {\n",
       "        vertical-align: middle;\n",
       "    }\n",
       "\n",
       "    .dataframe tbody tr th {\n",
       "        vertical-align: top;\n",
       "    }\n",
       "\n",
       "    .dataframe thead th {\n",
       "        text-align: right;\n",
       "    }\n",
       "</style>\n",
       "<table border=\"1\" class=\"dataframe\">\n",
       "  <thead>\n",
       "    <tr style=\"text-align: right;\">\n",
       "      <th></th>\n",
       "      <th>Probability of No Click</th>\n",
       "      <th>Probability of Click</th>\n",
       "      <th>Prediction</th>\n",
       "      <th>Actual</th>\n",
       "      <th>Correct</th>\n",
       "    </tr>\n",
       "  </thead>\n",
       "  <tbody>\n",
       "    <tr>\n",
       "      <th>0</th>\n",
       "      <td>0.980319</td>\n",
       "      <td>0.019681</td>\n",
       "      <td>0.0</td>\n",
       "      <td>0.0</td>\n",
       "      <td>True</td>\n",
       "    </tr>\n",
       "    <tr>\n",
       "      <th>1</th>\n",
       "      <td>0.992106</td>\n",
       "      <td>0.007894</td>\n",
       "      <td>0.0</td>\n",
       "      <td>0.0</td>\n",
       "      <td>True</td>\n",
       "    </tr>\n",
       "    <tr>\n",
       "      <th>2</th>\n",
       "      <td>0.968606</td>\n",
       "      <td>0.031394</td>\n",
       "      <td>0.0</td>\n",
       "      <td>0.0</td>\n",
       "      <td>True</td>\n",
       "    </tr>\n",
       "    <tr>\n",
       "      <th>3</th>\n",
       "      <td>0.996696</td>\n",
       "      <td>0.003304</td>\n",
       "      <td>0.0</td>\n",
       "      <td>0.0</td>\n",
       "      <td>True</td>\n",
       "    </tr>\n",
       "    <tr>\n",
       "      <th>4</th>\n",
       "      <td>0.840239</td>\n",
       "      <td>0.159761</td>\n",
       "      <td>0.0</td>\n",
       "      <td>0.0</td>\n",
       "      <td>True</td>\n",
       "    </tr>\n",
       "    <tr>\n",
       "      <th>5</th>\n",
       "      <td>0.997237</td>\n",
       "      <td>0.002763</td>\n",
       "      <td>0.0</td>\n",
       "      <td>0.0</td>\n",
       "      <td>True</td>\n",
       "    </tr>\n",
       "    <tr>\n",
       "      <th>6</th>\n",
       "      <td>0.981699</td>\n",
       "      <td>0.018301</td>\n",
       "      <td>0.0</td>\n",
       "      <td>0.0</td>\n",
       "      <td>True</td>\n",
       "    </tr>\n",
       "    <tr>\n",
       "      <th>7</th>\n",
       "      <td>0.995558</td>\n",
       "      <td>0.004442</td>\n",
       "      <td>0.0</td>\n",
       "      <td>0.0</td>\n",
       "      <td>True</td>\n",
       "    </tr>\n",
       "    <tr>\n",
       "      <th>8</th>\n",
       "      <td>0.928130</td>\n",
       "      <td>0.071870</td>\n",
       "      <td>0.0</td>\n",
       "      <td>0.0</td>\n",
       "      <td>True</td>\n",
       "    </tr>\n",
       "    <tr>\n",
       "      <th>9</th>\n",
       "      <td>0.999607</td>\n",
       "      <td>0.000393</td>\n",
       "      <td>0.0</td>\n",
       "      <td>0.0</td>\n",
       "      <td>True</td>\n",
       "    </tr>\n",
       "    <tr>\n",
       "      <th>10</th>\n",
       "      <td>0.448240</td>\n",
       "      <td>0.551760</td>\n",
       "      <td>1.0</td>\n",
       "      <td>1.0</td>\n",
       "      <td>True</td>\n",
       "    </tr>\n",
       "    <tr>\n",
       "      <th>11</th>\n",
       "      <td>0.865564</td>\n",
       "      <td>0.134436</td>\n",
       "      <td>0.0</td>\n",
       "      <td>0.0</td>\n",
       "      <td>True</td>\n",
       "    </tr>\n",
       "    <tr>\n",
       "      <th>12</th>\n",
       "      <td>0.990204</td>\n",
       "      <td>0.009796</td>\n",
       "      <td>0.0</td>\n",
       "      <td>0.0</td>\n",
       "      <td>True</td>\n",
       "    </tr>\n",
       "    <tr>\n",
       "      <th>13</th>\n",
       "      <td>0.999651</td>\n",
       "      <td>0.000349</td>\n",
       "      <td>0.0</td>\n",
       "      <td>0.0</td>\n",
       "      <td>True</td>\n",
       "    </tr>\n",
       "    <tr>\n",
       "      <th>14</th>\n",
       "      <td>0.986110</td>\n",
       "      <td>0.013890</td>\n",
       "      <td>0.0</td>\n",
       "      <td>0.0</td>\n",
       "      <td>True</td>\n",
       "    </tr>\n",
       "    <tr>\n",
       "      <th>15</th>\n",
       "      <td>0.972278</td>\n",
       "      <td>0.027722</td>\n",
       "      <td>0.0</td>\n",
       "      <td>0.0</td>\n",
       "      <td>True</td>\n",
       "    </tr>\n",
       "    <tr>\n",
       "      <th>16</th>\n",
       "      <td>0.993383</td>\n",
       "      <td>0.006617</td>\n",
       "      <td>0.0</td>\n",
       "      <td>0.0</td>\n",
       "      <td>True</td>\n",
       "    </tr>\n",
       "    <tr>\n",
       "      <th>17</th>\n",
       "      <td>0.865283</td>\n",
       "      <td>0.134717</td>\n",
       "      <td>0.0</td>\n",
       "      <td>0.0</td>\n",
       "      <td>True</td>\n",
       "    </tr>\n",
       "    <tr>\n",
       "      <th>18</th>\n",
       "      <td>0.998306</td>\n",
       "      <td>0.001694</td>\n",
       "      <td>0.0</td>\n",
       "      <td>0.0</td>\n",
       "      <td>True</td>\n",
       "    </tr>\n",
       "    <tr>\n",
       "      <th>19</th>\n",
       "      <td>0.094280</td>\n",
       "      <td>0.905720</td>\n",
       "      <td>1.0</td>\n",
       "      <td>1.0</td>\n",
       "      <td>True</td>\n",
       "    </tr>\n",
       "    <tr>\n",
       "      <th>20</th>\n",
       "      <td>0.998165</td>\n",
       "      <td>0.001835</td>\n",
       "      <td>0.0</td>\n",
       "      <td>0.0</td>\n",
       "      <td>True</td>\n",
       "    </tr>\n",
       "    <tr>\n",
       "      <th>21</th>\n",
       "      <td>0.997963</td>\n",
       "      <td>0.002037</td>\n",
       "      <td>0.0</td>\n",
       "      <td>0.0</td>\n",
       "      <td>True</td>\n",
       "    </tr>\n",
       "    <tr>\n",
       "      <th>22</th>\n",
       "      <td>0.991286</td>\n",
       "      <td>0.008714</td>\n",
       "      <td>0.0</td>\n",
       "      <td>0.0</td>\n",
       "      <td>True</td>\n",
       "    </tr>\n",
       "    <tr>\n",
       "      <th>23</th>\n",
       "      <td>0.991072</td>\n",
       "      <td>0.008928</td>\n",
       "      <td>0.0</td>\n",
       "      <td>0.0</td>\n",
       "      <td>True</td>\n",
       "    </tr>\n",
       "    <tr>\n",
       "      <th>24</th>\n",
       "      <td>0.997791</td>\n",
       "      <td>0.002209</td>\n",
       "      <td>0.0</td>\n",
       "      <td>0.0</td>\n",
       "      <td>True</td>\n",
       "    </tr>\n",
       "    <tr>\n",
       "      <th>25</th>\n",
       "      <td>0.999143</td>\n",
       "      <td>0.000857</td>\n",
       "      <td>0.0</td>\n",
       "      <td>0.0</td>\n",
       "      <td>True</td>\n",
       "    </tr>\n",
       "    <tr>\n",
       "      <th>26</th>\n",
       "      <td>0.988866</td>\n",
       "      <td>0.011134</td>\n",
       "      <td>0.0</td>\n",
       "      <td>0.0</td>\n",
       "      <td>True</td>\n",
       "    </tr>\n",
       "    <tr>\n",
       "      <th>27</th>\n",
       "      <td>0.980797</td>\n",
       "      <td>0.019203</td>\n",
       "      <td>0.0</td>\n",
       "      <td>0.0</td>\n",
       "      <td>True</td>\n",
       "    </tr>\n",
       "    <tr>\n",
       "      <th>28</th>\n",
       "      <td>0.300485</td>\n",
       "      <td>0.699515</td>\n",
       "      <td>1.0</td>\n",
       "      <td>0.0</td>\n",
       "      <td>False</td>\n",
       "    </tr>\n",
       "    <tr>\n",
       "      <th>29</th>\n",
       "      <td>0.927647</td>\n",
       "      <td>0.072353</td>\n",
       "      <td>0.0</td>\n",
       "      <td>0.0</td>\n",
       "      <td>True</td>\n",
       "    </tr>\n",
       "    <tr>\n",
       "      <th>...</th>\n",
       "      <td>...</td>\n",
       "      <td>...</td>\n",
       "      <td>...</td>\n",
       "      <td>...</td>\n",
       "      <td>...</td>\n",
       "    </tr>\n",
       "    <tr>\n",
       "      <th>45382</th>\n",
       "      <td>0.987608</td>\n",
       "      <td>0.012392</td>\n",
       "      <td>0.0</td>\n",
       "      <td>0.0</td>\n",
       "      <td>True</td>\n",
       "    </tr>\n",
       "    <tr>\n",
       "      <th>45383</th>\n",
       "      <td>0.983939</td>\n",
       "      <td>0.016061</td>\n",
       "      <td>0.0</td>\n",
       "      <td>0.0</td>\n",
       "      <td>True</td>\n",
       "    </tr>\n",
       "    <tr>\n",
       "      <th>45384</th>\n",
       "      <td>0.995889</td>\n",
       "      <td>0.004111</td>\n",
       "      <td>0.0</td>\n",
       "      <td>0.0</td>\n",
       "      <td>True</td>\n",
       "    </tr>\n",
       "    <tr>\n",
       "      <th>45385</th>\n",
       "      <td>0.895164</td>\n",
       "      <td>0.104836</td>\n",
       "      <td>0.0</td>\n",
       "      <td>0.0</td>\n",
       "      <td>True</td>\n",
       "    </tr>\n",
       "    <tr>\n",
       "      <th>45386</th>\n",
       "      <td>0.969389</td>\n",
       "      <td>0.030611</td>\n",
       "      <td>0.0</td>\n",
       "      <td>0.0</td>\n",
       "      <td>True</td>\n",
       "    </tr>\n",
       "    <tr>\n",
       "      <th>45387</th>\n",
       "      <td>0.969074</td>\n",
       "      <td>0.030926</td>\n",
       "      <td>0.0</td>\n",
       "      <td>0.0</td>\n",
       "      <td>True</td>\n",
       "    </tr>\n",
       "    <tr>\n",
       "      <th>45388</th>\n",
       "      <td>0.977989</td>\n",
       "      <td>0.022011</td>\n",
       "      <td>0.0</td>\n",
       "      <td>0.0</td>\n",
       "      <td>True</td>\n",
       "    </tr>\n",
       "    <tr>\n",
       "      <th>45389</th>\n",
       "      <td>0.978069</td>\n",
       "      <td>0.021931</td>\n",
       "      <td>0.0</td>\n",
       "      <td>0.0</td>\n",
       "      <td>True</td>\n",
       "    </tr>\n",
       "    <tr>\n",
       "      <th>45390</th>\n",
       "      <td>0.202023</td>\n",
       "      <td>0.797977</td>\n",
       "      <td>1.0</td>\n",
       "      <td>1.0</td>\n",
       "      <td>True</td>\n",
       "    </tr>\n",
       "    <tr>\n",
       "      <th>45391</th>\n",
       "      <td>0.979388</td>\n",
       "      <td>0.020612</td>\n",
       "      <td>0.0</td>\n",
       "      <td>0.0</td>\n",
       "      <td>True</td>\n",
       "    </tr>\n",
       "    <tr>\n",
       "      <th>45392</th>\n",
       "      <td>0.402457</td>\n",
       "      <td>0.597543</td>\n",
       "      <td>1.0</td>\n",
       "      <td>1.0</td>\n",
       "      <td>True</td>\n",
       "    </tr>\n",
       "    <tr>\n",
       "      <th>45393</th>\n",
       "      <td>0.996745</td>\n",
       "      <td>0.003255</td>\n",
       "      <td>0.0</td>\n",
       "      <td>0.0</td>\n",
       "      <td>True</td>\n",
       "    </tr>\n",
       "    <tr>\n",
       "      <th>45394</th>\n",
       "      <td>0.401603</td>\n",
       "      <td>0.598397</td>\n",
       "      <td>1.0</td>\n",
       "      <td>1.0</td>\n",
       "      <td>True</td>\n",
       "    </tr>\n",
       "    <tr>\n",
       "      <th>45395</th>\n",
       "      <td>0.989068</td>\n",
       "      <td>0.010932</td>\n",
       "      <td>0.0</td>\n",
       "      <td>0.0</td>\n",
       "      <td>True</td>\n",
       "    </tr>\n",
       "    <tr>\n",
       "      <th>45396</th>\n",
       "      <td>0.980459</td>\n",
       "      <td>0.019541</td>\n",
       "      <td>0.0</td>\n",
       "      <td>0.0</td>\n",
       "      <td>True</td>\n",
       "    </tr>\n",
       "    <tr>\n",
       "      <th>45397</th>\n",
       "      <td>0.031708</td>\n",
       "      <td>0.968292</td>\n",
       "      <td>1.0</td>\n",
       "      <td>1.0</td>\n",
       "      <td>True</td>\n",
       "    </tr>\n",
       "    <tr>\n",
       "      <th>45398</th>\n",
       "      <td>0.869631</td>\n",
       "      <td>0.130369</td>\n",
       "      <td>0.0</td>\n",
       "      <td>0.0</td>\n",
       "      <td>True</td>\n",
       "    </tr>\n",
       "    <tr>\n",
       "      <th>45399</th>\n",
       "      <td>0.993830</td>\n",
       "      <td>0.006170</td>\n",
       "      <td>0.0</td>\n",
       "      <td>0.0</td>\n",
       "      <td>True</td>\n",
       "    </tr>\n",
       "    <tr>\n",
       "      <th>45400</th>\n",
       "      <td>0.728601</td>\n",
       "      <td>0.271399</td>\n",
       "      <td>0.0</td>\n",
       "      <td>1.0</td>\n",
       "      <td>False</td>\n",
       "    </tr>\n",
       "    <tr>\n",
       "      <th>45401</th>\n",
       "      <td>0.998261</td>\n",
       "      <td>0.001739</td>\n",
       "      <td>0.0</td>\n",
       "      <td>0.0</td>\n",
       "      <td>True</td>\n",
       "    </tr>\n",
       "    <tr>\n",
       "      <th>45402</th>\n",
       "      <td>0.993465</td>\n",
       "      <td>0.006535</td>\n",
       "      <td>0.0</td>\n",
       "      <td>0.0</td>\n",
       "      <td>True</td>\n",
       "    </tr>\n",
       "    <tr>\n",
       "      <th>45403</th>\n",
       "      <td>0.985651</td>\n",
       "      <td>0.014349</td>\n",
       "      <td>0.0</td>\n",
       "      <td>0.0</td>\n",
       "      <td>True</td>\n",
       "    </tr>\n",
       "    <tr>\n",
       "      <th>45404</th>\n",
       "      <td>0.990541</td>\n",
       "      <td>0.009459</td>\n",
       "      <td>0.0</td>\n",
       "      <td>0.0</td>\n",
       "      <td>True</td>\n",
       "    </tr>\n",
       "    <tr>\n",
       "      <th>45405</th>\n",
       "      <td>0.993748</td>\n",
       "      <td>0.006252</td>\n",
       "      <td>0.0</td>\n",
       "      <td>0.0</td>\n",
       "      <td>True</td>\n",
       "    </tr>\n",
       "    <tr>\n",
       "      <th>45406</th>\n",
       "      <td>0.952254</td>\n",
       "      <td>0.047746</td>\n",
       "      <td>0.0</td>\n",
       "      <td>0.0</td>\n",
       "      <td>True</td>\n",
       "    </tr>\n",
       "    <tr>\n",
       "      <th>45407</th>\n",
       "      <td>0.986143</td>\n",
       "      <td>0.013857</td>\n",
       "      <td>0.0</td>\n",
       "      <td>0.0</td>\n",
       "      <td>True</td>\n",
       "    </tr>\n",
       "    <tr>\n",
       "      <th>45408</th>\n",
       "      <td>0.212961</td>\n",
       "      <td>0.787039</td>\n",
       "      <td>1.0</td>\n",
       "      <td>1.0</td>\n",
       "      <td>True</td>\n",
       "    </tr>\n",
       "    <tr>\n",
       "      <th>45409</th>\n",
       "      <td>0.952098</td>\n",
       "      <td>0.047902</td>\n",
       "      <td>0.0</td>\n",
       "      <td>0.0</td>\n",
       "      <td>True</td>\n",
       "    </tr>\n",
       "    <tr>\n",
       "      <th>45410</th>\n",
       "      <td>0.998504</td>\n",
       "      <td>0.001496</td>\n",
       "      <td>0.0</td>\n",
       "      <td>0.0</td>\n",
       "      <td>True</td>\n",
       "    </tr>\n",
       "    <tr>\n",
       "      <th>45411</th>\n",
       "      <td>0.993608</td>\n",
       "      <td>0.006392</td>\n",
       "      <td>0.0</td>\n",
       "      <td>0.0</td>\n",
       "      <td>True</td>\n",
       "    </tr>\n",
       "  </tbody>\n",
       "</table>\n",
       "<p>45412 rows × 5 columns</p>\n",
       "</div>"
      ],
      "text/plain": [
       "       Probability of No Click  Probability of Click  Prediction  Actual  \\\n",
       "0                     0.980319              0.019681         0.0     0.0   \n",
       "1                     0.992106              0.007894         0.0     0.0   \n",
       "2                     0.968606              0.031394         0.0     0.0   \n",
       "3                     0.996696              0.003304         0.0     0.0   \n",
       "4                     0.840239              0.159761         0.0     0.0   \n",
       "5                     0.997237              0.002763         0.0     0.0   \n",
       "6                     0.981699              0.018301         0.0     0.0   \n",
       "7                     0.995558              0.004442         0.0     0.0   \n",
       "8                     0.928130              0.071870         0.0     0.0   \n",
       "9                     0.999607              0.000393         0.0     0.0   \n",
       "10                    0.448240              0.551760         1.0     1.0   \n",
       "11                    0.865564              0.134436         0.0     0.0   \n",
       "12                    0.990204              0.009796         0.0     0.0   \n",
       "13                    0.999651              0.000349         0.0     0.0   \n",
       "14                    0.986110              0.013890         0.0     0.0   \n",
       "15                    0.972278              0.027722         0.0     0.0   \n",
       "16                    0.993383              0.006617         0.0     0.0   \n",
       "17                    0.865283              0.134717         0.0     0.0   \n",
       "18                    0.998306              0.001694         0.0     0.0   \n",
       "19                    0.094280              0.905720         1.0     1.0   \n",
       "20                    0.998165              0.001835         0.0     0.0   \n",
       "21                    0.997963              0.002037         0.0     0.0   \n",
       "22                    0.991286              0.008714         0.0     0.0   \n",
       "23                    0.991072              0.008928         0.0     0.0   \n",
       "24                    0.997791              0.002209         0.0     0.0   \n",
       "25                    0.999143              0.000857         0.0     0.0   \n",
       "26                    0.988866              0.011134         0.0     0.0   \n",
       "27                    0.980797              0.019203         0.0     0.0   \n",
       "28                    0.300485              0.699515         1.0     0.0   \n",
       "29                    0.927647              0.072353         0.0     0.0   \n",
       "...                        ...                   ...         ...     ...   \n",
       "45382                 0.987608              0.012392         0.0     0.0   \n",
       "45383                 0.983939              0.016061         0.0     0.0   \n",
       "45384                 0.995889              0.004111         0.0     0.0   \n",
       "45385                 0.895164              0.104836         0.0     0.0   \n",
       "45386                 0.969389              0.030611         0.0     0.0   \n",
       "45387                 0.969074              0.030926         0.0     0.0   \n",
       "45388                 0.977989              0.022011         0.0     0.0   \n",
       "45389                 0.978069              0.021931         0.0     0.0   \n",
       "45390                 0.202023              0.797977         1.0     1.0   \n",
       "45391                 0.979388              0.020612         0.0     0.0   \n",
       "45392                 0.402457              0.597543         1.0     1.0   \n",
       "45393                 0.996745              0.003255         0.0     0.0   \n",
       "45394                 0.401603              0.598397         1.0     1.0   \n",
       "45395                 0.989068              0.010932         0.0     0.0   \n",
       "45396                 0.980459              0.019541         0.0     0.0   \n",
       "45397                 0.031708              0.968292         1.0     1.0   \n",
       "45398                 0.869631              0.130369         0.0     0.0   \n",
       "45399                 0.993830              0.006170         0.0     0.0   \n",
       "45400                 0.728601              0.271399         0.0     1.0   \n",
       "45401                 0.998261              0.001739         0.0     0.0   \n",
       "45402                 0.993465              0.006535         0.0     0.0   \n",
       "45403                 0.985651              0.014349         0.0     0.0   \n",
       "45404                 0.990541              0.009459         0.0     0.0   \n",
       "45405                 0.993748              0.006252         0.0     0.0   \n",
       "45406                 0.952254              0.047746         0.0     0.0   \n",
       "45407                 0.986143              0.013857         0.0     0.0   \n",
       "45408                 0.212961              0.787039         1.0     1.0   \n",
       "45409                 0.952098              0.047902         0.0     0.0   \n",
       "45410                 0.998504              0.001496         0.0     0.0   \n",
       "45411                 0.993608              0.006392         0.0     0.0   \n",
       "\n",
       "       Correct  \n",
       "0         True  \n",
       "1         True  \n",
       "2         True  \n",
       "3         True  \n",
       "4         True  \n",
       "5         True  \n",
       "6         True  \n",
       "7         True  \n",
       "8         True  \n",
       "9         True  \n",
       "10        True  \n",
       "11        True  \n",
       "12        True  \n",
       "13        True  \n",
       "14        True  \n",
       "15        True  \n",
       "16        True  \n",
       "17        True  \n",
       "18        True  \n",
       "19        True  \n",
       "20        True  \n",
       "21        True  \n",
       "22        True  \n",
       "23        True  \n",
       "24        True  \n",
       "25        True  \n",
       "26        True  \n",
       "27        True  \n",
       "28       False  \n",
       "29        True  \n",
       "...        ...  \n",
       "45382     True  \n",
       "45383     True  \n",
       "45384     True  \n",
       "45385     True  \n",
       "45386     True  \n",
       "45387     True  \n",
       "45388     True  \n",
       "45389     True  \n",
       "45390     True  \n",
       "45391     True  \n",
       "45392     True  \n",
       "45393     True  \n",
       "45394     True  \n",
       "45395     True  \n",
       "45396     True  \n",
       "45397     True  \n",
       "45398     True  \n",
       "45399     True  \n",
       "45400    False  \n",
       "45401     True  \n",
       "45402     True  \n",
       "45403     True  \n",
       "45404     True  \n",
       "45405     True  \n",
       "45406     True  \n",
       "45407     True  \n",
       "45408     True  \n",
       "45409     True  \n",
       "45410     True  \n",
       "45411     True  \n",
       "\n",
       "[45412 rows x 5 columns]"
      ]
     },
     "execution_count": 41,
     "metadata": {},
     "output_type": "execute_result"
    }
   ],
   "source": [
    "print(\"Probabilities for Testing Data\")\n",
    "\n",
    "predictions_test = pd.DataFrame(logreg.predict_proba(X_test), columns=['Probability of No Click', 'Probability of Click'])\n",
    "predictions_test['Prediction'] = logreg.predict(X_test)\n",
    "predictions_test['Actual'] = Y_test\n",
    "predictions_test['Correct'] = (predictions_test['Prediction'] == predictions_test['Actual'])\n",
    "\n",
    "predictions_test"
   ]
  },
  {
   "cell_type": "code",
   "execution_count": 42,
   "metadata": {
    "collapsed": false
   },
   "outputs": [
    {
     "name": "stdout",
     "output_type": "stream",
     "text": [
      "Training accuracy 96.96300490751227 %\n",
      "Validation accuracy 96.72993922311284 %\n",
      "Training Recall: 0.8616066356095898\n",
      "Validation Recall: 0.8519649495485927\n",
      "Training Precision: 0.9509656383245548\n",
      "Validation Precision: 0.9454840135553264\n",
      "Confusion Matrix for Training Data\n",
      "[[87576   782]\n",
      " [ 2436 15166]]\n",
      "Confusion Matrix for Testing Data\n",
      "[[37510   370]\n",
      " [ 1115  6417]]\n"
     ]
    }
   ],
   "source": [
    "from sklearn.metrics import confusion_matrix\n",
    "\n",
    "print(\"Training accuracy\", 100*logreg.score(X_train,Y_train), \"%\")\n",
    "print(\"Validation accuracy\", 100*logreg.score(X_test,Y_test), \"%\")\n",
    "\n",
    "train_prediction = logreg.predict(X_train)\n",
    "test_prediction = logreg.predict(X_test)\n",
    "\n",
    "train_confusion_matrix = confusion_matrix(Y_train, train_prediction)\n",
    "test_confusion_matrix = confusion_matrix(Y_test, test_prediction)\n",
    "\n",
    "train_recall = train_confusion_matrix[1][1]/sum(train_confusion_matrix[1])\n",
    "test_recall = test_confusion_matrix[1][1]/sum(test_confusion_matrix[1])\n",
    "\n",
    "# #What percent of the positive cases did we catch? \n",
    "print(\"Training Recall:\", train_recall)\n",
    "print(\"Validation Recall:\", test_recall)\n",
    "\n",
    "# #What percent of the positive predictions was correct?\n",
    "\n",
    "train_precision = train_confusion_matrix[1][1]/(train_confusion_matrix[1][1] + train_confusion_matrix[0][1])\n",
    "test_precision = test_confusion_matrix[1][1]/(test_confusion_matrix[1][1] + test_confusion_matrix[0][1])\n",
    "\n",
    "print(\"Training Precision:\", train_precision)\n",
    "print(\"Validation Precision:\", test_precision)\n",
    "\n",
    "print(\"Confusion Matrix for Training Data\")\n",
    "print(train_confusion_matrix)\n",
    "\n",
    "print(\"Confusion Matrix for Testing Data\")\n",
    "# #TN FP \n",
    "# #FN TP \n",
    "print(test_confusion_matrix)"
   ]
  },
  {
   "cell_type": "code",
   "execution_count": 43,
   "metadata": {
    "collapsed": false
   },
   "outputs": [
    {
     "name": "stdout",
     "output_type": "stream",
     "text": [
      "Log Loss on Unfiltered Data\n"
     ]
    },
    {
     "data": {
      "text/plain": [
       "0.0885386783229558"
      ]
     },
     "execution_count": 43,
     "metadata": {},
     "output_type": "execute_result"
    }
   ],
   "source": [
    "from sklearn.metrics import log_loss\n",
    "\n",
    "print(\"Log Loss on Unfiltered Data\")\n",
    "log_loss(Y_test, logreg.predict_proba(X_test))"
   ]
  },
  {
   "cell_type": "code",
   "execution_count": 44,
   "metadata": {
    "collapsed": false
   },
   "outputs": [
    {
     "name": "stdout",
     "output_type": "stream",
     "text": [
      "F1 Score for Unfiltered Data\n"
     ]
    },
    {
     "data": {
      "text/plain": [
       "0.8962916404776871"
      ]
     },
     "execution_count": 44,
     "metadata": {},
     "output_type": "execute_result"
    }
   ],
   "source": [
    "print(\"F1 Score for Unfiltered Data\")\n",
    "(2* (test_precision*test_recall))/(test_precision+test_recall)"
   ]
  },
  {
   "cell_type": "code",
   "execution_count": 45,
   "metadata": {
    "collapsed": false
   },
   "outputs": [
    {
     "name": "stdout",
     "output_type": "stream",
     "text": [
      "Validation Accuracy 98.79756595673737 %\n",
      "Validation Recall: 0.16666666666666666\n",
      "Validation Precision: 0.008976660682226212\n",
      "Confusion Matrix for Testing Data\n",
      "[[47404   552]\n",
      " [   25     5]]\n"
     ]
    }
   ],
   "source": [
    "print(\"Validation Accuracy\", 100*logreg.score(X_filtered_test,Y_filtered_test), \"%\")\n",
    "\n",
    "test_prediction = logreg.predict(X_filtered_test)\n",
    "\n",
    "test_confusion_matrix = confusion_matrix(Y_filtered_test, test_prediction)\n",
    "\n",
    "test_recall = test_confusion_matrix[1][1]/sum(test_confusion_matrix[1])\n",
    "\n",
    "#What percent of the positive cases did we catch? \n",
    "print(\"Validation Recall:\", test_recall)\n",
    "\n",
    "#What percent of the positive predictions was correct?\n",
    "test_precision = test_confusion_matrix[1][1]/(test_confusion_matrix[1][1] + test_confusion_matrix[0][1])\n",
    "print(\"Validation Precision:\", test_precision)\n",
    "\n",
    "\n",
    "print(\"Confusion Matrix for Testing Data\")\n",
    "# #TN FP \n",
    "# #FN TP \n",
    "print(test_confusion_matrix)"
   ]
  },
  {
   "cell_type": "code",
   "execution_count": 46,
   "metadata": {
    "collapsed": false
   },
   "outputs": [
    {
     "name": "stdout",
     "output_type": "stream",
     "text": [
      "Log Loss on Filtered Data\n"
     ]
    },
    {
     "data": {
      "text/plain": [
       "0.03696905290846593"
      ]
     },
     "execution_count": 46,
     "metadata": {},
     "output_type": "execute_result"
    }
   ],
   "source": [
    "print(\"Log Loss on Filtered Data\")\n",
    "log_loss(Y_filtered_test, logreg.predict_proba(X_filtered_test))"
   ]
  },
  {
   "cell_type": "code",
   "execution_count": 47,
   "metadata": {
    "collapsed": false
   },
   "outputs": [
    {
     "name": "stdout",
     "output_type": "stream",
     "text": [
      "F1 Score for Filtered Data\n"
     ]
    },
    {
     "data": {
      "text/plain": [
       "0.017035775127768313"
      ]
     },
     "execution_count": 47,
     "metadata": {},
     "output_type": "execute_result"
    }
   ],
   "source": [
    "print(\"F1 Score for Filtered Data\")\n",
    "(2* (test_precision*test_recall))/(test_precision+test_recall)"
   ]
  },
  {
   "cell_type": "code",
   "execution_count": 27,
   "metadata": {
    "collapsed": false
   },
   "outputs": [],
   "source": [
    "#Grid Search for Hyperparameter\n",
    "# for i in np.arange(0.1, 0.5, 0.1): \n",
    "#     logreg = LogisticRegression(penalty='l2', C=i)\n",
    "#     logreg.fit(X_train, Y_train)\n",
    "    \n",
    "#     loss = log_loss(Y_filtered_test, logreg.predict_proba(X_filtered_test))\n",
    "#     print(\"Weight: \", i, \"|\", \"Log Loss: \", loss) \n",
    "    "
   ]
  },
  {
   "cell_type": "code",
   "execution_count": 28,
   "metadata": {
    "collapsed": false
   },
   "outputs": [],
   "source": [
    "#Grid Search for Hyperparameter\n",
    "# for i in np.arange(0.1, 1.1, 0.1): \n",
    "#     logreg = LogisticRegression(penalty='l1', C=i)\n",
    "#     logreg.fit(X_train, Y_train)\n",
    "    \n",
    "#     loss = log_loss(Y_filtered_test, logreg.predict_proba(X_filtered_test))\n",
    "#     print(\"Weight: \", i, \"|\", \"Log Loss: \", loss) \n",
    "    "
   ]
  },
  {
   "cell_type": "code",
   "execution_count": 30,
   "metadata": {
    "collapsed": false
   },
   "outputs": [],
   "source": [
    "#Feature Selection and Training \n",
    "# from xgboost import XGBClassifier\n",
    "\n",
    "# model = XGBClassifier()\n",
    "# model.fit(X_filtered_test, Y_filtered_test)\n",
    "\n",
    "# print(model.feature_importances_)\n",
    "\n",
    "# # select features using threshold\n",
    "# selection = SelectFromModel(model, threshold=thresh, prefit=True)\n",
    "# select_X_train = selection.transform(X_train)\n",
    "\n",
    "# # train model\n",
    "# selection_model = XGBClassifier()\n",
    "# selection_model.fit(select_X_train, Y_train)\n",
    "\n",
    "# # eval model\n",
    "# select_X_test = selection.transform(X_test)\n",
    "# y_pred = selection_model.predict(select_X_test)\n",
    "\n",
    "# plot_importance(model)\n",
    "# plt.show()"
   ]
  }
 ],
 "metadata": {
  "kernelspec": {
   "display_name": "Python 3",
   "language": "python",
   "name": "python3"
  },
  "language_info": {
   "codemirror_mode": {
    "name": "ipython",
    "version": 3
   },
   "file_extension": ".py",
   "mimetype": "text/x-python",
   "name": "python",
   "nbconvert_exporter": "python",
   "pygments_lexer": "ipython3",
   "version": "3.6.3"
  }
 },
 "nbformat": 4,
 "nbformat_minor": 1
}
