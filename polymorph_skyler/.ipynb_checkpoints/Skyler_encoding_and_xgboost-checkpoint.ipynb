{
 "cells": [
  {
   "cell_type": "code",
   "execution_count": 1,
   "metadata": {
    "collapsed": true
   },
   "outputs": [],
   "source": [
    "import pandas as pd\n",
    "import numpy as np\n",
    "import seaborn as sns\n",
    "import matplotlib.pyplot as plt\n",
    "import json\n",
    "import math\n",
    "import random\n",
    "import itertools\n",
    "import datetime\n",
    "from pytz import timezone\n",
    "%matplotlib inline"
   ]
  },
  {
   "cell_type": "markdown",
   "metadata": {},
   "source": [
    "Load preprocessed dataframe from jihans notebook."
   ]
  },
  {
   "cell_type": "code",
   "execution_count": 2,
   "metadata": {
    "collapsed": true
   },
   "outputs": [],
   "source": [
    "df_store = pd.HDFStore('data/combined_day1_processed.h5')\n",
    "pos_store = pd.HDFStore('data/positives_processed.h5')\n",
    "\n",
    "#Load out dataframes\n",
    "df_pos = pos_store['df'] \n",
    "df = df_store['df']\n",
    "\n",
    "#Close our hdf files\n",
    "pos_store.close()\n",
    "df_store.close()"
   ]
  },
  {
   "cell_type": "code",
   "execution_count": 3,
   "metadata": {},
   "outputs": [
    {
     "data": {
      "text/plain": [
       "Index(['_host', 'ad_network_id', 'ad_type', 'advertiser_id', 'bid_requests',\n",
       "       'bid_responses', 'c_cnt', 'c_flag_cnt', 'campaign_id', 'campaign_type',\n",
       "       'creative_id', 'f_cnt', 'geo_city_code', 'geo_city_name',\n",
       "       'geo_country_code2', 'geo_country_code3', 'geo_postal_code',\n",
       "       'geo_region_name', 'geo_timezone', 'i_cnt', 'i_flag_cnt', 'i_timestamp',\n",
       "       'ip_address', 'pub_network_id', 'r_cnt', 'r_num_ads_requested',\n",
       "       'r_num_ads_returned', 'r_timestamp', 'rate_metric', 'referer',\n",
       "       'session_id', 'site_id', 'token', 'ua', 'ua_device', 'ua_device_type',\n",
       "       'ua_major', 'ua_minor', 'ua_name', 'ua_os_name', 'url', 'user_agent',\n",
       "       'uuid', 'vi_cnt', 'vi_flag_cnt', 'zone_id'],\n",
       "      dtype='object')"
      ]
     },
     "execution_count": 3,
     "metadata": {},
     "output_type": "execute_result"
    }
   ],
   "source": [
    "df.columns"
   ]
  },
  {
   "cell_type": "code",
   "execution_count": 4,
   "metadata": {},
   "outputs": [
    {
     "data": {
      "text/html": [
       "<div>\n",
       "<style scoped>\n",
       "    .dataframe tbody tr th:only-of-type {\n",
       "        vertical-align: middle;\n",
       "    }\n",
       "\n",
       "    .dataframe tbody tr th {\n",
       "        vertical-align: top;\n",
       "    }\n",
       "\n",
       "    .dataframe thead th {\n",
       "        text-align: right;\n",
       "    }\n",
       "</style>\n",
       "<table border=\"1\" class=\"dataframe\">\n",
       "  <thead>\n",
       "    <tr style=\"text-align: right;\">\n",
       "      <th></th>\n",
       "      <th>_host</th>\n",
       "      <th>ad_network_id</th>\n",
       "      <th>ad_type</th>\n",
       "      <th>advertiser_id</th>\n",
       "      <th>bid_requests</th>\n",
       "      <th>bid_responses</th>\n",
       "      <th>c_cnt</th>\n",
       "      <th>c_flag_cnt</th>\n",
       "      <th>campaign_id</th>\n",
       "      <th>campaign_type</th>\n",
       "      <th>...</th>\n",
       "      <th>ua_major</th>\n",
       "      <th>ua_minor</th>\n",
       "      <th>ua_name</th>\n",
       "      <th>ua_os_name</th>\n",
       "      <th>url</th>\n",
       "      <th>user_agent</th>\n",
       "      <th>uuid</th>\n",
       "      <th>vi_cnt</th>\n",
       "      <th>vi_flag_cnt</th>\n",
       "      <th>zone_id</th>\n",
       "    </tr>\n",
       "  </thead>\n",
       "  <tbody>\n",
       "    <tr>\n",
       "      <th>0</th>\n",
       "      <td>an-prod-ralphie-frontline-bulks.us-east-1</td>\n",
       "      <td>1349</td>\n",
       "      <td>[story]</td>\n",
       "      <td>3587</td>\n",
       "      <td>[]</td>\n",
       "      <td>[]</td>\n",
       "      <td>0.0</td>\n",
       "      <td>0.0</td>\n",
       "      <td>20523</td>\n",
       "      <td>private</td>\n",
       "      <td>...</td>\n",
       "      <td>10.0</td>\n",
       "      <td>0.0</td>\n",
       "      <td>Mobile Safari</td>\n",
       "      <td>iOS</td>\n",
       "      <td>http://media.breitbart.com/media/if/newsmax.html</td>\n",
       "      <td>Mozilla/5.0 (iPad; CPU OS 10_3_3 like Mac OS X...</td>\n",
       "      <td>60039c05-5285-49ca-b4eb-a435e9d8352b</td>\n",
       "      <td>0.0</td>\n",
       "      <td>0.0</td>\n",
       "      <td>26024</td>\n",
       "    </tr>\n",
       "    <tr>\n",
       "      <th>1</th>\n",
       "      <td>an-prod-ralphie-frontline-bedim.us-east-1</td>\n",
       "      <td>1349</td>\n",
       "      <td>[story]</td>\n",
       "      <td>3587</td>\n",
       "      <td>[]</td>\n",
       "      <td>[]</td>\n",
       "      <td>0.0</td>\n",
       "      <td>0.0</td>\n",
       "      <td>20523</td>\n",
       "      <td>private</td>\n",
       "      <td>...</td>\n",
       "      <td>11.0</td>\n",
       "      <td>0.0</td>\n",
       "      <td>Mobile Safari</td>\n",
       "      <td>iOS</td>\n",
       "      <td>http://media.breitbart.com/media/if/newsmax.html</td>\n",
       "      <td>Mozilla/5.0 (iPad; CPU OS 11_2_6 like Mac OS X...</td>\n",
       "      <td>504e4902-4a71-4155-9de8-32e4afc00013</td>\n",
       "      <td>0.0</td>\n",
       "      <td>0.0</td>\n",
       "      <td>26024</td>\n",
       "    </tr>\n",
       "    <tr>\n",
       "      <th>2</th>\n",
       "      <td>an-prod-ralphie-frontline-bedim.us-east-1</td>\n",
       "      <td>767</td>\n",
       "      <td>[story]</td>\n",
       "      <td>4735</td>\n",
       "      <td>[]</td>\n",
       "      <td>[]</td>\n",
       "      <td>0.0</td>\n",
       "      <td>0.0</td>\n",
       "      <td>21827</td>\n",
       "      <td>outside</td>\n",
       "      <td>...</td>\n",
       "      <td>11.0</td>\n",
       "      <td>2.0</td>\n",
       "      <td>Mobile Safari</td>\n",
       "      <td>iOS</td>\n",
       "      <td>http://thehill.com/policy/national-security/38...</td>\n",
       "      <td>Mozilla/5.0 (iPad; CPU OS 11_2_6 like Mac OS X...</td>\n",
       "      <td>c182f217-aff0-4f43-b74c-8c19344efbbf</td>\n",
       "      <td>1.0</td>\n",
       "      <td>0.0</td>\n",
       "      <td>18310</td>\n",
       "    </tr>\n",
       "    <tr>\n",
       "      <th>4</th>\n",
       "      <td>an-prod-ralphie-frontline-soths.us-east-1</td>\n",
       "      <td>1349</td>\n",
       "      <td>[story]</td>\n",
       "      <td>3587</td>\n",
       "      <td>[]</td>\n",
       "      <td>[]</td>\n",
       "      <td>0.0</td>\n",
       "      <td>0.0</td>\n",
       "      <td>20523</td>\n",
       "      <td>private</td>\n",
       "      <td>...</td>\n",
       "      <td>6.0</td>\n",
       "      <td>4.0</td>\n",
       "      <td>Samsung Internet</td>\n",
       "      <td>Android</td>\n",
       "      <td>http://media.breitbart.com/media/if/newsmax.html</td>\n",
       "      <td>Mozilla/5.0 (Linux; Android 7.0; SAMSUNG SM-T8...</td>\n",
       "      <td>1a95be28-1ffe-4e21-8c1f-3e3838c61526</td>\n",
       "      <td>0.0</td>\n",
       "      <td>0.0</td>\n",
       "      <td>26024</td>\n",
       "    </tr>\n",
       "    <tr>\n",
       "      <th>5</th>\n",
       "      <td>an-prod-ralphie-frontline-fleys.us-east-1</td>\n",
       "      <td>893</td>\n",
       "      <td>[story]</td>\n",
       "      <td>3842</td>\n",
       "      <td>[]</td>\n",
       "      <td>[]</td>\n",
       "      <td>0.0</td>\n",
       "      <td>0.0</td>\n",
       "      <td>25419</td>\n",
       "      <td>private</td>\n",
       "      <td>...</td>\n",
       "      <td>11.0</td>\n",
       "      <td>0.0</td>\n",
       "      <td>Mobile Safari</td>\n",
       "      <td>iOS</td>\n",
       "      <td>http://media.breitbart.com/media/if/newsmax.html</td>\n",
       "      <td>Mozilla/5.0 (iPhone; CPU iPhone OS 11_2_6 like...</td>\n",
       "      <td>bb210ed3-076b-4b96-852e-4390f01bfff5</td>\n",
       "      <td>0.0</td>\n",
       "      <td>0.0</td>\n",
       "      <td>26024</td>\n",
       "    </tr>\n",
       "  </tbody>\n",
       "</table>\n",
       "<p>5 rows × 46 columns</p>\n",
       "</div>"
      ],
      "text/plain": [
       "                                       _host  ad_network_id  ad_type  \\\n",
       "0  an-prod-ralphie-frontline-bulks.us-east-1           1349  [story]   \n",
       "1  an-prod-ralphie-frontline-bedim.us-east-1           1349  [story]   \n",
       "2  an-prod-ralphie-frontline-bedim.us-east-1            767  [story]   \n",
       "4  an-prod-ralphie-frontline-soths.us-east-1           1349  [story]   \n",
       "5  an-prod-ralphie-frontline-fleys.us-east-1            893  [story]   \n",
       "\n",
       "   advertiser_id bid_requests bid_responses  c_cnt  c_flag_cnt  campaign_id  \\\n",
       "0           3587           []            []    0.0         0.0        20523   \n",
       "1           3587           []            []    0.0         0.0        20523   \n",
       "2           4735           []            []    0.0         0.0        21827   \n",
       "4           3587           []            []    0.0         0.0        20523   \n",
       "5           3842           []            []    0.0         0.0        25419   \n",
       "\n",
       "  campaign_type   ...     ua_major  ua_minor           ua_name ua_os_name  \\\n",
       "0       private   ...         10.0       0.0     Mobile Safari        iOS   \n",
       "1       private   ...         11.0       0.0     Mobile Safari        iOS   \n",
       "2       outside   ...         11.0       2.0     Mobile Safari        iOS   \n",
       "4       private   ...          6.0       4.0  Samsung Internet    Android   \n",
       "5       private   ...         11.0       0.0     Mobile Safari        iOS   \n",
       "\n",
       "                                                 url  \\\n",
       "0   http://media.breitbart.com/media/if/newsmax.html   \n",
       "1   http://media.breitbart.com/media/if/newsmax.html   \n",
       "2  http://thehill.com/policy/national-security/38...   \n",
       "4   http://media.breitbart.com/media/if/newsmax.html   \n",
       "5   http://media.breitbart.com/media/if/newsmax.html   \n",
       "\n",
       "                                          user_agent  \\\n",
       "0  Mozilla/5.0 (iPad; CPU OS 10_3_3 like Mac OS X...   \n",
       "1  Mozilla/5.0 (iPad; CPU OS 11_2_6 like Mac OS X...   \n",
       "2  Mozilla/5.0 (iPad; CPU OS 11_2_6 like Mac OS X...   \n",
       "4  Mozilla/5.0 (Linux; Android 7.0; SAMSUNG SM-T8...   \n",
       "5  Mozilla/5.0 (iPhone; CPU iPhone OS 11_2_6 like...   \n",
       "\n",
       "                                   uuid vi_cnt vi_flag_cnt  zone_id  \n",
       "0  60039c05-5285-49ca-b4eb-a435e9d8352b    0.0         0.0    26024  \n",
       "1  504e4902-4a71-4155-9de8-32e4afc00013    0.0         0.0    26024  \n",
       "2  c182f217-aff0-4f43-b74c-8c19344efbbf    1.0         0.0    18310  \n",
       "4  1a95be28-1ffe-4e21-8c1f-3e3838c61526    0.0         0.0    26024  \n",
       "5  bb210ed3-076b-4b96-852e-4390f01bfff5    0.0         0.0    26024  \n",
       "\n",
       "[5 rows x 46 columns]"
      ]
     },
     "execution_count": 4,
     "metadata": {},
     "output_type": "execute_result"
    }
   ],
   "source": [
    "df.head()"
   ]
  },
  {
   "cell_type": "markdown",
   "metadata": {},
   "source": [
    "Some data stored as lists, or urls, need to remove to make one hot encoding work and more relevant"
   ]
  },
  {
   "cell_type": "code",
   "execution_count": 6,
   "metadata": {
    "collapsed": true
   },
   "outputs": [],
   "source": [
    "bad_features = ['ad_type', 'bid_requests', 'bid_responses']\n",
    "df.drop(bad_features, axis=1, inplace=True)"
   ]
  },
  {
   "cell_type": "markdown",
   "metadata": {},
   "source": [
    "Also want to simplify urls"
   ]
  },
  {
   "cell_type": "code",
   "execution_count": 16,
   "metadata": {},
   "outputs": [
    {
     "name": "stderr",
     "output_type": "stream",
     "text": [
      "/usr/local/anaconda3/lib/python3.6/site-packages/ipykernel_launcher.py:4: FutureWarning: currently extract(expand=None) means expand=False (return Index/Series/DataFrame) but in a future version of pandas this will be changed to expand=True (return DataFrame)\n",
      "  after removing the cwd from sys.path.\n",
      "/usr/local/anaconda3/lib/python3.6/site-packages/ipykernel_launcher.py:5: FutureWarning: currently extract(expand=None) means expand=False (return Index/Series/DataFrame) but in a future version of pandas this will be changed to expand=True (return DataFrame)\n",
      "  \"\"\"\n"
     ]
    }
   ],
   "source": [
    "import urllib\n",
    "\n",
    "df['referer'] = df['referer'].apply(urllib.parse.unquote)\n",
    "df['url'] = df['url'].str.extract('^(?:https?:\\/\\/)?(?:[^@\\/\\n]+@)?(?:www\\.)?([^:\\/\\n]+)')\n",
    "df['referer'] = df['referer'].str.extract('^(?:https?:\\/\\/)?(?:[^@\\/\\n]+@)?(?:www\\.)?([^:\\/\\n]+)')"
   ]
  },
  {
   "cell_type": "code",
   "execution_count": 17,
   "metadata": {},
   "outputs": [
    {
     "data": {
      "text/html": [
       "<div>\n",
       "<style scoped>\n",
       "    .dataframe tbody tr th:only-of-type {\n",
       "        vertical-align: middle;\n",
       "    }\n",
       "\n",
       "    .dataframe tbody tr th {\n",
       "        vertical-align: top;\n",
       "    }\n",
       "\n",
       "    .dataframe thead th {\n",
       "        text-align: right;\n",
       "    }\n",
       "</style>\n",
       "<table border=\"1\" class=\"dataframe\">\n",
       "  <thead>\n",
       "    <tr style=\"text-align: right;\">\n",
       "      <th></th>\n",
       "      <th>_host</th>\n",
       "      <th>ad_network_id</th>\n",
       "      <th>advertiser_id</th>\n",
       "      <th>c_cnt</th>\n",
       "      <th>c_flag_cnt</th>\n",
       "      <th>campaign_id</th>\n",
       "      <th>campaign_type</th>\n",
       "      <th>creative_id</th>\n",
       "      <th>f_cnt</th>\n",
       "      <th>geo_city_code</th>\n",
       "      <th>...</th>\n",
       "      <th>ua_major</th>\n",
       "      <th>ua_minor</th>\n",
       "      <th>ua_name</th>\n",
       "      <th>ua_os_name</th>\n",
       "      <th>url</th>\n",
       "      <th>user_agent</th>\n",
       "      <th>uuid</th>\n",
       "      <th>vi_cnt</th>\n",
       "      <th>vi_flag_cnt</th>\n",
       "      <th>zone_id</th>\n",
       "    </tr>\n",
       "  </thead>\n",
       "  <tbody>\n",
       "    <tr>\n",
       "      <th>0</th>\n",
       "      <td>an-prod-ralphie-frontline-bulks.us-east-1</td>\n",
       "      <td>1349</td>\n",
       "      <td>3587</td>\n",
       "      <td>0.0</td>\n",
       "      <td>0.0</td>\n",
       "      <td>20523</td>\n",
       "      <td>private</td>\n",
       "      <td>1454941</td>\n",
       "      <td>0.0</td>\n",
       "      <td>5282901.0</td>\n",
       "      <td>...</td>\n",
       "      <td>10.0</td>\n",
       "      <td>0.0</td>\n",
       "      <td>Mobile Safari</td>\n",
       "      <td>iOS</td>\n",
       "      <td>media.breitbart.com</td>\n",
       "      <td>Mozilla/5.0 (iPad; CPU OS 10_3_3 like Mac OS X...</td>\n",
       "      <td>60039c05-5285-49ca-b4eb-a435e9d8352b</td>\n",
       "      <td>0.0</td>\n",
       "      <td>0.0</td>\n",
       "      <td>26024</td>\n",
       "    </tr>\n",
       "    <tr>\n",
       "      <th>1</th>\n",
       "      <td>an-prod-ralphie-frontline-bedim.us-east-1</td>\n",
       "      <td>1349</td>\n",
       "      <td>3587</td>\n",
       "      <td>0.0</td>\n",
       "      <td>0.0</td>\n",
       "      <td>20523</td>\n",
       "      <td>private</td>\n",
       "      <td>1454941</td>\n",
       "      <td>0.0</td>\n",
       "      <td>4083697.0</td>\n",
       "      <td>...</td>\n",
       "      <td>11.0</td>\n",
       "      <td>0.0</td>\n",
       "      <td>Mobile Safari</td>\n",
       "      <td>iOS</td>\n",
       "      <td>media.breitbart.com</td>\n",
       "      <td>Mozilla/5.0 (iPad; CPU OS 11_2_6 like Mac OS X...</td>\n",
       "      <td>504e4902-4a71-4155-9de8-32e4afc00013</td>\n",
       "      <td>0.0</td>\n",
       "      <td>0.0</td>\n",
       "      <td>26024</td>\n",
       "    </tr>\n",
       "    <tr>\n",
       "      <th>2</th>\n",
       "      <td>an-prod-ralphie-frontline-bedim.us-east-1</td>\n",
       "      <td>767</td>\n",
       "      <td>4735</td>\n",
       "      <td>0.0</td>\n",
       "      <td>0.0</td>\n",
       "      <td>21827</td>\n",
       "      <td>outside</td>\n",
       "      <td>1810968</td>\n",
       "      <td>0.0</td>\n",
       "      <td>4641239.0</td>\n",
       "      <td>...</td>\n",
       "      <td>11.0</td>\n",
       "      <td>2.0</td>\n",
       "      <td>Mobile Safari</td>\n",
       "      <td>iOS</td>\n",
       "      <td>thehill.com</td>\n",
       "      <td>Mozilla/5.0 (iPad; CPU OS 11_2_6 like Mac OS X...</td>\n",
       "      <td>c182f217-aff0-4f43-b74c-8c19344efbbf</td>\n",
       "      <td>1.0</td>\n",
       "      <td>0.0</td>\n",
       "      <td>18310</td>\n",
       "    </tr>\n",
       "    <tr>\n",
       "      <th>4</th>\n",
       "      <td>an-prod-ralphie-frontline-soths.us-east-1</td>\n",
       "      <td>1349</td>\n",
       "      <td>3587</td>\n",
       "      <td>0.0</td>\n",
       "      <td>0.0</td>\n",
       "      <td>20523</td>\n",
       "      <td>private</td>\n",
       "      <td>1454941</td>\n",
       "      <td>0.0</td>\n",
       "      <td>5690532.0</td>\n",
       "      <td>...</td>\n",
       "      <td>6.0</td>\n",
       "      <td>4.0</td>\n",
       "      <td>Samsung Internet</td>\n",
       "      <td>Android</td>\n",
       "      <td>media.breitbart.com</td>\n",
       "      <td>Mozilla/5.0 (Linux; Android 7.0; SAMSUNG SM-T8...</td>\n",
       "      <td>1a95be28-1ffe-4e21-8c1f-3e3838c61526</td>\n",
       "      <td>0.0</td>\n",
       "      <td>0.0</td>\n",
       "      <td>26024</td>\n",
       "    </tr>\n",
       "    <tr>\n",
       "      <th>5</th>\n",
       "      <td>an-prod-ralphie-frontline-fleys.us-east-1</td>\n",
       "      <td>893</td>\n",
       "      <td>3842</td>\n",
       "      <td>0.0</td>\n",
       "      <td>0.0</td>\n",
       "      <td>25419</td>\n",
       "      <td>private</td>\n",
       "      <td>3879383</td>\n",
       "      <td>0.0</td>\n",
       "      <td>4419290.0</td>\n",
       "      <td>...</td>\n",
       "      <td>11.0</td>\n",
       "      <td>0.0</td>\n",
       "      <td>Mobile Safari</td>\n",
       "      <td>iOS</td>\n",
       "      <td>media.breitbart.com</td>\n",
       "      <td>Mozilla/5.0 (iPhone; CPU iPhone OS 11_2_6 like...</td>\n",
       "      <td>bb210ed3-076b-4b96-852e-4390f01bfff5</td>\n",
       "      <td>0.0</td>\n",
       "      <td>0.0</td>\n",
       "      <td>26024</td>\n",
       "    </tr>\n",
       "  </tbody>\n",
       "</table>\n",
       "<p>5 rows × 43 columns</p>\n",
       "</div>"
      ],
      "text/plain": [
       "                                       _host  ad_network_id  advertiser_id  \\\n",
       "0  an-prod-ralphie-frontline-bulks.us-east-1           1349           3587   \n",
       "1  an-prod-ralphie-frontline-bedim.us-east-1           1349           3587   \n",
       "2  an-prod-ralphie-frontline-bedim.us-east-1            767           4735   \n",
       "4  an-prod-ralphie-frontline-soths.us-east-1           1349           3587   \n",
       "5  an-prod-ralphie-frontline-fleys.us-east-1            893           3842   \n",
       "\n",
       "   c_cnt  c_flag_cnt  campaign_id campaign_type  creative_id  f_cnt  \\\n",
       "0    0.0         0.0        20523       private      1454941    0.0   \n",
       "1    0.0         0.0        20523       private      1454941    0.0   \n",
       "2    0.0         0.0        21827       outside      1810968    0.0   \n",
       "4    0.0         0.0        20523       private      1454941    0.0   \n",
       "5    0.0         0.0        25419       private      3879383    0.0   \n",
       "\n",
       "   geo_city_code   ...   ua_major ua_minor           ua_name ua_os_name  \\\n",
       "0      5282901.0   ...       10.0      0.0     Mobile Safari        iOS   \n",
       "1      4083697.0   ...       11.0      0.0     Mobile Safari        iOS   \n",
       "2      4641239.0   ...       11.0      2.0     Mobile Safari        iOS   \n",
       "4      5690532.0   ...        6.0      4.0  Samsung Internet    Android   \n",
       "5      4419290.0   ...       11.0      0.0     Mobile Safari        iOS   \n",
       "\n",
       "                   url                                         user_agent  \\\n",
       "0  media.breitbart.com  Mozilla/5.0 (iPad; CPU OS 10_3_3 like Mac OS X...   \n",
       "1  media.breitbart.com  Mozilla/5.0 (iPad; CPU OS 11_2_6 like Mac OS X...   \n",
       "2          thehill.com  Mozilla/5.0 (iPad; CPU OS 11_2_6 like Mac OS X...   \n",
       "4  media.breitbart.com  Mozilla/5.0 (Linux; Android 7.0; SAMSUNG SM-T8...   \n",
       "5  media.breitbart.com  Mozilla/5.0 (iPhone; CPU iPhone OS 11_2_6 like...   \n",
       "\n",
       "                                   uuid  vi_cnt vi_flag_cnt zone_id  \n",
       "0  60039c05-5285-49ca-b4eb-a435e9d8352b     0.0         0.0   26024  \n",
       "1  504e4902-4a71-4155-9de8-32e4afc00013     0.0         0.0   26024  \n",
       "2  c182f217-aff0-4f43-b74c-8c19344efbbf     1.0         0.0   18310  \n",
       "4  1a95be28-1ffe-4e21-8c1f-3e3838c61526     0.0         0.0   26024  \n",
       "5  bb210ed3-076b-4b96-852e-4390f01bfff5     0.0         0.0   26024  \n",
       "\n",
       "[5 rows x 43 columns]"
      ]
     },
     "execution_count": 17,
     "metadata": {},
     "output_type": "execute_result"
    }
   ],
   "source": [
    "df.head()"
   ]
  },
  {
   "cell_type": "markdown",
   "metadata": {},
   "source": [
    "Random forest classifier to rank importance of numerical featuers"
   ]
  },
  {
   "cell_type": "code",
   "execution_count": 18,
   "metadata": {
    "collapsed": true
   },
   "outputs": [],
   "source": [
    "from sklearn.ensemble import RandomForestClassifier\n",
    "from sklearn.model_selection import train_test_split"
   ]
  },
  {
   "cell_type": "code",
   "execution_count": 19,
   "metadata": {
    "collapsed": true
   },
   "outputs": [],
   "source": [
    "numerical_features = ['c_flag_cnt', 'f_cnt', 'i_cnt', 'i_flag_cnt', 'r_cnt', 'r_num_ads_requested',\n",
    "                      'r_num_ads_returned', 'ua_major', 'ua_minor', 'vi_cnt', 'vi_flag_cnt']"
   ]
  },
  {
   "cell_type": "code",
   "execution_count": 20,
   "metadata": {
    "collapsed": true
   },
   "outputs": [],
   "source": [
    "X, Y = df.drop('c_cnt', axis=1), df['c_cnt']"
   ]
  },
  {
   "cell_type": "code",
   "execution_count": 21,
   "metadata": {},
   "outputs": [
    {
     "name": "stderr",
     "output_type": "stream",
     "text": [
      "/usr/local/anaconda3/lib/python3.6/site-packages/sklearn/model_selection/_split.py:2022: FutureWarning: From version 0.21, test_size will always complement train_size unless both are specified.\n",
      "  FutureWarning)\n"
     ]
    }
   ],
   "source": [
    "X_train, X_test, y_train, y_test = train_test_split(X, Y, train_size=0.7)"
   ]
  },
  {
   "cell_type": "code",
   "execution_count": 22,
   "metadata": {},
   "outputs": [
    {
     "data": {
      "text/plain": [
       "RandomForestClassifier(bootstrap=True, class_weight=None, criterion='gini',\n",
       "            max_depth=None, max_features='auto', max_leaf_nodes=None,\n",
       "            min_impurity_decrease=0.0, min_impurity_split=None,\n",
       "            min_samples_leaf=1, min_samples_split=2,\n",
       "            min_weight_fraction_leaf=0.0, n_estimators=10, n_jobs=1,\n",
       "            oob_score=False, random_state=None, verbose=0,\n",
       "            warm_start=False)"
      ]
     },
     "execution_count": 22,
     "metadata": {},
     "output_type": "execute_result"
    }
   ],
   "source": [
    "rfc = RandomForestClassifier()\n",
    "rfc.fit(X[numerical_features], Y)"
   ]
  },
  {
   "cell_type": "code",
   "execution_count": 23,
   "metadata": {},
   "outputs": [
    {
     "name": "stdout",
     "output_type": "stream",
     "text": [
      "['f_cnt', 'r_cnt', 'r_num_ads_returned', 'vi_flag_cnt', 'i_cnt', 'r_num_ads_requested', 'vi_cnt', 'ua_minor', 'i_flag_cnt', 'ua_major', 'c_flag_cnt']\n"
     ]
    }
   ],
   "source": [
    "importances = rfc.feature_importances_\n",
    "indices = np.argsort(importances)\n",
    "print([X[numerical_features].columns[i] for i in indices])"
   ]
  },
  {
   "cell_type": "markdown",
   "metadata": {},
   "source": [
    "One hot encoding categorical features"
   ]
  },
  {
   "cell_type": "code",
   "execution_count": 24,
   "metadata": {
    "collapsed": true
   },
   "outputs": [],
   "source": [
    "from sklearn.preprocessing import CategoricalEncoder"
   ]
  },
  {
   "cell_type": "code",
   "execution_count": 25,
   "metadata": {
    "collapsed": true
   },
   "outputs": [],
   "source": [
    "def transform_column(df, col, thresh=200, return_labels=False):\n",
    "    print(col)\n",
    "    df_frequency = df[[col, 'c_cnt']].groupby(col).agg('count').sort_values('c_cnt',ascending=False)\n",
    "    if df[col].nunique() > thresh:\n",
    "        enc = CategoricalEncoder(categories=[sorted(df_frequency.index.values[0:thresh])],handle_unknown='ignore')\n",
    "        labels = df_frequency.index.values[0:thresh]\n",
    "    else:\n",
    "        enc = CategoricalEncoder(categories=[sorted(df_frequency.index.values)],handle_unknown='ignore')\n",
    "        labels = df_frequency.index.values\n",
    "    labels = [str(col) + str(i) for i in labels]\n",
    "    if return_labels:\n",
    "        return labels\n",
    "    enc.fit(df[col].values.reshape(-1, 1))\n",
    "    return enc.transform(df[col].values.reshape(-1,1)).toarray()"
   ]
  },
  {
   "cell_type": "code",
   "execution_count": 26,
   "metadata": {},
   "outputs": [
    {
     "name": "stdout",
     "output_type": "stream",
     "text": [
      "_host\n",
      "ad_network_id\n",
      "advertiser_id\n",
      "campaign_id\n",
      "campaign_type\n",
      "creative_id\n",
      "geo_city_code\n",
      "geo_city_name\n",
      "geo_country_code2\n",
      "geo_country_code3\n",
      "geo_postal_code\n",
      "geo_region_name\n",
      "geo_timezone\n",
      "i_timestamp\n",
      "ip_address\n",
      "pub_network_id\n",
      "r_timestamp\n",
      "rate_metric\n",
      "referer\n",
      "session_id\n",
      "site_id\n",
      "token\n",
      "ua\n",
      "ua_device\n",
      "ua_device_type\n",
      "ua_name\n",
      "ua_os_name\n",
      "url\n",
      "user_agent\n",
      "uuid\n",
      "zone_id\n",
      "_host\n",
      "ad_network_id\n",
      "advertiser_id\n",
      "campaign_id\n",
      "campaign_type\n",
      "creative_id\n",
      "geo_city_code\n",
      "geo_city_name\n",
      "geo_country_code2\n",
      "geo_country_code3\n",
      "geo_postal_code\n",
      "geo_region_name\n",
      "geo_timezone\n",
      "i_timestamp\n",
      "ip_address\n",
      "pub_network_id\n",
      "r_timestamp\n",
      "rate_metric\n",
      "referer\n",
      "session_id\n",
      "site_id\n",
      "token\n",
      "ua\n",
      "ua_device\n",
      "ua_device_type\n",
      "ua_name\n",
      "ua_os_name\n",
      "url\n",
      "user_agent\n",
      "uuid\n",
      "zone_id\n"
     ]
    }
   ],
   "source": [
    "one_hot_thresh = 20\n",
    "df2 = df.drop('c_cnt', axis=1)\n",
    "Y = df['c_cnt'].values\n",
    "labels = np.hstack([transform_column(df, col, thresh=one_hot_thresh, return_labels=True) if col not in numerical_features else [str(col)] for col in df2])\n",
    "X = np.hstack([transform_column(df, col, thresh=one_hot_thresh) if col not in numerical_features else df[col].values.reshape(-1,1)\n",
    "               for col in df2])"
   ]
  },
  {
   "cell_type": "code",
   "execution_count": 27,
   "metadata": {},
   "outputs": [
    {
     "name": "stdout",
     "output_type": "stream",
     "text": [
      "['_hostan-prod-ralphie-frontline-bulks.us-east-1'\n",
      " '_hostan-prod-ralphie-frontline-jerid.us-east-1'\n",
      " '_hostan-prod-ralphie-frontline-soths.us-east-1'\n",
      " '_hostan-prod-ralphie-frontline-gamic.us-east-1'\n",
      " '_hostan-prod-ralphie-frontline-bedim.us-east-1'\n",
      " '_hostan-prod-ralphie-frontline-proxy.us-east-1'\n",
      " '_hostan-prod-ralphie-frontline-fleys.us-east-1'\n",
      " '_hostan-prod-ralphie-frontline-laris.us-east-1'\n",
      " '_hostan-prod-ralphie-frontline-goofs.us-east-1'\n",
      " '_hostan-prod-ralphie-frontline-lamed.us-east-1'\n",
      " '_hostan-prod-ralphie-frontline-orlon.us-east-1'\n",
      " '_hostan-prod-ralphie-frontline-facer.us-east-1'\n",
      " '_hostan-prod-ralphie-frontline-tulle.eu-west-1'\n",
      " '_hostan-prod-ralphie-frontline-clung.eu-west-1'\n",
      " '_hostan-prod-ralphie-frontline-warps.eu-west-1'\n",
      " '_hostan-prod-ralphie-frontline-hoody.eu-west-1'\n",
      " '_hostan-prod-ralphie-frontline-lamps.eu-west-1'\n",
      " '_hostan-prod-ralphie-frontline-fleck.eu-west-1'\n",
      " '_hostan-prod-ralphie-frontline-egret.eu-west-1'\n",
      " '_hostan-prod-ralphie-frontline-donna.eu-west-1' 'ad_network_id893'\n",
      " 'ad_network_id767' 'ad_network_id2088' 'ad_network_id1349'\n",
      " 'ad_network_id727' 'ad_network_id1839' 'ad_network_id1828'\n",
      " 'ad_network_id106' 'ad_network_id1581' 'ad_network_id1403'\n",
      " 'ad_network_id1845' 'ad_network_id1364' 'ad_network_id1463'\n",
      " 'ad_network_id1344' 'ad_network_id1308' 'ad_network_id1700'\n",
      " 'ad_network_id977' 'ad_network_id1413' 'ad_network_id1804'\n",
      " 'ad_network_id850' 'advertiser_id3842' 'advertiser_id4735'\n",
      " 'advertiser_id5187' 'advertiser_id3587' 'advertiser_id5020'\n",
      " 'advertiser_id4909' 'advertiser_id4523' 'advertiser_id5308'\n",
      " 'advertiser_id4514' 'advertiser_id5140' 'advertiser_id3672'\n",
      " 'advertiser_id2686' 'advertiser_id3622' 'advertiser_id5299'\n",
      " 'advertiser_id4648' 'advertiser_id3791' 'advertiser_id5129'\n",
      " 'advertiser_id5125' 'advertiser_id3575' 'advertiser_id5265' 'c_flag_cnt'\n",
      " 'campaign_id25419' 'campaign_id26329' 'campaign_id20523'\n",
      " 'campaign_id21827' 'campaign_id26179' 'campaign_id26801'\n",
      " 'campaign_id12797' 'campaign_id26027' 'campaign_id26941'\n",
      " 'campaign_id22360' 'campaign_id25969' 'campaign_id25937'\n",
      " 'campaign_id23465' 'campaign_id14067' 'campaign_id12280'\n",
      " 'campaign_id26899' 'campaign_id26864' 'campaign_id26174'\n",
      " 'campaign_id19629' 'campaign_id25986' 'campaign_typeprivate'\n",
      " 'campaign_typeoutside' 'creative_id3879383' 'creative_id1454941'\n",
      " 'creative_id1810968' 'creative_id4784257' 'creative_id5198396'\n",
      " 'creative_id5198397' 'creative_id5076128' 'creative_id5811989'\n",
      " 'creative_id4509292' 'creative_id4479787' 'creative_id2045393'\n",
      " 'creative_id1814142' 'creative_id1814135' 'creative_id5789825'\n",
      " 'creative_id5709162' 'creative_id4784161' 'creative_id4574450'\n",
      " 'creative_id4649882' 'creative_id4649883' 'creative_id1449852' 'f_cnt'\n",
      " 'geo_city_code4699066.0' 'geo_city_code4684888.0'\n",
      " 'geo_city_code4887398.0' 'geo_city_code5368361.0'\n",
      " 'geo_city_code4180439.0' 'geo_city_code5128581.0'\n",
      " 'geo_city_code4726206.0' 'geo_city_code5809844.0'\n",
      " 'geo_city_code4167147.0' 'geo_city_code5419384.0'\n",
      " 'geo_city_code5308655.0' 'geo_city_code4407066.0'\n",
      " 'geo_city_code5391959.0' 'geo_city_code5746545.0'\n",
      " 'geo_city_code4671654.0' 'geo_city_code5506956.0'\n",
      " 'geo_city_code5037649.0' 'geo_city_code4691930.0'\n",
      " 'geo_city_code5391811.0' 'geo_city_code4164138.0' 'geo_city_nameHouston'\n",
      " 'geo_city_nameDallas' 'geo_city_nameChicago' 'geo_city_nameLos Angeles'\n",
      " 'geo_city_nameAtlanta' 'geo_city_nameNew York' 'geo_city_nameSan Antonio'\n",
      " 'geo_city_nameSeattle' 'geo_city_nameDenver' 'geo_city_nameOrlando'\n",
      " 'geo_city_namePhoenix' 'geo_city_nameSaint Louis'\n",
      " 'geo_city_nameArlington' 'geo_city_namePortland'\n",
      " 'geo_city_nameSan Francisco' 'geo_city_nameAustin'\n",
      " 'geo_city_nameLas Vegas' 'geo_city_nameJacksonville'\n",
      " 'geo_city_nameMinneapolis' 'geo_city_nameFort Worth'\n",
      " 'geo_country_code2US' 'geo_country_code2CA' 'geo_country_code2GB'\n",
      " 'geo_country_code2AU' 'geo_country_code2DE' 'geo_country_code2NZ'\n",
      " 'geo_country_code2FR' 'geo_country_code2NL' 'geo_country_code2IN'\n",
      " 'geo_country_code2JP' 'geo_country_code2SE' 'geo_country_code2MX'\n",
      " 'geo_country_code2PH' 'geo_country_code2IT' 'geo_country_code2BE'\n",
      " 'geo_country_code2TH' 'geo_country_code2MY' 'geo_country_code2ZA'\n",
      " 'geo_country_code2ES' 'geo_country_code2NO' 'geo_country_code3USA'\n",
      " 'geo_country_code3CAN' 'geo_country_code3GBR' 'geo_country_code3AUS'\n",
      " 'geo_country_code3DEU' 'geo_country_code3NZL' 'geo_country_code3FRA'\n",
      " 'geo_country_code3NLD' 'geo_country_code3IND' 'geo_country_code3JPN'\n",
      " 'geo_country_code3SWE' 'geo_country_code3MEX' 'geo_country_code3PHL'\n",
      " 'geo_country_code3ITA' 'geo_country_code3BEL' 'geo_country_code3THA'\n",
      " 'geo_country_code3MYS' 'geo_country_code3ZAF' 'geo_country_code3ESP'\n",
      " 'geo_country_code3NOR' 'geo_postal_code75270' 'geo_postal_code77002'\n",
      " 'geo_postal_code60602' 'geo_postal_code30301' 'geo_postal_code90009'\n",
      " 'geo_postal_code20149' 'geo_postal_code10118' 'geo_postal_code94119'\n",
      " 'geo_postal_code22226' 'geo_postal_code94043' 'geo_postal_code32627'\n",
      " 'geo_postal_code98111' 'geo_postal_codeEC2V' 'geo_postal_code44192'\n",
      " 'geo_postal_code77042' 'geo_postal_code23917' 'geo_postal_code63101'\n",
      " 'geo_postal_code32819' 'geo_postal_code32801' 'geo_postal_code77081'\n",
      " 'geo_region_nameTX' 'geo_region_nameCA' 'geo_region_nameFL'\n",
      " 'geo_region_nameNY' 'geo_region_nameIL' 'geo_region_nameOH'\n",
      " 'geo_region_nameVA' 'geo_region_nameWA' 'geo_region_namePA'\n",
      " 'geo_region_nameNC' 'geo_region_nameGA' 'geo_region_nameAZ'\n",
      " 'geo_region_nameMI' 'geo_region_nameCO' 'geo_region_nameTN'\n",
      " 'geo_region_nameNJ' 'geo_region_nameMO' 'geo_region_nameMA'\n",
      " 'geo_region_nameIN' 'geo_region_nameWI' 'geo_timezoneAmerica/New_York'\n",
      " 'geo_timezoneAmerica/Chicago' 'geo_timezoneAmerica/Los_Angeles'\n",
      " 'geo_timezoneAmerica/Denver' 'geo_timezoneAmerica/Phoenix'\n",
      " 'geo_timezoneEurope/London' 'geo_timezoneAmerica/Indianapolis'\n",
      " 'geo_timezoneAmerica/Toronto' 'geo_timezoneAmerica/Vancouver'\n",
      " 'geo_timezoneAustralia/NSW' 'geo_timezoneAmerica/Edmonton'\n",
      " 'geo_timezoneEurope/Berlin' 'geo_timezonePacific/Honolulu'\n",
      " 'geo_timezoneAustralia/Victoria' 'geo_timezonePacific/Auckland'\n",
      " 'geo_timezoneAustralia/Queensland' 'geo_timezoneAmerica/Anchorage'\n",
      " 'geo_timezoneEurope/Paris' 'geo_timezoneAmerica/Montreal'\n",
      " 'geo_timezoneEurope/Amsterdam' 'i_cnt' 'i_flag_cnt' 'i_timestamp01'\n",
      " 'i_timestamp00' 'i_timestamp02' 'i_timestamp03' 'i_timestamp16'\n",
      " 'i_timestamp04' 'i_timestamp05' 'i_timestamp08' 'i_timestamp06'\n",
      " 'i_timestamp07' 'i_timestamp15' 'ip_address52.201.155.95'\n",
      " 'ip_address35.173.137.108' 'ip_address54.205.134.218'\n",
      " 'ip_address34.229.95.3' 'ip_address184.90.246.237'\n",
      " 'ip_address64.202.248.90' 'ip_address50.51.204.188'\n",
      " 'ip_address74.128.254.67' 'ip_address99.126.213.168'\n",
      " 'ip_address65.55.213.66' 'ip_address97.82.189.64'\n",
      " 'ip_address96.41.185.148' 'ip_address131.253.25.123'\n",
      " 'ip_address12.91.78.70' 'ip_address174.104.241.35'\n",
      " 'ip_address96.33.11.219' 'ip_address149.101.37.2'\n",
      " 'ip_address98.237.194.133' 'ip_address162.217.33.108'\n",
      " 'ip_address99.203.154.39' 'pub_network_id767' 'pub_network_id727'\n",
      " 'pub_network_id106' 'pub_network_id267' 'r_cnt' 'r_num_ads_requested'\n",
      " 'r_num_ads_returned' 'r_timestamp01' 'r_timestamp00' 'r_timestamp02'\n",
      " 'r_timestamp03' 'r_timestamp16' 'r_timestamp04' 'r_timestamp05'\n",
      " 'r_timestamp08' 'r_timestamp06' 'r_timestamp07' 'r_timestamp15'\n",
      " 'r_timestamp23' 'r_timestamp14' 'rate_metricCPC' 'rate_metricCPM'\n",
      " 'refererbreitbart.com' 'refererarmslist.com' 'refererthehill.com'\n",
      " 'refererfloridaguntrader.com' 'referergoogle.com'\n",
      " 'referertexasguntrader.com' 'refererhouston.texasguntrader.com'\n",
      " 'refererdrudgereport.com' 'refererdallas.texasguntrader.com'\n",
      " 'referersan-antonio.texasguntrader.com'\n",
      " 'refereraustin.texasguntrader.com' 'refererfort-worth.texasguntrader.com'\n",
      " 'refererpolitico.eu' 'referernews.url.google.com' 'refererfacebook.com'\n",
      " 'referert.co' 'refererbilloreilly.com' 'referertraffic.outbrain.com'\n",
      " 'referermediabiasfactcheck.com' 'refererjihadwatch.org'\n",
      " 'session_id6bc6131f6e104ad4bdfeecf6d165966e_78d2ec44'\n",
      " 'session_id506f48a3527f4055aadd79628ef9d7fc_e0213a83'\n",
      " 'session_idaccd41f876874e90a6f1145b5baeb84c_c7400a00'\n",
      " 'session_id327e1a93402742a59437eded1c8434cc_ba3bed71'\n",
      " 'session_id109c7d97f6f941b59e33c0cba70f1ba1_72a1a90f'\n",
      " 'session_id6600703dacef4912afb632a2464a7dcf_d8b70866'\n",
      " 'session_id40a2791cdb834595b561630b0500b297_b8841668'\n",
      " 'session_id0d7d8aaa23eb4871955df98531ab6c3f_ebba5d1f'\n",
      " 'session_id48ccd19c19154721987fad8b87867954_bec6bbe6'\n",
      " 'session_id5c20d6ad572f40d78475f6656fae435b_55406c17'\n",
      " 'session_id59b0f3eb36164a29b53a2bcce9dbd10b_f9763761'\n",
      " 'session_idb9b8298139014d49be67698473b8c865_dd42c04e'\n",
      " 'session_idf7698cc1a3204098978e24fcd3b211fd_523cd2df'\n",
      " 'session_idde378d01d129440bbc1acb36caff1cda_b368c909'\n",
      " 'session_id31ac1f5599cf4d0d9546ddc9ab2611b5_9e68a147'\n",
      " 'session_ida1f64b72858243daaf3596459e6fa6a4_c30cc204'\n",
      " 'session_ideed7dcc14b9d4d209723f7dabd7570fb_42f311f1'\n",
      " 'session_id2979629ba73942f09b7e6640d9f24b86_194d2cdf'\n",
      " 'session_idef82b10fb6b644feb37a3b4a07abf476_1434b3a0'\n",
      " 'session_idd11d2e2920584cbebfaeb0028f826fde_709b3ed3' 'site_id13042'\n",
      " 'site_id12760' 'site_id13182' 'site_id27606' 'site_id15822'\n",
      " 'site_id10481' 'site_id15899' 'site_id1608' 'site_id29322' 'site_id12837'\n",
      " 'site_id12664' 'site_id36347' 'site_id15967' 'site_id13973'\n",
      " 'site_id13238' 'site_id16700' 'site_id27609' 'site_id34' 'site_id12588'\n",
      " 'site_id16427' 'tokenW3UDEEW5' 'token6XKC5K21' 'token0AIIPHOX'\n",
      " 'tokenSMSKR2Q8' 'tokenM1UU0B2Q' 'tokenN343BTGV' 'tokenNZZEFCEF'\n",
      " 'tokenG5Q8PZBM' 'tokenXE5E0S7N' 'tokenNF5ANNPJ' 'tokenDHS4UWWY'\n",
      " 'tokenXMQN1RIE' 'token8JQG8ZMJ' 'tokenYVYPF6MZ' 'tokenQNXHFRR8'\n",
      " 'token91DN2W2J' 'tokenXY3MFX1Z' 'token6P8WN27L' 'token3JZVS8LT'\n",
      " 'tokenJAENZHO8'\n",
      " 'uaMozilla/5.0 (iPhone; CPU iPhone OS 11_2_6 like Mac OS X) AppleWebKit/604.5.6 (KHTML, like Gecko) Version/11.0 Mobile/15D100 Safari/604.1'\n",
      " 'uaMozilla/5.0 (Windows NT 10.0; Win64; x64) AppleWebKit/537.36 (KHTML, like Gecko) Chrome/65.0.3325.181 Safari/537.36'\n",
      " 'uaMozilla/5.0 (Windows NT 10.0; Win64; x64) AppleWebKit/537.36 (KHTML, like Gecko) Chrome/58.0.3029.110 Safari/537.36 Edge/16.16299'\n",
      " 'uaMozilla/5.0 (iPad; CPU OS 11_2_6 like Mac OS X) AppleWebKit/604.5.6 (KHTML, like Gecko) Version/11.0 Mobile/15D100 Safari/604.1'\n",
      " 'uaMozilla/5.0 (Windows NT 6.1; Win64; x64) AppleWebKit/537.36 (KHTML, like Gecko) Chrome/65.0.3325.181 Safari/537.36'\n",
      " 'uaMozilla/5.0 (iPhone; CPU iPhone OS 11_2_6 like Mac OS X) AppleWebKit/604.5.6 (KHTML, like Gecko) Mobile/15D100'\n",
      " 'uaMozilla/5.0 (Macintosh; Intel Mac OS X 10_13_3) AppleWebKit/604.5.6 (KHTML, like Gecko) Version/11.0.3 Safari/604.5.6'\n",
      " 'uaMozilla/5.0 (Windows NT 10.0; Win64; x64; rv:59.0) Gecko/20100101 Firefox/59.0'\n",
      " 'uaMozilla/5.0 (iPad; CPU OS 9_3_5 like Mac OS X) AppleWebKit/601.1.46 (KHTML, like Gecko) Version/9.0 Mobile/13G36 Safari/601.1'\n",
      " 'uaMozilla/5.0 (Windows NT 6.1; WOW64; Trident/7.0; rv:11.0) like Gecko'\n",
      " 'uaMozilla/5.0 (iPhone; CPU iPhone OS 10_3_3 like Mac OS X) AppleWebKit/603.3.8 (KHTML, like Gecko) Version/10.0 Mobile/14G60 Safari/602.1'\n",
      " 'uaMozilla/5.0 (Windows NT 6.3; Win64; x64) AppleWebKit/537.36 (KHTML, like Gecko) Chrome/65.0.3325.181 Safari/537.36'\n",
      " 'uaMozilla/5.0 (iPad; CPU OS 10_3_3 like Mac OS X) AppleWebKit/603.3.8 (KHTML, like Gecko) Version/10.0 Mobile/14G60 Safari/602.1'\n",
      " 'uaMozilla/5.0 (iPhone; CPU iPhone OS 11_2_5 like Mac OS X) AppleWebKit/604.5.6 (KHTML, like Gecko) Version/11.0 Mobile/15D60 Safari/604.1'\n",
      " 'uaMozilla/5.0 (iPad; CPU OS 11_2_6 like Mac OS X) AppleWebKit/604.5.6 (KHTML, like Gecko) Mobile/15D100'\n",
      " 'uaMozilla/5.0 (iPhone; CPU iPhone OS 11_3 like Mac OS X) AppleWebKit/605.1.15 (KHTML, like Gecko) Version/11.0 Mobile/15E148 Safari/604.1'\n",
      " 'uaMozilla/5.0 (Windows NT 6.1; Win64; x64; rv:59.0) Gecko/20100101 Firefox/59.0'\n",
      " 'uaMozilla/5.0 (Windows NT 10.0; WOW64; Trident/7.0; rv:11.0) like Gecko'\n",
      " 'uaMozilla/5.0 (Macintosh; Intel Mac OS X 10_13_3) AppleWebKit/537.36 (KHTML, like Gecko) Chrome/65.0.3325.181 Safari/537.36'\n",
      " 'uaMozilla/5.0 (Windows NT 10.0; Win64; x64) AppleWebKit/537.36 (KHTML, like Gecko) Chrome/64.0.3282.186 Safari/537.36'\n",
      " 'ua_deviceOther' 'ua_deviceiPhone' 'ua_deviceiPad'\n",
      " 'ua_deviceSamsung SM-G955U' 'ua_deviceKindle' 'ua_deviceSamsung SM-G950U'\n",
      " 'ua_deviceSamsung SM-G930V' 'ua_deviceSamsung SM-N950U'\n",
      " 'ua_deviceGeneric Smartphone' 'ua_deviceSamsung SM-G900V'\n",
      " 'ua_deviceSamsung SM-G935V' 'ua_deviceSamsung SM-G920V'\n",
      " 'ua_deviceSamsung SM-G930A' 'ua_deviceXT1585' 'ua_deviceXT1650'\n",
      " 'ua_deviceSamsung SM-T580' 'ua_deviceSamsung SM-G930P'\n",
      " 'ua_deviceSamsung SM-G891A' 'ua_devicePixel 2 XL'\n",
      " 'ua_deviceSamsung SM-N920V' 'ua_device_typeMOB' 'ua_device_typePC'\n",
      " 'ua_device_typeTAB' 'ua_device_typeBOT' 'ua_major' 'ua_minor'\n",
      " 'ua_nameMobile Safari' 'ua_nameChrome' 'ua_nameChrome Mobile'\n",
      " 'ua_nameMobile Safari UI/WKWebView' 'ua_nameEdge' 'ua_nameFirefox'\n",
      " 'ua_nameSafari' 'ua_nameIE' 'ua_nameSamsung Internet'\n",
      " 'ua_nameAmazon Silk' 'ua_nameChrome Mobile iOS' 'ua_nameFirefox Mobile'\n",
      " 'ua_nameOpera' 'ua_nameAndroid' 'ua_nameBingPreview' 'ua_nameFirefox iOS'\n",
      " 'ua_nameEdge Mobile' 'ua_nameBlackBerry WebKit' 'ua_nameChromium'\n",
      " 'ua_namePuffin' 'ua_os_nameiOS' 'ua_os_nameAndroid'\n",
      " 'ua_os_nameWindows 10' 'ua_os_nameMac OS X' 'ua_os_nameWindows 7'\n",
      " 'ua_os_nameWindows 8.1' 'ua_os_nameLinux' 'ua_os_nameWindows 8'\n",
      " 'ua_os_nameWindows Vista' 'ua_os_nameWindows XP' 'ua_os_nameUbuntu'\n",
      " 'ua_os_nameWindows Phone' 'ua_os_nameBlackBerry OS'\n",
      " 'ua_os_nameWindows RT 8.1' 'ua_os_nameFedora' 'ua_os_nameOther'\n",
      " 'ua_os_nameWindows 2000' 'ua_os_nameWindows RT'\n",
      " 'ua_os_nameBlackBerry Tablet OS' 'ua_os_nameWindows'\n",
      " 'urlmedia.breitbart.com' 'urlarmslist.com' 'urlthehill.com'\n",
      " 'urlroughlyexplained.com' 'urlgetpocket.com' 'urlfloridaguntrader.com'\n",
      " 'urltexasguntrader.com' 'urlhouston.texasguntrader.com' 'urlpolitico.eu'\n",
      " 'urlbilloreilly.com' 'urljihadwatch.org' 'urldallas.texasguntrader.com'\n",
      " 'urlmediabiasfactcheck.com' 'urlsan-antonio.texasguntrader.com'\n",
      " 'urlaustin.texasguntrader.com' 'urlgellerreport.com'\n",
      " 'urlfort-worth.texasguntrader.com' 'urlbreitbart.com' 'urlnh1.com'\n",
      " 'urlappeal-democrat.com'\n",
      " 'user_agentMozilla/5.0 (iPhone; CPU iPhone OS 11_2_6 like Mac OS X) AppleWebKit/604.5.6 (KHTML, like Gecko) Version/11.0 Mobile/15D100 Safari/604.1'\n",
      " 'user_agentMozilla/5.0 (Windows NT 10.0; Win64; x64) AppleWebKit/537.36 (KHTML, like Gecko) Chrome/65.0.3325.181 Safari/537.36'\n",
      " 'user_agentMozilla/5.0 (Windows NT 10.0; Win64; x64) AppleWebKit/537.36 (KHTML, like Gecko) Chrome/58.0.3029.110 Safari/537.36 Edge/16.16299'\n",
      " 'user_agentMozilla/5.0 (iPad; CPU OS 11_2_6 like Mac OS X) AppleWebKit/604.5.6 (KHTML, like Gecko) Version/11.0 Mobile/15D100 Safari/604.1'\n",
      " 'user_agentMozilla/5.0 (Windows NT 6.1; Win64; x64) AppleWebKit/537.36 (KHTML, like Gecko) Chrome/65.0.3325.181 Safari/537.36'\n",
      " 'user_agentMozilla/5.0 (iPhone; CPU iPhone OS 11_2_6 like Mac OS X) AppleWebKit/604.5.6 (KHTML, like Gecko) Mobile/15D100'\n",
      " 'user_agentMozilla/5.0 (Macintosh; Intel Mac OS X 10_13_3) AppleWebKit/604.5.6 (KHTML, like Gecko) Version/11.0.3 Safari/604.5.6'\n",
      " 'user_agentMozilla/5.0 (Windows NT 10.0; Win64; x64; rv:59.0) Gecko/20100101 Firefox/59.0'\n",
      " 'user_agentMozilla/5.0 (iPad; CPU OS 9_3_5 like Mac OS X) AppleWebKit/601.1.46 (KHTML, like Gecko) Version/9.0 Mobile/13G36 Safari/601.1'\n",
      " 'user_agentMozilla/5.0 (Windows NT 6.1; WOW64; Trident/7.0; rv:11.0) like Gecko'\n",
      " 'user_agentMozilla/5.0 (iPhone; CPU iPhone OS 10_3_3 like Mac OS X) AppleWebKit/603.3.8 (KHTML, like Gecko) Version/10.0 Mobile/14G60 Safari/602.1'\n",
      " 'user_agentMozilla/5.0 (Windows NT 6.3; Win64; x64) AppleWebKit/537.36 (KHTML, like Gecko) Chrome/65.0.3325.181 Safari/537.36'\n",
      " 'user_agentMozilla/5.0 (iPad; CPU OS 10_3_3 like Mac OS X) AppleWebKit/603.3.8 (KHTML, like Gecko) Version/10.0 Mobile/14G60 Safari/602.1'\n",
      " 'user_agentMozilla/5.0 (iPhone; CPU iPhone OS 11_2_5 like Mac OS X) AppleWebKit/604.5.6 (KHTML, like Gecko) Version/11.0 Mobile/15D60 Safari/604.1'\n",
      " 'user_agentokhttp/3.5.0'\n",
      " 'user_agentMozilla/5.0 (iPhone; CPU iPhone OS 11_3 like Mac OS X) AppleWebKit/605.1.15 (KHTML, like Gecko) Version/11.0 Mobile/15E148 Safari/604.1'\n",
      " 'user_agentMozilla/5.0 (Windows NT 6.1; Win64; x64; rv:59.0) Gecko/20100101 Firefox/59.0'\n",
      " 'user_agentPocket/6.6.18.6435 CFNetwork/894 Darwin/17.4.0'\n",
      " 'user_agentMozilla/5.0 (iPad; CPU OS 11_2_6 like Mac OS X) AppleWebKit/604.5.6 (KHTML, like Gecko) Mobile/15D100'\n",
      " 'user_agentMozilla/5.0 (Windows NT 10.0; WOW64; Trident/7.0; rv:11.0) like Gecko'\n",
      " 'uuid6fdd9cc1-ccbb-4718-8da3-d5022de3fd7f'\n",
      " 'uuid7cd08098-296a-e3ee-3988-2ba6cc12dbae'\n",
      " 'uuid4526dc67-b604-4284-b840-e55c6d52173c'\n",
      " 'uuid80a3f3a4-9d5a-4b08-b43d-518f1fea1a90'\n",
      " 'uuideecdf3b6-b935-2ec1-fecf-7aca773ba8b5'\n",
      " 'uuid6794fc00-cef1-8bde-9ea1-f3261f177a2c'\n",
      " 'uuid399747a3-87e4-06d4-2e8c-92263142a6d7'\n",
      " 'uuid5ebc9240-34dd-5af6-5033-ff54f855ba07'\n",
      " 'uuid252bf7d9-14c1-4f4b-ad3a-118ba0ae75e8'\n",
      " 'uuid765fdf02-f530-48c5-a54d-9c4ce7ee74e8'\n",
      " 'uuida122101e-de9a-3dce-834d-b768fec5040c'\n",
      " 'uuidf4d1c385-3a6a-47ae-ac03-455e3df56132'\n",
      " 'uuidccc2ddc9-e2e6-4809-8fcc-b83d537b7ce4'\n",
      " 'uuid98ec0baa-fc34-4726-b56c-b84b716e9a2b'\n",
      " 'uuidccf21064-ef37-4970-b4e0-9dd80eeb2c5f'\n",
      " 'uuid7fa44bff-05e1-4e07-1054-55614139939d'\n",
      " 'uuid964ebd5a-d508-6a37-f72b-67e8f17635d5'\n",
      " 'uuid7c632d2d-1801-47c5-a167-9db35ec49ccf'\n",
      " 'uuid9129c5bf-9460-7c55-3fac-ec8c18fbd61d'\n",
      " 'uuid1b7ddcae-05b8-4ab8-de67-d30971e98091' 'vi_cnt' 'vi_flag_cnt'\n",
      " 'zone_id26024' 'zone_id17681' 'zone_id18310' 'zone_id41938'\n",
      " 'zone_id21963' 'zone_id21817' 'zone_id14414' 'zone_id38101'\n",
      " 'zone_id28563' 'zone_id18188' 'zone_id21612' 'zone_id45641'\n",
      " 'zone_id22107' 'zone_id2869' 'zone_id21791' 'zone_id14411' 'zone_id14413'\n",
      " 'zone_id41954' 'zone_id14412' 'zone_id35691']\n"
     ]
    }
   ],
   "source": [
    "print(labels)"
   ]
  },
  {
   "cell_type": "code",
   "execution_count": 28,
   "metadata": {
    "collapsed": true
   },
   "outputs": [],
   "source": [
    "import xgboost as xgb\n",
    "from sklearn.metrics import confusion_matrix"
   ]
  },
  {
   "cell_type": "code",
   "execution_count": 34,
   "metadata": {
    "collapsed": true
   },
   "outputs": [],
   "source": [
    "def cm_score(cm): \n",
    "    tn, fp, fn, tp = cm.ravel()\n",
    "    return tp/(tp+fp), tp/(tp+fn)"
   ]
  },
  {
   "cell_type": "code",
   "execution_count": 30,
   "metadata": {},
   "outputs": [
    {
     "name": "stderr",
     "output_type": "stream",
     "text": [
      "/usr/local/anaconda3/lib/python3.6/site-packages/sklearn/model_selection/_split.py:2022: FutureWarning: From version 0.21, test_size will always complement train_size unless both are specified.\n",
      "  FutureWarning)\n"
     ]
    }
   ],
   "source": [
    "X_train, X_test, y_train, y_test = train_test_split(X, Y, train_size=0.7)"
   ]
  },
  {
   "cell_type": "code",
   "execution_count": 38,
   "metadata": {},
   "outputs": [
    {
     "ename": "SyntaxError",
     "evalue": "unexpected EOF while parsing (<ipython-input-38-f6628369915f>, line 1)",
     "output_type": "error",
     "traceback": [
      "\u001b[0;36m  File \u001b[0;32m\"<ipython-input-38-f6628369915f>\"\u001b[0;36m, line \u001b[0;32m1\u001b[0m\n\u001b[0;31m    sum(y_train.shape\u001b[0m\n\u001b[0m                     ^\u001b[0m\n\u001b[0;31mSyntaxError\u001b[0m\u001b[0;31m:\u001b[0m unexpected EOF while parsing\n"
     ]
    }
   ],
   "source": [
    "sum(y_train.shape)"
   ]
  },
  {
   "cell_type": "code",
   "execution_count": 31,
   "metadata": {
    "collapsed": true
   },
   "outputs": [],
   "source": [
    "dtrain = xgb.DMatrix(X_train, label=y_train)\n",
    "dtest = xgb.DMatrix(X_test)"
   ]
  },
  {
   "cell_type": "code",
   "execution_count": 32,
   "metadata": {
    "collapsed": true
   },
   "outputs": [],
   "source": [
    "param = {'max_depth':1, 'eta':1, 'silent':1, 'objective':'binary:logistic', 'eval_metric': 'logloss'}\n",
    "num_round = 2\n",
    "bst = xgb.train(param, dtrain, num_round)"
   ]
  },
  {
   "cell_type": "code",
   "execution_count": 35,
   "metadata": {},
   "outputs": [
    {
     "name": "stdout",
     "output_type": "stream",
     "text": [
      "[[1098509       0]\n",
      " [    630      11]]\n",
      "1.0\n",
      "0.0171606864274571\n",
      "[[470761      0]\n",
      " [   300      4]]\n",
      "1.0\n",
      "0.0171606864274571\n"
     ]
    }
   ],
   "source": [
    "train_cm = confusion_matrix(y_train, np.round(bst.predict(dtrain)))\n",
    "train_precision, train_recall = cm_score(train_cm)\n",
    "\n",
    "print(train_cm)\n",
    "print(train_precision)\n",
    "print(train_recall)\n",
    "\n",
    "test_cm = confusion_matrix(y_test, np.round(bst.predict(dtest)))\n",
    "test_precision, test_recall = cm_score(train_cm)\n",
    "\n",
    "print(test_cm)\n",
    "print(test_precision)\n",
    "print(test_recall)"
   ]
  },
  {
   "cell_type": "code",
   "execution_count": 116,
   "metadata": {},
   "outputs": [
    {
     "data": {
      "text/plain": [
       "<matplotlib.axes._subplots.AxesSubplot at 0x1a4d7dd780>"
      ]
     },
     "execution_count": 116,
     "metadata": {},
     "output_type": "execute_result"
    },
    {
     "data": {
      "image/png": "[encoded data removed]",
      "text/plain": [
       "<matplotlib.figure.Figure at 0x1a4d7ddfd0>"
      ]
     },
     "metadata": {},
     "output_type": "display_data"
    }
   ],
   "source": [
    "from xgboost import plot_importance\n",
    "\n",
    "plot_importance(bst)"
   ]
  },
  {
   "cell_type": "code",
   "execution_count": 109,
   "metadata": {
    "collapsed": true
   },
   "outputs": [],
   "source": [
    "from sklearn.linear_model import LogisticRegression"
   ]
  },
  {
   "cell_type": "code",
   "execution_count": null,
   "metadata": {
    "collapsed": true
   },
   "outputs": [],
   "source": [
    "lr = LogisticRegression(penalty='l2', C=0.1, solver='newton-cg', multi_class='ovr', max_iter=500)\n",
    "lr.fit(X_train, y_train)"
   ]
  },
  {
   "cell_type": "code",
   "execution_count": 119,
   "metadata": {},
   "outputs": [
    {
     "ename": "KeyboardInterrupt",
     "evalue": "",
     "output_type": "error",
     "traceback": [
      "\u001b[0;31m---------------------------------------------------------------------------\u001b[0m",
      "\u001b[0;31mKeyboardInterrupt\u001b[0m                         Traceback (most recent call last)",
      "\u001b[0;32m<ipython-input-119-b00b1abc1053>\u001b[0m in \u001b[0;36m<module>\u001b[0;34m()\u001b[0m\n\u001b[1;32m      1\u001b[0m \u001b[0mlr\u001b[0m \u001b[0;34m=\u001b[0m \u001b[0mLogisticRegression\u001b[0m\u001b[0;34m(\u001b[0m\u001b[0mpenalty\u001b[0m\u001b[0;34m=\u001b[0m\u001b[0;34m'l2'\u001b[0m\u001b[0;34m,\u001b[0m \u001b[0mC\u001b[0m\u001b[0;34m=\u001b[0m\u001b[0;36m0.1\u001b[0m\u001b[0;34m,\u001b[0m \u001b[0msolver\u001b[0m\u001b[0;34m=\u001b[0m\u001b[0;34m'newton-cg'\u001b[0m\u001b[0;34m,\u001b[0m \u001b[0mmulti_class\u001b[0m\u001b[0;34m=\u001b[0m\u001b[0;34m'ovr'\u001b[0m\u001b[0;34m,\u001b[0m \u001b[0mmax_iter\u001b[0m\u001b[0;34m=\u001b[0m\u001b[0;36m5000\u001b[0m\u001b[0;34m)\u001b[0m\u001b[0;34m\u001b[0m\u001b[0m\n\u001b[0;32m----> 2\u001b[0;31m \u001b[0mlr\u001b[0m\u001b[0;34m.\u001b[0m\u001b[0mfit\u001b[0m\u001b[0;34m(\u001b[0m\u001b[0mX_train\u001b[0m\u001b[0;34m,\u001b[0m \u001b[0my_train\u001b[0m\u001b[0;34m)\u001b[0m\u001b[0;34m\u001b[0m\u001b[0m\n\u001b[0m\u001b[1;32m      3\u001b[0m \u001b[0mtrain_cm\u001b[0m \u001b[0;34m=\u001b[0m \u001b[0mconfusion_matrix\u001b[0m\u001b[0;34m(\u001b[0m\u001b[0my_train\u001b[0m\u001b[0;34m,\u001b[0m \u001b[0mlr\u001b[0m\u001b[0;34m.\u001b[0m\u001b[0mpredict\u001b[0m\u001b[0;34m(\u001b[0m\u001b[0mX_train\u001b[0m\u001b[0;34m)\u001b[0m\u001b[0;34m)\u001b[0m\u001b[0;34m\u001b[0m\u001b[0m\n\u001b[1;32m      4\u001b[0m \u001b[0mtest_cm\u001b[0m \u001b[0;34m=\u001b[0m \u001b[0mconfusion_matrix\u001b[0m\u001b[0;34m(\u001b[0m\u001b[0my_test\u001b[0m\u001b[0;34m,\u001b[0m \u001b[0mlr\u001b[0m\u001b[0;34m.\u001b[0m\u001b[0mpredict\u001b[0m\u001b[0;34m(\u001b[0m\u001b[0mX_test\u001b[0m\u001b[0;34m)\u001b[0m\u001b[0;34m)\u001b[0m\u001b[0;34m\u001b[0m\u001b[0m\n\u001b[1;32m      5\u001b[0m \u001b[0;34m\u001b[0m\u001b[0m\n",
      "\u001b[0;32m/usr/local/anaconda3/lib/python3.6/site-packages/sklearn/linear_model/logistic.py\u001b[0m in \u001b[0;36mfit\u001b[0;34m(self, X, y, sample_weight)\u001b[0m\n\u001b[1;32m   1290\u001b[0m                       \u001b[0mmax_squared_sum\u001b[0m\u001b[0;34m=\u001b[0m\u001b[0mmax_squared_sum\u001b[0m\u001b[0;34m,\u001b[0m\u001b[0;34m\u001b[0m\u001b[0m\n\u001b[1;32m   1291\u001b[0m                       sample_weight=sample_weight)\n\u001b[0;32m-> 1292\u001b[0;31m             for class_, warm_start_coef_ in zip(classes_, warm_start_coef))\n\u001b[0m\u001b[1;32m   1293\u001b[0m \u001b[0;34m\u001b[0m\u001b[0m\n\u001b[1;32m   1294\u001b[0m         \u001b[0mfold_coefs_\u001b[0m\u001b[0;34m,\u001b[0m \u001b[0m_\u001b[0m\u001b[0;34m,\u001b[0m \u001b[0mn_iter_\u001b[0m \u001b[0;34m=\u001b[0m \u001b[0mzip\u001b[0m\u001b[0;34m(\u001b[0m\u001b[0;34m*\u001b[0m\u001b[0mfold_coefs_\u001b[0m\u001b[0;34m)\u001b[0m\u001b[0;34m\u001b[0m\u001b[0m\n",
      "\u001b[0;32m/usr/local/anaconda3/lib/python3.6/site-packages/sklearn/externals/joblib/parallel.py\u001b[0m in \u001b[0;36m__call__\u001b[0;34m(self, iterable)\u001b[0m\n\u001b[1;32m    777\u001b[0m             \u001b[0;31m# was dispatched. In particular this covers the edge\u001b[0m\u001b[0;34m\u001b[0m\u001b[0;34m\u001b[0m\u001b[0m\n\u001b[1;32m    778\u001b[0m             \u001b[0;31m# case of Parallel used with an exhausted iterator.\u001b[0m\u001b[0;34m\u001b[0m\u001b[0;34m\u001b[0m\u001b[0m\n\u001b[0;32m--> 779\u001b[0;31m             \u001b[0;32mwhile\u001b[0m \u001b[0mself\u001b[0m\u001b[0;34m.\u001b[0m\u001b[0mdispatch_one_batch\u001b[0m\u001b[0;34m(\u001b[0m\u001b[0miterator\u001b[0m\u001b[0;34m)\u001b[0m\u001b[0;34m:\u001b[0m\u001b[0;34m\u001b[0m\u001b[0m\n\u001b[0m\u001b[1;32m    780\u001b[0m                 \u001b[0mself\u001b[0m\u001b[0;34m.\u001b[0m\u001b[0m_iterating\u001b[0m \u001b[0;34m=\u001b[0m \u001b[0;32mTrue\u001b[0m\u001b[0;34m\u001b[0m\u001b[0m\n\u001b[1;32m    781\u001b[0m             \u001b[0;32melse\u001b[0m\u001b[0;34m:\u001b[0m\u001b[0;34m\u001b[0m\u001b[0m\n",
      "\u001b[0;32m/usr/local/anaconda3/lib/python3.6/site-packages/sklearn/externals/joblib/parallel.py\u001b[0m in \u001b[0;36mdispatch_one_batch\u001b[0;34m(self, iterator)\u001b[0m\n\u001b[1;32m    623\u001b[0m                 \u001b[0;32mreturn\u001b[0m \u001b[0;32mFalse\u001b[0m\u001b[0;34m\u001b[0m\u001b[0m\n\u001b[1;32m    624\u001b[0m             \u001b[0;32melse\u001b[0m\u001b[0;34m:\u001b[0m\u001b[0;34m\u001b[0m\u001b[0m\n\u001b[0;32m--> 625\u001b[0;31m                 \u001b[0mself\u001b[0m\u001b[0;34m.\u001b[0m\u001b[0m_dispatch\u001b[0m\u001b[0;34m(\u001b[0m\u001b[0mtasks\u001b[0m\u001b[0;34m)\u001b[0m\u001b[0;34m\u001b[0m\u001b[0m\n\u001b[0m\u001b[1;32m    626\u001b[0m                 \u001b[0;32mreturn\u001b[0m \u001b[0;32mTrue\u001b[0m\u001b[0;34m\u001b[0m\u001b[0m\n\u001b[1;32m    627\u001b[0m \u001b[0;34m\u001b[0m\u001b[0m\n",
      "\u001b[0;32m/usr/local/anaconda3/lib/python3.6/site-packages/sklearn/externals/joblib/parallel.py\u001b[0m in \u001b[0;36m_dispatch\u001b[0;34m(self, batch)\u001b[0m\n\u001b[1;32m    586\u001b[0m         \u001b[0mdispatch_timestamp\u001b[0m \u001b[0;34m=\u001b[0m \u001b[0mtime\u001b[0m\u001b[0;34m.\u001b[0m\u001b[0mtime\u001b[0m\u001b[0;34m(\u001b[0m\u001b[0;34m)\u001b[0m\u001b[0;34m\u001b[0m\u001b[0m\n\u001b[1;32m    587\u001b[0m         \u001b[0mcb\u001b[0m \u001b[0;34m=\u001b[0m \u001b[0mBatchCompletionCallBack\u001b[0m\u001b[0;34m(\u001b[0m\u001b[0mdispatch_timestamp\u001b[0m\u001b[0;34m,\u001b[0m \u001b[0mlen\u001b[0m\u001b[0;34m(\u001b[0m\u001b[0mbatch\u001b[0m\u001b[0;34m)\u001b[0m\u001b[0;34m,\u001b[0m \u001b[0mself\u001b[0m\u001b[0;34m)\u001b[0m\u001b[0;34m\u001b[0m\u001b[0m\n\u001b[0;32m--> 588\u001b[0;31m         \u001b[0mjob\u001b[0m \u001b[0;34m=\u001b[0m \u001b[0mself\u001b[0m\u001b[0;34m.\u001b[0m\u001b[0m_backend\u001b[0m\u001b[0;34m.\u001b[0m\u001b[0mapply_async\u001b[0m\u001b[0;34m(\u001b[0m\u001b[0mbatch\u001b[0m\u001b[0;34m,\u001b[0m \u001b[0mcallback\u001b[0m\u001b[0;34m=\u001b[0m\u001b[0mcb\u001b[0m\u001b[0;34m)\u001b[0m\u001b[0;34m\u001b[0m\u001b[0m\n\u001b[0m\u001b[1;32m    589\u001b[0m         \u001b[0mself\u001b[0m\u001b[0;34m.\u001b[0m\u001b[0m_jobs\u001b[0m\u001b[0;34m.\u001b[0m\u001b[0mappend\u001b[0m\u001b[0;34m(\u001b[0m\u001b[0mjob\u001b[0m\u001b[0;34m)\u001b[0m\u001b[0;34m\u001b[0m\u001b[0m\n\u001b[1;32m    590\u001b[0m \u001b[0;34m\u001b[0m\u001b[0m\n",
      "\u001b[0;32m/usr/local/anaconda3/lib/python3.6/site-packages/sklearn/externals/joblib/_parallel_backends.py\u001b[0m in \u001b[0;36mapply_async\u001b[0;34m(self, func, callback)\u001b[0m\n\u001b[1;32m    109\u001b[0m     \u001b[0;32mdef\u001b[0m \u001b[0mapply_async\u001b[0m\u001b[0;34m(\u001b[0m\u001b[0mself\u001b[0m\u001b[0;34m,\u001b[0m \u001b[0mfunc\u001b[0m\u001b[0;34m,\u001b[0m \u001b[0mcallback\u001b[0m\u001b[0;34m=\u001b[0m\u001b[0;32mNone\u001b[0m\u001b[0;34m)\u001b[0m\u001b[0;34m:\u001b[0m\u001b[0;34m\u001b[0m\u001b[0m\n\u001b[1;32m    110\u001b[0m         \u001b[0;34m\"\"\"Schedule a func to be run\"\"\"\u001b[0m\u001b[0;34m\u001b[0m\u001b[0m\n\u001b[0;32m--> 111\u001b[0;31m         \u001b[0mresult\u001b[0m \u001b[0;34m=\u001b[0m \u001b[0mImmediateResult\u001b[0m\u001b[0;34m(\u001b[0m\u001b[0mfunc\u001b[0m\u001b[0;34m)\u001b[0m\u001b[0;34m\u001b[0m\u001b[0m\n\u001b[0m\u001b[1;32m    112\u001b[0m         \u001b[0;32mif\u001b[0m \u001b[0mcallback\u001b[0m\u001b[0;34m:\u001b[0m\u001b[0;34m\u001b[0m\u001b[0m\n\u001b[1;32m    113\u001b[0m             \u001b[0mcallback\u001b[0m\u001b[0;34m(\u001b[0m\u001b[0mresult\u001b[0m\u001b[0;34m)\u001b[0m\u001b[0;34m\u001b[0m\u001b[0m\n",
      "\u001b[0;32m/usr/local/anaconda3/lib/python3.6/site-packages/sklearn/externals/joblib/_parallel_backends.py\u001b[0m in \u001b[0;36m__init__\u001b[0;34m(self, batch)\u001b[0m\n\u001b[1;32m    330\u001b[0m         \u001b[0;31m# Don't delay the application, to avoid keeping the input\u001b[0m\u001b[0;34m\u001b[0m\u001b[0;34m\u001b[0m\u001b[0m\n\u001b[1;32m    331\u001b[0m         \u001b[0;31m# arguments in memory\u001b[0m\u001b[0;34m\u001b[0m\u001b[0;34m\u001b[0m\u001b[0m\n\u001b[0;32m--> 332\u001b[0;31m         \u001b[0mself\u001b[0m\u001b[0;34m.\u001b[0m\u001b[0mresults\u001b[0m \u001b[0;34m=\u001b[0m \u001b[0mbatch\u001b[0m\u001b[0;34m(\u001b[0m\u001b[0;34m)\u001b[0m\u001b[0;34m\u001b[0m\u001b[0m\n\u001b[0m\u001b[1;32m    333\u001b[0m \u001b[0;34m\u001b[0m\u001b[0m\n\u001b[1;32m    334\u001b[0m     \u001b[0;32mdef\u001b[0m \u001b[0mget\u001b[0m\u001b[0;34m(\u001b[0m\u001b[0mself\u001b[0m\u001b[0;34m)\u001b[0m\u001b[0;34m:\u001b[0m\u001b[0;34m\u001b[0m\u001b[0m\n",
      "\u001b[0;32m/usr/local/anaconda3/lib/python3.6/site-packages/sklearn/externals/joblib/parallel.py\u001b[0m in \u001b[0;36m__call__\u001b[0;34m(self)\u001b[0m\n\u001b[1;32m    129\u001b[0m \u001b[0;34m\u001b[0m\u001b[0m\n\u001b[1;32m    130\u001b[0m     \u001b[0;32mdef\u001b[0m \u001b[0m__call__\u001b[0m\u001b[0;34m(\u001b[0m\u001b[0mself\u001b[0m\u001b[0;34m)\u001b[0m\u001b[0;34m:\u001b[0m\u001b[0;34m\u001b[0m\u001b[0m\n\u001b[0;32m--> 131\u001b[0;31m         \u001b[0;32mreturn\u001b[0m \u001b[0;34m[\u001b[0m\u001b[0mfunc\u001b[0m\u001b[0;34m(\u001b[0m\u001b[0;34m*\u001b[0m\u001b[0margs\u001b[0m\u001b[0;34m,\u001b[0m \u001b[0;34m**\u001b[0m\u001b[0mkwargs\u001b[0m\u001b[0;34m)\u001b[0m \u001b[0;32mfor\u001b[0m \u001b[0mfunc\u001b[0m\u001b[0;34m,\u001b[0m \u001b[0margs\u001b[0m\u001b[0;34m,\u001b[0m \u001b[0mkwargs\u001b[0m \u001b[0;32min\u001b[0m \u001b[0mself\u001b[0m\u001b[0;34m.\u001b[0m\u001b[0mitems\u001b[0m\u001b[0;34m]\u001b[0m\u001b[0;34m\u001b[0m\u001b[0m\n\u001b[0m\u001b[1;32m    132\u001b[0m \u001b[0;34m\u001b[0m\u001b[0m\n\u001b[1;32m    133\u001b[0m     \u001b[0;32mdef\u001b[0m \u001b[0m__len__\u001b[0m\u001b[0;34m(\u001b[0m\u001b[0mself\u001b[0m\u001b[0;34m)\u001b[0m\u001b[0;34m:\u001b[0m\u001b[0;34m\u001b[0m\u001b[0m\n",
      "\u001b[0;32m/usr/local/anaconda3/lib/python3.6/site-packages/sklearn/externals/joblib/parallel.py\u001b[0m in \u001b[0;36m<listcomp>\u001b[0;34m(.0)\u001b[0m\n\u001b[1;32m    129\u001b[0m \u001b[0;34m\u001b[0m\u001b[0m\n\u001b[1;32m    130\u001b[0m     \u001b[0;32mdef\u001b[0m \u001b[0m__call__\u001b[0m\u001b[0;34m(\u001b[0m\u001b[0mself\u001b[0m\u001b[0;34m)\u001b[0m\u001b[0;34m:\u001b[0m\u001b[0;34m\u001b[0m\u001b[0m\n\u001b[0;32m--> 131\u001b[0;31m         \u001b[0;32mreturn\u001b[0m \u001b[0;34m[\u001b[0m\u001b[0mfunc\u001b[0m\u001b[0;34m(\u001b[0m\u001b[0;34m*\u001b[0m\u001b[0margs\u001b[0m\u001b[0;34m,\u001b[0m \u001b[0;34m**\u001b[0m\u001b[0mkwargs\u001b[0m\u001b[0;34m)\u001b[0m \u001b[0;32mfor\u001b[0m \u001b[0mfunc\u001b[0m\u001b[0;34m,\u001b[0m \u001b[0margs\u001b[0m\u001b[0;34m,\u001b[0m \u001b[0mkwargs\u001b[0m \u001b[0;32min\u001b[0m \u001b[0mself\u001b[0m\u001b[0;34m.\u001b[0m\u001b[0mitems\u001b[0m\u001b[0;34m]\u001b[0m\u001b[0;34m\u001b[0m\u001b[0m\n\u001b[0m\u001b[1;32m    132\u001b[0m \u001b[0;34m\u001b[0m\u001b[0m\n\u001b[1;32m    133\u001b[0m     \u001b[0;32mdef\u001b[0m \u001b[0m__len__\u001b[0m\u001b[0;34m(\u001b[0m\u001b[0mself\u001b[0m\u001b[0;34m)\u001b[0m\u001b[0;34m:\u001b[0m\u001b[0;34m\u001b[0m\u001b[0m\n",
      "\u001b[0;32m/usr/local/anaconda3/lib/python3.6/site-packages/sklearn/linear_model/logistic.py\u001b[0m in \u001b[0;36mlogistic_regression_path\u001b[0;34m(X, y, pos_class, Cs, fit_intercept, max_iter, tol, verbose, solver, coef, class_weight, dual, penalty, intercept_scaling, multi_class, random_state, check_input, max_squared_sum, sample_weight)\u001b[0m\n\u001b[1;32m    717\u001b[0m             \u001b[0margs\u001b[0m \u001b[0;34m=\u001b[0m \u001b[0;34m(\u001b[0m\u001b[0mX\u001b[0m\u001b[0;34m,\u001b[0m \u001b[0mtarget\u001b[0m\u001b[0;34m,\u001b[0m \u001b[0;36m1.\u001b[0m \u001b[0;34m/\u001b[0m \u001b[0mC\u001b[0m\u001b[0;34m,\u001b[0m \u001b[0msample_weight\u001b[0m\u001b[0;34m)\u001b[0m\u001b[0;34m\u001b[0m\u001b[0m\n\u001b[1;32m    718\u001b[0m             w0, n_iter_i = newton_cg(hess, func, grad, w0, args=args,\n\u001b[0;32m--> 719\u001b[0;31m                                      maxiter=max_iter, tol=tol)\n\u001b[0m\u001b[1;32m    720\u001b[0m         \u001b[0;32melif\u001b[0m \u001b[0msolver\u001b[0m \u001b[0;34m==\u001b[0m \u001b[0;34m'liblinear'\u001b[0m\u001b[0;34m:\u001b[0m\u001b[0;34m\u001b[0m\u001b[0m\n\u001b[1;32m    721\u001b[0m             coef_, intercept_, n_iter_i, = _fit_liblinear(\n",
      "\u001b[0;32m/usr/local/anaconda3/lib/python3.6/site-packages/sklearn/utils/optimize.py\u001b[0m in \u001b[0;36mnewton_cg\u001b[0;34m(grad_hess, func, grad, x0, args, tol, maxiter, maxinner, line_search, warn)\u001b[0m\n\u001b[1;32m    171\u001b[0m         \u001b[0;31m# Compute a search direction pk by applying the CG method to\u001b[0m\u001b[0;34m\u001b[0m\u001b[0;34m\u001b[0m\u001b[0m\n\u001b[1;32m    172\u001b[0m         \u001b[0;31m#  del2 f(xk) p = - fgrad f(xk) starting from 0.\u001b[0m\u001b[0;34m\u001b[0m\u001b[0;34m\u001b[0m\u001b[0m\n\u001b[0;32m--> 173\u001b[0;31m         \u001b[0mfgrad\u001b[0m\u001b[0;34m,\u001b[0m \u001b[0mfhess_p\u001b[0m \u001b[0;34m=\u001b[0m \u001b[0mgrad_hess\u001b[0m\u001b[0;34m(\u001b[0m\u001b[0mxk\u001b[0m\u001b[0;34m,\u001b[0m \u001b[0;34m*\u001b[0m\u001b[0margs\u001b[0m\u001b[0;34m)\u001b[0m\u001b[0;34m\u001b[0m\u001b[0m\n\u001b[0m\u001b[1;32m    174\u001b[0m \u001b[0;34m\u001b[0m\u001b[0m\n\u001b[1;32m    175\u001b[0m         \u001b[0mabsgrad\u001b[0m \u001b[0;34m=\u001b[0m \u001b[0mnp\u001b[0m\u001b[0;34m.\u001b[0m\u001b[0mabs\u001b[0m\u001b[0;34m(\u001b[0m\u001b[0mfgrad\u001b[0m\u001b[0;34m)\u001b[0m\u001b[0;34m\u001b[0m\u001b[0m\n",
      "\u001b[0;32m/usr/local/anaconda3/lib/python3.6/site-packages/sklearn/linear_model/logistic.py\u001b[0m in \u001b[0;36m_logistic_grad_hess\u001b[0;34m(w, X, y, alpha, sample_weight)\u001b[0m\n\u001b[1;32m    224\u001b[0m         \u001b[0;31m# Calculate the double derivative with respect to intercept\u001b[0m\u001b[0;34m\u001b[0m\u001b[0;34m\u001b[0m\u001b[0m\n\u001b[1;32m    225\u001b[0m         \u001b[0;31m# In the case of sparse matrices this returns a matrix object.\u001b[0m\u001b[0;34m\u001b[0m\u001b[0;34m\u001b[0m\u001b[0m\n\u001b[0;32m--> 226\u001b[0;31m         \u001b[0mdd_intercept\u001b[0m \u001b[0;34m=\u001b[0m \u001b[0mnp\u001b[0m\u001b[0;34m.\u001b[0m\u001b[0msqueeze\u001b[0m\u001b[0;34m(\u001b[0m\u001b[0mnp\u001b[0m\u001b[0;34m.\u001b[0m\u001b[0marray\u001b[0m\u001b[0;34m(\u001b[0m\u001b[0mdX\u001b[0m\u001b[0;34m.\u001b[0m\u001b[0msum\u001b[0m\u001b[0;34m(\u001b[0m\u001b[0maxis\u001b[0m\u001b[0;34m=\u001b[0m\u001b[0;36m0\u001b[0m\u001b[0;34m)\u001b[0m\u001b[0;34m)\u001b[0m\u001b[0;34m)\u001b[0m\u001b[0;34m\u001b[0m\u001b[0m\n\u001b[0m\u001b[1;32m    227\u001b[0m \u001b[0;34m\u001b[0m\u001b[0m\n\u001b[1;32m    228\u001b[0m     \u001b[0;32mdef\u001b[0m \u001b[0mHs\u001b[0m\u001b[0;34m(\u001b[0m\u001b[0ms\u001b[0m\u001b[0;34m)\u001b[0m\u001b[0;34m:\u001b[0m\u001b[0;34m\u001b[0m\u001b[0m\n",
      "\u001b[0;32m/usr/local/anaconda3/lib/python3.6/site-packages/numpy/core/_methods.py\u001b[0m in \u001b[0;36m_sum\u001b[0;34m(a, axis, dtype, out, keepdims)\u001b[0m\n\u001b[1;32m     30\u001b[0m \u001b[0;34m\u001b[0m\u001b[0m\n\u001b[1;32m     31\u001b[0m \u001b[0;32mdef\u001b[0m \u001b[0m_sum\u001b[0m\u001b[0;34m(\u001b[0m\u001b[0ma\u001b[0m\u001b[0;34m,\u001b[0m \u001b[0maxis\u001b[0m\u001b[0;34m=\u001b[0m\u001b[0;32mNone\u001b[0m\u001b[0;34m,\u001b[0m \u001b[0mdtype\u001b[0m\u001b[0;34m=\u001b[0m\u001b[0;32mNone\u001b[0m\u001b[0;34m,\u001b[0m \u001b[0mout\u001b[0m\u001b[0;34m=\u001b[0m\u001b[0;32mNone\u001b[0m\u001b[0;34m,\u001b[0m \u001b[0mkeepdims\u001b[0m\u001b[0;34m=\u001b[0m\u001b[0;32mFalse\u001b[0m\u001b[0;34m)\u001b[0m\u001b[0;34m:\u001b[0m\u001b[0;34m\u001b[0m\u001b[0m\n\u001b[0;32m---> 32\u001b[0;31m     \u001b[0;32mreturn\u001b[0m \u001b[0mumr_sum\u001b[0m\u001b[0;34m(\u001b[0m\u001b[0ma\u001b[0m\u001b[0;34m,\u001b[0m \u001b[0maxis\u001b[0m\u001b[0;34m,\u001b[0m \u001b[0mdtype\u001b[0m\u001b[0;34m,\u001b[0m \u001b[0mout\u001b[0m\u001b[0;34m,\u001b[0m \u001b[0mkeepdims\u001b[0m\u001b[0;34m)\u001b[0m\u001b[0;34m\u001b[0m\u001b[0m\n\u001b[0m\u001b[1;32m     33\u001b[0m \u001b[0;34m\u001b[0m\u001b[0m\n\u001b[1;32m     34\u001b[0m \u001b[0;32mdef\u001b[0m \u001b[0m_prod\u001b[0m\u001b[0;34m(\u001b[0m\u001b[0ma\u001b[0m\u001b[0;34m,\u001b[0m \u001b[0maxis\u001b[0m\u001b[0;34m=\u001b[0m\u001b[0;32mNone\u001b[0m\u001b[0;34m,\u001b[0m \u001b[0mdtype\u001b[0m\u001b[0;34m=\u001b[0m\u001b[0;32mNone\u001b[0m\u001b[0;34m,\u001b[0m \u001b[0mout\u001b[0m\u001b[0;34m=\u001b[0m\u001b[0;32mNone\u001b[0m\u001b[0;34m,\u001b[0m \u001b[0mkeepdims\u001b[0m\u001b[0;34m=\u001b[0m\u001b[0;32mFalse\u001b[0m\u001b[0;34m)\u001b[0m\u001b[0;34m:\u001b[0m\u001b[0;34m\u001b[0m\u001b[0m\n",
      "\u001b[0;31mKeyboardInterrupt\u001b[0m: "
     ]
    }
   ],
   "source": [
    "train_cm = confusion_matrix(y_train, lr.predict(X_train))\n",
    "train_precision, train_recall = cm_score(train_cm)\n",
    "print(train_cm)\n",
    "print(train_precision)\n",
    "print(train_recall)\n",
    "\n",
    "test_cm = confusion_matrix(y_test, lr.predict(X_test))\n",
    "test_precision, test_recall = cm_score(test_cm)\n",
    "print(test_cm)\n",
    "print(test_precision)\n",
    "print(test_recall)\n",
    "\n",
    "# print(get_f1_score(test_cm))"
   ]
  },
  {
   "cell_type": "code",
   "execution_count": null,
   "metadata": {
    "collapsed": true
   },
   "outputs": [],
   "source": []
  }
 ],
 "metadata": {
  "kernelspec": {
   "display_name": "Python 3",
   "language": "python",
   "name": "python3"
  },
  "language_info": {
   "codemirror_mode": {
    "name": "ipython",
    "version": 3
   },
   "file_extension": ".py",
   "mimetype": "text/x-python",
   "name": "python",
   "nbconvert_exporter": "python",
   "pygments_lexer": "ipython3",
   "version": "3.6.3"
  }
 },
 "nbformat": 4,
 "nbformat_minor": 2
}
